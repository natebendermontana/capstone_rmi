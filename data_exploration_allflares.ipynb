{
 "cells": [
  {
   "cell_type": "markdown",
   "id": "50b9ccf7",
   "metadata": {},
   "source": [
    "### Setup / packages / crs"
   ]
  },
  {
   "cell_type": "code",
   "execution_count": 1,
   "id": "26998ec6",
   "metadata": {},
   "outputs": [],
   "source": [
    "import geopandas as gp\n",
    "from shapely import wkt\n",
    "import pandas as pd\n",
    "import pprint\n",
    "import os\n",
    "import glob\n",
    "import openpyxl\n",
    "import matplotlib.pyplot as plt\n",
    "import plotly.express as px #if using plotly"
   ]
  },
  {
   "cell_type": "code",
   "execution_count": 2,
   "id": "8c54aa74",
   "metadata": {},
   "outputs": [],
   "source": [
    "pd.set_option('display.max_columns', None)"
   ]
  },
  {
   "cell_type": "code",
   "execution_count": 3,
   "id": "674c0afc",
   "metadata": {},
   "outputs": [],
   "source": [
    "worldmap = gp.read_file(gp.datasets.get_path(\"naturalearth_lowres\"))\n",
    "usa = gp.read_file(\"data/cb_2018_us_nation_5m.shp\")\n",
    "us_states = gp.read_file(\"data/cb_2018_us_state_500k.shp\")\n",
    "ca_state = gp.read_file(\"/Users/natebender/Desktop/repo/capstone_rmi/data/CA_State_TIGER2016.shp\")\n",
    "ca_counties = gp.read_file(\"/Users/natebender/Desktop/repo/capstone_rmi/data/CA_Counties_TIGER2016.shp\")"
   ]
  },
  {
   "cell_type": "code",
   "execution_count": 4,
   "id": "02855164",
   "metadata": {},
   "outputs": [],
   "source": [
    "# set common crs for project\n",
    "projcrs = 4326\n",
    "us_states = us_states.to_crs(projcrs)  # match us_states common crs for project\n",
    "worldmap = worldmap.to_crs(projcrs)\n",
    "ca_state = ca_state.to_crs(projcrs)\n",
    "ca_counties = ca_counties.to_crs(projcrs)"
   ]
  },
  {
   "cell_type": "code",
   "execution_count": 5,
   "id": "dbc13165",
   "metadata": {},
   "outputs": [],
   "source": [
    "# read in Refineries\n",
    "\n",
    "cols = list(pd.read_csv(\"data/asset-climate-trace_oil-refining_091922.csv\", nrows =1))\n",
    "refs = pd.read_csv(\"data/asset-climate-trace_oil-refining_091922.csv\", \n",
    "                   usecols = lambda x: x not in ['other1', 'other2', 'other3', \n",
    "                                                 'other4', 'other5', 'other6', 'other7'])\n",
    "refs['location'] = gp.GeoSeries.from_wkt(refs['location'])  # convert existing points to geoseries\n",
    "refs = gp.GeoDataFrame(refs, geometry=\"location\", crs=projcrs)  # convert df to geodf"
   ]
  },
  {
   "cell_type": "code",
   "execution_count": 19,
   "id": "991abcab",
   "metadata": {},
   "outputs": [],
   "source": [
    "# read in cleaned and combined flares data\n",
    "all_flares = gp.read_file(\"data/all_flares.shp\")"
   ]
  },
  {
   "cell_type": "code",
   "execution_count": null,
   "id": "2828619b",
   "metadata": {},
   "outputs": [],
   "source": [
    "# check \n",
    "all_flares.head(3)"
   ]
  },
  {
   "cell_type": "code",
   "execution_count": 10,
   "id": "db25d53b",
   "metadata": {},
   "outputs": [
    {
     "data": {
      "text/plain": [
       "74289"
      ]
     },
     "execution_count": 10,
     "metadata": {},
     "output_type": "execute_result"
    }
   ],
   "source": [
    "len(all_flares)"
   ]
  },
  {
   "cell_type": "code",
   "execution_count": null,
   "id": "38541ef7",
   "metadata": {
    "scrolled": true
   },
   "outputs": [],
   "source": [
    "# see where the flares are across the world\n",
    "\n",
    "fig, ax = plt.subplots(figsize = (10,8))\n",
    "worldmap.plot(ax = ax, color = 'white', edgecolor = 'black')\n",
    "all_flares.plot(ax = ax, color='red', markersize=1)  # increase size for visibility\n",
    "plt.show()"
   ]
  },
  {
   "cell_type": "markdown",
   "id": "52eb240f",
   "metadata": {},
   "source": [
    "### US / CA analysis"
   ]
  },
  {
   "cell_type": "code",
   "execution_count": null,
   "id": "9423171f",
   "metadata": {},
   "outputs": [],
   "source": [
    "# subset to just lower 48 plus AK\n",
    "# remove territories (PR, PW, VI, MH, GU) and AK, HI\n",
    "stateslist = [\"AL\",\"AR\",\"AZ\",\"CA\",\"CO\",\"CT\",\"DC\",\"DE\",\"FL\",\"GA\",\"IA\",\"ID\", \"IL\",\"IN\",\"KS\",\"KY\",\"LA\",\"MA\",\"MD\",\"ME\",\"MI\",\"MN\",\"MO\",\"MS\",\"MT\",\"NC\",\"ND\",\"NE\",\"NH\",\"NJ\",\"NM\",\"NV\",\"NY\", \"OH\",\"OK\",\"OR\",\"PA\",\"RI\",\"SC\",\"SD\",\"TN\",\"TX\",\"UT\",\"VA\",\"VT\",\"WA\",\"WI\",\"WV\",\"WY\"]\n",
    "us_states = us_states[us_states['STUSPS'].isin(stateslist)]"
   ]
  },
  {
   "cell_type": "code",
   "execution_count": null,
   "id": "d8d85571",
   "metadata": {},
   "outputs": [],
   "source": [
    "# match all flares and refineries with just CA counties\n",
    "inner_join_result = gp.sjoin(all_flares, ca_counties, how = \"inner\", op = 'within')\n",
    "refs_join = gp.sjoin(refs, ca_counties, how='inner', op='within')\n",
    "print(f'Flares found: {len(inner_join_result)}')"
   ]
  },
  {
   "cell_type": "code",
   "execution_count": null,
   "id": "00a5753f",
   "metadata": {},
   "outputs": [],
   "source": [
    "len(inner_join_result)"
   ]
  },
  {
   "cell_type": "code",
   "execution_count": null,
   "id": "1830923d",
   "metadata": {},
   "outputs": [],
   "source": [
    "col_list = ['BCM_2012','BCM_2013','BCM_2014','BCM_2015','BCM_2016','BCM_2017',\n",
    "            'BCM_2018','BCM_2019','BCM_2020','BCM_2021']\n",
    "\n",
    "inner_join_result['BCM_avg'] = inner_join_result[col_list].mean(axis=1)"
   ]
  },
  {
   "cell_type": "code",
   "execution_count": null,
   "id": "0841c936",
   "metadata": {},
   "outputs": [],
   "source": [
    "inner_join_result"
   ]
  },
  {
   "cell_type": "markdown",
   "id": "76145690",
   "metadata": {},
   "source": [
    "### Visualization"
   ]
  },
  {
   "cell_type": "code",
   "execution_count": null,
   "id": "09176900",
   "metadata": {},
   "outputs": [],
   "source": [
    "# # Plotting multiple layers\n",
    "\n",
    "fig, ax = plt.subplots(figsize = (10,8))\n",
    "#worldmap.plot(ax = ax, color = 'white', edgecolor = 'black')\n",
    "#us_states.plot(ax = ax, color = 'whitesmoke', edgecolor = 'black')\n",
    "ca_counties.plot(ax = ax, color = 'whitesmoke', edgecolor = 'grey')\n",
    "# increase size by 100000 just for readability\n",
    "inner_join_result.plot(ax = ax, facecolors='none', color = 'red', alpha=.2, markersize=inner_join_result[col_list].mean(axis=1)*100000)\n",
    "refs_join.plot(ax = ax, facecolors = 'none', color = 'blue', alpha = .08, markersize=50)\n",
    "#plt.ylim([33, 39])  # can zoom for readability\n",
    "plt.title(\"CA methane flaring, 2012-2021\")\n",
    "plt.text(-119.5,41, 'flares are plotted in red,\\n with transparency to show overlap\\n and sized by their avg flare volume')\n",
    "plt.text(-119.5,40, 'refineries are plotted in blue,\\n sized arbitrarily')\n",
    "plt.show()"
   ]
  },
  {
   "cell_type": "markdown",
   "id": "19fdaedb",
   "metadata": {},
   "source": [
    "## California: BCM by county"
   ]
  },
  {
   "cell_type": "code",
   "execution_count": null,
   "id": "1de58dbe",
   "metadata": {},
   "outputs": [],
   "source": [
    "ca_flares = gp.sjoin(all_flares, ca_counties, how = \"inner\", op = 'within')\n",
    "# rename so county names col is clear\n",
    "ca_flares.rename(columns={'NAME':'county_name'}, inplace=True)"
   ]
  },
  {
   "cell_type": "code",
   "execution_count": null,
   "id": "92e3cf84",
   "metadata": {
    "scrolled": true
   },
   "outputs": [],
   "source": [
    "# Create df of total BCM by year, grouped by CA county\n",
    "\n",
    "col_list = ['BCM_2012','BCM_2013','BCM_2014','BCM_2015','BCM_2016','BCM_2017',\n",
    "            'BCM_2018','BCM_2019','BCM_2020','BCM_2021']\n",
    "\n",
    "stats = ca_flares.groupby(['county_name'])[col_list].sum()\n",
    "stats['Total_bcm'] = stats.loc[:,col_list].sum(axis=1)"
   ]
  },
  {
   "cell_type": "code",
   "execution_count": null,
   "id": "14bc8900",
   "metadata": {
    "scrolled": true
   },
   "outputs": [],
   "source": [
    "stats.sort_values('Total_bcm', ascending=False)"
   ]
  },
  {
   "cell_type": "code",
   "execution_count": null,
   "id": "a9e82f46",
   "metadata": {},
   "outputs": [],
   "source": [
    "forplot = stats.drop(['Total_bcm'], axis=1)\n",
    "forplot.loc['total'] = forplot.sum()\n",
    "forplot = forplot.transpose() \n",
    "\n",
    "plot = forplot.plot(kind = 'line', title = 'Methane flaring in CA, 2012-2021', colormap='tab20c', figsize = [15, 8])\n",
    "plot.legend(bbox_to_anchor=(1.05, 1), loc='upper left', borderaxespad=0, title='counties')"
   ]
  },
  {
   "cell_type": "markdown",
   "id": "e772b71c",
   "metadata": {},
   "source": [
    "## California: BCM by flare category (upstream, downstream oil, downstream gas)"
   ]
  },
  {
   "cell_type": "code",
   "execution_count": null,
   "id": "d92874e0",
   "metadata": {},
   "outputs": [],
   "source": [
    "col_list = ['BCM_2012','BCM_2013','BCM_2014','BCM_2015','BCM_2016','BCM_2017',\n",
    "            'BCM_2018','BCM_2019','BCM_2020','BCM_2021']\n",
    "\n",
    "stats = all_flares.groupby(['flare_category'])[col_list].sum()\n",
    "stats['Total_cat'] = stats.loc[:,col_list].sum(axis=1)\n",
    "stats.loc['Total'] = stats.sum()"
   ]
  },
  {
   "cell_type": "code",
   "execution_count": null,
   "id": "5f09eb9b",
   "metadata": {},
   "outputs": [],
   "source": [
    "# table of BCM totals by flare category and year. Ignore the meaningless value at the intersection of\n",
    "# the two totals\n",
    "stats"
   ]
  },
  {
   "cell_type": "code",
   "execution_count": null,
   "id": "217e1a0d",
   "metadata": {},
   "outputs": [],
   "source": [
    "forplot = stats.drop(['Total_cat'], axis=1)\n",
    "forplot = forplot.transpose() \n",
    "\n",
    "plot = forplot.plot(kind = 'line', title = 'Methane flaring in CA, 2012-2021', colormap='tab20c', figsize = [15, 8])\n",
    "plot.legend(bbox_to_anchor=(1.05, 1), loc='upper left', borderaxespad=0, title='counties')"
   ]
  }
 ],
 "metadata": {
  "kernelspec": {
   "display_name": "capstonermi37",
   "language": "python",
   "name": "capstonermi37"
  },
  "language_info": {
   "codemirror_mode": {
    "name": "ipython",
    "version": 3
   },
   "file_extension": ".py",
   "mimetype": "text/x-python",
   "name": "python",
   "nbconvert_exporter": "python",
   "pygments_lexer": "ipython3",
   "version": "3.7.13"
  }
 },
 "nbformat": 4,
 "nbformat_minor": 5
}
