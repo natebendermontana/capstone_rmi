{
 "cells": [
  {
   "cell_type": "code",
   "execution_count": 1,
   "id": "ceb9f253",
   "metadata": {},
   "outputs": [],
   "source": [
    "import geopandas as gp\n",
    "from shapely import wkt\n",
    "import pandas as pd\n",
    "import numpy as np\n",
    "import pprint\n",
    "import os\n",
    "import glob\n",
    "import openpyxl\n",
    "import matplotlib.pyplot as plt\n",
    "import plotly.express as px #if using plotly"
   ]
  },
  {
   "cell_type": "code",
   "execution_count": 2,
   "id": "f31d4d0d",
   "metadata": {},
   "outputs": [],
   "source": [
    "pd.set_option('display.max_columns', None)  # display all columns\n",
    "pd.options.display.float_format = '{:20,.2f}'.format  # suppress scientific notation"
   ]
  },
  {
   "cell_type": "markdown",
   "id": "b145cade",
   "metadata": {},
   "source": [
    "## Read in files"
   ]
  },
  {
   "cell_type": "code",
   "execution_count": 3,
   "id": "58e36111",
   "metadata": {},
   "outputs": [],
   "source": [
    "ca_state = gp.read_file(\"data/CA_State_TIGER2016.shp\")\n",
    "ca_counties = gp.read_file(\"data/CA_Counties_TIGER2016.shp\")\n",
    "ca_bg = gp.read_file(\"data/tl_2022_06_bg.shp\")"
   ]
  },
  {
   "cell_type": "code",
   "execution_count": 4,
   "id": "d6b9f5f8",
   "metadata": {},
   "outputs": [],
   "source": [
    "# Load census block group level data from EJscreen\n",
    "# Source: https://www.epa.gov/ejscreen/download-ejscreen-data\n",
    "# This is the 2017-2021 5-year ACS average data\n",
    "ejscreen = pd.read_excel(\"data/CA_EJSCREEN_2022_Full_with_AS_CNMI_GU_VI.xlsx\", index_col=None, header=0)"
   ]
  },
  {
   "cell_type": "code",
   "execution_count": 5,
   "id": "03322021",
   "metadata": {},
   "outputs": [],
   "source": [
    "# CA social vulnerability data at level of census tract\n",
    "# source: https://oehha.ca.gov/calenviroscreen/report/calenviroscreen-40\n",
    "# calenv4_df = gp.read_file(\"data/CES4 Final Shapefile.shp\")\n",
    "# calenv4_df['Tract'] = calenv4_df['Tract'].astype(np.int64)  # change from float to int"
   ]
  },
  {
   "cell_type": "code",
   "execution_count": 6,
   "id": "46db7988",
   "metadata": {},
   "outputs": [],
   "source": [
    "# read in cleaned and combined flares data\n",
    "all_flares = gp.read_file(\"data/all_flares.shp\")"
   ]
  },
  {
   "cell_type": "code",
   "execution_count": 7,
   "id": "560be0f3",
   "metadata": {},
   "outputs": [],
   "source": [
    "# set common crs for project\n",
    "projcrs = 4326\n",
    "ca_state = ca_state.to_crs(projcrs)\n",
    "ca_counties = ca_counties.to_crs(projcrs)\n",
    "ca_bg = ca_bg.to_crs(projcrs)"
   ]
  },
  {
   "cell_type": "code",
   "execution_count": 8,
   "id": "98a6924e",
   "metadata": {},
   "outputs": [],
   "source": [
    "ca_bg.rename(columns={'GEOID':'ID'}, inplace=True)  # match column names for merging\n",
    "ca_bg['ID'] = ca_bg['ID'].astype(np.int64)"
   ]
  },
  {
   "cell_type": "code",
   "execution_count": 9,
   "id": "e55348ce",
   "metadata": {
    "scrolled": true
   },
   "outputs": [
    {
     "name": "stdout",
     "output_type": "stream",
     "text": [
      "25607 block groups in the EJScreen data \n",
      "\n",
      "25607 block groups in the CA block group shapefile\n",
      "\n",
      "0 block groups are missing after merge\n"
     ]
    }
   ],
   "source": [
    "print(f\"{len(ejscreen['ID'])} block groups in the EJScreen data \\n\")\n",
    "print(f\"{len(ca_bg['ID'])} block groups in the CA block group shapefile\\n\")\n",
    "ca_bg_joined = pd.merge(ca_bg, ejscreen, on='ID')\n",
    "print(f\"{len(ca_bg['ID'].unique())-len(ca_bg_joined)} block groups are missing after merge\")"
   ]
  },
  {
   "cell_type": "markdown",
   "id": "ea1c2987",
   "metadata": {},
   "source": [
    "## Subset flares df to just CA"
   ]
  },
  {
   "cell_type": "code",
   "execution_count": 10,
   "id": "b5fe81f5",
   "metadata": {
    "scrolled": true
   },
   "outputs": [
    {
     "name": "stdout",
     "output_type": "stream",
     "text": [
      "Flares found: 117\n"
     ]
    }
   ],
   "source": [
    "ca_flares = gp.sjoin(all_flares, ca_counties, how = \"inner\", predicate = 'within')\n",
    "print(f'Flares found: {len(ca_flares)}')\n",
    "ca_flares.drop('index_right', axis=1, inplace=True)\n",
    "\n",
    "col_list = ['BCM_2012','BCM_2013','BCM_2014','BCM_2015','BCM_2016','BCM_2017',\n",
    "            'BCM_2018','BCM_2019','BCM_2020','BCM_2021']\n",
    "\n",
    "# add new column for average BCM across all years\n",
    "ca_flares['BCM_avg'] = ca_flares[col_list].mean(axis=1)  "
   ]
  },
  {
   "cell_type": "markdown",
   "id": "d14c4745",
   "metadata": {},
   "source": [
    "#### Subset BG polygons to only those containing flares"
   ]
  },
  {
   "cell_type": "code",
   "execution_count": 11,
   "id": "6d6f2ac4",
   "metadata": {},
   "outputs": [],
   "source": [
    "ca_polys_subset = gp.sjoin(ca_bg_joined, ca_flares, how='inner', predicate='contains')"
   ]
  },
  {
   "cell_type": "markdown",
   "id": "3ce03f30",
   "metadata": {},
   "source": [
    "## Regression (in progress)"
   ]
  },
  {
   "cell_type": "markdown",
   "id": "4926039e",
   "metadata": {},
   "source": [
    "#### Change to CRS in meters"
   ]
  },
  {
   "cell_type": "code",
   "execution_count": 12,
   "id": "84d9eb86",
   "metadata": {},
   "outputs": [],
   "source": [
    "# epsg3310: https://epsg.io/3310-1739\n",
    "# units: meters\n",
    "ca_polys_subset = ca_polys_subset.to_crs(epsg=3310)\n",
    "ca_flares = ca_flares.to_crs(epsg=3310)\n",
    "ca_bg_joined = ca_bg_joined.to_crs(epsg=3310)"
   ]
  },
  {
   "cell_type": "markdown",
   "id": "827dedae",
   "metadata": {},
   "source": [
    "#### Create new col: distance between BG centroid and nearest flare"
   ]
  },
  {
   "cell_type": "code",
   "execution_count": 13,
   "id": "af9c8740",
   "metadata": {},
   "outputs": [],
   "source": [
    "# calculate distance between each centroid and nearest flare\n",
    "ca_bg_joined['dist_flare'] = ca_bg_joined.geometry.centroid.apply(lambda x: ca_flares.distance(x).min())"
   ]
  },
  {
   "cell_type": "code",
   "execution_count": 14,
   "id": "7e9f6c7c",
   "metadata": {},
   "outputs": [],
   "source": [
    "# Create \"flares present\" binary dependent variable\n",
    "ca_bg_joined = ca_bg_joined.assign(flares_present=ca_bg_joined['geometry'].isin(ca_polys_subset['geometry']).astype(int))"
   ]
  },
  {
   "cell_type": "code",
   "execution_count": 15,
   "id": "60ec33d2",
   "metadata": {
    "scrolled": true
   },
   "outputs": [
    {
     "name": "stdout",
     "output_type": "stream",
     "text": [
      "Block groups containing flares (0=no, 1=yes):\n",
      "\n",
      "0    25570\n",
      "1       37\n",
      "Name: flares_present, dtype: int64\n"
     ]
    }
   ],
   "source": [
    "print(f\"Block groups containing flares (0=no, 1=yes):\\n\")\n",
    "print(ca_bg_joined['flares_present'].value_counts())"
   ]
  },
  {
   "cell_type": "markdown",
   "id": "f90318ae",
   "metadata": {},
   "source": [
    "#### Subset data to only what's needed for model"
   ]
  },
  {
   "cell_type": "code",
   "execution_count": 16,
   "id": "58de11da",
   "metadata": {},
   "outputs": [],
   "source": [
    "allcols=['D_PM25_2', 'dist_flare', 'flares_present']\n",
    "for_model = ca_bg_joined[allcols].dropna()  # drop na for now\n",
    "\n",
    "cols=['D_PM25_2', 'dist_flare']\n",
    "x=for_model[cols]\n",
    "y=for_model['flares_present']"
   ]
  },
  {
   "cell_type": "markdown",
   "id": "a28c93a7",
   "metadata": {},
   "source": [
    "#### Implement model"
   ]
  },
  {
   "cell_type": "code",
   "execution_count": 30,
   "id": "d6f5f5ed",
   "metadata": {},
   "outputs": [
    {
     "name": "stdout",
     "output_type": "stream",
     "text": [
      "Optimization terminated successfully.\n",
      "         Current function value: 0.007447\n",
      "         Iterations 15\n",
      "                         Results: Logit\n",
      "=================================================================\n",
      "Model:              Logit            Pseudo R-squared: 0.317     \n",
      "Dependent Variable: flares_present   AIC:              385.1562  \n",
      "Date:               2023-01-05 08:53 BIC:              401.4561  \n",
      "No. Observations:   25590            Log-Likelihood:   -190.58   \n",
      "Df Model:           1                LL-Null:          -278.92   \n",
      "Df Residuals:       25588            LLR p-value:      2.5735e-40\n",
      "Converged:          1.0000           Scale:            1.0000    \n",
      "No. Iterations:     15.0000                                      \n",
      "------------------------------------------------------------------\n",
      "              Coef.   Std.Err.     z      P>|z|    [0.025   0.975]\n",
      "------------------------------------------------------------------\n",
      "D_PM25_2     -0.0371    0.0057   -6.4535  0.0000  -0.0483  -0.0258\n",
      "dist_flare   -0.0006    0.0001  -11.4646  0.0000  -0.0007  -0.0005\n",
      "=================================================================\n",
      "\n"
     ]
    }
   ],
   "source": [
    "import statsmodels.api as sm\n",
    "logit_model=sm.Logit(y,x)\n",
    "result=logit_model.fit()\n",
    "print(result.summary2())"
   ]
  },
  {
   "cell_type": "markdown",
   "id": "217f6fc9",
   "metadata": {},
   "source": [
    "#### Fit model"
   ]
  },
  {
   "cell_type": "code",
   "execution_count": 26,
   "id": "74ef9674",
   "metadata": {},
   "outputs": [],
   "source": [
    "from sklearn.linear_model import LogisticRegression\n",
    "from sklearn import metrics\n",
    "from sklearn.model_selection import train_test_split\n",
    "from sklearn.metrics import classification_report\n",
    "\n",
    "X_train, X_test, y_train, y_test = train_test_split(x, y, test_size=0.2, random_state=42, stratify=y)\n",
    "\n",
    "logreg = LogisticRegression()\n",
    "logreg.fit(X_train, y_train)"
   ]
  },
  {
   "cell_type": "code",
   "execution_count": 19,
   "id": "de3707ab",
   "metadata": {},
   "outputs": [
    {
     "name": "stdout",
     "output_type": "stream",
     "text": [
      "Accuracy of logistic regression classifier on test set: 1.00\n"
     ]
    }
   ],
   "source": [
    "y_pred = logreg.predict(X_test)\n",
    "print('Accuracy of logistic regression classifier on test set: {:.2f}'.format(logreg.score(X_test, y_test)))"
   ]
  },
  {
   "cell_type": "code",
   "execution_count": 20,
   "id": "00e8db22",
   "metadata": {},
   "outputs": [
    {
     "name": "stdout",
     "output_type": "stream",
     "text": [
      "[[5111    0]\n",
      " [   7    0]]\n"
     ]
    }
   ],
   "source": [
    "from sklearn.metrics import confusion_matrix\n",
    "confusion_matrix = confusion_matrix(y_test, y_pred)\n",
    "print(confusion_matrix)"
   ]
  },
  {
   "cell_type": "code",
   "execution_count": 21,
   "id": "ef7d8696",
   "metadata": {},
   "outputs": [
    {
     "data": {
      "text/plain": [
       "Text(0.5, 427.9555555555555, 'Predicted label')"
      ]
     },
     "execution_count": 21,
     "metadata": {},
     "output_type": "execute_result"
    },
    {
     "data": {
      "image/png": "[encoded data removed]",
      "text/plain": [
       "<Figure size 640x480 with 2 Axes>"
      ]
     },
     "metadata": {},
     "output_type": "display_data"
    }
   ],
   "source": [
    "# import required modules\n",
    "import seaborn as sns\n",
    "\n",
    "class_names=[0,1] # name  of classes\n",
    "fig, ax = plt.subplots()\n",
    "tick_marks = np.arange(len(class_names))\n",
    "plt.xticks(tick_marks, class_names)\n",
    "plt.yticks(tick_marks, class_names)\n",
    "# create heatmap\n",
    "sns.heatmap(pd.DataFrame(confusion_matrix), annot=True, cmap=\"YlGnBu\" ,fmt='g')\n",
    "ax.xaxis.set_label_position(\"top\")\n",
    "plt.tight_layout()\n",
    "plt.title('Confusion matrix', y=1.1)\n",
    "plt.ylabel('Actual label')\n",
    "plt.xlabel('Predicted label')\n",
    "\n",
    "# Text(0.5,257.44,'Predicted label');"
   ]
  },
  {
   "cell_type": "code",
   "execution_count": 22,
   "id": "70c78bcf",
   "metadata": {},
   "outputs": [
    {
     "name": "stdout",
     "output_type": "stream",
     "text": [
      "              precision    recall  f1-score   support\n",
      "\n",
      "           0       1.00      1.00      1.00      5111\n",
      "           1       0.00      0.00      0.00         7\n",
      "\n",
      "    accuracy                           1.00      5118\n",
      "   macro avg       0.50      0.50      0.50      5118\n",
      "weighted avg       1.00      1.00      1.00      5118\n",
      "\n"
     ]
    },
    {
     "name": "stderr",
     "output_type": "stream",
     "text": [
      "/Users/natebender/opt/anaconda3/envs/capstonermi37/lib/python3.7/site-packages/sklearn/metrics/_classification.py:1318: UndefinedMetricWarning: Precision and F-score are ill-defined and being set to 0.0 in labels with no predicted samples. Use `zero_division` parameter to control this behavior.\n",
      "  _warn_prf(average, modifier, msg_start, len(result))\n",
      "/Users/natebender/opt/anaconda3/envs/capstonermi37/lib/python3.7/site-packages/sklearn/metrics/_classification.py:1318: UndefinedMetricWarning: Precision and F-score are ill-defined and being set to 0.0 in labels with no predicted samples. Use `zero_division` parameter to control this behavior.\n",
      "  _warn_prf(average, modifier, msg_start, len(result))\n",
      "/Users/natebender/opt/anaconda3/envs/capstonermi37/lib/python3.7/site-packages/sklearn/metrics/_classification.py:1318: UndefinedMetricWarning: Precision and F-score are ill-defined and being set to 0.0 in labels with no predicted samples. Use `zero_division` parameter to control this behavior.\n",
      "  _warn_prf(average, modifier, msg_start, len(result))\n"
     ]
    }
   ],
   "source": [
    "print(classification_report(y_test, y_pred))"
   ]
  },
  {
   "cell_type": "code",
   "execution_count": null,
   "id": "f849cc01",
   "metadata": {},
   "outputs": [],
   "source": []
  }
 ],
 "metadata": {
  "kernelspec": {
   "display_name": "capstonermi37",
   "language": "python",
   "name": "capstonermi37"
  },
  "language_info": {
   "codemirror_mode": {
    "name": "ipython",
    "version": 3
   },
   "file_extension": ".py",
   "mimetype": "text/x-python",
   "name": "python",
   "nbconvert_exporter": "python",
   "pygments_lexer": "ipython3",
   "version": "3.7.13"
  }
 },
 "nbformat": 4,
 "nbformat_minor": 5
}
