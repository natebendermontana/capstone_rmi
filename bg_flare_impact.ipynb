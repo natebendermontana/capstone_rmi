{
 "cells": [
  {
   "cell_type": "code",
   "execution_count": 1,
   "id": "7a3e8b0b",
   "metadata": {},
   "outputs": [],
   "source": [
    "import geopandas as gp\n",
    "from shapely import wkt\n",
    "from shapely.geometry import Point, Polygon\n",
    "from shapely.ops import unary_union\n",
    "import pandas as pd\n",
    "import numpy as np\n",
    "from pprint import pprint\n",
    "import os\n",
    "import glob\n",
    "import openpyxl\n",
    "import matplotlib.pyplot as plt\n",
    "import matplotlib.ticker as mtick\n",
    "import plotly.express as px #if using plotly\n",
    "import folium\n",
    "import warnings\n",
    "import uuid\n",
    "from sklearn.preprocessing import StandardScaler"
   ]
  },
  {
   "cell_type": "code",
   "execution_count": 2,
   "id": "ec3ecf70",
   "metadata": {},
   "outputs": [],
   "source": [
    "pd.set_option('display.max_columns', None)  # display all columns\n",
    "pd.options.display.float_format = '{:20,.2f}'.format  # suppress scientific notation"
   ]
  },
  {
   "cell_type": "markdown",
   "id": "98e98b64",
   "metadata": {},
   "source": [
    "### RQ #2) Which specific flares are the most impactful? \n",
    "\n",
    "### RQ #3) Which specific block grous are being most impacted? \n",
    "\n",
    "\n",
    "Exploratory question; no hypothesis testing\n",
    "\n",
    "EJ index = (The Environmental Indicator Percentile for Block Group) x (Demographic Index for Block Group)\n",
    "  \n",
    "a) Determine flaring impact metric. \n",
    "\n",
    "Something like: buffer_population x EJ Index x flare volume  \n",
    "\n",
    "b) Calculate impact per flare  \n",
    "\n",
    "c) Visualize top_x flares by impact  \n"
   ]
  },
  {
   "cell_type": "markdown",
   "id": "f032eabe",
   "metadata": {},
   "source": [
    "### Read in files"
   ]
  },
  {
   "cell_type": "code",
   "execution_count": 3,
   "id": "38cc90b3",
   "metadata": {},
   "outputs": [],
   "source": [
    "#ca_state = gp.read_file(\"data/CA_State_TIGER2016.shp\")  # CA state\n",
    "ca_counties = gp.read_file(\"data/CA_Counties_TIGER2016.shp\")  # CA counties\n",
    "ca_counties.rename(columns={'NAMELSAD':'cnty_name'}, inplace=True)  # old:new. Match col names for merging"
   ]
  },
  {
   "cell_type": "code",
   "execution_count": 4,
   "id": "917ff8be",
   "metadata": {},
   "outputs": [
    {
     "name": "stdout",
     "output_type": "stream",
     "text": [
      "BGs found: 25607\n"
     ]
    }
   ],
   "source": [
    "#ca_bg = gp.read_file(\"data/ca_bg_clean.shp\")  # CA block groups, cleaned\n",
    "# CA block groups merged with EJscreen data\n",
    "ca_bg_joined = gp.read_file(\"data/ca_bg_joined_clean.shp\")\n",
    "\n",
    "# update col name for correct area b/c it gets saved as a truncated version when saved as a shapefile out of the \n",
    "# main data cleaning notebook\n",
    "ca_bg_joined.rename(columns={'shape_ar_1':'shape_area_new'}, inplace=True)  # old:new.\n",
    "ca_bg_joined.rename(columns={'CNTY_NAME':'cnty_name'}, inplace=True)  # old:new.\n",
    "print(f'BGs found: {len(ca_bg_joined)}')"
   ]
  },
  {
   "cell_type": "code",
   "execution_count": 5,
   "id": "fcb35dd0",
   "metadata": {},
   "outputs": [
    {
     "name": "stdout",
     "output_type": "stream",
     "text": [
      "Flares found: 117\n"
     ]
    }
   ],
   "source": [
    "# just CA flares\n",
    "ca_flares = gp.read_file(\"data/ca_flares_clean.shp\")\n",
    "\n",
    "# renaming \n",
    "ca_flares.rename(columns={'NAMELSAD':'cnty_name'}, inplace=True)  # old:new. Match col names for merging\n",
    "\n",
    "print(f'Flares found: {len(ca_flares)}')"
   ]
  },
  {
   "cell_type": "code",
   "execution_count": 6,
   "id": "a88f029e",
   "metadata": {},
   "outputs": [
    {
     "data": {
      "text/plain": [
       "0      POINT (101702.097 -392465.466)\n",
       "1       POINT (50045.686 -404732.075)\n",
       "2      POINT (111804.156 -403954.218)\n",
       "3       POINT (67527.269 -411223.881)\n",
       "4       POINT (62783.972 -410781.392)\n",
       "                    ...              \n",
       "112    POINT (165197.510 -469510.426)\n",
       "113    POINT (165197.511 -469609.028)\n",
       "114     POINT (-239947.045 35040.908)\n",
       "115    POINT (245587.514 -437618.082)\n",
       "116    POINT (225403.428 -439194.020)\n",
       "Name: geometry, Length: 117, dtype: geometry"
      ]
     },
     "execution_count": 6,
     "metadata": {},
     "output_type": "execute_result"
    }
   ],
   "source": [
    "ca_flares.geometry"
   ]
  },
  {
   "cell_type": "code",
   "execution_count": 7,
   "id": "8980e4e0",
   "metadata": {},
   "outputs": [],
   "source": [
    "# set common crs for project\n",
    "# epsg3310: https://epsg.io/3310-1739\n",
    "# units: meters\n",
    "meters_crs = 3310  # Projected crs. this should be good for this overlay() calculation and all of project. \n",
    "\n",
    "ca_counties = ca_counties.to_crs(meters_crs)\n",
    "ca_flares = ca_flares.to_crs(meters_crs)\n",
    "ca_bg_joined = ca_bg_joined.to_crs(meters_crs)"
   ]
  },
  {
   "cell_type": "markdown",
   "id": "473f50b2",
   "metadata": {},
   "source": [
    "### Update ca_flares df"
   ]
  },
  {
   "cell_type": "code",
   "execution_count": 8,
   "id": "3bb7569e",
   "metadata": {},
   "outputs": [],
   "source": [
    "# set col list for BCM_avg calculation\n",
    "bcm_list = ['BCM_2012','BCM_2013','BCM_2014','BCM_2015','BCM_2016','BCM_2017',\n",
    "            'BCM_2018','BCM_2019','BCM_2020','BCM_2021']\n",
    "\n",
    "# add new column for average BCM across all years\n",
    "ca_flares['BCM_avg'] = ca_flares[bcm_list].mean(axis=1) "
   ]
  },
  {
   "cell_type": "code",
   "execution_count": 9,
   "id": "c281ab27",
   "metadata": {},
   "outputs": [],
   "source": [
    "# subset to only columns needed for Tableau\n",
    "col_list = ['flare_id','flare_cate','cnty_name','BCM_2012','BCM_2013','BCM_2014','BCM_2015','BCM_2016','BCM_2017',\n",
    "            'BCM_2018','BCM_2019','BCM_2020','BCM_2021','BCM_avg', 'geometry']\n",
    "\n",
    "subset = ca_flares[col_list].copy()\n",
    "\n",
    "# assign the subsetted copy back to the original variable name to keep total # of df names small \n",
    "# throughout project\n",
    "ca_flares = subset"
   ]
  },
  {
   "cell_type": "code",
   "execution_count": 10,
   "id": "dd083030",
   "metadata": {},
   "outputs": [
    {
     "data": {
      "text/html": [
       "<div>\n",
       "<style scoped>\n",
       "    .dataframe tbody tr th:only-of-type {\n",
       "        vertical-align: middle;\n",
       "    }\n",
       "\n",
       "    .dataframe tbody tr th {\n",
       "        vertical-align: top;\n",
       "    }\n",
       "\n",
       "    .dataframe thead th {\n",
       "        text-align: right;\n",
       "    }\n",
       "</style>\n",
       "<table border=\"1\" class=\"dataframe\">\n",
       "  <thead>\n",
       "    <tr style=\"text-align: right;\">\n",
       "      <th></th>\n",
       "      <th>flare_id</th>\n",
       "      <th>flare_cate</th>\n",
       "      <th>cnty_name</th>\n",
       "      <th>BCM_2012</th>\n",
       "      <th>BCM_2013</th>\n",
       "      <th>BCM_2014</th>\n",
       "      <th>BCM_2015</th>\n",
       "      <th>BCM_2016</th>\n",
       "      <th>BCM_2017</th>\n",
       "      <th>BCM_2018</th>\n",
       "      <th>BCM_2019</th>\n",
       "      <th>BCM_2020</th>\n",
       "      <th>BCM_2021</th>\n",
       "      <th>BCM_avg</th>\n",
       "      <th>geometry</th>\n",
       "    </tr>\n",
       "  </thead>\n",
       "  <tbody>\n",
       "    <tr>\n",
       "      <th>113</th>\n",
       "      <td>857477a0194312</td>\n",
       "      <td>flares_oil_downstream</td>\n",
       "      <td>Los Angeles County</td>\n",
       "      <td>NaN</td>\n",
       "      <td>NaN</td>\n",
       "      <td>NaN</td>\n",
       "      <td>NaN</td>\n",
       "      <td>NaN</td>\n",
       "      <td>NaN</td>\n",
       "      <td>0.00</td>\n",
       "      <td>NaN</td>\n",
       "      <td>NaN</td>\n",
       "      <td>NaN</td>\n",
       "      <td>0.00</td>\n",
       "      <td>POINT (165197.511 -469609.028)</td>\n",
       "    </tr>\n",
       "  </tbody>\n",
       "</table>\n",
       "</div>"
      ],
      "text/plain": [
       "           flare_id             flare_cate           cnty_name  BCM_2012  \\\n",
       "113  857477a0194312  flares_oil_downstream  Los Angeles County       NaN   \n",
       "\n",
       "     BCM_2013  BCM_2014  BCM_2015  BCM_2016  BCM_2017             BCM_2018  \\\n",
       "113       NaN       NaN       NaN       NaN       NaN                 0.00   \n",
       "\n",
       "     BCM_2019  BCM_2020  BCM_2021              BCM_avg  \\\n",
       "113       NaN       NaN       NaN                 0.00   \n",
       "\n",
       "                           geometry  \n",
       "113  POINT (165197.511 -469609.028)  "
      ]
     },
     "execution_count": 10,
     "metadata": {},
     "output_type": "execute_result"
    }
   ],
   "source": [
    "ca_flares.sample(1)"
   ]
  },
  {
   "cell_type": "markdown",
   "id": "dc58e0f1",
   "metadata": {},
   "source": [
    "### Update ca_bg_joined df"
   ]
  },
  {
   "cell_type": "code",
   "execution_count": 11,
   "id": "dd604fa2",
   "metadata": {},
   "outputs": [],
   "source": [
    "# There are five BGs that seem to just be aquatic buffers around the actual county land.\n",
    "# Dropping them for now \n",
    "# Explore if needed: ca_bg_joined.explore()\n",
    "\n",
    "ids_to_drop = [60839900000, 61119901000, 60379902000, 60379903000, 60599901000]\n",
    "\n",
    "# Drop the rows with those IDs\n",
    "ca_bg_joined = ca_bg_joined[~ca_bg_joined['bg_id'].isin(ids_to_drop)]"
   ]
  },
  {
   "cell_type": "code",
   "execution_count": 12,
   "id": "9fda2088",
   "metadata": {},
   "outputs": [],
   "source": [
    "# subset to only cols needed\n",
    "subset = ca_bg_joined[['bg_id', 'cnty_name', 'ACSTOTPOP', 'MINORPOP',\n",
    "                           'D_PM25_2', 'shape_area_new', 'geometry']].copy()\n",
    "\n",
    "# assign the subsetted copy back to the original variable name\n",
    "ca_bg_joined = subset\n",
    "\n",
    "ca_bg_joined.rename(columns={'geometry':'bg_geom'}, inplace=True)  # old:new. Match col names for merging"
   ]
  },
  {
   "cell_type": "code",
   "execution_count": 13,
   "id": "a1ae00e4",
   "metadata": {},
   "outputs": [],
   "source": [
    "# counties_sub = ca_counties[['cnty_name', 'geometry']].copy()\n",
    "\n",
    "# counties_sub.rename(columns={'geometry':'cnty_geom'}, inplace=True)  # old:new. Match col names for merging\n",
    "\n",
    "# # add county names to social dataframe\n",
    "# ca_bg_joined_sub = pd.merge(ca_bg_joined_sub, counties_sub, \n",
    "#                              on='cnty_name', how='left')"
   ]
  },
  {
   "cell_type": "markdown",
   "id": "a58e8c16",
   "metadata": {},
   "source": [
    "### TEMP : BG"
   ]
  },
  {
   "cell_type": "code",
   "execution_count": 14,
   "id": "9c3e0c5d",
   "metadata": {},
   "outputs": [],
   "source": [
    "# # take baseline dfs and create copies clearly defined for this BG analysis, separate from the work that is needed\n",
    "# # for the flare buffer analysis below. Both analyses modify these same two dfs in different ways and I want \n",
    "# # to make sure I keep the calculations separated\n",
    "\n",
    "# bg_socialdf = ca_bg_joined.copy()\n",
    "# bg_flaresdf = ca_flares.copy()"
   ]
  },
  {
   "cell_type": "code",
   "execution_count": 15,
   "id": "b0d35be7",
   "metadata": {},
   "outputs": [],
   "source": [
    "# set geometry columns\n",
    "ca_bg_joined = ca_bg_joined.set_geometry('bg_geom')\n",
    "\n",
    "# and rename for clarity\n",
    "ca_flares.rename(columns={'geometry':'flarepts_geom'}, inplace=True)  # old:new. Match col names for merging\n",
    "ca_flares = ca_flares.set_geometry('flarepts_geom')"
   ]
  },
  {
   "cell_type": "code",
   "execution_count": 16,
   "id": "82efbb4e",
   "metadata": {},
   "outputs": [],
   "source": [
    "#flares_df = set_geometry_buffer(flares_df, buffer_size)\n",
    "buffer_size=2000\n",
    "buffer_col = f\"buff{buffer_size}_geom\"\n",
    "ca_flares[buffer_col] = ca_flares['flarepts_geom'].buffer(distance=buffer_size)\n",
    "\n",
    "ca_flares = ca_flares.set_geometry('buff2000_geom')\n"
   ]
  },
  {
   "cell_type": "code",
   "execution_count": 17,
   "id": "0049b381",
   "metadata": {},
   "outputs": [],
   "source": [
    "# subset of desired columns from flares_df\n",
    "flares_sjoin_subset = ca_flares[['buff2000_geom', 'BCM_avg', 'flare_id', 'flare_cate']]\n",
    "\n",
    "# Left join the flares_sjoin_subset cols to the bg_socialdf based on if any of the flares geometries intersect \n",
    "# with the bg geometries\n",
    "intersect_baseline = gp.sjoin(ca_bg_joined, flares_sjoin_subset, how='left', predicate='intersects')\n"
   ]
  },
  {
   "cell_type": "code",
   "execution_count": 18,
   "id": "05229beb",
   "metadata": {},
   "outputs": [],
   "source": [
    "# Bring in buffer col that is not brought in by the sjoin() function for some unknown reason. Frustrating.\n",
    "intersect_baseline = pd.merge(intersect_baseline, flares_sjoin_subset[['flare_id', 'buff2000_geom']], \n",
    "                             on='flare_id', how='left')"
   ]
  },
  {
   "cell_type": "code",
   "execution_count": 19,
   "id": "2438ceba",
   "metadata": {},
   "outputs": [
    {
     "data": {
      "text/plain": [
       "25865"
      ]
     },
     "execution_count": 19,
     "metadata": {},
     "output_type": "execute_result"
    }
   ],
   "source": [
    "len(intersect_baseline)"
   ]
  },
  {
   "cell_type": "code",
   "execution_count": 20,
   "id": "7ebbf8bf",
   "metadata": {},
   "outputs": [],
   "source": [
    "# Iterate through each bg_id and flare_id pairing and calculate \n",
    "# the proportion of the buffer that intersects with the BG geom, relative to the total buffer size.\n",
    "# We need to know the proportion of each buffer in each bg geom in order to assign the percentage of\n",
    "# flare volume to each bg in the case of incomplete overlap.\n",
    "\n",
    "# First check for null or invalid geometries in buffer_2000m column\n",
    "intersect_baseline['buffer_valid'] = intersect_baseline['buff2000_geom'].is_valid\n",
    "\n",
    "# Initialize intersect proportion \"b_int_prop\" and intersect area \"b_int_area\" columns with NaN values\n",
    "intersect_baseline['buff_int_prop'] = np.nan\n",
    "intersect_baseline['buff_int_area'] = np.nan\n",
    "\n",
    "# Loop through each block group and flare pairing\n",
    "for index, row in intersect_baseline.iterrows():\n",
    "    # Check if buffer_2000m geometry is valid\n",
    "    if row['buffer_valid']:\n",
    "        # Calculate intersection area\n",
    "        intersection = row['buff2000_geom'].intersection(row['bg_geom'])  # prop of buffer in the bg geom\n",
    "        intersection_area = intersection.area\n",
    "        # Calculate buffer area\n",
    "        buffer_area = row['buff2000_geom'].area\n",
    "        # Calculate intersection proportion\n",
    "        buffer_int_prop = intersection_area / buffer_area\n",
    "        # Update int_prop and int_area columns with calculated values\n",
    "        intersect_baseline.at[index, 'buff_int_prop'] = buffer_int_prop\n",
    "        intersect_baseline.at[index, 'buff_int_area'] = intersection_area\n",
    "        intersect_baseline.at[index, 'buff_area'] = buffer_area\n",
    "\n",
    "    else:\n",
    "        # Assign 0 to b_int_prop and b_int_area if buffer_2000m geometry is invalid\n",
    "        intersect_baseline.at[index, 'buff_int_prop'] = 0\n",
    "        intersect_baseline.at[index, 'buff_int_area'] = 0\n",
    "        intersect_baseline.at[index, 'buff_area'] = 0\n",
    "\n",
    "        \n",
    "# Drop buffer_valid column as it's no longer needed\n",
    "intersect_baseline.drop('buffer_valid', axis=1, inplace=True)\n",
    "\n"
   ]
  },
  {
   "cell_type": "markdown",
   "id": "563d5e54",
   "metadata": {},
   "source": [
    "### See Folium mapping at the bottom of the notebook for further confirmation that this works as intended"
   ]
  },
  {
   "cell_type": "code",
   "execution_count": 21,
   "id": "522b5d15",
   "metadata": {},
   "outputs": [
    {
     "data": {
      "text/plain": [
       "25865"
      ]
     },
     "execution_count": 21,
     "metadata": {},
     "output_type": "execute_result"
    }
   ],
   "source": [
    "len(intersect_baseline)"
   ]
  },
  {
   "cell_type": "code",
   "execution_count": 22,
   "id": "42d0da87",
   "metadata": {},
   "outputs": [],
   "source": [
    "# Now a similar analysis but this time we want to know the BG-buffer intersection proportion relative to \n",
    "# the total area of the block group, in order to use that proportion to assign counts of BG demographic\n",
    "# variables to the intersection area. \n",
    "\n",
    "# Combine all flares into a single multipolygon unit\n",
    "temp = ca_flares.unary_union\n",
    "all_buffers = gp.GeoDataFrame({'geometry': [temp]}, crs=ca_flares.crs)  # convert back to geodf for processing\n",
    "\n",
    "# Make sure our geom column is set correctly to \"bg_geom\" rather than the flare buffer\n",
    "if intersect_baseline.geometry.name == \"bg_geom\":\n",
    "    int_temp = gp.overlay(intersect_baseline, all_buffers, how='intersection')  \n",
    "    int_temp.rename(columns={'geometry':'bg_int_geom'}, inplace=True)  # old:new. For clarity\n",
    "    # Set geometry to the intersections\n",
    "    int_temp = int_temp.set_geometry('bg_int_geom')  \n",
    "\n",
    "    # Create new 'area' column for the areas of the intersections\n",
    "    int_temp['bg_int_area'] = int_temp.area\n",
    "\n",
    "    # Calculate the proportion of each block group intersection relative to total block broup area\n",
    "    int_temp['bg_int_prop'] = int_temp['bg_int_area'] / int_temp['shape_area_new']\n",
    "\n",
    "    # Merge the new area and props variables\n",
    "    intersect_baseline = pd.merge(intersect_baseline, \n",
    "                                 int_temp[['bg_id','bg_int_prop','bg_int_geom']], \n",
    "                                 on=['bg_id'], \n",
    "                                 how='left').fillna({'bg_int_prop': 0})\n",
    "    \n",
    "else:\n",
    "    print(\"Error: Geometry column is not named 'bg_geom'\")"
   ]
  },
  {
   "cell_type": "code",
   "execution_count": 23,
   "id": "302f4cac",
   "metadata": {},
   "outputs": [],
   "source": [
    "# Apply the proportion to each demographic variable to find counts by variable\n",
    "# i.e. this answers \"how many of x live in the intersection area?\"\n",
    "demo_vars = ['ACSTOTPOP', 'MINORPOP']\n",
    "for var in demo_vars:\n",
    "    intersect_baseline[var + '_bg_int_count'] = intersect_baseline[var] * intersect_baseline['bg_int_prop']\n",
    "\n",
    "# Find overall proportions for each demo var by dividing var count by respective total population\n",
    "# i.e. this answers \"what percentage of this block group is minority status?\"\n",
    "intersect_baseline['MINORPOP_bg_totprop'] = intersect_baseline['MINORPOP'] / intersect_baseline['ACSTOTPOP']\n",
    "\n",
    "# calculate percentage of minorities in intersection for each BG\n",
    "intersect_baseline['bg_int_mnr_prop'] = intersect_baseline['MINORPOP_bg_int_count'] / intersect_baseline['ACSTOTPOP_bg_int_count']"
   ]
  },
  {
   "cell_type": "code",
   "execution_count": 24,
   "id": "52bb9055",
   "metadata": {},
   "outputs": [],
   "source": [
    "# rename the flare categories for readability\n",
    "intersect_baseline[\"flare_cate\"] = (intersect_baseline[\"flare_cate\"].\n",
    "                                    replace({\"flares_oil_downstream\": \"down_oil\",\"flares_upstream\": \"upstream\"}))"
   ]
  },
  {
   "cell_type": "code",
   "execution_count": 25,
   "id": "69495247",
   "metadata": {},
   "outputs": [
    {
     "data": {
      "text/html": [
       "<div>\n",
       "<style scoped>\n",
       "    .dataframe tbody tr th:only-of-type {\n",
       "        vertical-align: middle;\n",
       "    }\n",
       "\n",
       "    .dataframe tbody tr th {\n",
       "        vertical-align: top;\n",
       "    }\n",
       "\n",
       "    .dataframe thead th {\n",
       "        text-align: right;\n",
       "    }\n",
       "</style>\n",
       "<table border=\"1\" class=\"dataframe\">\n",
       "  <thead>\n",
       "    <tr style=\"text-align: right;\">\n",
       "      <th></th>\n",
       "      <th>bg_id</th>\n",
       "      <th>cnty_name</th>\n",
       "      <th>ACSTOTPOP</th>\n",
       "      <th>MINORPOP</th>\n",
       "      <th>D_PM25_2</th>\n",
       "      <th>shape_area_new</th>\n",
       "      <th>bg_geom</th>\n",
       "      <th>index_right</th>\n",
       "      <th>BCM_avg</th>\n",
       "      <th>flare_id</th>\n",
       "      <th>flare_cate</th>\n",
       "      <th>buff2000_geom</th>\n",
       "      <th>buff_int_prop</th>\n",
       "      <th>buff_int_area</th>\n",
       "      <th>buff_area</th>\n",
       "      <th>bg_int_prop</th>\n",
       "      <th>bg_int_geom</th>\n",
       "      <th>ACSTOTPOP_bg_int_count</th>\n",
       "      <th>MINORPOP_bg_int_count</th>\n",
       "      <th>MINORPOP_bg_totprop</th>\n",
       "      <th>bg_int_mnr_prop</th>\n",
       "    </tr>\n",
       "  </thead>\n",
       "  <tbody>\n",
       "    <tr>\n",
       "      <th>0</th>\n",
       "      <td>60376500012</td>\n",
       "      <td>Los Angeles County</td>\n",
       "      <td>864</td>\n",
       "      <td>576</td>\n",
       "      <td>34.33</td>\n",
       "      <td>279,785.40</td>\n",
       "      <td>POLYGON ((154828.423 -457797.384, 154927.488 -...</td>\n",
       "      <td>NaN</td>\n",
       "      <td>NaN</td>\n",
       "      <td>NaN</td>\n",
       "      <td>NaN</td>\n",
       "      <td>None</td>\n",
       "      <td>0.00</td>\n",
       "      <td>0.00</td>\n",
       "      <td>0.00</td>\n",
       "      <td>0.00</td>\n",
       "      <td>None</td>\n",
       "      <td>0.00</td>\n",
       "      <td>0.00</td>\n",
       "      <td>0.67</td>\n",
       "      <td>NaN</td>\n",
       "    </tr>\n",
       "    <tr>\n",
       "      <th>1</th>\n",
       "      <td>60376500014</td>\n",
       "      <td>Los Angeles County</td>\n",
       "      <td>748</td>\n",
       "      <td>646</td>\n",
       "      <td>46.59</td>\n",
       "      <td>297,744.27</td>\n",
       "      <td>POLYGON ((154836.126 -458134.127, 154835.934 -...</td>\n",
       "      <td>NaN</td>\n",
       "      <td>NaN</td>\n",
       "      <td>NaN</td>\n",
       "      <td>NaN</td>\n",
       "      <td>None</td>\n",
       "      <td>0.00</td>\n",
       "      <td>0.00</td>\n",
       "      <td>0.00</td>\n",
       "      <td>0.00</td>\n",
       "      <td>None</td>\n",
       "      <td>0.00</td>\n",
       "      <td>0.00</td>\n",
       "      <td>0.86</td>\n",
       "      <td>NaN</td>\n",
       "    </tr>\n",
       "    <tr>\n",
       "      <th>4</th>\n",
       "      <td>60376503005</td>\n",
       "      <td>Los Angeles County</td>\n",
       "      <td>1102</td>\n",
       "      <td>838</td>\n",
       "      <td>44.91</td>\n",
       "      <td>733,298.96</td>\n",
       "      <td>POLYGON ((151858.050 -459765.962, 151869.518 -...</td>\n",
       "      <td>110.00</td>\n",
       "      <td>0.00</td>\n",
       "      <td>36c62e67595483</td>\n",
       "      <td>down_oil</td>\n",
       "      <td>POLYGON ((156983.129 -460981.588, 156973.498 -...</td>\n",
       "      <td>0.01</td>\n",
       "      <td>83,271.03</td>\n",
       "      <td>12,546,193.96</td>\n",
       "      <td>0.11</td>\n",
       "      <td>POLYGON ((153266.503 -459960.018, 153266.880 -...</td>\n",
       "      <td>125.14</td>\n",
       "      <td>95.16</td>\n",
       "      <td>0.76</td>\n",
       "      <td>0.76</td>\n",
       "    </tr>\n",
       "    <tr>\n",
       "      <th>333</th>\n",
       "      <td>60375780004</td>\n",
       "      <td>Los Angeles County</td>\n",
       "      <td>1095</td>\n",
       "      <td>938</td>\n",
       "      <td>84.26</td>\n",
       "      <td>1,074,800.40</td>\n",
       "      <td>POLYGON ((164176.032 -467882.392, 164192.453 -...</td>\n",
       "      <td>113.00</td>\n",
       "      <td>0.00</td>\n",
       "      <td>857477a0194312</td>\n",
       "      <td>down_oil</td>\n",
       "      <td>POLYGON ((167197.511 -469609.028, 167187.881 -...</td>\n",
       "      <td>0.02</td>\n",
       "      <td>237,504.03</td>\n",
       "      <td>12,546,193.96</td>\n",
       "      <td>0.53</td>\n",
       "      <td>MULTIPOLYGON (((164176.032 -467882.392, 164192...</td>\n",
       "      <td>582.59</td>\n",
       "      <td>499.06</td>\n",
       "      <td>0.86</td>\n",
       "      <td>0.86</td>\n",
       "    </tr>\n",
       "  </tbody>\n",
       "</table>\n",
       "</div>"
      ],
      "text/plain": [
       "           bg_id           cnty_name  ACSTOTPOP  MINORPOP  \\\n",
       "0    60376500012  Los Angeles County        864       576   \n",
       "1    60376500014  Los Angeles County        748       646   \n",
       "4    60376503005  Los Angeles County       1102       838   \n",
       "333  60375780004  Los Angeles County       1095       938   \n",
       "\n",
       "                D_PM25_2       shape_area_new  \\\n",
       "0                  34.33           279,785.40   \n",
       "1                  46.59           297,744.27   \n",
       "4                  44.91           733,298.96   \n",
       "333                84.26         1,074,800.40   \n",
       "\n",
       "                                               bg_geom          index_right  \\\n",
       "0    POLYGON ((154828.423 -457797.384, 154927.488 -...                  NaN   \n",
       "1    POLYGON ((154836.126 -458134.127, 154835.934 -...                  NaN   \n",
       "4    POLYGON ((151858.050 -459765.962, 151869.518 -...               110.00   \n",
       "333  POLYGON ((164176.032 -467882.392, 164192.453 -...               113.00   \n",
       "\n",
       "                 BCM_avg        flare_id flare_cate  \\\n",
       "0                    NaN             NaN        NaN   \n",
       "1                    NaN             NaN        NaN   \n",
       "4                   0.00  36c62e67595483   down_oil   \n",
       "333                 0.00  857477a0194312   down_oil   \n",
       "\n",
       "                                         buff2000_geom        buff_int_prop  \\\n",
       "0                                                 None                 0.00   \n",
       "1                                                 None                 0.00   \n",
       "4    POLYGON ((156983.129 -460981.588, 156973.498 -...                 0.01   \n",
       "333  POLYGON ((167197.511 -469609.028, 167187.881 -...                 0.02   \n",
       "\n",
       "           buff_int_area            buff_area          bg_int_prop  \\\n",
       "0                   0.00                 0.00                 0.00   \n",
       "1                   0.00                 0.00                 0.00   \n",
       "4              83,271.03        12,546,193.96                 0.11   \n",
       "333           237,504.03        12,546,193.96                 0.53   \n",
       "\n",
       "                                           bg_int_geom  \\\n",
       "0                                                 None   \n",
       "1                                                 None   \n",
       "4    POLYGON ((153266.503 -459960.018, 153266.880 -...   \n",
       "333  MULTIPOLYGON (((164176.032 -467882.392, 164192...   \n",
       "\n",
       "     ACSTOTPOP_bg_int_count  MINORPOP_bg_int_count  MINORPOP_bg_totprop  \\\n",
       "0                      0.00                   0.00                 0.67   \n",
       "1                      0.00                   0.00                 0.86   \n",
       "4                    125.14                  95.16                 0.76   \n",
       "333                  582.59                 499.06                 0.86   \n",
       "\n",
       "         bg_int_mnr_prop  \n",
       "0                    NaN  \n",
       "1                    NaN  \n",
       "4                   0.76  \n",
       "333                 0.86  "
      ]
     },
     "execution_count": 25,
     "metadata": {},
     "output_type": "execute_result"
    }
   ],
   "source": [
    "# check calculations against two examples of non-intersected BGs and two of intersected BGs\n",
    "intersect_baseline[intersect_baseline['flare_id'].isna()].head(2).append(intersect_baseline[~intersect_baseline['flare_id'].isna()].head(2))"
   ]
  },
  {
   "cell_type": "markdown",
   "id": "3533ddcd",
   "metadata": {},
   "source": [
    "# Aggregate data by BG and export files for Tableau"
   ]
  },
  {
   "cell_type": "markdown",
   "id": "2a834fc7",
   "metadata": {},
   "source": [
    "#### Standardize variables\n",
    "\n",
    "EJ index and total population in the intersection(s) are already encoded at the level of a BG, so they're ready to normalize. \n",
    "\n",
    "Flare volume needs to multiplied by the proportion of the flare's buffer zone that resides in a BG, and then all (in the case of multiple flares in a BG) adjusted flare volumes summed up to generate a variable for total flare volume a BG is exposed to.  "
   ]
  },
  {
   "cell_type": "code",
   "execution_count": 26,
   "id": "25f3ad08",
   "metadata": {},
   "outputs": [],
   "source": [
    "def calc_adj_flare_vol(df):\n",
    "    \"\"\"\n",
    "    Function for calculating total flare volume to be assigned to each BG, based on amount of overlap.\n",
    "    \n",
    "    \"bcm_adj\" = adjusted bcm value for a given flare_id and bg_id, based on the proportion of the buffer zone that \n",
    "    overlaps with a given bg_id. Equal to the bcm_avg * b_int_prop (the overlap)\n",
    "    \n",
    "    \"bcm_adj_tot\" = the sum of the bcm_adj values for a given bg_id\n",
    "    \"\"\"\n",
    "    \n",
    "    # calculate the product of bcm_avg and buff_int_prop for each flare and bg combination\n",
    "    df['bcm_adj'] = df['BCM_avg'] * df['buff_int_prop']\n",
    "    \n",
    "    # sum the adjusted volumes for all flare and bg combinations\n",
    "    adj_vol = df.groupby(['flare_id', 'bg_id'])['bcm_adj'].sum().reset_index()\n",
    "    \n",
    "    # sum the adjusted volumes for all flares in the block group\n",
    "    bg_vol = adj_vol.groupby('bg_id')['bcm_adj'].sum().reset_index()\n",
    "    \n",
    "    # merge the block group volumes with the original dataframe\n",
    "    df = pd.merge(df, bg_vol, on='bg_id', how='left', suffixes=('', '_tot'))\n",
    "    \n",
    "    return df"
   ]
  },
  {
   "cell_type": "code",
   "execution_count": 27,
   "id": "8e28c788",
   "metadata": {},
   "outputs": [],
   "source": [
    "# First, create new df to hold the bg-specific data aggregation\n",
    "bg_intersect = intersect_baseline.groupby('bg_id').apply(calc_adj_flare_vol)"
   ]
  },
  {
   "cell_type": "code",
   "execution_count": 28,
   "id": "c684a213",
   "metadata": {},
   "outputs": [],
   "source": [
    "# There are a ton of duplicate rows getting introduced at some point of the process. Ideally I'll come back and \n",
    "# troubleshoot, but in the meantime I'm just removing these dupes. \n",
    "\n",
    "bg_intersect = bg_intersect.drop_duplicates(subset=['bg_id', 'flare_id'])"
   ]
  },
  {
   "cell_type": "code",
   "execution_count": 29,
   "id": "b49119b4",
   "metadata": {},
   "outputs": [
    {
     "data": {
      "text/plain": [
       "pandas.core.frame.DataFrame"
      ]
     },
     "execution_count": 29,
     "metadata": {},
     "output_type": "execute_result"
    }
   ],
   "source": [
    "type(bg_intersect)"
   ]
  },
  {
   "cell_type": "code",
   "execution_count": 30,
   "id": "e4559bc4",
   "metadata": {},
   "outputs": [
    {
     "data": {
      "text/plain": [
       "Index(['bg_id', 'cnty_name', 'ACSTOTPOP', 'MINORPOP', 'D_PM25_2',\n",
       "       'shape_area_new', 'bg_geom', 'index_right', 'BCM_avg', 'flare_id',\n",
       "       'flare_cate', 'buff2000_geom', 'buff_int_prop', 'buff_int_area',\n",
       "       'buff_area', 'bg_int_prop', 'bg_int_geom', 'ACSTOTPOP_bg_int_count',\n",
       "       'MINORPOP_bg_int_count', 'MINORPOP_bg_totprop', 'bg_int_mnr_prop',\n",
       "       'bcm_adj', 'bcm_adj_tot'],\n",
       "      dtype='object')"
      ]
     },
     "execution_count": 30,
     "metadata": {},
     "output_type": "execute_result"
    }
   ],
   "source": [
    "bg_intersect.columns"
   ]
  },
  {
   "cell_type": "code",
   "execution_count": 31,
   "id": "e899d8e0",
   "metadata": {},
   "outputs": [],
   "source": [
    "# Define the variables to standardize\n",
    "\n",
    "#'bcm_adj_tot' = Sum of the adjusted flare volume(s) that intersect w the BG. \n",
    "#'D_PM25_2' = EJ index for the BG\n",
    "#'ACSTOTPOP_int_count' = BG population that resides in the intersection. = BGtotpop * intersection_proportion\n",
    "\n",
    "varlist = ['bcm_adj_tot', 'D_PM25_2', 'ACSTOTPOP_bg_int_count']\n",
    "\n",
    "# Create a StandardScaler object that will transform selected variables to have a mean of zero and \n",
    "# sd of 1.\n",
    "scaler = StandardScaler()\n",
    "\n",
    "# Fit and transform the selected variables\n",
    "intersect_norm = scaler.fit_transform(bg_intersect[varlist])\n",
    "\n",
    "# Create new variables with the standardized values\n",
    "intersect_norm = pd.DataFrame(intersect_norm, columns=[var + '_n' for var in varlist])\n",
    "\n",
    "intersect_norm = intersect_norm.reset_index(drop=True)\n",
    "bg_intersect = bg_intersect.reset_index(drop=True)\n",
    "\n",
    "# Concatenate the new variables with the original DataFrame\n",
    "bg_intersect = pd.concat([bg_intersect, intersect_norm], axis=1)\n"
   ]
  },
  {
   "cell_type": "code",
   "execution_count": 32,
   "id": "e8b88d3c",
   "metadata": {},
   "outputs": [
    {
     "data": {
      "text/plain": [
       "Index(['bg_id', 'cnty_name', 'ACSTOTPOP', 'MINORPOP', 'D_PM25_2',\n",
       "       'shape_area_new', 'bg_geom', 'index_right', 'BCM_avg', 'flare_id',\n",
       "       'flare_cate', 'buff2000_geom', 'buff_int_prop', 'buff_int_area',\n",
       "       'buff_area', 'bg_int_prop', 'bg_int_geom', 'ACSTOTPOP_bg_int_count',\n",
       "       'MINORPOP_bg_int_count', 'MINORPOP_bg_totprop', 'bg_int_mnr_prop',\n",
       "       'bcm_adj', 'bcm_adj_tot', 'bcm_adj_tot_n', 'D_PM25_2_n',\n",
       "       'ACSTOTPOP_bg_int_count_n'],\n",
       "      dtype='object')"
      ]
     },
     "execution_count": 32,
     "metadata": {},
     "output_type": "execute_result"
    }
   ],
   "source": [
    "bg_intersect.columns"
   ]
  },
  {
   "cell_type": "code",
   "execution_count": 33,
   "id": "e3abf9fc",
   "metadata": {},
   "outputs": [],
   "source": [
    "# check calculations against two BGs\n",
    "# Should see a single \"bcm_adj_tot\" value per BG, and different adjusted \"bcm_adj\" values per flare_id \n",
    "#depending on the amount of overlap.\n",
    "\n",
    "# filter the dataframe and format specified columns to display 4 decimal places\n",
    "filtered_df = bg_intersect[bg_intersect['bg_id'].isin([60379800331, 60379800111])][['bg_id', 'flare_id', 'BCM_avg', 'buff_int_prop', 'bcm_adj', 'bcm_adj_tot','bcm_adj_tot_n','bg_int_prop','ACSTOTPOP','MINORPOP','ACSTOTPOP_bg_int_count','MINORPOP_bg_int_count', 'bg_int_mnr_prop','buff_int_area', 'buff_area']]\n",
    "filtered_df[['BCM_avg', 'bcm_adj', 'bcm_adj_tot','bcm_adj_tot_n']] = filtered_df[['BCM_avg', 'bcm_adj', 'bcm_adj_tot','bcm_adj_tot_n']].apply(lambda x: x.apply(lambda y: '{:.4f}'.format(y)))\n"
   ]
  },
  {
   "cell_type": "code",
   "execution_count": 34,
   "id": "5d31b0d4",
   "metadata": {},
   "outputs": [
    {
     "data": {
      "text/html": [
       "<div>\n",
       "<style scoped>\n",
       "    .dataframe tbody tr th:only-of-type {\n",
       "        vertical-align: middle;\n",
       "    }\n",
       "\n",
       "    .dataframe tbody tr th {\n",
       "        vertical-align: top;\n",
       "    }\n",
       "\n",
       "    .dataframe thead th {\n",
       "        text-align: right;\n",
       "    }\n",
       "</style>\n",
       "<table border=\"1\" class=\"dataframe\">\n",
       "  <thead>\n",
       "    <tr style=\"text-align: right;\">\n",
       "      <th></th>\n",
       "      <th>bg_id</th>\n",
       "      <th>flare_id</th>\n",
       "      <th>BCM_avg</th>\n",
       "      <th>buff_int_prop</th>\n",
       "      <th>bcm_adj</th>\n",
       "      <th>bcm_adj_tot</th>\n",
       "      <th>bcm_adj_tot_n</th>\n",
       "      <th>bg_int_prop</th>\n",
       "      <th>ACSTOTPOP</th>\n",
       "      <th>MINORPOP</th>\n",
       "      <th>ACSTOTPOP_bg_int_count</th>\n",
       "      <th>MINORPOP_bg_int_count</th>\n",
       "      <th>bg_int_mnr_prop</th>\n",
       "      <th>buff_int_area</th>\n",
       "      <th>buff_area</th>\n",
       "    </tr>\n",
       "  </thead>\n",
       "  <tbody>\n",
       "    <tr>\n",
       "      <th>10679</th>\n",
       "      <td>60379800111</td>\n",
       "      <td>857477a0194312</td>\n",
       "      <td>0.0004</td>\n",
       "      <td>0.11</td>\n",
       "      <td>0.0000</td>\n",
       "      <td>0.0021</td>\n",
       "      <td>-0.2992</td>\n",
       "      <td>1.00</td>\n",
       "      <td>75</td>\n",
       "      <td>64</td>\n",
       "      <td>75.00</td>\n",
       "      <td>64.00</td>\n",
       "      <td>0.85</td>\n",
       "      <td>1,376,354.57</td>\n",
       "      <td>12,546,193.96</td>\n",
       "    </tr>\n",
       "    <tr>\n",
       "      <th>10680</th>\n",
       "      <td>60379800111</td>\n",
       "      <td>b30e8627682313</td>\n",
       "      <td>0.0011</td>\n",
       "      <td>0.11</td>\n",
       "      <td>0.0001</td>\n",
       "      <td>0.0021</td>\n",
       "      <td>-0.2992</td>\n",
       "      <td>1.00</td>\n",
       "      <td>75</td>\n",
       "      <td>64</td>\n",
       "      <td>75.00</td>\n",
       "      <td>64.00</td>\n",
       "      <td>0.85</td>\n",
       "      <td>1,360,236.13</td>\n",
       "      <td>12,546,193.96</td>\n",
       "    </tr>\n",
       "    <tr>\n",
       "      <th>10681</th>\n",
       "      <td>60379800111</td>\n",
       "      <td>caf4a94c957987</td>\n",
       "      <td>0.0014</td>\n",
       "      <td>0.11</td>\n",
       "      <td>0.0002</td>\n",
       "      <td>0.0021</td>\n",
       "      <td>-0.2992</td>\n",
       "      <td>1.00</td>\n",
       "      <td>75</td>\n",
       "      <td>64</td>\n",
       "      <td>75.00</td>\n",
       "      <td>64.00</td>\n",
       "      <td>0.85</td>\n",
       "      <td>1,375,828.46</td>\n",
       "      <td>12,546,193.96</td>\n",
       "    </tr>\n",
       "    <tr>\n",
       "      <th>10682</th>\n",
       "      <td>60379800111</td>\n",
       "      <td>f3188e83798361</td>\n",
       "      <td>0.0004</td>\n",
       "      <td>0.11</td>\n",
       "      <td>0.0000</td>\n",
       "      <td>0.0021</td>\n",
       "      <td>-0.2992</td>\n",
       "      <td>1.00</td>\n",
       "      <td>75</td>\n",
       "      <td>64</td>\n",
       "      <td>75.00</td>\n",
       "      <td>64.00</td>\n",
       "      <td>0.85</td>\n",
       "      <td>1,376,685.28</td>\n",
       "      <td>12,546,193.96</td>\n",
       "    </tr>\n",
       "    <tr>\n",
       "      <th>10683</th>\n",
       "      <td>60379800111</td>\n",
       "      <td>34208bde510417</td>\n",
       "      <td>0.0005</td>\n",
       "      <td>0.11</td>\n",
       "      <td>0.0001</td>\n",
       "      <td>0.0021</td>\n",
       "      <td>-0.2992</td>\n",
       "      <td>1.00</td>\n",
       "      <td>75</td>\n",
       "      <td>64</td>\n",
       "      <td>75.00</td>\n",
       "      <td>64.00</td>\n",
       "      <td>0.85</td>\n",
       "      <td>1,376,685.28</td>\n",
       "      <td>12,546,193.96</td>\n",
       "    </tr>\n",
       "    <tr>\n",
       "      <th>10707</th>\n",
       "      <td>60379800331</td>\n",
       "      <td>857477a0194312</td>\n",
       "      <td>0.0004</td>\n",
       "      <td>0.53</td>\n",
       "      <td>0.0002</td>\n",
       "      <td>0.0101</td>\n",
       "      <td>-0.1169</td>\n",
       "      <td>0.24</td>\n",
       "      <td>14</td>\n",
       "      <td>14</td>\n",
       "      <td>3.39</td>\n",
       "      <td>3.39</td>\n",
       "      <td>1.00</td>\n",
       "      <td>6,627,666.43</td>\n",
       "      <td>12,546,193.96</td>\n",
       "    </tr>\n",
       "    <tr>\n",
       "      <th>10708</th>\n",
       "      <td>60379800331</td>\n",
       "      <td>b30e8627682313</td>\n",
       "      <td>0.0011</td>\n",
       "      <td>0.54</td>\n",
       "      <td>0.0006</td>\n",
       "      <td>0.0101</td>\n",
       "      <td>-0.1169</td>\n",
       "      <td>0.24</td>\n",
       "      <td>14</td>\n",
       "      <td>14</td>\n",
       "      <td>3.39</td>\n",
       "      <td>3.39</td>\n",
       "      <td>1.00</td>\n",
       "      <td>6,776,933.35</td>\n",
       "      <td>12,546,193.96</td>\n",
       "    </tr>\n",
       "    <tr>\n",
       "      <th>10709</th>\n",
       "      <td>60379800331</td>\n",
       "      <td>caf4a94c957987</td>\n",
       "      <td>0.0014</td>\n",
       "      <td>0.53</td>\n",
       "      <td>0.0007</td>\n",
       "      <td>0.0101</td>\n",
       "      <td>-0.1169</td>\n",
       "      <td>0.24</td>\n",
       "      <td>14</td>\n",
       "      <td>14</td>\n",
       "      <td>3.39</td>\n",
       "      <td>3.39</td>\n",
       "      <td>1.00</td>\n",
       "      <td>6,615,818.84</td>\n",
       "      <td>12,546,193.96</td>\n",
       "    </tr>\n",
       "    <tr>\n",
       "      <th>10710</th>\n",
       "      <td>60379800331</td>\n",
       "      <td>f3188e83798361</td>\n",
       "      <td>0.0004</td>\n",
       "      <td>0.50</td>\n",
       "      <td>0.0002</td>\n",
       "      <td>0.0101</td>\n",
       "      <td>-0.1169</td>\n",
       "      <td>0.24</td>\n",
       "      <td>14</td>\n",
       "      <td>14</td>\n",
       "      <td>3.39</td>\n",
       "      <td>3.39</td>\n",
       "      <td>1.00</td>\n",
       "      <td>6,266,837.20</td>\n",
       "      <td>12,546,193.96</td>\n",
       "    </tr>\n",
       "    <tr>\n",
       "      <th>10711</th>\n",
       "      <td>60379800331</td>\n",
       "      <td>34208bde510417</td>\n",
       "      <td>0.0005</td>\n",
       "      <td>0.50</td>\n",
       "      <td>0.0002</td>\n",
       "      <td>0.0101</td>\n",
       "      <td>-0.1169</td>\n",
       "      <td>0.24</td>\n",
       "      <td>14</td>\n",
       "      <td>14</td>\n",
       "      <td>3.39</td>\n",
       "      <td>3.39</td>\n",
       "      <td>1.00</td>\n",
       "      <td>6,316,848.90</td>\n",
       "      <td>12,546,193.96</td>\n",
       "    </tr>\n",
       "  </tbody>\n",
       "</table>\n",
       "</div>"
      ],
      "text/plain": [
       "             bg_id        flare_id BCM_avg        buff_int_prop bcm_adj  \\\n",
       "10679  60379800111  857477a0194312  0.0004                 0.11  0.0000   \n",
       "10680  60379800111  b30e8627682313  0.0011                 0.11  0.0001   \n",
       "10681  60379800111  caf4a94c957987  0.0014                 0.11  0.0002   \n",
       "10682  60379800111  f3188e83798361  0.0004                 0.11  0.0000   \n",
       "10683  60379800111  34208bde510417  0.0005                 0.11  0.0001   \n",
       "10707  60379800331  857477a0194312  0.0004                 0.53  0.0002   \n",
       "10708  60379800331  b30e8627682313  0.0011                 0.54  0.0006   \n",
       "10709  60379800331  caf4a94c957987  0.0014                 0.53  0.0007   \n",
       "10710  60379800331  f3188e83798361  0.0004                 0.50  0.0002   \n",
       "10711  60379800331  34208bde510417  0.0005                 0.50  0.0002   \n",
       "\n",
       "      bcm_adj_tot bcm_adj_tot_n          bg_int_prop  ACSTOTPOP  MINORPOP  \\\n",
       "10679      0.0021       -0.2992                 1.00         75        64   \n",
       "10680      0.0021       -0.2992                 1.00         75        64   \n",
       "10681      0.0021       -0.2992                 1.00         75        64   \n",
       "10682      0.0021       -0.2992                 1.00         75        64   \n",
       "10683      0.0021       -0.2992                 1.00         75        64   \n",
       "10707      0.0101       -0.1169                 0.24         14        14   \n",
       "10708      0.0101       -0.1169                 0.24         14        14   \n",
       "10709      0.0101       -0.1169                 0.24         14        14   \n",
       "10710      0.0101       -0.1169                 0.24         14        14   \n",
       "10711      0.0101       -0.1169                 0.24         14        14   \n",
       "\n",
       "       ACSTOTPOP_bg_int_count  MINORPOP_bg_int_count      bg_int_mnr_prop  \\\n",
       "10679                   75.00                  64.00                 0.85   \n",
       "10680                   75.00                  64.00                 0.85   \n",
       "10681                   75.00                  64.00                 0.85   \n",
       "10682                   75.00                  64.00                 0.85   \n",
       "10683                   75.00                  64.00                 0.85   \n",
       "10707                    3.39                   3.39                 1.00   \n",
       "10708                    3.39                   3.39                 1.00   \n",
       "10709                    3.39                   3.39                 1.00   \n",
       "10710                    3.39                   3.39                 1.00   \n",
       "10711                    3.39                   3.39                 1.00   \n",
       "\n",
       "             buff_int_area            buff_area  \n",
       "10679         1,376,354.57        12,546,193.96  \n",
       "10680         1,360,236.13        12,546,193.96  \n",
       "10681         1,375,828.46        12,546,193.96  \n",
       "10682         1,376,685.28        12,546,193.96  \n",
       "10683         1,376,685.28        12,546,193.96  \n",
       "10707         6,627,666.43        12,546,193.96  \n",
       "10708         6,776,933.35        12,546,193.96  \n",
       "10709         6,615,818.84        12,546,193.96  \n",
       "10710         6,266,837.20        12,546,193.96  \n",
       "10711         6,316,848.90        12,546,193.96  "
      ]
     },
     "execution_count": 34,
     "metadata": {},
     "output_type": "execute_result"
    }
   ],
   "source": [
    "filtered_df"
   ]
  },
  {
   "cell_type": "code",
   "execution_count": 35,
   "id": "62bd8288",
   "metadata": {},
   "outputs": [
    {
     "data": {
      "text/html": [
       "<div>\n",
       "<style scoped>\n",
       "    .dataframe tbody tr th:only-of-type {\n",
       "        vertical-align: middle;\n",
       "    }\n",
       "\n",
       "    .dataframe tbody tr th {\n",
       "        vertical-align: top;\n",
       "    }\n",
       "\n",
       "    .dataframe thead th {\n",
       "        text-align: right;\n",
       "    }\n",
       "</style>\n",
       "<table border=\"1\" class=\"dataframe\">\n",
       "  <thead>\n",
       "    <tr style=\"text-align: right;\">\n",
       "      <th></th>\n",
       "      <th>bg_id</th>\n",
       "      <th>cnty_name</th>\n",
       "      <th>ACSTOTPOP</th>\n",
       "      <th>MINORPOP</th>\n",
       "      <th>D_PM25_2</th>\n",
       "      <th>shape_area_new</th>\n",
       "      <th>bg_geom</th>\n",
       "      <th>index_right</th>\n",
       "      <th>BCM_avg</th>\n",
       "      <th>flare_id</th>\n",
       "      <th>flare_cate</th>\n",
       "      <th>buff2000_geom</th>\n",
       "      <th>buff_int_prop</th>\n",
       "      <th>buff_int_area</th>\n",
       "      <th>buff_area</th>\n",
       "      <th>bg_int_prop</th>\n",
       "      <th>bg_int_geom</th>\n",
       "      <th>ACSTOTPOP_bg_int_count</th>\n",
       "      <th>MINORPOP_bg_int_count</th>\n",
       "      <th>MINORPOP_bg_totprop</th>\n",
       "      <th>bg_int_mnr_prop</th>\n",
       "      <th>bcm_adj</th>\n",
       "      <th>bcm_adj_tot</th>\n",
       "      <th>bcm_adj_tot_n</th>\n",
       "      <th>D_PM25_2_n</th>\n",
       "      <th>ACSTOTPOP_bg_int_count_n</th>\n",
       "    </tr>\n",
       "  </thead>\n",
       "  <tbody>\n",
       "    <tr>\n",
       "      <th>0</th>\n",
       "      <td>60014001001</td>\n",
       "      <td>Alameda County</td>\n",
       "      <td>1713</td>\n",
       "      <td>502</td>\n",
       "      <td>18.60</td>\n",
       "      <td>5,739,044.25</td>\n",
       "      <td>POLYGON ((-197333.073 -12225.563, -197310.342 ...</td>\n",
       "      <td>NaN</td>\n",
       "      <td>NaN</td>\n",
       "      <td>NaN</td>\n",
       "      <td>NaN</td>\n",
       "      <td>None</td>\n",
       "      <td>0.00</td>\n",
       "      <td>0.00</td>\n",
       "      <td>0.00</td>\n",
       "      <td>0.00</td>\n",
       "      <td>None</td>\n",
       "      <td>0.00</td>\n",
       "      <td>0.00</td>\n",
       "      <td>0.29</td>\n",
       "      <td>NaN</td>\n",
       "      <td>NaN</td>\n",
       "      <td>NaN</td>\n",
       "      <td>NaN</td>\n",
       "      <td>-0.96</td>\n",
       "      <td>-0.09</td>\n",
       "    </tr>\n",
       "    <tr>\n",
       "      <th>1</th>\n",
       "      <td>60014001002</td>\n",
       "      <td>Alameda County</td>\n",
       "      <td>1322</td>\n",
       "      <td>328</td>\n",
       "      <td>15.47</td>\n",
       "      <td>1,206,806.94</td>\n",
       "      <td>POLYGON ((-196307.087 -15778.016, -196290.558 ...</td>\n",
       "      <td>NaN</td>\n",
       "      <td>NaN</td>\n",
       "      <td>NaN</td>\n",
       "      <td>NaN</td>\n",
       "      <td>None</td>\n",
       "      <td>0.00</td>\n",
       "      <td>0.00</td>\n",
       "      <td>0.00</td>\n",
       "      <td>0.00</td>\n",
       "      <td>None</td>\n",
       "      <td>0.00</td>\n",
       "      <td>0.00</td>\n",
       "      <td>0.25</td>\n",
       "      <td>NaN</td>\n",
       "      <td>NaN</td>\n",
       "      <td>NaN</td>\n",
       "      <td>NaN</td>\n",
       "      <td>-1.11</td>\n",
       "      <td>-0.09</td>\n",
       "    </tr>\n",
       "    <tr>\n",
       "      <th>1547</th>\n",
       "      <td>60133132031</td>\n",
       "      <td>Contra Costa County</td>\n",
       "      <td>729</td>\n",
       "      <td>495</td>\n",
       "      <td>33.27</td>\n",
       "      <td>514,270.79</td>\n",
       "      <td>POLYGON ((-170251.976 1907.931, -170250.620 19...</td>\n",
       "      <td>89.00</td>\n",
       "      <td>0.01</td>\n",
       "      <td>342ab9d4310483</td>\n",
       "      <td>upstream</td>\n",
       "      <td>POLYGON ((-167588.809 339.717, -167598.440 143...</td>\n",
       "      <td>0.04</td>\n",
       "      <td>513,196.18</td>\n",
       "      <td>12,546,193.96</td>\n",
       "      <td>1.00</td>\n",
       "      <td>POLYGON ((-170251.976 1907.931, -170250.620 19...</td>\n",
       "      <td>727.48</td>\n",
       "      <td>493.97</td>\n",
       "      <td>0.68</td>\n",
       "      <td>0.68</td>\n",
       "      <td>0.00</td>\n",
       "      <td>0.00</td>\n",
       "      <td>-0.31</td>\n",
       "      <td>-0.27</td>\n",
       "      <td>5.57</td>\n",
       "    </tr>\n",
       "    <tr>\n",
       "      <th>1548</th>\n",
       "      <td>60133132031</td>\n",
       "      <td>Contra Costa County</td>\n",
       "      <td>729</td>\n",
       "      <td>495</td>\n",
       "      <td>33.27</td>\n",
       "      <td>514,270.79</td>\n",
       "      <td>POLYGON ((-170251.976 1907.931, -170250.620 19...</td>\n",
       "      <td>90.00</td>\n",
       "      <td>0.01</td>\n",
       "      <td>47291ae3406417</td>\n",
       "      <td>upstream</td>\n",
       "      <td>POLYGON ((-167598.970 344.705, -167608.600 148...</td>\n",
       "      <td>0.04</td>\n",
       "      <td>512,561.56</td>\n",
       "      <td>12,546,193.96</td>\n",
       "      <td>1.00</td>\n",
       "      <td>POLYGON ((-170251.976 1907.931, -170250.620 19...</td>\n",
       "      <td>727.48</td>\n",
       "      <td>493.97</td>\n",
       "      <td>0.68</td>\n",
       "      <td>0.68</td>\n",
       "      <td>0.00</td>\n",
       "      <td>0.00</td>\n",
       "      <td>-0.31</td>\n",
       "      <td>-0.27</td>\n",
       "      <td>5.57</td>\n",
       "    </tr>\n",
       "  </tbody>\n",
       "</table>\n",
       "</div>"
      ],
      "text/plain": [
       "            bg_id            cnty_name  ACSTOTPOP  MINORPOP  \\\n",
       "0     60014001001       Alameda County       1713       502   \n",
       "1     60014001002       Alameda County       1322       328   \n",
       "1547  60133132031  Contra Costa County        729       495   \n",
       "1548  60133132031  Contra Costa County        729       495   \n",
       "\n",
       "                 D_PM25_2       shape_area_new  \\\n",
       "0                   18.60         5,739,044.25   \n",
       "1                   15.47         1,206,806.94   \n",
       "1547                33.27           514,270.79   \n",
       "1548                33.27           514,270.79   \n",
       "\n",
       "                                                bg_geom          index_right  \\\n",
       "0     POLYGON ((-197333.073 -12225.563, -197310.342 ...                  NaN   \n",
       "1     POLYGON ((-196307.087 -15778.016, -196290.558 ...                  NaN   \n",
       "1547  POLYGON ((-170251.976 1907.931, -170250.620 19...                89.00   \n",
       "1548  POLYGON ((-170251.976 1907.931, -170250.620 19...                90.00   \n",
       "\n",
       "                  BCM_avg        flare_id flare_cate  \\\n",
       "0                     NaN             NaN        NaN   \n",
       "1                     NaN             NaN        NaN   \n",
       "1547                 0.01  342ab9d4310483   upstream   \n",
       "1548                 0.01  47291ae3406417   upstream   \n",
       "\n",
       "                                          buff2000_geom        buff_int_prop  \\\n",
       "0                                                  None                 0.00   \n",
       "1                                                  None                 0.00   \n",
       "1547  POLYGON ((-167588.809 339.717, -167598.440 143...                 0.04   \n",
       "1548  POLYGON ((-167598.970 344.705, -167608.600 148...                 0.04   \n",
       "\n",
       "            buff_int_area            buff_area          bg_int_prop  \\\n",
       "0                    0.00                 0.00                 0.00   \n",
       "1                    0.00                 0.00                 0.00   \n",
       "1547           513,196.18        12,546,193.96                 1.00   \n",
       "1548           512,561.56        12,546,193.96                 1.00   \n",
       "\n",
       "                                            bg_int_geom  \\\n",
       "0                                                  None   \n",
       "1                                                  None   \n",
       "1547  POLYGON ((-170251.976 1907.931, -170250.620 19...   \n",
       "1548  POLYGON ((-170251.976 1907.931, -170250.620 19...   \n",
       "\n",
       "      ACSTOTPOP_bg_int_count  MINORPOP_bg_int_count  MINORPOP_bg_totprop  \\\n",
       "0                       0.00                   0.00                 0.29   \n",
       "1                       0.00                   0.00                 0.25   \n",
       "1547                  727.48                 493.97                 0.68   \n",
       "1548                  727.48                 493.97                 0.68   \n",
       "\n",
       "          bg_int_mnr_prop              bcm_adj          bcm_adj_tot  \\\n",
       "0                     NaN                  NaN                  NaN   \n",
       "1                     NaN                  NaN                  NaN   \n",
       "1547                 0.68                 0.00                 0.00   \n",
       "1548                 0.68                 0.00                 0.00   \n",
       "\n",
       "            bcm_adj_tot_n           D_PM25_2_n  ACSTOTPOP_bg_int_count_n  \n",
       "0                     NaN                -0.96                     -0.09  \n",
       "1                     NaN                -1.11                     -0.09  \n",
       "1547                -0.31                -0.27                      5.57  \n",
       "1548                -0.31                -0.27                      5.57  "
      ]
     },
     "execution_count": 35,
     "metadata": {},
     "output_type": "execute_result"
    }
   ],
   "source": [
    "bg_intersect[bg_intersect['flare_id'].isna()].head(2).append(bg_intersect[~bg_intersect['flare_id'].isna()].head(2))"
   ]
  },
  {
   "cell_type": "code",
   "execution_count": 36,
   "id": "2848584c",
   "metadata": {},
   "outputs": [],
   "source": [
    "# # save shapefile for visualization in Tableau\n",
    "\n",
    "# df_uniq.rename(columns={'shape_area_new':'shape_area'}, inplace=True)  # old:new.\n",
    "# df_uniq.rename(columns={'intersect_prop':'int_prop'}, inplace=True)  # old:new.\n",
    "# df_uniq.rename(columns={'ACSTOTPOP_int_cnt':'pop'}, inplace=True)  # old:new.\n",
    "# df_uniq.rename(columns={'ACSTOTPOP_int_cnt_norm':'pop_norm'}, inplace=True)  # old:new.\n",
    "# #df_uniq.rename(columns={'MINORPOP_int_cnt':'int_mnrpop'}, inplace=True)  # old:new.\n",
    "# df_uniq.rename(columns={'bcm_adj_tot_norm':'bcm_norm'}, inplace=True)  # old:new.\n",
    "# df_uniq.rename(columns={'D_PM25_2':'pm25'}, inplace=True)  # old:new.\n",
    "# df_uniq.rename(columns={'D_PM25_2_norm':'pm25_norm'}, inplace=True)  # old:new.\n",
    "# df_uniq.rename(columns={'bg_int_geom':'int_geom'}, inplace=True)  # old:new.\n",
    "\n",
    "\n"
   ]
  },
  {
   "cell_type": "code",
   "execution_count": 37,
   "id": "85f56e34",
   "metadata": {},
   "outputs": [
    {
     "data": {
      "text/plain": [
       "Index(['bg_id', 'cnty_name', 'ACSTOTPOP', 'MINORPOP', 'D_PM25_2',\n",
       "       'shape_area_new', 'bg_geom', 'index_right', 'BCM_avg', 'flare_id',\n",
       "       'flare_cate', 'buff2000_geom', 'buff_int_prop', 'buff_int_area',\n",
       "       'buff_area', 'bg_int_prop', 'bg_int_geom', 'ACSTOTPOP_bg_int_count',\n",
       "       'MINORPOP_bg_int_count', 'MINORPOP_bg_totprop', 'bg_int_mnr_prop',\n",
       "       'bcm_adj', 'bcm_adj_tot', 'bcm_adj_tot_n', 'D_PM25_2_n',\n",
       "       'ACSTOTPOP_bg_int_count_n'],\n",
       "      dtype='object')"
      ]
     },
     "execution_count": 37,
     "metadata": {},
     "output_type": "execute_result"
    }
   ],
   "source": [
    "bg_intersect.columns"
   ]
  },
  {
   "cell_type": "code",
   "execution_count": 38,
   "id": "318d2e58",
   "metadata": {},
   "outputs": [],
   "source": [
    "# Create a new geodataframe with just the id and geom columns\n",
    "bg_intersect_geo = gp.GeoDataFrame(bg_intersect[['bg_id', 'bg_int_geom']], geometry='bg_int_geom')\n",
    "\n",
    "# Subset the original dataframe and drop unnecessary columns\n",
    "bg_intersect = bg_intersect.drop(['bg_geom', 'buff2000_geom', 'bg_int_geom'], axis=1)"
   ]
  },
  {
   "cell_type": "code",
   "execution_count": 39,
   "id": "482a8316",
   "metadata": {},
   "outputs": [
    {
     "data": {
      "text/plain": [
       "Index(['bg_id', 'cnty_name', 'ACSTOTPOP', 'MINORPOP', 'D_PM25_2',\n",
       "       'shape_area_new', 'index_right', 'BCM_avg', 'flare_id', 'flare_cate',\n",
       "       'buff_int_prop', 'buff_int_area', 'buff_area', 'bg_int_prop',\n",
       "       'ACSTOTPOP_bg_int_count', 'MINORPOP_bg_int_count',\n",
       "       'MINORPOP_bg_totprop', 'bg_int_mnr_prop', 'bcm_adj', 'bcm_adj_tot',\n",
       "       'bcm_adj_tot_n', 'D_PM25_2_n', 'ACSTOTPOP_bg_int_count_n'],\n",
       "      dtype='object')"
      ]
     },
     "execution_count": 39,
     "metadata": {},
     "output_type": "execute_result"
    }
   ],
   "source": [
    "bg_intersect.columns"
   ]
  },
  {
   "cell_type": "code",
   "execution_count": 40,
   "id": "563896bc",
   "metadata": {},
   "outputs": [
    {
     "data": {
      "text/plain": [
       "Index(['bg_id', 'bg_int_geom'], dtype='object')"
      ]
     },
     "execution_count": 40,
     "metadata": {},
     "output_type": "execute_result"
    }
   ],
   "source": [
    "bg_intersect_geo.columns"
   ]
  },
  {
   "cell_type": "code",
   "execution_count": 41,
   "id": "ff31fc81",
   "metadata": {},
   "outputs": [
    {
     "data": {
      "text/plain": [
       "pandas.core.frame.DataFrame"
      ]
     },
     "execution_count": 41,
     "metadata": {},
     "output_type": "execute_result"
    }
   ],
   "source": [
    "type(bg_intersect)"
   ]
  },
  {
   "cell_type": "code",
   "execution_count": 42,
   "id": "ed50ef6e",
   "metadata": {},
   "outputs": [
    {
     "data": {
      "text/plain": [
       "geopandas.geodataframe.GeoDataFrame"
      ]
     },
     "execution_count": 42,
     "metadata": {},
     "output_type": "execute_result"
    }
   ],
   "source": [
    "type(bg_intersect_geo)"
   ]
  },
  {
   "cell_type": "code",
   "execution_count": 43,
   "id": "dbcc2921",
   "metadata": {},
   "outputs": [
    {
     "name": "stdout",
     "output_type": "stream",
     "text": [
      "BGs w/ intersections: 238\n",
      "Flares found: 117\n"
     ]
    }
   ],
   "source": [
    "# num BGs\n",
    "print(f\"BGs w/ intersections: {len(bg_intersect.loc[bg_intersect['flare_id'].notnull(), 'bg_id'].dropna().unique())}\")\n",
    "# num flares\n",
    "print(f\"Flares found: {len(bg_intersect['flare_id'].dropna().unique())}\")"
   ]
  },
  {
   "cell_type": "code",
   "execution_count": 44,
   "id": "8dd7bb6e",
   "metadata": {},
   "outputs": [
    {
     "data": {
      "text/plain": [
       "array([None, 'Polygon', 'MultiPolygon'], dtype=object)"
      ]
     },
     "execution_count": 44,
     "metadata": {},
     "output_type": "execute_result"
    }
   ],
   "source": [
    "bg_intersect_geo['bg_int_geom'].geom_type.unique()"
   ]
  },
  {
   "cell_type": "code",
   "execution_count": 85,
   "id": "16f7dd7c",
   "metadata": {},
   "outputs": [],
   "source": [
    "bg_intersect.to_csv('data/df_bg_impact_all.tsv', sep='\\t', index=False)"
   ]
  },
  {
   "cell_type": "code",
   "execution_count": 86,
   "id": "6b536000",
   "metadata": {
    "scrolled": true
   },
   "outputs": [
    {
     "name": "stderr",
     "output_type": "stream",
     "text": [
      "/Users/natebender/.local/lib/python3.7/site-packages/ipykernel_launcher.py:1: UserWarning: Column names longer than 10 characters will be truncated when saved to ESRI Shapefile.\n",
      "  \"\"\"Entry point for launching an IPython kernel.\n"
     ]
    }
   ],
   "source": [
    "bg_intersect_geo.to_file(\"data/df_bg_impact_geom.shp\", driver='ESRI Shapefile')"
   ]
  },
  {
   "cell_type": "markdown",
   "id": "03060b1a",
   "metadata": {},
   "source": [
    "# Aggregate by Flare ID and export files for Tableau"
   ]
  },
  {
   "cell_type": "markdown",
   "id": "23c73251",
   "metadata": {},
   "source": [
    "Take baseline dfs and create copies clearly defined for this flare buffer analysis, \n",
    "separate from the work that is needed for the BG buffer analysis above. \n",
    "Both analyses modify these same two dfs in different ways; need to ensure I keep the calculations separated.\n",
    "Plus, they'll go into Tableau as different dataframes anyway. "
   ]
  },
  {
   "cell_type": "code",
   "execution_count": 87,
   "id": "ceeb1c71",
   "metadata": {
    "scrolled": false
   },
   "outputs": [
    {
     "data": {
      "text/html": [
       "<div>\n",
       "<style scoped>\n",
       "    .dataframe tbody tr th:only-of-type {\n",
       "        vertical-align: middle;\n",
       "    }\n",
       "\n",
       "    .dataframe tbody tr th {\n",
       "        vertical-align: top;\n",
       "    }\n",
       "\n",
       "    .dataframe thead th {\n",
       "        text-align: right;\n",
       "    }\n",
       "</style>\n",
       "<table border=\"1\" class=\"dataframe\">\n",
       "  <thead>\n",
       "    <tr style=\"text-align: right;\">\n",
       "      <th></th>\n",
       "      <th>bg_id</th>\n",
       "      <th>cnty_name</th>\n",
       "      <th>ACSTOTPOP</th>\n",
       "      <th>MINORPOP</th>\n",
       "      <th>D_PM25_2</th>\n",
       "      <th>shape_area_new</th>\n",
       "      <th>bg_geom</th>\n",
       "      <th>index_right</th>\n",
       "      <th>BCM_avg</th>\n",
       "      <th>flare_id</th>\n",
       "      <th>flare_cate</th>\n",
       "      <th>buff2000_geom</th>\n",
       "      <th>buff_int_prop</th>\n",
       "      <th>buff_int_area</th>\n",
       "      <th>buff_area</th>\n",
       "      <th>bg_int_prop</th>\n",
       "      <th>bg_int_geom</th>\n",
       "      <th>ACSTOTPOP_bg_int_count</th>\n",
       "      <th>MINORPOP_bg_int_count</th>\n",
       "      <th>MINORPOP_bg_totprop</th>\n",
       "      <th>bg_int_mnr_prop</th>\n",
       "    </tr>\n",
       "  </thead>\n",
       "  <tbody>\n",
       "    <tr>\n",
       "      <th>19630</th>\n",
       "      <td>60374004032</td>\n",
       "      <td>Los Angeles County</td>\n",
       "      <td>1800</td>\n",
       "      <td>917</td>\n",
       "      <td>34.77</td>\n",
       "      <td>944,608.64</td>\n",
       "      <td>POLYGON ((202265.780 -430667.915, 202264.064 -...</td>\n",
       "      <td>NaN</td>\n",
       "      <td>NaN</td>\n",
       "      <td>NaN</td>\n",
       "      <td>NaN</td>\n",
       "      <td>None</td>\n",
       "      <td>0.00</td>\n",
       "      <td>0.00</td>\n",
       "      <td>0.00</td>\n",
       "      <td>0.00</td>\n",
       "      <td>None</td>\n",
       "      <td>0.00</td>\n",
       "      <td>0.00</td>\n",
       "      <td>0.51</td>\n",
       "      <td>NaN</td>\n",
       "    </tr>\n",
       "  </tbody>\n",
       "</table>\n",
       "</div>"
      ],
      "text/plain": [
       "             bg_id           cnty_name  ACSTOTPOP  MINORPOP  \\\n",
       "19630  60374004032  Los Angeles County       1800       917   \n",
       "\n",
       "                  D_PM25_2       shape_area_new  \\\n",
       "19630                34.77           944,608.64   \n",
       "\n",
       "                                                 bg_geom  index_right  \\\n",
       "19630  POLYGON ((202265.780 -430667.915, 202264.064 -...          NaN   \n",
       "\n",
       "       BCM_avg flare_id flare_cate buff2000_geom        buff_int_prop  \\\n",
       "19630      NaN      NaN        NaN          None                 0.00   \n",
       "\n",
       "             buff_int_area            buff_area          bg_int_prop  \\\n",
       "19630                 0.00                 0.00                 0.00   \n",
       "\n",
       "      bg_int_geom  ACSTOTPOP_bg_int_count  MINORPOP_bg_int_count  \\\n",
       "19630        None                    0.00                   0.00   \n",
       "\n",
       "       MINORPOP_bg_totprop  bg_int_mnr_prop  \n",
       "19630                 0.51              NaN  "
      ]
     },
     "execution_count": 87,
     "metadata": {},
     "output_type": "execute_result"
    }
   ],
   "source": [
    "# Use the baseline df as the starting point\n",
    "\n",
    "intersect_baseline.sample()"
   ]
  },
  {
   "cell_type": "code",
   "execution_count": 53,
   "id": "3c3a4398",
   "metadata": {},
   "outputs": [],
   "source": [
    "# Define the variables to aggregate\n",
    "\n",
    "# BCM_avg: No adjustments needed because bcm is already attached to the flare unit of analysis\n",
    "# D_PM25_D: Create new var of avg PM25 score for all BGs in each buffer \n",
    "# ACSTOTPOP_bg_int_count: Create new var of total population in all intersections in each buffer\n",
    "\n",
    "agg_dict = {'D_PM25_2': 'mean', 'ACSTOTPOP_bg_int_count': 'sum'}\n",
    "\n",
    "# set up df for flare-specific calcs\n",
    "flare_intersect = intersect_baseline.copy()\n",
    "\n",
    "# Group the block groups by flare ID and aggregrate the selected vars\n",
    "flare_agg = intersect_baseline.groupby('flare_id').agg(agg_dict)\n",
    "\n",
    "# Rename the output variables\n",
    "flare_agg = flare_agg.rename(columns={'D_PM25_2': 'int_pm25_avg', 'ACSTOTPOP_bg_int_count': 'int_pop_sum'})\n",
    "\n",
    "# Join the aggregated variables with the original columns\n",
    "flare_intersect = flare_intersect.merge(flare_agg, on='flare_id')\n"
   ]
  },
  {
   "cell_type": "code",
   "execution_count": 54,
   "id": "c9f5bbf9",
   "metadata": {},
   "outputs": [
    {
     "data": {
      "text/html": [
       "<div>\n",
       "<style scoped>\n",
       "    .dataframe tbody tr th:only-of-type {\n",
       "        vertical-align: middle;\n",
       "    }\n",
       "\n",
       "    .dataframe tbody tr th {\n",
       "        vertical-align: top;\n",
       "    }\n",
       "\n",
       "    .dataframe thead th {\n",
       "        text-align: right;\n",
       "    }\n",
       "</style>\n",
       "<table border=\"1\" class=\"dataframe\">\n",
       "  <thead>\n",
       "    <tr style=\"text-align: right;\">\n",
       "      <th></th>\n",
       "      <th>bg_id</th>\n",
       "      <th>cnty_name</th>\n",
       "      <th>ACSTOTPOP</th>\n",
       "      <th>MINORPOP</th>\n",
       "      <th>D_PM25_2</th>\n",
       "      <th>shape_area_new</th>\n",
       "      <th>bg_geom</th>\n",
       "      <th>index_right</th>\n",
       "      <th>BCM_avg</th>\n",
       "      <th>flare_id</th>\n",
       "      <th>flare_cate</th>\n",
       "      <th>buff2000_geom</th>\n",
       "      <th>buff_int_prop</th>\n",
       "      <th>buff_int_area</th>\n",
       "      <th>buff_area</th>\n",
       "      <th>bg_int_prop</th>\n",
       "      <th>bg_int_geom</th>\n",
       "      <th>ACSTOTPOP_bg_int_count</th>\n",
       "      <th>MINORPOP_bg_int_count</th>\n",
       "      <th>MINORPOP_bg_totprop</th>\n",
       "      <th>bg_int_mnr_prop</th>\n",
       "      <th>int_pm25_avg</th>\n",
       "      <th>int_pop_sum</th>\n",
       "    </tr>\n",
       "  </thead>\n",
       "  <tbody>\n",
       "    <tr>\n",
       "      <th>1418</th>\n",
       "      <td>60290066003</td>\n",
       "      <td>Kern County</td>\n",
       "      <td>2417</td>\n",
       "      <td>1821</td>\n",
       "      <td>66.08</td>\n",
       "      <td>627,977,081.53</td>\n",
       "      <td>POLYGON ((31989.477 -279682.100, 31999.174 -27...</td>\n",
       "      <td>65.00</td>\n",
       "      <td>0.00</td>\n",
       "      <td>979ede16194464</td>\n",
       "      <td>upstream</td>\n",
       "      <td>POLYGON ((34485.032 -285796.519, 34475.401 -28...</td>\n",
       "      <td>0.08</td>\n",
       "      <td>971,216.52</td>\n",
       "      <td>12,546,193.96</td>\n",
       "      <td>0.02</td>\n",
       "      <td>MULTIPOLYGON (((67010.372 -282467.119, 67010.2...</td>\n",
       "      <td>49.61</td>\n",
       "      <td>37.38</td>\n",
       "      <td>0.75</td>\n",
       "      <td>0.75</td>\n",
       "      <td>44.95</td>\n",
       "      <td>1,372.31</td>\n",
       "    </tr>\n",
       "  </tbody>\n",
       "</table>\n",
       "</div>"
      ],
      "text/plain": [
       "            bg_id    cnty_name  ACSTOTPOP  MINORPOP             D_PM25_2  \\\n",
       "1418  60290066003  Kern County       2417      1821                66.08   \n",
       "\n",
       "           shape_area_new                                            bg_geom  \\\n",
       "1418       627,977,081.53  POLYGON ((31989.477 -279682.100, 31999.174 -27...   \n",
       "\n",
       "              index_right              BCM_avg        flare_id flare_cate  \\\n",
       "1418                65.00                 0.00  979ede16194464   upstream   \n",
       "\n",
       "                                          buff2000_geom        buff_int_prop  \\\n",
       "1418  POLYGON ((34485.032 -285796.519, 34475.401 -28...                 0.08   \n",
       "\n",
       "            buff_int_area            buff_area          bg_int_prop  \\\n",
       "1418           971,216.52        12,546,193.96                 0.02   \n",
       "\n",
       "                                            bg_int_geom  \\\n",
       "1418  MULTIPOLYGON (((67010.372 -282467.119, 67010.2...   \n",
       "\n",
       "      ACSTOTPOP_bg_int_count  MINORPOP_bg_int_count  MINORPOP_bg_totprop  \\\n",
       "1418                   49.61                  37.38                 0.75   \n",
       "\n",
       "          bg_int_mnr_prop         int_pm25_avg          int_pop_sum  \n",
       "1418                 0.75                44.95             1,372.31  "
      ]
     },
     "execution_count": 54,
     "metadata": {},
     "output_type": "execute_result"
    }
   ],
   "source": [
    "flare_intersect.sample(1)"
   ]
  },
  {
   "cell_type": "code",
   "execution_count": 55,
   "id": "c046e405",
   "metadata": {},
   "outputs": [],
   "source": [
    "# Define the variables to standardize\n",
    "\n",
    "varlist = ['BCM_avg', 'int_pm25_avg', 'int_pop_sum']  \n",
    "\n",
    "# Create a StandardScaler object that will transform selected variables to have a mean of zero and \n",
    "# sd of 1.\n",
    "scaler = StandardScaler()\n",
    "\n",
    "# Fit and transform the selected variables\n",
    "intersect_norm = scaler.fit_transform(flare_intersect[varlist])\n",
    "\n",
    "# Create new variables with the standardized values\n",
    "intersect_norm = pd.DataFrame(intersect_norm, columns=[var + '_n' for var in varlist])\n",
    "\n",
    "# Concatenate the new variables with the original DataFrame\n",
    "flare_intersect = pd.concat([flare_intersect, intersect_norm], axis=1)"
   ]
  },
  {
   "cell_type": "code",
   "execution_count": 56,
   "id": "7e68712f",
   "metadata": {},
   "outputs": [
    {
     "data": {
      "text/plain": [
       "geopandas.geodataframe.GeoDataFrame"
      ]
     },
     "execution_count": 56,
     "metadata": {},
     "output_type": "execute_result"
    }
   ],
   "source": [
    "type(flare_intersect)"
   ]
  },
  {
   "cell_type": "code",
   "execution_count": 57,
   "id": "f0fb3f76",
   "metadata": {
    "scrolled": true
   },
   "outputs": [
    {
     "data": {
      "text/html": [
       "<div>\n",
       "<style scoped>\n",
       "    .dataframe tbody tr th:only-of-type {\n",
       "        vertical-align: middle;\n",
       "    }\n",
       "\n",
       "    .dataframe tbody tr th {\n",
       "        vertical-align: top;\n",
       "    }\n",
       "\n",
       "    .dataframe thead th {\n",
       "        text-align: right;\n",
       "    }\n",
       "</style>\n",
       "<table border=\"1\" class=\"dataframe\">\n",
       "  <thead>\n",
       "    <tr style=\"text-align: right;\">\n",
       "      <th></th>\n",
       "      <th>bg_id</th>\n",
       "      <th>cnty_name</th>\n",
       "      <th>ACSTOTPOP</th>\n",
       "      <th>MINORPOP</th>\n",
       "      <th>D_PM25_2</th>\n",
       "      <th>shape_area_new</th>\n",
       "      <th>bg_geom</th>\n",
       "      <th>index_right</th>\n",
       "      <th>BCM_avg</th>\n",
       "      <th>flare_id</th>\n",
       "      <th>flare_cate</th>\n",
       "      <th>buff2000_geom</th>\n",
       "      <th>buff_int_prop</th>\n",
       "      <th>buff_int_area</th>\n",
       "      <th>buff_area</th>\n",
       "      <th>bg_int_prop</th>\n",
       "      <th>bg_int_geom</th>\n",
       "      <th>ACSTOTPOP_bg_int_count</th>\n",
       "      <th>MINORPOP_bg_int_count</th>\n",
       "      <th>MINORPOP_bg_totprop</th>\n",
       "      <th>bg_int_mnr_prop</th>\n",
       "      <th>int_pm25_avg</th>\n",
       "      <th>int_pop_sum</th>\n",
       "      <th>BCM_avg_n</th>\n",
       "      <th>int_pm25_avg_n</th>\n",
       "      <th>int_pop_sum_n</th>\n",
       "    </tr>\n",
       "  </thead>\n",
       "  <tbody>\n",
       "    <tr>\n",
       "      <th>1107</th>\n",
       "      <td>60133150001</td>\n",
       "      <td>Contra Costa County</td>\n",
       "      <td>885</td>\n",
       "      <td>209</td>\n",
       "      <td>25.20</td>\n",
       "      <td>38,922,697.19</td>\n",
       "      <td>POLYGON ((-183616.073 5602.095, -183490.961 56...</td>\n",
       "      <td>95.00</td>\n",
       "      <td>0.00</td>\n",
       "      <td>662fb5e3427683</td>\n",
       "      <td>down_oil</td>\n",
       "      <td>POLYGON ((-182030.333 3537.499, -182039.963 33...</td>\n",
       "      <td>0.09</td>\n",
       "      <td>1,117,509.78</td>\n",
       "      <td>12,546,193.96</td>\n",
       "      <td>0.31</td>\n",
       "      <td>POLYGON ((-180977.785 980.721, -181043.417 108...</td>\n",
       "      <td>277.64</td>\n",
       "      <td>65.57</td>\n",
       "      <td>0.24</td>\n",
       "      <td>0.24</td>\n",
       "      <td>28.71</td>\n",
       "      <td>6,634.18</td>\n",
       "      <td>-0.29</td>\n",
       "      <td>-0.55</td>\n",
       "      <td>-0.57</td>\n",
       "    </tr>\n",
       "    <tr>\n",
       "      <th>1427</th>\n",
       "      <td>60290033042</td>\n",
       "      <td>Kern County</td>\n",
       "      <td>1040</td>\n",
       "      <td>279</td>\n",
       "      <td>31.94</td>\n",
       "      <td>1,051,991,808.27</td>\n",
       "      <td>POLYGON ((7651.644 -285527.714, 7653.631 -2855...</td>\n",
       "      <td>65.00</td>\n",
       "      <td>0.00</td>\n",
       "      <td>979ede16194464</td>\n",
       "      <td>upstream</td>\n",
       "      <td>POLYGON ((34485.032 -285796.519, 34475.401 -28...</td>\n",
       "      <td>0.92</td>\n",
       "      <td>11,574,977.44</td>\n",
       "      <td>12,546,193.96</td>\n",
       "      <td>0.07</td>\n",
       "      <td>MULTIPOLYGON (((48997.528 -304252.983, 48987.8...</td>\n",
       "      <td>75.03</td>\n",
       "      <td>20.13</td>\n",
       "      <td>0.27</td>\n",
       "      <td>0.27</td>\n",
       "      <td>44.95</td>\n",
       "      <td>1,372.31</td>\n",
       "      <td>-0.28</td>\n",
       "      <td>0.18</td>\n",
       "      <td>-0.71</td>\n",
       "    </tr>\n",
       "    <tr>\n",
       "      <th>1021</th>\n",
       "      <td>61110076141</td>\n",
       "      <td>Ventura County</td>\n",
       "      <td>1881</td>\n",
       "      <td>785</td>\n",
       "      <td>18.11</td>\n",
       "      <td>78,126,778.44</td>\n",
       "      <td>POLYGON ((99422.910 -408192.864, 99452.299 -40...</td>\n",
       "      <td>34.00</td>\n",
       "      <td>0.00</td>\n",
       "      <td>fb093c36111380</td>\n",
       "      <td>upstream</td>\n",
       "      <td>POLYGON ((113639.854 -403970.195, 113630.224 -...</td>\n",
       "      <td>0.24</td>\n",
       "      <td>3,018,993.81</td>\n",
       "      <td>12,546,193.96</td>\n",
       "      <td>0.06</td>\n",
       "      <td>MULTIPOLYGON (((109801.032 -404754.457, 109824...</td>\n",
       "      <td>106.32</td>\n",
       "      <td>44.37</td>\n",
       "      <td>0.42</td>\n",
       "      <td>0.42</td>\n",
       "      <td>16.62</td>\n",
       "      <td>1,388.89</td>\n",
       "      <td>-0.31</td>\n",
       "      <td>-1.09</td>\n",
       "      <td>-0.71</td>\n",
       "    </tr>\n",
       "  </tbody>\n",
       "</table>\n",
       "</div>"
      ],
      "text/plain": [
       "            bg_id            cnty_name  ACSTOTPOP  MINORPOP  \\\n",
       "1107  60133150001  Contra Costa County        885       209   \n",
       "1427  60290033042          Kern County       1040       279   \n",
       "1021  61110076141       Ventura County       1881       785   \n",
       "\n",
       "                 D_PM25_2       shape_area_new  \\\n",
       "1107                25.20        38,922,697.19   \n",
       "1427                31.94     1,051,991,808.27   \n",
       "1021                18.11        78,126,778.44   \n",
       "\n",
       "                                                bg_geom          index_right  \\\n",
       "1107  POLYGON ((-183616.073 5602.095, -183490.961 56...                95.00   \n",
       "1427  POLYGON ((7651.644 -285527.714, 7653.631 -2855...                65.00   \n",
       "1021  POLYGON ((99422.910 -408192.864, 99452.299 -40...                34.00   \n",
       "\n",
       "                  BCM_avg        flare_id flare_cate  \\\n",
       "1107                 0.00  662fb5e3427683   down_oil   \n",
       "1427                 0.00  979ede16194464   upstream   \n",
       "1021                 0.00  fb093c36111380   upstream   \n",
       "\n",
       "                                          buff2000_geom        buff_int_prop  \\\n",
       "1107  POLYGON ((-182030.333 3537.499, -182039.963 33...                 0.09   \n",
       "1427  POLYGON ((34485.032 -285796.519, 34475.401 -28...                 0.92   \n",
       "1021  POLYGON ((113639.854 -403970.195, 113630.224 -...                 0.24   \n",
       "\n",
       "            buff_int_area            buff_area          bg_int_prop  \\\n",
       "1107         1,117,509.78        12,546,193.96                 0.31   \n",
       "1427        11,574,977.44        12,546,193.96                 0.07   \n",
       "1021         3,018,993.81        12,546,193.96                 0.06   \n",
       "\n",
       "                                            bg_int_geom  \\\n",
       "1107  POLYGON ((-180977.785 980.721, -181043.417 108...   \n",
       "1427  MULTIPOLYGON (((48997.528 -304252.983, 48987.8...   \n",
       "1021  MULTIPOLYGON (((109801.032 -404754.457, 109824...   \n",
       "\n",
       "      ACSTOTPOP_bg_int_count  MINORPOP_bg_int_count  MINORPOP_bg_totprop  \\\n",
       "1107                  277.64                  65.57                 0.24   \n",
       "1427                   75.03                  20.13                 0.27   \n",
       "1021                  106.32                  44.37                 0.42   \n",
       "\n",
       "          bg_int_mnr_prop         int_pm25_avg          int_pop_sum  \\\n",
       "1107                 0.24                28.71             6,634.18   \n",
       "1427                 0.27                44.95             1,372.31   \n",
       "1021                 0.42                16.62             1,388.89   \n",
       "\n",
       "                BCM_avg_n       int_pm25_avg_n        int_pop_sum_n  \n",
       "1107                -0.29                -0.55                -0.57  \n",
       "1427                -0.28                 0.18                -0.71  \n",
       "1021                -0.31                -1.09                -0.71  "
      ]
     },
     "execution_count": 57,
     "metadata": {},
     "output_type": "execute_result"
    }
   ],
   "source": [
    "flare_intersect.sample(3)"
   ]
  },
  {
   "cell_type": "code",
   "execution_count": 58,
   "id": "5d1fc35b",
   "metadata": {},
   "outputs": [],
   "source": [
    "# Create a new geodataframe with just the id and geom columns\n",
    "# flare_intersect_geo = flare_intersect[['flare_id', 'buff2000_geom']].copy()\n",
    "flare_intersect_geo = gp.GeoDataFrame(flare_intersect[['bg_id', 'bg_int_geom']].copy(), \n",
    "                                      geometry='bg_int_geom', crs=meters_crs)\n",
    "\n",
    "\n",
    "# Subset the original dataframe and drop unnecessary columns\n",
    "flare_intersect = flare_intersect.drop(['bg_geom', 'bg_int_geom', 'buff2000_geom'], axis=1)"
   ]
  },
  {
   "cell_type": "code",
   "execution_count": 59,
   "id": "1234d96e",
   "metadata": {},
   "outputs": [
    {
     "data": {
      "text/plain": [
       "geopandas.geodataframe.GeoDataFrame"
      ]
     },
     "execution_count": 59,
     "metadata": {},
     "output_type": "execute_result"
    }
   ],
   "source": [
    "type(flare_intersect_geo)"
   ]
  },
  {
   "cell_type": "code",
   "execution_count": 60,
   "id": "6844918c",
   "metadata": {},
   "outputs": [
    {
     "data": {
      "text/html": [
       "<div>\n",
       "<style scoped>\n",
       "    .dataframe tbody tr th:only-of-type {\n",
       "        vertical-align: middle;\n",
       "    }\n",
       "\n",
       "    .dataframe tbody tr th {\n",
       "        vertical-align: top;\n",
       "    }\n",
       "\n",
       "    .dataframe thead th {\n",
       "        text-align: right;\n",
       "    }\n",
       "</style>\n",
       "<table border=\"1\" class=\"dataframe\">\n",
       "  <thead>\n",
       "    <tr style=\"text-align: right;\">\n",
       "      <th></th>\n",
       "      <th>bg_id</th>\n",
       "      <th>cnty_name</th>\n",
       "      <th>ACSTOTPOP</th>\n",
       "      <th>MINORPOP</th>\n",
       "      <th>D_PM25_2</th>\n",
       "      <th>shape_area_new</th>\n",
       "      <th>index_right</th>\n",
       "      <th>BCM_avg</th>\n",
       "      <th>flare_id</th>\n",
       "      <th>flare_cate</th>\n",
       "      <th>buff_int_prop</th>\n",
       "      <th>buff_int_area</th>\n",
       "      <th>buff_area</th>\n",
       "      <th>bg_int_prop</th>\n",
       "      <th>ACSTOTPOP_bg_int_count</th>\n",
       "      <th>MINORPOP_bg_int_count</th>\n",
       "      <th>MINORPOP_bg_totprop</th>\n",
       "      <th>bg_int_mnr_prop</th>\n",
       "      <th>int_pm25_avg</th>\n",
       "      <th>int_pop_sum</th>\n",
       "      <th>BCM_avg_n</th>\n",
       "      <th>int_pm25_avg_n</th>\n",
       "      <th>int_pop_sum_n</th>\n",
       "    </tr>\n",
       "  </thead>\n",
       "  <tbody>\n",
       "    <tr>\n",
       "      <th>66</th>\n",
       "      <td>60375754011</td>\n",
       "      <td>Los Angeles County</td>\n",
       "      <td>260</td>\n",
       "      <td>220</td>\n",
       "      <td>78.80</td>\n",
       "      <td>640,658.62</td>\n",
       "      <td>113.00</td>\n",
       "      <td>0.00</td>\n",
       "      <td>857477a0194312</td>\n",
       "      <td>down_oil</td>\n",
       "      <td>0.03</td>\n",
       "      <td>362,766.18</td>\n",
       "      <td>12,546,193.96</td>\n",
       "      <td>0.78</td>\n",
       "      <td>201.72</td>\n",
       "      <td>170.69</td>\n",
       "      <td>0.85</td>\n",
       "      <td>0.85</td>\n",
       "      <td>69.58</td>\n",
       "      <td>95,081.24</td>\n",
       "      <td>-0.46</td>\n",
       "      <td>1.27</td>\n",
       "      <td>1.81</td>\n",
       "    </tr>\n",
       "  </tbody>\n",
       "</table>\n",
       "</div>"
      ],
      "text/plain": [
       "          bg_id           cnty_name  ACSTOTPOP  MINORPOP             D_PM25_2  \\\n",
       "66  60375754011  Los Angeles County        260       220                78.80   \n",
       "\n",
       "         shape_area_new          index_right              BCM_avg  \\\n",
       "66           640,658.62               113.00                 0.00   \n",
       "\n",
       "          flare_id flare_cate        buff_int_prop        buff_int_area  \\\n",
       "66  857477a0194312   down_oil                 0.03           362,766.18   \n",
       "\n",
       "              buff_area          bg_int_prop  ACSTOTPOP_bg_int_count  \\\n",
       "66        12,546,193.96                 0.78                  201.72   \n",
       "\n",
       "    MINORPOP_bg_int_count  MINORPOP_bg_totprop      bg_int_mnr_prop  \\\n",
       "66                 170.69                 0.85                 0.85   \n",
       "\n",
       "           int_pm25_avg          int_pop_sum            BCM_avg_n  \\\n",
       "66                69.58            95,081.24                -0.46   \n",
       "\n",
       "         int_pm25_avg_n        int_pop_sum_n  \n",
       "66                 1.27                 1.81  "
      ]
     },
     "execution_count": 60,
     "metadata": {},
     "output_type": "execute_result"
    }
   ],
   "source": [
    "flare_intersect.sample(1)"
   ]
  },
  {
   "cell_type": "code",
   "execution_count": 61,
   "id": "2c607966",
   "metadata": {},
   "outputs": [
    {
     "data": {
      "text/html": [
       "<div>\n",
       "<style scoped>\n",
       "    .dataframe tbody tr th:only-of-type {\n",
       "        vertical-align: middle;\n",
       "    }\n",
       "\n",
       "    .dataframe tbody tr th {\n",
       "        vertical-align: top;\n",
       "    }\n",
       "\n",
       "    .dataframe thead th {\n",
       "        text-align: right;\n",
       "    }\n",
       "</style>\n",
       "<table border=\"1\" class=\"dataframe\">\n",
       "  <thead>\n",
       "    <tr style=\"text-align: right;\">\n",
       "      <th></th>\n",
       "      <th>bg_id</th>\n",
       "      <th>bg_int_geom</th>\n",
       "    </tr>\n",
       "  </thead>\n",
       "  <tbody>\n",
       "    <tr>\n",
       "      <th>1504</th>\n",
       "      <td>60310017031</td>\n",
       "      <td>POLYGON ((5370.228 -236744.886, 5351.582 -2367...</td>\n",
       "    </tr>\n",
       "  </tbody>\n",
       "</table>\n",
       "</div>"
      ],
      "text/plain": [
       "            bg_id                                        bg_int_geom\n",
       "1504  60310017031  POLYGON ((5370.228 -236744.886, 5351.582 -2367..."
      ]
     },
     "execution_count": 61,
     "metadata": {},
     "output_type": "execute_result"
    }
   ],
   "source": [
    "flare_intersect_geo.sample(1)"
   ]
  },
  {
   "cell_type": "code",
   "execution_count": 62,
   "id": "847ca689",
   "metadata": {},
   "outputs": [],
   "source": [
    "flare_intersect.to_csv('data/df_flareimp_all.tsv', sep='\\t', index=False)"
   ]
  },
  {
   "cell_type": "code",
   "execution_count": 63,
   "id": "7573bf02",
   "metadata": {},
   "outputs": [
    {
     "name": "stderr",
     "output_type": "stream",
     "text": [
      "/Users/natebender/.local/lib/python3.7/site-packages/ipykernel_launcher.py:1: UserWarning: Column names longer than 10 characters will be truncated when saved to ESRI Shapefile.\n",
      "  \"\"\"Entry point for launching an IPython kernel.\n"
     ]
    }
   ],
   "source": [
    "flare_intersect_geo.to_file(\"data/df_flareimp_geo.shp\", driver='ESRI Shapefile')"
   ]
  },
  {
   "cell_type": "markdown",
   "id": "1aaaafeb",
   "metadata": {},
   "source": [
    "## Calculating single instance of weights here in python"
   ]
  },
  {
   "cell_type": "code",
   "execution_count": 64,
   "id": "669a0dd4",
   "metadata": {},
   "outputs": [],
   "source": [
    "# # Define the weights for each variable\n",
    "# bcm_weight = 0\n",
    "# pm25_weight = 1\n",
    "# pop_weight = 0"
   ]
  },
  {
   "cell_type": "code",
   "execution_count": 65,
   "id": "eea12358",
   "metadata": {},
   "outputs": [],
   "source": [
    "# # Calculate the weighted variables\n",
    "# intersect['BCM_weighted'] = intersect['BCM_avg_norm'] * bcm_weight\n",
    "# intersect['D_PM25_2_weighted'] = intersect['D_PM25_2_norm'] * pm25_weight\n",
    "# intersect['ACSTOTPOP_weighted'] = intersect['ACSTOTPOP_intersect_count_norm'] * pop_weight\n",
    "\n",
    "# # Define the variables to sum\n",
    "# varlist_weighted = ['BCM_weighted', 'D_PM25_2_weighted', 'ACSTOTPOP_weighted']\n",
    "\n",
    "# # Group the block groups by flare ID and sum the weighted variables\n",
    "# ca_flares_merged = intersect.groupby('flare_id')[varlist_weighted].sum()\n",
    "\n",
    "# # Calculate the impact metric as the sum of the weighted variables\n",
    "# ca_flares_merged['impact_metric'] = ca_flares_merged[varlist_weighted].sum(axis=1)\n",
    "\n",
    "# # Sort the flares by impact metric in descending order\n",
    "# ca_flares_merged = ca_flares_merged.sort_values('impact_metric', ascending=False)"
   ]
  },
  {
   "cell_type": "code",
   "execution_count": 66,
   "id": "2fae4448",
   "metadata": {},
   "outputs": [],
   "source": [
    "# # Show the results\n",
    "# ca_flares_merged.head()"
   ]
  },
  {
   "cell_type": "code",
   "execution_count": 67,
   "id": "6df3757f",
   "metadata": {},
   "outputs": [],
   "source": [
    "# # Define the variables to sum\n",
    "# varlist_norm = ['BCM_avg_norm', 'D_PM25_2_norm', 'ACSTOTPOP_intersect_count_norm']\n",
    "\n",
    "# # Group the block groups by flare ID and sum the standardized variables\n",
    "# ca_flares_merged = intersect.groupby('flare_id')[varlist_norm].sum()\n",
    "\n",
    "# # Calculate the impact metric as the sum of the standardized variables\n",
    "# ca_flares_merged['impact_metric'] = ca_flares_merged[varlist_norm].sum(axis=1)\n",
    "\n",
    "# # Sort the flares by impact metric in descending order\n",
    "# ca_flares_merged = ca_flares_merged.sort_values('impact_metric', ascending=False)"
   ]
  },
  {
   "cell_type": "code",
   "execution_count": 68,
   "id": "44c3e22e",
   "metadata": {},
   "outputs": [],
   "source": [
    "# df_final = pd.merge(ca_flares_merged, intersect, on='flare_id')"
   ]
  },
  {
   "cell_type": "code",
   "execution_count": 69,
   "id": "429d0374",
   "metadata": {},
   "outputs": [],
   "source": [
    "# invalid_geoms = df_final[~df_final.is_valid]"
   ]
  },
  {
   "cell_type": "code",
   "execution_count": 70,
   "id": "54ee914f",
   "metadata": {},
   "outputs": [],
   "source": [
    "# invalid_geoms"
   ]
  },
  {
   "cell_type": "code",
   "execution_count": 71,
   "id": "d85daf53",
   "metadata": {},
   "outputs": [],
   "source": [
    "# # save for use in tableau\n",
    "# df_final.to_csv(F\"data/df_impactmetric_csv.csv\", index=False)"
   ]
  },
  {
   "cell_type": "code",
   "execution_count": 72,
   "id": "31e18752",
   "metadata": {},
   "outputs": [],
   "source": [
    "# # check for missing values\n",
    "# missing_values = df_final.isnull().sum()\n",
    "\n",
    "# # filter columns with missing values\n",
    "# missing_cols = missing_values[missing_values > 0]\n",
    "\n",
    "# # print column names and number of missing values\n",
    "# for col in missing_cols.index:\n",
    "#     print(f\"Column '{col}' has {missing_cols[col]} missing values\")"
   ]
  },
  {
   "cell_type": "code",
   "execution_count": 73,
   "id": "01adf23d",
   "metadata": {},
   "outputs": [],
   "source": [
    "# no_missing = missing_values[missing_values == 0]\n",
    "# # print column names and number of missing values\n",
    "# for col in no_missing.index:\n",
    "#     print(f\"Column '{col}' has {no_missing[col]} missing values\")"
   ]
  },
  {
   "cell_type": "code",
   "execution_count": 74,
   "id": "299ef0c2",
   "metadata": {
    "scrolled": true
   },
   "outputs": [],
   "source": [
    "# df_final.sample(2)"
   ]
  },
  {
   "cell_type": "markdown",
   "id": "0305ac9e",
   "metadata": {},
   "source": [
    "## Top ten"
   ]
  },
  {
   "cell_type": "code",
   "execution_count": 75,
   "id": "dcdc656f",
   "metadata": {},
   "outputs": [],
   "source": [
    "# # display the top ten flares by impact metric\n",
    "# top_ten = for_map.nlargest(10, 'impact_metric')\n",
    "# top_ten = top_ten.set_geometry('buffer_2000m')"
   ]
  },
  {
   "cell_type": "code",
   "execution_count": 76,
   "id": "e9a9b45c",
   "metadata": {},
   "outputs": [],
   "source": [
    "# # check for missing values\n",
    "# missing_values = for_map.isnull().sum()\n",
    "\n",
    "# # filter columns with missing values\n",
    "# missing_cols = missing_values[missing_values > 0]\n",
    "\n",
    "# # print column names and number of missing values\n",
    "# for col in missing_cols.index:\n",
    "#     print(f\"Column '{col}' has {missing_cols[col]} missing values\")"
   ]
  },
  {
   "cell_type": "code",
   "execution_count": 77,
   "id": "0a0547bf",
   "metadata": {},
   "outputs": [],
   "source": [
    "# no_missing = missing_values[missing_values == 0]\n",
    "# # print column names and number of missing values\n",
    "# for col in no_missing.index:\n",
    "#     print(f\"Column '{col}' has {no_missing[col]} missing values\")"
   ]
  },
  {
   "cell_type": "markdown",
   "id": "b1d7ac9a",
   "metadata": {},
   "source": [
    "## Folium Mapping"
   ]
  },
  {
   "cell_type": "code",
   "execution_count": 78,
   "id": "aaf814d5",
   "metadata": {},
   "outputs": [],
   "source": [
    "# for_map = df_final[['flare_id', 'BCM_avg', 'D_PM25_2', 'ACSTOTPOP_intersect_count', 'impact_metric', 'buffer_2000m']]\n",
    "# for_map = gp.GeoDataFrame(for_map, geometry='buffer_2000m', crs=meters_crs)\n",
    "\n",
    "# for_map.to_file(\"data/df_impactmetric_shp.shp\", driver='ESRI Shapefile')"
   ]
  },
  {
   "cell_type": "code",
   "execution_count": 79,
   "id": "f681f5b1",
   "metadata": {},
   "outputs": [],
   "source": [
    "\n",
    "# # Define the color scale and number of bins\n",
    "# #color_scale = 'Reds'\n",
    "# #num_bins = 10\n",
    "\n",
    "# # Create a map centered on the first flare\n",
    "# # Create a folium map with a center location\n",
    "# m = folium.Map(location=[38.377158,-121.645792], zoom_start=6, tiles=None,overlay=False)  #start w lat/long roughly in center of CA\n",
    "# base_map = folium.FeatureGroup(name='Base map', overlay=True, control=False)\n",
    "# folium.TileLayer(tiles='OpenStreetMap').add_to(base_map)\n",
    "# base_map.add_to(m)\n",
    "\n",
    "\n"
   ]
  },
  {
   "cell_type": "code",
   "execution_count": 80,
   "id": "8bfef821",
   "metadata": {},
   "outputs": [],
   "source": [
    "# # Feature Group: Buffers\n",
    "\n",
    "# def style_function3(feature):\n",
    "#     return {\n",
    "#         'fillColor': 'red',\n",
    "#         'color': 'red',\n",
    "#         'fillOpacity': 0.05\n",
    "#     }\n",
    "\n",
    "# inter_all_bg = folium.FeatureGroup(name='Intersect BG', overlay=True)\n",
    "# folium.GeoJson(\n",
    "#     data=test[\"buffer_2000m\"],\n",
    "#     style_function=style_function3\n",
    "# ).add_to(inter_all_bg)\n",
    "# inter_all_bg.add_to(m)"
   ]
  },
  {
   "cell_type": "code",
   "execution_count": 81,
   "id": "8e1124ed",
   "metadata": {},
   "outputs": [],
   "source": [
    "# # Feature Group: block group\n",
    "\n",
    "# def style_function2(feature):\n",
    "#     return {\n",
    "#         'fillColor': 'blue',\n",
    "#         'color': 'blue',\n",
    "#         'fillOpacity': 0.05\n",
    "#     }\n",
    "\n",
    "# bg_bound = folium.FeatureGroup(name='Intersect BG', overlay=True)\n",
    "# folium.GeoJson(\n",
    "#     data=test[\"bg_geom\"],\n",
    "#     style_function=style_function2\n",
    "# ).add_to(bg_bound)\n",
    "# bg_bound.add_to(m)"
   ]
  },
  {
   "cell_type": "code",
   "execution_count": 82,
   "id": "8d791795",
   "metadata": {},
   "outputs": [],
   "source": [
    "# style_function = lambda x: {'fillColor': '#ffffff', \n",
    "#                             'color':'#000000', \n",
    "#                             'fillOpacity': 0.1, \n",
    "#                             'weight': 0.1}\n",
    "# highlight_function = lambda x: {'fillColor': '#999999', \n",
    "#                                 'color':'#999999', \n",
    "#                                 'fillOpacity': 0.50, \n",
    "#                                 'weight': 0.1}\n",
    "# NIL = folium.features.GeoJson(\n",
    "#     data = for_map,\n",
    "#     style_function=style_function, \n",
    "#     control=False,\n",
    "#     highlight_function=highlight_function, \n",
    "#     tooltip=folium.features.GeoJsonTooltip(\n",
    "#         fields=['flare_id', 'BCM_avg_norm', 'D_PM25_2_norm', \n",
    "#              'ACSTOTPOP_intersect_count_norm', 'impact_metric'],# 'D_PM25_2', 'ACSTOTPOP', 'MINORPOP','shape_area_new', 'intersect_prop', 'intersect_area', 'MINORPOP_bg_totprop'],\n",
    "#         style=(\"background-color: white; color: #333333; font-family: arial; font-size: 12px; padding: 10px;\") \n",
    "#     )\n",
    "# )"
   ]
  },
  {
   "cell_type": "code",
   "execution_count": 83,
   "id": "e00e7675",
   "metadata": {},
   "outputs": [],
   "source": [
    "# # add hover functionality as child to map, add layering, display map\n",
    "# m.add_child(NIL)\n",
    "# m.keep_in_front(NIL)\n",
    "# folium.LayerControl().add_to(m)"
   ]
  },
  {
   "cell_type": "code",
   "execution_count": 84,
   "id": "889a785c",
   "metadata": {},
   "outputs": [],
   "source": [
    "# # Display the map\n",
    "# m"
   ]
  },
  {
   "cell_type": "code",
   "execution_count": null,
   "id": "d5f7d802",
   "metadata": {},
   "outputs": [],
   "source": []
  }
 ],
 "metadata": {
  "kernelspec": {
   "display_name": "capstonermi37",
   "language": "python",
   "name": "capstonermi37"
  },
  "language_info": {
   "codemirror_mode": {
    "name": "ipython",
    "version": 3
   },
   "file_extension": ".py",
   "mimetype": "text/x-python",
   "name": "python",
   "nbconvert_exporter": "python",
   "pygments_lexer": "ipython3",
   "version": "3.7.13"
  }
 },
 "nbformat": 4,
 "nbformat_minor": 5
}
