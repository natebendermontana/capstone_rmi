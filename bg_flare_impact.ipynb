{
 "cells": [
  {
   "cell_type": "code",
   "execution_count": 1,
   "id": "7a3e8b0b",
   "metadata": {},
   "outputs": [],
   "source": [
    "import geopandas as gp\n",
    "from shapely import wkt\n",
    "from shapely.geometry import Point, Polygon\n",
    "from shapely.ops import unary_union\n",
    "import pandas as pd\n",
    "import numpy as np\n",
    "from pprint import pprint\n",
    "import os\n",
    "import glob\n",
    "import openpyxl\n",
    "import matplotlib.pyplot as plt\n",
    "import matplotlib.ticker as mtick\n",
    "import plotly.express as px #if using plotly\n",
    "import folium\n",
    "import warnings\n",
    "import uuid\n",
    "from sklearn.preprocessing import StandardScaler"
   ]
  },
  {
   "cell_type": "code",
   "execution_count": 2,
   "id": "d6cf7fab",
   "metadata": {},
   "outputs": [],
   "source": [
    "ca_state = gp.read_file(\"data/CA_State_TIGER2016.shp\")  # CA state\n",
    "ca_counties = gp.read_file(\"data/CA_Counties_TIGER2016.shp\")  # CA counties\n",
    "ca_bg = gp.read_file(\"data/ca_bg_clean.shp\")  # CA block groups, cleaned"
   ]
  },
  {
   "cell_type": "code",
   "execution_count": 3,
   "id": "f408339a",
   "metadata": {},
   "outputs": [
    {
     "name": "stdout",
     "output_type": "stream",
     "text": [
      "Flares found: 117\n",
      "BGs found: 25607\n"
     ]
    }
   ],
   "source": [
    "# just CA flares\n",
    "ca_flares = gp.read_file(\"data/ca_flares_clean.shp\")\n",
    "print(f'Flares found: {len(ca_flares)}')\n",
    "\n",
    "# CA block groups merged with EJscreen data\n",
    "ca_bg_joined = gp.read_file(\"data/ca_bg_joined_clean.shp\")\n",
    "\n",
    "# update col name for correct area b/c it gets saved as a truncated version when saved as a shapefile out of the \n",
    "# main data cleaning notebook\n",
    "ca_bg_joined.rename(columns={'shape_ar_1':'shape_area_new'}, inplace=True)  # old:new.\n",
    "print(f'BGs found: {len(ca_bg_joined)}')"
   ]
  },
  {
   "cell_type": "code",
   "execution_count": 4,
   "id": "2f14dea3",
   "metadata": {},
   "outputs": [],
   "source": [
    "# not all flares have a unique identifier — both CatalogID and ID columns have missing values\n",
    "# so I create a new col \"flare_id\" of IDs\n",
    "\n",
    "# generate random integer IDs\n",
    "ids = np.random.randint(100000, 999999, size=len(ca_flares))\n",
    "\n",
    "# convert integer IDs to unique string identifiers\n",
    "id_str = [str(uuid.uuid4())[:8] + str(i) for i in ids]\n",
    "\n",
    "# add the new column to the DataFrame\n",
    "ca_flares['flare_id'] = id_str"
   ]
  },
  {
   "cell_type": "code",
   "execution_count": 7,
   "id": "dd604fa2",
   "metadata": {},
   "outputs": [],
   "source": [
    "# There are three BGs that seem to just be aquatic buffers around the actual county land.\n",
    "# Dropping them for now \n",
    "# IDs: 60839900000, 61119901000, 60379902000\n",
    "# Explore if needed: ca_bg_joined.explore()\n",
    "\n",
    "ids_to_drop = [60839900000, 61119901000, 60379902000, 60379903000, 60599901000]\n",
    "\n",
    "# Drop the rows with those IDs\n",
    "ca_bg_joined = ca_bg_joined[~ca_bg_joined['bg_id'].isin(ids_to_drop)]"
   ]
  },
  {
   "cell_type": "code",
   "execution_count": 8,
   "id": "8980e4e0",
   "metadata": {},
   "outputs": [],
   "source": [
    "# set common crs for project\n",
    "# epsg3310: https://epsg.io/3310-1739\n",
    "# units: meters\n",
    "meters_crs = 3310  # Projected crs. this should be good for this overlay() calculation and all of project. \n",
    "\n",
    "ca_state = ca_state.to_crs(meters_crs)\n",
    "ca_counties = ca_counties.to_crs(meters_crs)\n",
    "ca_bg = ca_bg.to_crs(meters_crs)"
   ]
  },
  {
   "cell_type": "markdown",
   "id": "98e98b64",
   "metadata": {},
   "source": [
    "### 1) Which specific flares are the most impactful? \n",
    "\n",
    "Exploratory question; no hypothesis testing\n",
    "\n",
    "EJ index = (The Environmental Indicator Percentile for Block Group) x (Demographic Index for Block Group)\n",
    "  \n",
    "a) Determine flaring impact metric. \n",
    "\n",
    "Something like: buffer_population x EJ Index x flare volume  \n",
    "\n",
    "How best to normalize these different units? Use percentiles compared to rest of CA? \n",
    "\n",
    "b) Calculate impact per flare  \n",
    "\n",
    "c) Visualize top_x flares by impact  \n"
   ]
  },
  {
   "cell_type": "code",
   "execution_count": 9,
   "id": "3bb7569e",
   "metadata": {},
   "outputs": [],
   "source": [
    "# set col list for BCM_avg calculation\n",
    "col_list = ['BCM_2012','BCM_2013','BCM_2014','BCM_2015','BCM_2016','BCM_2017',\n",
    "            'BCM_2018','BCM_2019','BCM_2020','BCM_2021']\n",
    "\n",
    "# add new column for average BCM across all years\n",
    "ca_flares['BCM_avg'] = ca_flares[col_list].mean(axis=1) "
   ]
  },
  {
   "cell_type": "code",
   "execution_count": null,
   "id": "d821699a",
   "metadata": {},
   "outputs": [],
   "source": [
    "buffer_size = 2000\n",
    "\n",
    "ca_bg_joined = ca_bg_joined[['bg_id', 'CNTY_NAME', 'Shape_Area', 'ACSTOTPOP', 'MINORPOP', 'D_PM25_2', 'shape_area_new', 'geometry']]\n",
    "\n",
    "#flares_df = set_geometry_buffer(flares_df, buffer_size)\n",
    "buffer_col = f\"buffer_{buffer_size}m\"\n",
    "ca_flares[buffer_col] = ca_flares['geometry'].buffer(distance=buffer_size)\n",
    "\n",
    "ca_flares = ca_flares.set_geometry(buffer_col)\n",
    "\n",
    "temp = ca_flares.unary_union\n",
    "all_buffers = gp.GeoDataFrame({'geometry': [temp]}, crs=ca_flares.crs)  # convert back to geodf for processing\n",
    "\n",
    "intersect = gp.overlay(ca_flares, ca_bg_joined, how='intersection')  # could look at keep_geom=False"
   ]
  },
  {
   "cell_type": "code",
   "execution_count": null,
   "id": "62b057a0",
   "metadata": {},
   "outputs": [],
   "source": [
    "intersect = intersect[['flare_id', 'bg_id', 'CNTY_NAME','flare_cate', \n",
    "        'BCM_2012', 'BCM_2013', 'BCM_2014', 'BCM_2015', 'BCM_2016','BCM_2017',\n",
    "        'BCM_2018', 'BCM_2019','BCM_2020','BCM_2021','BCM_avg',\n",
    "        'ACSTOTPOP', 'MINORPOP', 'D_PM25_2', 'shape_area_new', 'geometry']]\n",
    "\n",
    "intersect.rename(columns={'geometry':'intersect_geom'}, inplace=True)  # old:new.\n",
    "intersect = intersect.set_geometry('intersect_geom')  # set to the buffers rather than the points"
   ]
  },
  {
   "cell_type": "code",
   "execution_count": null,
   "id": "61d20c78",
   "metadata": {},
   "outputs": [],
   "source": [
    "# Create new 'area' column for the areas of the intersections\n",
    "intersect['intersect_area'] = intersect.area\n",
    "\n",
    "# Calculate the proportion of each block group within the buffer zone\n",
    "intersect['intersect_prop'] = intersect['intersect_area'] / intersect['shape_area_new']"
   ]
  },
  {
   "cell_type": "code",
   "execution_count": null,
   "id": "bdb29143",
   "metadata": {},
   "outputs": [],
   "source": [
    "len(intersect)"
   ]
  },
  {
   "cell_type": "code",
   "execution_count": null,
   "id": "c88c1d8b",
   "metadata": {},
   "outputs": [],
   "source": [
    "intersect['flare_id'].nunique()"
   ]
  },
  {
   "cell_type": "code",
   "execution_count": null,
   "id": "302f4cac",
   "metadata": {},
   "outputs": [],
   "source": [
    "# Apply the proportion to each demographic variable to find counts by variable\n",
    "demo_vars = ['ACSTOTPOP', 'MINORPOP']\n",
    "for var in demo_vars:\n",
    "    intersect[var + '_intersect_count'] = intersect[var] * intersect['intersect_prop']\n",
    "\n",
    "# find overall proportions for each demo var by dividing var count by respective total population    \n",
    "for var in demo_vars:\n",
    "    intersect[var + '_bg_totprop'] = intersect[var] / intersect['ACSTOTPOP']"
   ]
  },
  {
   "cell_type": "code",
   "execution_count": null,
   "id": "a0809aa2",
   "metadata": {},
   "outputs": [],
   "source": [
    "intersect.sample(1)"
   ]
  },
  {
   "cell_type": "code",
   "execution_count": null,
   "id": "e899d8e0",
   "metadata": {},
   "outputs": [],
   "source": [
    "# Define the variables to standardize\n",
    "varlist = ['BCM_avg', 'D_PM25_2', 'ACSTOTPOP_intersect_count']\n",
    "\n",
    "# Create a StandardScaler object\n",
    "scaler = StandardScaler()\n",
    "\n",
    "# Fit and transform the selected variables\n",
    "intersect_norm = scaler.fit_transform(intersect[varlist])\n",
    "\n",
    "# Create new variables with the standardized values\n",
    "intersect_norm = pd.DataFrame(intersect_norm, columns=[var + '_norm' for var in varlist])\n",
    "\n",
    "# Concatenate the new variables with the original DataFrame\n",
    "intersect = pd.concat([intersect, intersect_norm], axis=1)\n"
   ]
  },
  {
   "cell_type": "code",
   "execution_count": null,
   "id": "ccb6f13e",
   "metadata": {
    "scrolled": true
   },
   "outputs": [],
   "source": [
    "intersect.sample(1)"
   ]
  },
  {
   "cell_type": "code",
   "execution_count": null,
   "id": "669a0dd4",
   "metadata": {},
   "outputs": [],
   "source": [
    "# Define the weights for each variable\n",
    "bcm_weight = 0\n",
    "pm25_weight = 1\n",
    "pop_weight = 0"
   ]
  },
  {
   "cell_type": "code",
   "execution_count": null,
   "id": "eea12358",
   "metadata": {},
   "outputs": [],
   "source": [
    "# Calculate the weighted variables\n",
    "intersect['BCM_weighted'] = intersect['BCM_avg_norm'] * bcm_weight\n",
    "intersect['D_PM25_2_weighted'] = intersect['D_PM25_2_norm'] * pm25_weight\n",
    "intersect['ACSTOTPOP_weighted'] = intersect['ACSTOTPOP_intersect_count_norm'] * pop_weight\n",
    "\n",
    "# Define the variables to sum\n",
    "varlist_weighted = ['BCM_weighted', 'D_PM25_2_weighted', 'ACSTOTPOP_weighted']\n",
    "\n",
    "# Group the block groups by flare ID and sum the weighted variables\n",
    "ca_flares_merged = intersect.groupby('flare_id')[varlist_weighted].sum()\n",
    "\n",
    "# Calculate the impact metric as the sum of the weighted variables\n",
    "ca_flares_merged['impact_metric'] = ca_flares_merged[varlist_weighted].sum(axis=1)\n",
    "\n",
    "# Sort the flares by impact metric in descending order\n",
    "ca_flares_merged = ca_flares_merged.sort_values('impact_metric', ascending=False)"
   ]
  },
  {
   "cell_type": "code",
   "execution_count": null,
   "id": "2fae4448",
   "metadata": {},
   "outputs": [],
   "source": [
    "# Show the results\n",
    "ca_flares_merged.head()"
   ]
  },
  {
   "cell_type": "code",
   "execution_count": null,
   "id": "6df3757f",
   "metadata": {},
   "outputs": [],
   "source": [
    "# Define the variables to sum\n",
    "varlist_norm = ['BCM_avg_norm', 'D_PM25_2_norm', 'ACSTOTPOP_intersect_count_norm']\n",
    "\n",
    "# Group the block groups by flare ID and sum the standardized variables\n",
    "ca_flares_merged = intersect.groupby('flare_id')[varlist_norm].sum()\n",
    "\n",
    "# Calculate the impact metric as the sum of the standardized variables\n",
    "ca_flares_merged['impact_metric'] = ca_flares_merged[varlist_norm].sum(axis=1)\n",
    "\n",
    "# Sort the flares by impact metric in descending order\n",
    "ca_flares_merged = ca_flares_merged.sort_values('impact_metric', ascending=False)"
   ]
  },
  {
   "cell_type": "code",
   "execution_count": null,
   "id": "44c3e22e",
   "metadata": {},
   "outputs": [],
   "source": [
    "df_final = pd.merge(ca_flares_merged, intersect, on='flare_id')"
   ]
  },
  {
   "cell_type": "code",
   "execution_count": null,
   "id": "c78391a7",
   "metadata": {},
   "outputs": [],
   "source": [
    "df_final.sample(1)"
   ]
  },
  {
   "cell_type": "code",
   "execution_count": null,
   "id": "44bff56d",
   "metadata": {},
   "outputs": [],
   "source": [
    "df_final['geometry'].dtype"
   ]
  },
  {
   "cell_type": "code",
   "execution_count": null,
   "id": "429d0374",
   "metadata": {},
   "outputs": [],
   "source": [
    "invalid_geoms = df_final[~df_final.is_valid]"
   ]
  },
  {
   "cell_type": "code",
   "execution_count": null,
   "id": "54ee914f",
   "metadata": {},
   "outputs": [],
   "source": [
    "invalid_geoms"
   ]
  },
  {
   "cell_type": "code",
   "execution_count": null,
   "id": "d85daf53",
   "metadata": {},
   "outputs": [],
   "source": [
    "# save for use in tableau\n",
    "df_final.to_csv(F\"data/df_impactmetric_csv.csv\", index=False)"
   ]
  },
  {
   "cell_type": "code",
   "execution_count": null,
   "id": "31e18752",
   "metadata": {},
   "outputs": [],
   "source": [
    "# # check for missing values\n",
    "# missing_values = df_final.isnull().sum()\n",
    "\n",
    "# # filter columns with missing values\n",
    "# missing_cols = missing_values[missing_values > 0]\n",
    "\n",
    "# # print column names and number of missing values\n",
    "# for col in missing_cols.index:\n",
    "#     print(f\"Column '{col}' has {missing_cols[col]} missing values\")"
   ]
  },
  {
   "cell_type": "code",
   "execution_count": null,
   "id": "01adf23d",
   "metadata": {},
   "outputs": [],
   "source": [
    "# no_missing = missing_values[missing_values == 0]\n",
    "# # print column names and number of missing values\n",
    "# for col in no_missing.index:\n",
    "#     print(f\"Column '{col}' has {no_missing[col]} missing values\")"
   ]
  },
  {
   "cell_type": "code",
   "execution_count": null,
   "id": "299ef0c2",
   "metadata": {
    "scrolled": true
   },
   "outputs": [],
   "source": [
    "df_final.sample(2)"
   ]
  },
  {
   "cell_type": "code",
   "execution_count": null,
   "id": "aaf814d5",
   "metadata": {},
   "outputs": [],
   "source": [
    "for_map = df_final[['flare_id', 'BCM_avg', 'D_PM25_2', 'ACSTOTPOP_intersect_count', 'impact_metric', 'buffer_2000m']]\n",
    "for_map = gp.GeoDataFrame(for_map, geometry='buffer_2000m', crs=meters_crs)\n",
    "\n",
    "for_map.to_file(\"data/df_impactmetric_shp.shp\", driver='ESRI Shapefile')"
   ]
  },
  {
   "cell_type": "code",
   "execution_count": null,
   "id": "dcdc656f",
   "metadata": {},
   "outputs": [],
   "source": [
    "# # display the top ten flares by impact metric\n",
    "# top_ten = for_map.nlargest(10, 'impact_metric')\n",
    "# top_ten = top_ten.set_geometry('buffer_2000m')"
   ]
  },
  {
   "cell_type": "code",
   "execution_count": null,
   "id": "be01b84e",
   "metadata": {},
   "outputs": [],
   "source": [
    "#top_ten"
   ]
  },
  {
   "cell_type": "code",
   "execution_count": null,
   "id": "e9a9b45c",
   "metadata": {},
   "outputs": [],
   "source": [
    "# check for missing values\n",
    "missing_values = for_map.isnull().sum()\n",
    "\n",
    "# filter columns with missing values\n",
    "missing_cols = missing_values[missing_values > 0]\n",
    "\n",
    "# print column names and number of missing values\n",
    "for col in missing_cols.index:\n",
    "    print(f\"Column '{col}' has {missing_cols[col]} missing values\")"
   ]
  },
  {
   "cell_type": "code",
   "execution_count": null,
   "id": "0a0547bf",
   "metadata": {},
   "outputs": [],
   "source": [
    "no_missing = missing_values[missing_values == 0]\n",
    "# print column names and number of missing values\n",
    "for col in no_missing.index:\n",
    "    print(f\"Column '{col}' has {no_missing[col]} missing values\")"
   ]
  },
  {
   "cell_type": "markdown",
   "id": "b1d7ac9a",
   "metadata": {},
   "source": [
    "## Folium Mapping"
   ]
  },
  {
   "cell_type": "code",
   "execution_count": null,
   "id": "f681f5b1",
   "metadata": {},
   "outputs": [],
   "source": [
    "\n",
    "# Define the color scale and number of bins\n",
    "color_scale = 'Reds'\n",
    "num_bins = 10\n",
    "\n",
    "# Create a map centered on the first flare\n",
    "# Create a folium map with a center location\n",
    "m = folium.Map(location=[38.377158,-121.645792], zoom_start=6, tiles=None,overlay=False)  #start w lat/long roughly in center of CA\n",
    "base_map = folium.FeatureGroup(name='Base map', overlay=True, control=False)\n",
    "folium.TileLayer(tiles='OpenStreetMap').add_to(base_map)\n",
    "base_map.add_to(m)\n",
    "\n",
    "\n"
   ]
  },
  {
   "cell_type": "code",
   "execution_count": null,
   "id": "4768f878",
   "metadata": {},
   "outputs": [],
   "source": [
    "# Create a choropleth layer\n",
    "folium.Choropleth(\n",
    "    geo_data=for_map,\n",
    "    name='Impact Metric',\n",
    "    data=for_map,\n",
    "    columns=['flare_id', 'BCM_avg', 'D_PM25_2', \n",
    "             'ACSTOTPOP_intersect_count', 'impact_metric', 'buffer_2000m'],\n",
    "    key_on='feature.properties.flare_id',\n",
    "    fill_color=color_scale,\n",
    "    fill_opacity=0.7,\n",
    "    line_opacity=0.2,\n",
    "    bins=num_bins,\n",
    "    legend_name='Impact Metric'\n",
    ").add_to(m)"
   ]
  },
  {
   "cell_type": "code",
   "execution_count": null,
   "id": "8d791795",
   "metadata": {},
   "outputs": [],
   "source": [
    "style_function = lambda x: {'fillColor': '#ffffff', \n",
    "                            'color':'#000000', \n",
    "                            'fillOpacity': 0.1, \n",
    "                            'weight': 0.1}\n",
    "highlight_function = lambda x: {'fillColor': '#999999', \n",
    "                                'color':'#999999', \n",
    "                                'fillOpacity': 0.50, \n",
    "                                'weight': 0.1}\n",
    "NIL = folium.features.GeoJson(\n",
    "    data = for_map,\n",
    "    style_function=style_function, \n",
    "    control=False,\n",
    "    highlight_function=highlight_function, \n",
    "    tooltip=folium.features.GeoJsonTooltip(\n",
    "        fields=['flare_id', 'BCM_avg_norm', 'D_PM25_2_norm', \n",
    "             'ACSTOTPOP_intersect_count_norm', 'impact_metric'],# 'D_PM25_2', 'ACSTOTPOP', 'MINORPOP','shape_area_new', 'intersect_prop', 'intersect_area', 'MINORPOP_bg_totprop'],\n",
    "        style=(\"background-color: white; color: #333333; font-family: arial; font-size: 12px; padding: 10px;\") \n",
    "    )\n",
    ")"
   ]
  },
  {
   "cell_type": "code",
   "execution_count": null,
   "id": "e00e7675",
   "metadata": {},
   "outputs": [],
   "source": [
    "# add hover functionality as child to map, add layering, display map\n",
    "m.add_child(NIL)\n",
    "m.keep_in_front(NIL)\n",
    "folium.LayerControl().add_to(m)"
   ]
  },
  {
   "cell_type": "code",
   "execution_count": null,
   "id": "889a785c",
   "metadata": {},
   "outputs": [],
   "source": [
    "# Display the map\n",
    "m"
   ]
  },
  {
   "cell_type": "code",
   "execution_count": null,
   "id": "7d328391",
   "metadata": {},
   "outputs": [],
   "source": []
  }
 ],
 "metadata": {
  "kernelspec": {
   "display_name": "capstonermi37",
   "language": "python",
   "name": "capstonermi37"
  },
  "language_info": {
   "codemirror_mode": {
    "name": "ipython",
    "version": 3
   },
   "file_extension": ".py",
   "mimetype": "text/x-python",
   "name": "python",
   "nbconvert_exporter": "python",
   "pygments_lexer": "ipython3",
   "version": "3.7.13"
  }
 },
 "nbformat": 4,
 "nbformat_minor": 5
}
