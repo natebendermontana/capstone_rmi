{
 "cells": [
  {
   "cell_type": "code",
   "execution_count": null,
   "id": "7a3e8b0b",
   "metadata": {},
   "outputs": [],
   "source": [
    "import geopandas as gp\n",
    "from shapely import wkt\n",
    "from shapely.geometry import Point, Polygon\n",
    "from shapely.ops import unary_union\n",
    "import pandas as pd\n",
    "import numpy as np\n",
    "from pprint import pprint\n",
    "import os\n",
    "import glob\n",
    "import openpyxl\n",
    "import matplotlib.pyplot as plt\n",
    "import plotly.express as px #if using plotly\n",
    "import folium"
   ]
  },
  {
   "cell_type": "markdown",
   "id": "98e98b64",
   "metadata": {},
   "source": [
    "### 1) Which specific flares are the most impactful? \n",
    "\n",
    "Exploratory question; no hypothesis testing\n",
    "\n",
    "EJ index = (The Environmental Indicator Percentile for Block Group) x (Demographic Index for Block Group)\n",
    "  \n",
    "a) Determine flaring impact metric. \n",
    "\n",
    "Something like: buffer_population x EJ Index x flare volume  \n",
    "\n",
    "How best to normalize these different units? Use percentiles compared to rest of CA? \n",
    "\n",
    "b) Calculate impact per flare  \n",
    "\n",
    "c) Visualize top_x flares by impact  \n"
   ]
  },
  {
   "cell_type": "code",
   "execution_count": null,
   "id": "ccf72d2a",
   "metadata": {},
   "outputs": [],
   "source": []
  }
 ],
 "metadata": {
  "kernelspec": {
   "display_name": "capstonermi37",
   "language": "python",
   "name": "capstonermi37"
  },
  "language_info": {
   "codemirror_mode": {
    "name": "ipython",
    "version": 3
   },
   "file_extension": ".py",
   "mimetype": "text/x-python",
   "name": "python",
   "nbconvert_exporter": "python",
   "pygments_lexer": "ipython3",
   "version": "3.7.13"
  }
 },
 "nbformat": 4,
 "nbformat_minor": 5
}
