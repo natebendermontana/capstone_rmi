{
 "cells": [
  {
   "cell_type": "code",
   "execution_count": null,
   "id": "ceb9f253",
   "metadata": {},
   "outputs": [],
   "source": [
    "import geopandas as gp\n",
    "from shapely import wkt\n",
    "import pandas as pd\n",
    "import numpy as np\n",
    "import pprint\n",
    "import os\n",
    "import glob\n",
    "import openpyxl\n",
    "import matplotlib.pyplot as plt\n",
    "import plotly.express as px #if using plotly\n",
    "import folium\n",
    "import shapely.speedups\n",
    "shapely.speedups.enable()\n",
    "import contextily"
   ]
  },
  {
   "cell_type": "code",
   "execution_count": null,
   "id": "f31d4d0d",
   "metadata": {},
   "outputs": [],
   "source": [
    "pd.set_option('display.max_columns', None)  # display all columns\n",
    "pd.options.display.float_format = '{:20,.2f}'.format  # suppress scientific notation"
   ]
  },
  {
   "cell_type": "markdown",
   "id": "b145cade",
   "metadata": {},
   "source": [
    "## Read in files"
   ]
  },
  {
   "cell_type": "code",
   "execution_count": null,
   "id": "58e36111",
   "metadata": {},
   "outputs": [],
   "source": [
    "#worldmap = gp.read_file(gp.datasets.get_path(\"naturalearth_lowres\"))\n",
    "#usa = gp.read_file(\"data/cb_2018_us_nation_5m.shp\")\n",
    "us_states = gp.read_file(\"data/cb_2018_us_state_500k.shp\")\n",
    "ca_state = gp.read_file(\"data/CA_State_TIGER2016.shp\")\n",
    "ca_counties = gp.read_file(\"data/CA_Counties_TIGER2016.shp\")"
   ]
  },
  {
   "cell_type": "markdown",
   "id": "1408ec60",
   "metadata": {},
   "source": [
    "#### Dataset of social vulnerability measures from CalEnviroScreen, at the spatial level of census tracts"
   ]
  },
  {
   "cell_type": "code",
   "execution_count": null,
   "id": "03322021",
   "metadata": {},
   "outputs": [],
   "source": [
    "# CA EnviroScreen 4.0 social vulnerability data at level of census tract\n",
    "\n",
    "# source: https://oehha.ca.gov/calenviroscreen/report/calenviroscreen-40\n",
    "calenv4_df = gp.read_file(\"data/CES4 Final Shapefile.shp\")\n",
    "calenv4_df['Tract'] = calenv4_df['Tract'].astype(np.int64)  # change from float to int"
   ]
  },
  {
   "cell_type": "markdown",
   "id": "19c3d929",
   "metadata": {},
   "source": [
    "#### US O&G files"
   ]
  },
  {
   "cell_type": "code",
   "execution_count": null,
   "id": "a891f3e8",
   "metadata": {},
   "outputs": [],
   "source": [
    "og_fields = gp.read_file(\"data/United_States.shp\")"
   ]
  },
  {
   "cell_type": "markdown",
   "id": "2ea9df05",
   "metadata": {},
   "source": [
    "#### Refineries"
   ]
  },
  {
   "cell_type": "code",
   "execution_count": null,
   "id": "881f4587",
   "metadata": {},
   "outputs": [],
   "source": [
    "df = pd.read_csv(\"data/asset-climate-trace_oil-refining_091922.csv\")\n",
    "df['geometry'] = df['location'].apply(wkt.loads)\n",
    "refineries = gp.GeoDataFrame(df, crs='epsg:4326')"
   ]
  },
  {
   "cell_type": "markdown",
   "id": "43d414b4",
   "metadata": {},
   "source": [
    "#### Methane flaring data. Geometry-wise, these are recorded as points"
   ]
  },
  {
   "cell_type": "code",
   "execution_count": null,
   "id": "46db7988",
   "metadata": {},
   "outputs": [],
   "source": [
    "# read in cleaned and combined flares data\n",
    "all_flares = gp.read_file(\"data/all_flares.shp\")"
   ]
  },
  {
   "cell_type": "code",
   "execution_count": null,
   "id": "6021c44c",
   "metadata": {},
   "outputs": [],
   "source": [
    "# data pulled from Census api\n",
    "# ca_demos = pd.read_csv(\"data/ca_blocklevel_demographics.csv\")"
   ]
  },
  {
   "cell_type": "code",
   "execution_count": null,
   "id": "560be0f3",
   "metadata": {},
   "outputs": [],
   "source": [
    "# set common crs for project\n",
    "# EPSG:4326 - WGS 84, latitude/longitude coordinate system based on the Earth's center of mass, used by the Global Positioning System among others. \n",
    "projcrs = 4326\n",
    "us_states = us_states.to_crs(projcrs)  # match us_states common crs for project\n",
    "ca_state = ca_state.to_crs(projcrs)\n",
    "ca_counties = ca_counties.to_crs(projcrs)\n",
    "calenv4_df = calenv4_df.to_crs(projcrs)\n",
    "og_fields = og_fields.to_crs(projcrs)\n",
    "refineries = refineries.set_crs(projcrs)"
   ]
  },
  {
   "cell_type": "code",
   "execution_count": null,
   "id": "7ca36929",
   "metadata": {},
   "outputs": [],
   "source": [
    "#### Merging tract numbers coming from the US Census api (in the ca_demos df) are different from the numbers coming from the CalEnviroscreen (ca_socialdata df) data\n",
    "# the two datasets — which both come from the Census — are using different values for tract id. Baffling.\n",
    "# match last six digits of calenv4_df['Tract'] with full value of ca_demos[\"tract_id\"]\n",
    "# calenv4_df['tract_id'] = calenv4_df.apply(lambda row: str(row.Tract)[-6:], axis=1)\n",
    "# ca_demos['tract_id'] = ca_demos['tract_id'].astype(str)  # change from float to int for ease of merging\n",
    "# calenv4_df.loc[calenv4_df['County']=='Alameda']"
   ]
  },
  {
   "cell_type": "markdown",
   "id": "68314b65",
   "metadata": {},
   "source": [
    "#### Subset O&G fields and refineries to just CA"
   ]
  },
  {
   "cell_type": "code",
   "execution_count": null,
   "id": "5108e6cf",
   "metadata": {},
   "outputs": [],
   "source": [
    "og_fields = gp.sjoin(og_fields, ca_counties, how = \"inner\", predicate = 'within')\n",
    "print(f'Fields found in CA: {len(og_fields)}')\n",
    "og_fields.drop('index_right', axis=1, inplace=True)\n",
    "\n",
    "refineries = gp.sjoin(refineries, ca_counties, how = \"inner\", predicate = 'within')\n",
    "print(f'Refineries found in CA: {len(refineries)}')\n",
    "refineries.drop('index_right', axis=1, inplace=True)"
   ]
  },
  {
   "cell_type": "markdown",
   "id": "1e7e08f8",
   "metadata": {},
   "source": [
    "#### There are 103 tracts in California that do not have a CIscore due to a lack of demographic data. CIScore is the comprehensive social vulnerability score assigned at the census tract level. Removing these NAs for now. "
   ]
  },
  {
   "cell_type": "code",
   "execution_count": null,
   "id": "e55348ce",
   "metadata": {},
   "outputs": [],
   "source": [
    "print(len(calenv4_df))\n",
    "print(len(calenv4_df[calenv4_df['CIscore']==-999]))\n",
    "calenv4_df = calenv4_df[calenv4_df[\"CIscore\"]!=-999]\n",
    "print(len(calenv4_df))"
   ]
  },
  {
   "cell_type": "code",
   "execution_count": null,
   "id": "5d26cd20",
   "metadata": {},
   "outputs": [],
   "source": [
    "# subset US states list to just lower 48 plus AK\n",
    "# remove territories (PR, PW, VI, MH, GU) and AK, HI\n",
    "# stateslist = [\"AL\",\"AR\",\"AZ\",\"CA\",\"CO\",\"CT\",\"DC\",\"DE\",\"FL\",\"GA\",\"IA\",\"ID\", \n",
    "#\"IL\",\"IN\",\"KS\",\"KY\",\"LA\",\"MA\",\"MD\",\"ME\",\"MI\",\"MN\",\"MO\",\"MS\",\"MT\",\"NC\",\"ND\",\"NE\",\n",
    "#\"NH\",\"NJ\",\"NM\",\"NV\",\"NY\", \"OH\",\"OK\",\"OR\",\"PA\",\"RI\",\"SC\",\"SD\",\"TN\",\"TX\",\"UT\",\"VA\",\"VT\",\"WA\",\"WI\",\"WV\",\"WY\"]\n",
    "# us_states = us_states[us_states['STUSPS'].isin(stateslist)]"
   ]
  },
  {
   "cell_type": "markdown",
   "id": "ea1c2987",
   "metadata": {},
   "source": [
    "## Subset flares to just CA, combine recordings within Xkm into single points"
   ]
  },
  {
   "cell_type": "code",
   "execution_count": null,
   "id": "b5fe81f5",
   "metadata": {
    "scrolled": true
   },
   "outputs": [],
   "source": [
    "ca_flares = gp.sjoin(all_flares, ca_counties, how = \"inner\", predicate = 'within')\n",
    "print(f'Flares found in CA: {len(ca_flares)}')\n",
    "ca_flares.drop('index_right', axis=1, inplace=True)\n",
    "\n",
    "#ca_flares.reset_index(drop=True, inplace=True)  # reset index after subsetting\n",
    "\n",
    "col_list = ['BCM_2012','BCM_2013','BCM_2014','BCM_2015','BCM_2016','BCM_2017',\n",
    "            'BCM_2018','BCM_2019','BCM_2020','BCM_2021']\n",
    "\n",
    "# for curiousity: add new column for average BCM across all years\n",
    "ca_flares['BCM_avg'] = ca_flares[col_list].mean(axis=1)  "
   ]
  },
  {
   "cell_type": "markdown",
   "id": "d97bb604",
   "metadata": {},
   "source": [
    "## Create subset of tracts showing only those with flares present"
   ]
  },
  {
   "cell_type": "code",
   "execution_count": null,
   "id": "b92f492c",
   "metadata": {},
   "outputs": [],
   "source": [
    "# kern = calenv4_df[calenv4_df['County'] == 'Kern'].geometry.squeeze()\n",
    "# kern = kern.unary_union  # create single polygon of county"
   ]
  },
  {
   "cell_type": "code",
   "execution_count": null,
   "id": "5034143f",
   "metadata": {},
   "outputs": [],
   "source": [
    "\n",
    "# # create mask of T/F booleans for all the countries\n",
    "# mask = ca_flares.within(kern)\n",
    "\n",
    "# # filter countries by the mask so only the True values are selected\n",
    "# calenv4_df[mask]"
   ]
  },
  {
   "cell_type": "code",
   "execution_count": null,
   "id": "8d197630",
   "metadata": {},
   "outputs": [],
   "source": [
    "# ca_subset = gp.sjoin(calenv4_df, ca_flares, how='inner', predicate='contains')"
   ]
  },
  {
   "cell_type": "code",
   "execution_count": null,
   "id": "366d8c8e",
   "metadata": {},
   "outputs": [],
   "source": [
    "# fig, ax = plt.subplots(figsize = (8, 8))\n",
    "# calenv4_df.plot(ax=ax, color = 'darkgray', edgecolor=\"white\", linewidth=.5)\n",
    "# ca_subset.plot(ax=ax, color='gold')\n",
    "# ca_flares.plot(ax=ax, color='red', markersize=5)\n",
    "# plt.tight_layout()"
   ]
  },
  {
   "cell_type": "markdown",
   "id": "b5e5b32a",
   "metadata": {},
   "source": [
    "## Mapping with Folium"
   ]
  },
  {
   "cell_type": "markdown",
   "id": "2fac4cbe",
   "metadata": {},
   "source": [
    "### Choropleth + flare markers"
   ]
  },
  {
   "cell_type": "code",
   "execution_count": null,
   "id": "a6eefc81",
   "metadata": {},
   "outputs": [],
   "source": [
    "# Set base folium map\n",
    "m = folium.Map(location=[38.377158,-121.645792], zoom_start=6, tiles=None,overlay=False)  #start w lat/long roughly in center of CA\n",
    "base_map = folium.FeatureGroup(name='Base map', overlay=True, control=False)\n",
    "folium.TileLayer(tiles='OpenStreetMap').add_to(base_map)\n",
    "base_map.add_to(m)\n",
    "\n",
    "# Create choropleth\n",
    "folium.Choropleth(calenv4_df,\n",
    "                  data=calenv4_df,\n",
    "                  columns = ['Tract', 'CIscore'], \n",
    "                  key_on='feature.properties.Tract',\n",
    "                  fill_color=\"Reds\",\n",
    "                  fill_opacity=0.7,\n",
    "                  line_opacity=0.2,\n",
    "                  legend_name=\"CI Score\",\n",
    "                 name=\"Census tracts\").add_to(m)"
   ]
  },
  {
   "cell_type": "code",
   "execution_count": null,
   "id": "ea280af0",
   "metadata": {},
   "outputs": [],
   "source": [
    "# Set flares as a feature group\n",
    "fg_flares = folium.FeatureGroup(name='Methane flaring',overlay=True)\n",
    "\n",
    "# add markers to fg_flares corresponding to specific flares\n",
    "latitudes = list(ca_flares.Latitude)\n",
    "longitudes = list(ca_flares.Longitude)\n",
    "category = list(ca_flares.flare_cate)\n",
    "bcm_avg = list(ca_flares.BCM_avg)\n",
    "\n",
    "for lat, lng, label, bcm in zip(latitudes, longitudes, category, bcm_avg):\n",
    "    if label == 'flares_upstream':\n",
    "        fg_flares.add_child(folium.Marker(\n",
    "            location = [lat, lng],\n",
    "            popup = [label,bcm],\n",
    "            icon = folium.Icon(color='gray', icon='fire')))\n",
    "    else:\n",
    "        fg_flares.add_child(folium.Marker(\n",
    "            location = [lat, lng],\n",
    "            popup = [label,bcm],\n",
    "            icon = folium.Icon(color='lightgray', prefix='fa', icon='fire')))\n",
    "        \n",
    "fg_flares.add_to(m)"
   ]
  },
  {
   "cell_type": "code",
   "execution_count": null,
   "id": "2ecc0c20",
   "metadata": {},
   "outputs": [],
   "source": [
    "# add third layer: flaring by average volume\n",
    "fg_flares_vol = folium.FeatureGroup(name='Flaring by avg volume (BCM)',overlay=True)\n",
    "\n",
    "# add markers to fg_flares corresponding to specific flares\n",
    "latitudes = list(ca_flares.Latitude)\n",
    "longitudes = list(ca_flares.Longitude)\n",
    "category = list(ca_flares.flare_cate)\n",
    "bcm_avg = list(ca_flares.BCM_avg)\n",
    "\n",
    "for lat, lng, label, bcm in zip(latitudes, longitudes, category, bcm_avg):\n",
    "    if label == 'flares_upstream':\n",
    "        fg_flares_vol.add_child(folium.CircleMarker(\n",
    "            location = [lat, lng],\n",
    "            radius=bcm*5000,  # artificially increase size for ease of visual comparison\n",
    "            weight=1,\n",
    "            color='black',\n",
    "            popup = [label,bcm]))\n",
    "    else:\n",
    "        fg_flares_vol.add_child(folium.CircleMarker(\n",
    "            location = [lat, lng],\n",
    "            radius=bcm*5000,  # artificially increase size for ease of visual comparison\n",
    "            weight=1,\n",
    "            color='black',\n",
    "            popup = [label,bcm]))\n",
    "        \n",
    "fg_flares_vol.add_to(m)"
   ]
  },
  {
   "cell_type": "code",
   "execution_count": null,
   "id": "a16f9950",
   "metadata": {},
   "outputs": [],
   "source": [
    "# add fourth layer: O&G fields\n",
    "og_fields_ca = folium.FeatureGroup(name='O&G fields', overlay=True)\n",
    "folium.GeoJson(data=og_fields[\"geometry\"],\n",
    "              style_function=lambda x: {'fillColor': 'grey'}).add_to(og_fields_ca)\n",
    "og_fields_ca.add_to(m)"
   ]
  },
  {
   "cell_type": "code",
   "execution_count": null,
   "id": "8da3669f",
   "metadata": {},
   "outputs": [],
   "source": [
    "# add fifth layer: refineries\n",
    "refineries_ca = folium.FeatureGroup(name='Refineries', overlay=True)\n",
    "\n",
    "gjson = refineries.to_json()\n",
    "points = folium.features.GeoJson(gjson)\n",
    "\n",
    "refineries_ca.add_child(points)\n",
    "refineries_ca.add_to(m)"
   ]
  },
  {
   "cell_type": "code",
   "execution_count": null,
   "id": "495f813f",
   "metadata": {},
   "outputs": [],
   "source": [
    "# Add hover functionality\n",
    "style_function = lambda x: {'fillColor': '#ffffff', \n",
    "                            'color':'#000000', \n",
    "                            'fillOpacity': 0.1, \n",
    "                            'weight': 0.1}\n",
    "highlight_function = lambda x: {'fillColor': '#999999', \n",
    "                                'color':'#999999', \n",
    "                                'fillOpacity': 0.50, \n",
    "                                'weight': 0.1}\n",
    "NIL = folium.features.GeoJson(\n",
    "    data = calenv4_df,\n",
    "    style_function=style_function, \n",
    "    control=False,\n",
    "    highlight_function=highlight_function, \n",
    "    tooltip=folium.features.GeoJsonTooltip(\n",
    "        fields=['County','Tract', 'CIscore'],\n",
    "        style=(\"background-color: white; color: #333333; font-family: arial; font-size: 12px; padding: 10px;\") \n",
    "    )\n",
    ")"
   ]
  },
  {
   "cell_type": "code",
   "execution_count": null,
   "id": "ade9b23c",
   "metadata": {},
   "outputs": [],
   "source": [
    "# add hover functionality as child to map, add layering, display map\n",
    "m.add_child(NIL)\n",
    "m.keep_in_front(NIL)\n",
    "folium.LayerControl().add_to(m)\n",
    "m"
   ]
  },
  {
   "cell_type": "code",
   "execution_count": null,
   "id": "bb838b7a",
   "metadata": {},
   "outputs": [],
   "source": []
  }
 ],
 "metadata": {
  "kernelspec": {
   "display_name": "capstonermi37",
   "language": "python",
   "name": "capstonermi37"
  },
  "language_info": {
   "codemirror_mode": {
    "name": "ipython",
    "version": 3
   },
   "file_extension": ".py",
   "mimetype": "text/x-python",
   "name": "python",
   "nbconvert_exporter": "python",
   "pygments_lexer": "ipython3",
   "version": "3.7.13"
  }
 },
 "nbformat": 4,
 "nbformat_minor": 5
}
