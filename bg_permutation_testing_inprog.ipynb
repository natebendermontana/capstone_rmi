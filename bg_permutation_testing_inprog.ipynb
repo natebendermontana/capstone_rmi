{
 "cells": [
  {
   "cell_type": "markdown",
   "id": "e8efbde9",
   "metadata": {},
   "source": [
    "# Permutation testing\n",
    "Null: there is no relationship between location of flares and the CA minority population ('MINORPOP').\n",
    "Alt: there is a relationship between flare location and the CA minority population.\n",
    "\n",
    "Statistic: difference in proportion of MINORPOP within a 5km buffer of any flare versus the MINORPOP proportion outside the flares buffer.\n",
    "\n",
    "1) Calculate the actual test statistic  \n",
    "2) Randomize the flares location, restricted to only CA  \n",
    "3) Calculate buffer zones  \n",
    "4) Overlay the block groups with the new buffers  \n",
    "5) Calculate the statistics based on the new overlay  \n",
    "6) Put stats into a new df for storage\n",
    "7) visualize the stats with a density plot"
   ]
  },
  {
   "cell_type": "code",
   "execution_count": null,
   "id": "1fea24f5",
   "metadata": {},
   "outputs": [],
   "source": [
    "# randomizing the point geometries\n",
    "\n",
    "def randomize_flares(points_df, bg_df):\n",
    "    \n",
    "    # match crs\n",
    "    points_df = points_df.to_crs(meters_crs)\n",
    "    bg_df = bg_df.to_crs(meters_crs)\n",
    "    \n",
    "    points_df = points_df.set_geometry('geometry')  # set geometry to the points\n",
    "    \n",
    "    # convert geometries to numpy array\n",
    "    geom_array = np.array(points_df.geometry)\n",
    "\n",
    "    # shuffle the array, limiting the random points to the boundary of California\n",
    "    np.random.shuffle(geom_array)\n",
    "\n",
    "    # convert the array back to geometry objects\n",
    "    points_df.geometry = geom_array.tolist()\n",
    "    \n",
    "    # set 5km buffers around randomized points\n",
    "    points_df[\"buffer_5000m\"] = points_df['geometry'].buffer(distance = 5000)\n",
    "\n",
    "    bg_flares_sim = gp.overlay(points_df, bg_df, how='intersection')\n",
    "    \n",
    "    # Calculate the area of each block group within the buffer zone\n",
    "    for bg in bg_flares_sim['geometry']:\n",
    "        bg_flares_sim['intersection_area'] = bg_flares_sim.geometry.area\n",
    "    \n",
    "    # Calculate the proportion of each block group within the buffer zone\n",
    "    bg_flares_sim['bg_5kbuf_prop'] = bg_flares_sim['intersection_area'] / bg_df.geometry.area\n",
    "\n",
    "    # It's not calculating correctly when a block group is completely contained within a buffer.\n",
    "    # so set the ceiling of possible proportions to 1. Band-aid fix. \n",
    "    # Does this mean the area calculation is not right either?\n",
    "    bg_flares_sim['bg_5kbuf_prop'] = bg_flares_sim['bg_5kbuf_prop'].clip(0, 1)\n",
    "\n",
    "    # calculate the outside-buffer proportion\n",
    "    bg_flares_sim['bg_5kbuf_out_prop'] = 1 - bg_flares_sim['bg_5kbuf_prop']\n",
    "\n",
    "    # Apply the proportion to each demographic variable to find counts by variable\n",
    "    demo_vars = ['ACSTOTPOP','MINORPOP']\n",
    "\n",
    "    # find overall proportions for each demo var by dividing their count by their total population    \n",
    "    for var in demo_vars:\n",
    "        bg_flares_sim[var + '_bg_totprop'] = bg_flares_sim[var] / bg_flares_sim['ACSTOTPOP']\n",
    "    \n",
    "    return bg_flares_sim    "
   ]
  },
  {
   "cell_type": "code",
   "execution_count": null,
   "id": "4d782874",
   "metadata": {},
   "outputs": [],
   "source": [
    "def get_buffer_proportion(df):\n",
    "    in_buffer_prop = df['MINORPOP_bg_totprop'].mean()\n",
    "    out_buffer_prop = 1-in_buffer_prop\n",
    "    return in_buffer_prop - out_buffer_prop"
   ]
  },
  {
   "cell_type": "code",
   "execution_count": null,
   "id": "608314f5",
   "metadata": {},
   "outputs": [],
   "source": [
    "### Looks like the permutations are working, but the result is meaningless because I haven't restricted the random points to only CA yet.\n",
    "### Also need to make sure I'm understanding CRS systems and make sure I'm properly moving back and forth between geographic and projected CRSs during the project\n",
    "  \n",
    "### Also getting a \"MemoryError: Unable to allocate 3.64 PiB for an array with shape (512769447408461,) and data type float64\" error if I try to run more than 3 permutations. Look into adjusting code somehow so it's not so memory-intensive. \n"
   ]
  },
  {
   "cell_type": "code",
   "execution_count": null,
   "id": "c2a5262a",
   "metadata": {},
   "outputs": [],
   "source": [
    "actual_value = get_buffer_proportion(bg_flares)\n",
    "\n",
    "n_sim = 3\n",
    "\n",
    "results = pd.DataFrame({'statistic': np.concatenate(([actual_value], np.full(n_sim, np.nan)))})\n",
    "\n",
    "for i in range(1, n_sim+1):\n",
    "    bg_flares_sim = randomize_flares(ca_flares, bg_formodel)\n",
    "    results.loc[i, 'statistic'] = get_buffer_proportion(bg_flares_sim)\n",
    "\n",
    "pval = (np.abs(results['statistic'] >= actual_value)).mean()\n",
    "\n",
    "import matplotlib.pyplot as plt\n",
    "import seaborn as sns\n",
    "\n",
    "sns.histplot(results['statistic'], kde=True, color='blue')\n",
    "plt.axvline(x=actual_value, color='red')\n",
    "plt.show()\n",
    "print(f' P value is {pval}')\n",
    "print(f' Orig diff in proportions is {round(actual_value, 2)}')"
   ]
  }
 ],
 "metadata": {
  "kernelspec": {
   "display_name": "capstonermi37",
   "language": "python",
   "name": "capstonermi37"
  },
  "language_info": {
   "codemirror_mode": {
    "name": "ipython",
    "version": 3
   },
   "file_extension": ".py",
   "mimetype": "text/x-python",
   "name": "python",
   "nbconvert_exporter": "python",
   "pygments_lexer": "ipython3",
   "version": "3.7.13"
  }
 },
 "nbformat": 4,
 "nbformat_minor": 5
}
