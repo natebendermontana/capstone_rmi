{
 "cells": [
  {
   "cell_type": "markdown",
   "id": "e8efbde9",
   "metadata": {},
   "source": [
    "# Permutation testing\n",
    "Null: there is no relationship between location of flares and the CA minority population ('MINORPOP').\n",
    "Alt: there is a relationship between flare location and the CA minority population.\n",
    "\n",
    "Statistic: difference in proportion of MINORPOP within a 5km buffer of any flare versus the MINORPOP proportion outside the flares buffer.\n",
    "\n",
    "1) Calculate the actual test statistic  \n",
    "2) Randomize the buffer_present binary variable  \n",
    "3) Re-calculate proportion of each BG intersecting with a buffer  \n",
    "5) Calculate the statistics based on the new overlay  \n",
    "6) Put stats into a new df for storage  \n",
    "7) visualize the stats with a density plot"
   ]
  },
  {
   "cell_type": "code",
   "execution_count": 1,
   "id": "e41350fc",
   "metadata": {},
   "outputs": [],
   "source": [
    "import geopandas as gp\n",
    "from shapely import wkt\n",
    "from shapely.geometry import Point, Polygon\n",
    "from shapely.ops import unary_union\n",
    "import pandas as pd\n",
    "import numpy as np\n",
    "from pprint import pprint\n",
    "import os\n",
    "import glob\n",
    "import openpyxl\n",
    "import matplotlib.pyplot as plt\n",
    "import plotly.express as px #if using plotly\n",
    "import folium"
   ]
  },
  {
   "cell_type": "code",
   "execution_count": 2,
   "id": "9a3b5fd6",
   "metadata": {},
   "outputs": [],
   "source": [
    "pd.set_option('display.max_columns', None)  # display all columns\n",
    "pd.options.display.float_format = '{:20,.2f}'.format  # suppress scientific notation"
   ]
  },
  {
   "cell_type": "markdown",
   "id": "41d02899",
   "metadata": {},
   "source": [
    "### Read in file, setup"
   ]
  },
  {
   "cell_type": "code",
   "execution_count": 3,
   "id": "55afb139",
   "metadata": {},
   "outputs": [],
   "source": [
    "df = pd.read_csv(\"data/bgformodel_permutation.csv\")"
   ]
  },
  {
   "cell_type": "code",
   "execution_count": 4,
   "id": "d031ba8b",
   "metadata": {},
   "outputs": [],
   "source": [
    "df['MINORPOP_bg_totprop'] = df['MINORPOP'] / df['ACSTOTPOP']"
   ]
  },
  {
   "cell_type": "markdown",
   "id": "e67c7f4f",
   "metadata": {},
   "source": [
    "## NOTE setup / testing using random numbers and proportions\n"
   ]
  },
  {
   "cell_type": "code",
   "execution_count": 5,
   "id": "7a9277ae",
   "metadata": {},
   "outputs": [],
   "source": [
    "\n",
    "# add the column of random proportions to the dataframe\n",
    "df['buffer_present'] = np.random.randint(2, size=len(df))\n",
    "df['intersect_prop'] = np.random.rand(len(df))\n",
    "df.loc[df['buffer_present'] == 0, 'intersect_prop'] = 0\n",
    "df['intersect_area'] = df['intersect_prop'] * df['Shape_Area']"
   ]
  },
  {
   "cell_type": "code",
   "execution_count": 6,
   "id": "e7bb3cd4",
   "metadata": {
    "scrolled": true
   },
   "outputs": [
    {
     "data": {
      "text/html": [
       "<div>\n",
       "<style scoped>\n",
       "    .dataframe tbody tr th:only-of-type {\n",
       "        vertical-align: middle;\n",
       "    }\n",
       "\n",
       "    .dataframe tbody tr th {\n",
       "        vertical-align: top;\n",
       "    }\n",
       "\n",
       "    .dataframe thead th {\n",
       "        text-align: right;\n",
       "    }\n",
       "</style>\n",
       "<table border=\"1\" class=\"dataframe\">\n",
       "  <thead>\n",
       "    <tr style=\"text-align: right;\">\n",
       "      <th></th>\n",
       "      <th>Unnamed: 0</th>\n",
       "      <th>ID</th>\n",
       "      <th>CNTY_NAME</th>\n",
       "      <th>Shape_Area</th>\n",
       "      <th>ACSTOTPOP</th>\n",
       "      <th>UNDER5</th>\n",
       "      <th>OVER64</th>\n",
       "      <th>MINORPOP</th>\n",
       "      <th>LOWINCOME</th>\n",
       "      <th>D_PM25_2</th>\n",
       "      <th>geometry</th>\n",
       "      <th>MINORPOP_bg_totprop</th>\n",
       "      <th>buffer_present</th>\n",
       "      <th>intersect_prop</th>\n",
       "      <th>intersect_area</th>\n",
       "    </tr>\n",
       "  </thead>\n",
       "  <tbody>\n",
       "    <tr>\n",
       "      <th>0</th>\n",
       "      <td>0</td>\n",
       "      <td>60376500012</td>\n",
       "      <td>Los Angeles County</td>\n",
       "      <td>406,992.50</td>\n",
       "      <td>864</td>\n",
       "      <td>92</td>\n",
       "      <td>154</td>\n",
       "      <td>576</td>\n",
       "      <td>42</td>\n",
       "      <td>34.33</td>\n",
       "      <td>POLYGON ((-118.326488 33.882821, -118.32541 33...</td>\n",
       "      <td>0.67</td>\n",
       "      <td>1</td>\n",
       "      <td>0.66</td>\n",
       "      <td>269,148.93</td>\n",
       "    </tr>\n",
       "    <tr>\n",
       "      <th>1</th>\n",
       "      <td>1</td>\n",
       "      <td>60376500014</td>\n",
       "      <td>Los Angeles County</td>\n",
       "      <td>433,085.47</td>\n",
       "      <td>748</td>\n",
       "      <td>0</td>\n",
       "      <td>162</td>\n",
       "      <td>646</td>\n",
       "      <td>80</td>\n",
       "      <td>46.59</td>\n",
       "      <td>POLYGON ((-118.326469 33.879784, -118.326469 3...</td>\n",
       "      <td>0.86</td>\n",
       "      <td>0</td>\n",
       "      <td>0.00</td>\n",
       "      <td>0.00</td>\n",
       "    </tr>\n",
       "    <tr>\n",
       "      <th>2</th>\n",
       "      <td>2</td>\n",
       "      <td>60376503002</td>\n",
       "      <td>Los Angeles County</td>\n",
       "      <td>596,582.85</td>\n",
       "      <td>1149</td>\n",
       "      <td>39</td>\n",
       "      <td>380</td>\n",
       "      <td>895</td>\n",
       "      <td>105</td>\n",
       "      <td>41.34</td>\n",
       "      <td>POLYGON ((-118.352498 33.87249, -118.352497 33...</td>\n",
       "      <td>0.78</td>\n",
       "      <td>0</td>\n",
       "      <td>0.00</td>\n",
       "      <td>0.00</td>\n",
       "    </tr>\n",
       "  </tbody>\n",
       "</table>\n",
       "</div>"
      ],
      "text/plain": [
       "   Unnamed: 0           ID           CNTY_NAME           Shape_Area  \\\n",
       "0           0  60376500012  Los Angeles County           406,992.50   \n",
       "1           1  60376500014  Los Angeles County           433,085.47   \n",
       "2           2  60376503002  Los Angeles County           596,582.85   \n",
       "\n",
       "   ACSTOTPOP  UNDER5  OVER64  MINORPOP  LOWINCOME             D_PM25_2  \\\n",
       "0        864      92     154       576         42                34.33   \n",
       "1        748       0     162       646         80                46.59   \n",
       "2       1149      39     380       895        105                41.34   \n",
       "\n",
       "                                            geometry  MINORPOP_bg_totprop  \\\n",
       "0  POLYGON ((-118.326488 33.882821, -118.32541 33...                 0.67   \n",
       "1  POLYGON ((-118.326469 33.879784, -118.326469 3...                 0.86   \n",
       "2  POLYGON ((-118.352498 33.87249, -118.352497 33...                 0.78   \n",
       "\n",
       "   buffer_present       intersect_prop       intersect_area  \n",
       "0               1                 0.66           269,148.93  \n",
       "1               0                 0.00                 0.00  \n",
       "2               0                 0.00                 0.00  "
      ]
     },
     "execution_count": 6,
     "metadata": {},
     "output_type": "execute_result"
    }
   ],
   "source": [
    "df.head(3)"
   ]
  },
  {
   "cell_type": "code",
   "execution_count": 7,
   "id": "eca8dccb",
   "metadata": {},
   "outputs": [],
   "source": [
    "inbuffer_wt_prop = np.sum(df['MINORPOP_bg_totprop'] * df['intersect_prop']) / sum(df['intersect_prop'])"
   ]
  },
  {
   "cell_type": "code",
   "execution_count": 8,
   "id": "f71b8e90",
   "metadata": {
    "scrolled": true
   },
   "outputs": [],
   "source": [
    "df = df[['MINORPOP_bg_totprop', 'intersect_prop', 'buffer_present']]\n",
    "df.to_csv(\"data/test_permutation.csv\")"
   ]
  },
  {
   "cell_type": "code",
   "execution_count": 9,
   "id": "ecb6e9dc",
   "metadata": {},
   "outputs": [
    {
     "data": {
      "text/plain": [
       "0.6003664653504537"
      ]
     },
     "execution_count": 9,
     "metadata": {},
     "output_type": "execute_result"
    }
   ],
   "source": [
    "inbuffer_wt_prop"
   ]
  },
  {
   "cell_type": "markdown",
   "id": "ef7ca510",
   "metadata": {},
   "source": [
    "### Permutation"
   ]
  },
  {
   "cell_type": "code",
   "execution_count": 10,
   "id": "4d782874",
   "metadata": {},
   "outputs": [],
   "source": [
    "# def get_buffer_proportion(dataframe):\n",
    "#     inbuffer_wt_prop = np.sum(dataframe['MINORPOP_bg_totprop'] * dataframe['intersect_prop']) / sum(dataframe['intersect_prop'])\n",
    "#     outbuffer_wt_prop = 1-inbuffer_wt_prop\n",
    "#     return inbuffer_wt_prop - outbuffer_wt_prop"
   ]
  },
  {
   "cell_type": "code",
   "execution_count": 11,
   "id": "c2a5262a",
   "metadata": {},
   "outputs": [],
   "source": [
    "# actual_value = get_buffer_proportion(df)\n",
    "\n",
    "# n_sim = 100\n",
    "\n",
    "# results = pd.DataFrame({'statistic': np.concatenate(([actual_value], np.full(n_sim, np.nan)))})\n",
    "\n",
    "# new_df = df[['MINORPOP_bg_totprop', 'intersect_prop', 'buffer_present']].copy()\n",
    "\n",
    "\n",
    "# for i in range(1, n_sim+1):\n",
    "#     new_df['buffer_present'] = np.random.randint(2, size=len(df))\n",
    "#     results.loc[i, 'statistic'] = get_buffer_proportion(new_df)\n",
    "\n",
    "# pval = (np.abs(results['statistic'] >= actual_value)).mean()\n",
    "\n",
    "# import matplotlib.pyplot as plt\n",
    "# import seaborn as sns\n",
    "\n",
    "# sns.histplot(results['statistic'], kde=True, color='blue', element='step', stat='density')\n",
    "# plt.axvline(x=actual_value, color='red')\n",
    "# plt.show()\n",
    "# print(f' P value is {pval}')\n",
    "# print(f' Orig diff in proportions is {round(actual_value, 2)}')"
   ]
  },
  {
   "cell_type": "markdown",
   "id": "8675e0ac",
   "metadata": {},
   "source": [
    "### Updated permutation code"
   ]
  },
  {
   "cell_type": "code",
   "execution_count": 14,
   "id": "a21227ba",
   "metadata": {},
   "outputs": [],
   "source": [
    "import numpy as np\n",
    "import pandas as pd\n",
    "from scipy.stats import uniform\n",
    "import matplotlib.pyplot as plt\n",
    "\n"
   ]
  },
  {
   "cell_type": "code",
   "execution_count": 17,
   "id": "ec62a5b9",
   "metadata": {},
   "outputs": [
    {
     "data": {
      "text/html": [
       "<div>\n",
       "<style scoped>\n",
       "    .dataframe tbody tr th:only-of-type {\n",
       "        vertical-align: middle;\n",
       "    }\n",
       "\n",
       "    .dataframe tbody tr th {\n",
       "        vertical-align: top;\n",
       "    }\n",
       "\n",
       "    .dataframe thead th {\n",
       "        text-align: right;\n",
       "    }\n",
       "</style>\n",
       "<table border=\"1\" class=\"dataframe\">\n",
       "  <thead>\n",
       "    <tr style=\"text-align: right;\">\n",
       "      <th></th>\n",
       "      <th>MINORPOP_bg_totprop</th>\n",
       "      <th>intersect_prop</th>\n",
       "      <th>buffer_present</th>\n",
       "    </tr>\n",
       "  </thead>\n",
       "  <tbody>\n",
       "    <tr>\n",
       "      <th>0</th>\n",
       "      <td>0.67</td>\n",
       "      <td>0.66</td>\n",
       "      <td>1</td>\n",
       "    </tr>\n",
       "    <tr>\n",
       "      <th>1</th>\n",
       "      <td>0.86</td>\n",
       "      <td>0.00</td>\n",
       "      <td>0</td>\n",
       "    </tr>\n",
       "    <tr>\n",
       "      <th>2</th>\n",
       "      <td>0.78</td>\n",
       "      <td>0.00</td>\n",
       "      <td>0</td>\n",
       "    </tr>\n",
       "    <tr>\n",
       "      <th>3</th>\n",
       "      <td>0.77</td>\n",
       "      <td>0.48</td>\n",
       "      <td>1</td>\n",
       "    </tr>\n",
       "    <tr>\n",
       "      <th>4</th>\n",
       "      <td>0.76</td>\n",
       "      <td>0.00</td>\n",
       "      <td>0</td>\n",
       "    </tr>\n",
       "    <tr>\n",
       "      <th>5</th>\n",
       "      <td>0.75</td>\n",
       "      <td>0.60</td>\n",
       "      <td>1</td>\n",
       "    </tr>\n",
       "    <tr>\n",
       "      <th>6</th>\n",
       "      <td>0.87</td>\n",
       "      <td>0.26</td>\n",
       "      <td>1</td>\n",
       "    </tr>\n",
       "    <tr>\n",
       "      <th>7</th>\n",
       "      <td>0.90</td>\n",
       "      <td>0.11</td>\n",
       "      <td>1</td>\n",
       "    </tr>\n",
       "    <tr>\n",
       "      <th>8</th>\n",
       "      <td>0.88</td>\n",
       "      <td>0.70</td>\n",
       "      <td>1</td>\n",
       "    </tr>\n",
       "    <tr>\n",
       "      <th>9</th>\n",
       "      <td>0.72</td>\n",
       "      <td>0.00</td>\n",
       "      <td>0</td>\n",
       "    </tr>\n",
       "  </tbody>\n",
       "</table>\n",
       "</div>"
      ],
      "text/plain": [
       "   MINORPOP_bg_totprop       intersect_prop  buffer_present\n",
       "0                 0.67                 0.66               1\n",
       "1                 0.86                 0.00               0\n",
       "2                 0.78                 0.00               0\n",
       "3                 0.77                 0.48               1\n",
       "4                 0.76                 0.00               0\n",
       "5                 0.75                 0.60               1\n",
       "6                 0.87                 0.26               1\n",
       "7                 0.90                 0.11               1\n",
       "8                 0.88                 0.70               1\n",
       "9                 0.72                 0.00               0"
      ]
     },
     "execution_count": 17,
     "metadata": {},
     "output_type": "execute_result"
    }
   ],
   "source": [
    "df.head(10)"
   ]
  },
  {
   "cell_type": "code",
   "execution_count": 18,
   "id": "4dd5ec0f",
   "metadata": {
    "scrolled": true
   },
   "outputs": [
    {
     "name": "stdout",
     "output_type": "stream",
     "text": [
      "1.0\n"
     ]
    },
    {
     "data": {
      "image/png": "[encoded data removed]",
      "text/plain": [
       "<Figure size 640x480 with 1 Axes>"
      ]
     },
     "metadata": {},
     "output_type": "display_data"
    }
   ],
   "source": [
    "def get_prop_diff(x):\n",
    "    in_buffer = np.sum(x['MINORPOP_bg_totprop'] * x['intersect_prop']) / np.sum(x['intersect_prop'])\n",
    "    out_buffer = np.sum(x['MINORPOP_bg_totprop'] * (1 - x['intersect_prop'])) / np.sum(1 - x['intersect_prop'])\n",
    "    return(in_buffer - out_buffer)\n",
    "\n",
    "actual_value = get_prop_diff(df)\n",
    "\n",
    "n_sim = 1000\n",
    "\n",
    "results = pd.DataFrame({'statistic': [actual_value] + [np.nan] * n_sim})\n",
    "\n",
    "new_df = df[['MINORPOP_bg_totprop', 'intersect_prop', 'buffer_present']]\n",
    "\n",
    "np.random.seed(42)\n",
    "\n",
    "for i in range(1, n_sim + 1):\n",
    "    #new_df['buffer_present'] = np.random.choice(new_df['buffer_present'])\n",
    "    new_df['intersect_prop'] = np.random.choice(new_df['intersect_prop'])\n",
    "    \n",
    "    # To do this for real the spatial calculation of proportions will need\n",
    "    # to be added to this step instead of the random proportion generator\n",
    "    #new_df['intersect_prop'] = np.where(new_df['buffer_present'] == 0, 0, uniform.rvs(size=len(new_df)))\n",
    "    \n",
    "    results.loc[i, 'statistic'] = get_prop_diff(new_df)\n",
    "\n",
    "pval = np.mean(np.abs(results['statistic']) >= actual_value)\n",
    "print(pval)\n",
    "\n",
    "plt.hist(results['statistic'], density=True)\n",
    "plt.axvline(x=actual_value, color='red')\n",
    "plt.xlabel('TEST: In Buffer v Out Buffer Proportion - MINORPOP')\n",
    "plt.ylabel('')\n",
    "plt.show()"
   ]
  },
  {
   "cell_type": "code",
   "execution_count": 19,
   "id": "4c3e4de4",
   "metadata": {},
   "outputs": [
    {
     "name": "stdout",
     "output_type": "stream",
     "text": [
      " Proportion of permutation stats equal to or more extreme than actual: 1.0\n",
      " P-value: 1.0\n"
     ]
    }
   ],
   "source": [
    "print(f\" Proportion of permutation stats equal to or more extreme than actual: {round(np.mean(results['statistic'] >= actual_value),2)}\")\n",
    "print(f\" P-value: {round(pval,2)}\")"
   ]
  },
  {
   "cell_type": "code",
   "execution_count": null,
   "id": "cc977647",
   "metadata": {},
   "outputs": [],
   "source": []
  }
 ],
 "metadata": {
  "kernelspec": {
   "display_name": "capstonermi37",
   "language": "python",
   "name": "capstonermi37"
  },
  "language_info": {
   "codemirror_mode": {
    "name": "ipython",
    "version": 3
   },
   "file_extension": ".py",
   "mimetype": "text/x-python",
   "name": "python",
   "nbconvert_exporter": "python",
   "pygments_lexer": "ipython3",
   "version": "3.7.13"
  }
 },
 "nbformat": 4,
 "nbformat_minor": 5
}
