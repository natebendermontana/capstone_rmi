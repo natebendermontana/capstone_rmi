{
 "cells": [
  {
   "cell_type": "markdown",
   "id": "e8efbde9",
   "metadata": {},
   "source": [
    "# Permutation testing\n",
    "Null: there is no relationship between location of flares and the CA minority population ('MINORPOP').\n",
    "Alt: there is a relationship between flare location and the CA minority population.\n",
    "\n",
    "Statistic: difference in proportion of MINORPOP within a 5km buffer of any flare versus the MINORPOP proportion outside the flares buffer.\n",
    "\n",
    "1) Calculate the actual test statistic  \n",
    "2) Randomize the flares location, restricted to only CA  \n",
    "3) Calculate buffer zones  \n",
    "4) Overlay the block groups with the new buffers  \n",
    "5) Calculate the statistics based on the new overlay  \n",
    "6) Put stats into a new df for storage\n",
    "7) visualize the stats with a density plot"
   ]
  },
  {
   "cell_type": "code",
   "execution_count": 77,
   "id": "e41350fc",
   "metadata": {},
   "outputs": [],
   "source": [
    "import geopandas as gp\n",
    "from shapely import wkt\n",
    "from shapely.geometry import Point, Polygon\n",
    "from shapely.ops import unary_union\n",
    "import pandas as pd\n",
    "import numpy as np\n",
    "from pprint import pprint\n",
    "import os\n",
    "import glob\n",
    "import openpyxl\n",
    "import matplotlib.pyplot as plt\n",
    "import plotly.express as px #if using plotly\n",
    "import folium"
   ]
  },
  {
   "cell_type": "code",
   "execution_count": 78,
   "id": "9a3b5fd6",
   "metadata": {},
   "outputs": [],
   "source": [
    "pd.set_option('display.max_columns', None)  # display all columns\n",
    "pd.options.display.float_format = '{:20,.2f}'.format  # suppress scientific notation"
   ]
  },
  {
   "cell_type": "markdown",
   "id": "41d02899",
   "metadata": {},
   "source": [
    "### Read in file, setup"
   ]
  },
  {
   "cell_type": "code",
   "execution_count": 79,
   "id": "55afb139",
   "metadata": {},
   "outputs": [],
   "source": [
    "df = pd.read_csv(\"data/bgformodel_permutation.csv\")\n",
    "#df = gp.GeoDataFrame(a, geometry='geometry')\n",
    "# meters_crs = 3310\n",
    "# df = df.set_crs(meters_crs)"
   ]
  },
  {
   "cell_type": "code",
   "execution_count": 80,
   "id": "d031ba8b",
   "metadata": {},
   "outputs": [],
   "source": [
    "df['MINORPOP_bg_totprop'] = df['MINORPOP'] / df['ACSTOTPOP']"
   ]
  },
  {
   "cell_type": "code",
   "execution_count": 81,
   "id": "7a9277ae",
   "metadata": {},
   "outputs": [],
   "source": [
    "# NOTE setup / testing using random numbers and proportions\n",
    "\n",
    "# add the column of random proportions to the dataframe\n",
    "df['buffer_present'] = np.random.randint(2, size=len(df))\n",
    "df['intersect_prop'] = np.random.rand(len(df))\n",
    "df.loc[df['buffer_present'] == 0, 'intersect_prop'] = 0\n",
    "df['intersect_area'] = df['intersect_prop'] * df['Shape_Area']"
   ]
  },
  {
   "cell_type": "code",
   "execution_count": 82,
   "id": "e7bb3cd4",
   "metadata": {
    "scrolled": true
   },
   "outputs": [
    {
     "data": {
      "text/html": [
       "<div>\n",
       "<style scoped>\n",
       "    .dataframe tbody tr th:only-of-type {\n",
       "        vertical-align: middle;\n",
       "    }\n",
       "\n",
       "    .dataframe tbody tr th {\n",
       "        vertical-align: top;\n",
       "    }\n",
       "\n",
       "    .dataframe thead th {\n",
       "        text-align: right;\n",
       "    }\n",
       "</style>\n",
       "<table border=\"1\" class=\"dataframe\">\n",
       "  <thead>\n",
       "    <tr style=\"text-align: right;\">\n",
       "      <th></th>\n",
       "      <th>Unnamed: 0</th>\n",
       "      <th>ID</th>\n",
       "      <th>CNTY_NAME</th>\n",
       "      <th>Shape_Area</th>\n",
       "      <th>ACSTOTPOP</th>\n",
       "      <th>UNDER5</th>\n",
       "      <th>OVER64</th>\n",
       "      <th>MINORPOP</th>\n",
       "      <th>LOWINCOME</th>\n",
       "      <th>D_PM25_2</th>\n",
       "      <th>geometry</th>\n",
       "      <th>MINORPOP_bg_totprop</th>\n",
       "      <th>buffer_present</th>\n",
       "      <th>intersect_prop</th>\n",
       "      <th>intersect_area</th>\n",
       "    </tr>\n",
       "  </thead>\n",
       "  <tbody>\n",
       "    <tr>\n",
       "      <th>0</th>\n",
       "      <td>0</td>\n",
       "      <td>60376500012</td>\n",
       "      <td>Los Angeles County</td>\n",
       "      <td>406,992.50</td>\n",
       "      <td>864</td>\n",
       "      <td>92</td>\n",
       "      <td>154</td>\n",
       "      <td>576</td>\n",
       "      <td>42</td>\n",
       "      <td>34.33</td>\n",
       "      <td>POLYGON ((-118.326488 33.882821, -118.32541 33...</td>\n",
       "      <td>0.67</td>\n",
       "      <td>1</td>\n",
       "      <td>0.80</td>\n",
       "      <td>325,919.57</td>\n",
       "    </tr>\n",
       "    <tr>\n",
       "      <th>1</th>\n",
       "      <td>1</td>\n",
       "      <td>60376500014</td>\n",
       "      <td>Los Angeles County</td>\n",
       "      <td>433,085.47</td>\n",
       "      <td>748</td>\n",
       "      <td>0</td>\n",
       "      <td>162</td>\n",
       "      <td>646</td>\n",
       "      <td>80</td>\n",
       "      <td>46.59</td>\n",
       "      <td>POLYGON ((-118.326469 33.879784, -118.326469 3...</td>\n",
       "      <td>0.86</td>\n",
       "      <td>1</td>\n",
       "      <td>0.79</td>\n",
       "      <td>342,008.09</td>\n",
       "    </tr>\n",
       "    <tr>\n",
       "      <th>2</th>\n",
       "      <td>2</td>\n",
       "      <td>60376503002</td>\n",
       "      <td>Los Angeles County</td>\n",
       "      <td>596,582.85</td>\n",
       "      <td>1149</td>\n",
       "      <td>39</td>\n",
       "      <td>380</td>\n",
       "      <td>895</td>\n",
       "      <td>105</td>\n",
       "      <td>41.34</td>\n",
       "      <td>POLYGON ((-118.352498 33.87249, -118.352497 33...</td>\n",
       "      <td>0.78</td>\n",
       "      <td>1</td>\n",
       "      <td>0.56</td>\n",
       "      <td>332,572.14</td>\n",
       "    </tr>\n",
       "    <tr>\n",
       "      <th>3</th>\n",
       "      <td>3</td>\n",
       "      <td>60376503003</td>\n",
       "      <td>Los Angeles County</td>\n",
       "      <td>337,788.70</td>\n",
       "      <td>1615</td>\n",
       "      <td>30</td>\n",
       "      <td>112</td>\n",
       "      <td>1244</td>\n",
       "      <td>335</td>\n",
       "      <td>46.44</td>\n",
       "      <td>POLYGON ((-118.352463 33.868478, -118.352462 3...</td>\n",
       "      <td>0.77</td>\n",
       "      <td>0</td>\n",
       "      <td>0.00</td>\n",
       "      <td>0.00</td>\n",
       "    </tr>\n",
       "    <tr>\n",
       "      <th>4</th>\n",
       "      <td>4</td>\n",
       "      <td>60376503005</td>\n",
       "      <td>Los Angeles County</td>\n",
       "      <td>1,066,182.90</td>\n",
       "      <td>1102</td>\n",
       "      <td>92</td>\n",
       "      <td>230</td>\n",
       "      <td>838</td>\n",
       "      <td>204</td>\n",
       "      <td>44.91</td>\n",
       "      <td>POLYGON ((-118.358956 33.865542, -118.358832 3...</td>\n",
       "      <td>0.76</td>\n",
       "      <td>0</td>\n",
       "      <td>0.00</td>\n",
       "      <td>0.00</td>\n",
       "    </tr>\n",
       "    <tr>\n",
       "      <th>5</th>\n",
       "      <td>5</td>\n",
       "      <td>60590111012</td>\n",
       "      <td>Orange County</td>\n",
       "      <td>602,123.66</td>\n",
       "      <td>1620</td>\n",
       "      <td>231</td>\n",
       "      <td>150</td>\n",
       "      <td>1219</td>\n",
       "      <td>251</td>\n",
       "      <td>44.01</td>\n",
       "      <td>POLYGON ((-117.94992 33.85927, -117.949296 33....</td>\n",
       "      <td>0.75</td>\n",
       "      <td>0</td>\n",
       "      <td>0.00</td>\n",
       "      <td>0.00</td>\n",
       "    </tr>\n",
       "    <tr>\n",
       "      <th>6</th>\n",
       "      <td>6</td>\n",
       "      <td>60374081331</td>\n",
       "      <td>Los Angeles County</td>\n",
       "      <td>486,467.38</td>\n",
       "      <td>1212</td>\n",
       "      <td>57</td>\n",
       "      <td>150</td>\n",
       "      <td>1055</td>\n",
       "      <td>153</td>\n",
       "      <td>48.34</td>\n",
       "      <td>POLYGON ((-117.911775 34.026652, -117.911557 3...</td>\n",
       "      <td>0.87</td>\n",
       "      <td>1</td>\n",
       "      <td>0.32</td>\n",
       "      <td>156,969.33</td>\n",
       "    </tr>\n",
       "    <tr>\n",
       "      <th>7</th>\n",
       "      <td>7</td>\n",
       "      <td>60730101073</td>\n",
       "      <td>San Diego County</td>\n",
       "      <td>397,431.06</td>\n",
       "      <td>2127</td>\n",
       "      <td>29</td>\n",
       "      <td>402</td>\n",
       "      <td>1923</td>\n",
       "      <td>564</td>\n",
       "      <td>46.77</td>\n",
       "      <td>POLYGON ((-117.08409 32.580132, -117.083882 32...</td>\n",
       "      <td>0.90</td>\n",
       "      <td>1</td>\n",
       "      <td>0.49</td>\n",
       "      <td>194,286.03</td>\n",
       "    </tr>\n",
       "    <tr>\n",
       "      <th>8</th>\n",
       "      <td>8</td>\n",
       "      <td>60730101101</td>\n",
       "      <td>San Diego County</td>\n",
       "      <td>750,923.76</td>\n",
       "      <td>1833</td>\n",
       "      <td>165</td>\n",
       "      <td>88</td>\n",
       "      <td>1608</td>\n",
       "      <td>604</td>\n",
       "      <td>47.67</td>\n",
       "      <td>POLYGON ((-117.092759 32.577117, -117.092736 3...</td>\n",
       "      <td>0.88</td>\n",
       "      <td>1</td>\n",
       "      <td>0.58</td>\n",
       "      <td>437,775.25</td>\n",
       "    </tr>\n",
       "    <tr>\n",
       "      <th>9</th>\n",
       "      <td>9</td>\n",
       "      <td>60730101102</td>\n",
       "      <td>San Diego County</td>\n",
       "      <td>462,175.18</td>\n",
       "      <td>1362</td>\n",
       "      <td>35</td>\n",
       "      <td>93</td>\n",
       "      <td>982</td>\n",
       "      <td>400</td>\n",
       "      <td>40.43</td>\n",
       "      <td>POLYGON ((-117.088422 32.569281, -117.088387 3...</td>\n",
       "      <td>0.72</td>\n",
       "      <td>1</td>\n",
       "      <td>0.55</td>\n",
       "      <td>252,718.68</td>\n",
       "    </tr>\n",
       "  </tbody>\n",
       "</table>\n",
       "</div>"
      ],
      "text/plain": [
       "   Unnamed: 0           ID           CNTY_NAME           Shape_Area  \\\n",
       "0           0  60376500012  Los Angeles County           406,992.50   \n",
       "1           1  60376500014  Los Angeles County           433,085.47   \n",
       "2           2  60376503002  Los Angeles County           596,582.85   \n",
       "3           3  60376503003  Los Angeles County           337,788.70   \n",
       "4           4  60376503005  Los Angeles County         1,066,182.90   \n",
       "5           5  60590111012       Orange County           602,123.66   \n",
       "6           6  60374081331  Los Angeles County           486,467.38   \n",
       "7           7  60730101073    San Diego County           397,431.06   \n",
       "8           8  60730101101    San Diego County           750,923.76   \n",
       "9           9  60730101102    San Diego County           462,175.18   \n",
       "\n",
       "   ACSTOTPOP  UNDER5  OVER64  MINORPOP  LOWINCOME             D_PM25_2  \\\n",
       "0        864      92     154       576         42                34.33   \n",
       "1        748       0     162       646         80                46.59   \n",
       "2       1149      39     380       895        105                41.34   \n",
       "3       1615      30     112      1244        335                46.44   \n",
       "4       1102      92     230       838        204                44.91   \n",
       "5       1620     231     150      1219        251                44.01   \n",
       "6       1212      57     150      1055        153                48.34   \n",
       "7       2127      29     402      1923        564                46.77   \n",
       "8       1833     165      88      1608        604                47.67   \n",
       "9       1362      35      93       982        400                40.43   \n",
       "\n",
       "                                            geometry  MINORPOP_bg_totprop  \\\n",
       "0  POLYGON ((-118.326488 33.882821, -118.32541 33...                 0.67   \n",
       "1  POLYGON ((-118.326469 33.879784, -118.326469 3...                 0.86   \n",
       "2  POLYGON ((-118.352498 33.87249, -118.352497 33...                 0.78   \n",
       "3  POLYGON ((-118.352463 33.868478, -118.352462 3...                 0.77   \n",
       "4  POLYGON ((-118.358956 33.865542, -118.358832 3...                 0.76   \n",
       "5  POLYGON ((-117.94992 33.85927, -117.949296 33....                 0.75   \n",
       "6  POLYGON ((-117.911775 34.026652, -117.911557 3...                 0.87   \n",
       "7  POLYGON ((-117.08409 32.580132, -117.083882 32...                 0.90   \n",
       "8  POLYGON ((-117.092759 32.577117, -117.092736 3...                 0.88   \n",
       "9  POLYGON ((-117.088422 32.569281, -117.088387 3...                 0.72   \n",
       "\n",
       "   buffer_present       intersect_prop       intersect_area  \n",
       "0               1                 0.80           325,919.57  \n",
       "1               1                 0.79           342,008.09  \n",
       "2               1                 0.56           332,572.14  \n",
       "3               0                 0.00                 0.00  \n",
       "4               0                 0.00                 0.00  \n",
       "5               0                 0.00                 0.00  \n",
       "6               1                 0.32           156,969.33  \n",
       "7               1                 0.49           194,286.03  \n",
       "8               1                 0.58           437,775.25  \n",
       "9               1                 0.55           252,718.68  "
      ]
     },
     "execution_count": 82,
     "metadata": {},
     "output_type": "execute_result"
    }
   ],
   "source": [
    "df.head(10)"
   ]
  },
  {
   "cell_type": "code",
   "execution_count": 83,
   "id": "eca8dccb",
   "metadata": {},
   "outputs": [],
   "source": [
    "inbuffer_wt_prop = np.sum(df['MINORPOP_bg_totprop'] * df['intersect_prop']) / sum(df['intersect_prop'])\n"
   ]
  },
  {
   "cell_type": "code",
   "execution_count": 85,
   "id": "f71b8e90",
   "metadata": {
    "scrolled": true
   },
   "outputs": [],
   "source": [
    "df = df[['MINORPOP_bg_totprop', 'intersect_prop', 'buffer_present']]\n",
    "df.to_csv(\"data/test_permutation.csv\")"
   ]
  },
  {
   "cell_type": "code",
   "execution_count": 63,
   "id": "ecb6e9dc",
   "metadata": {},
   "outputs": [
    {
     "data": {
      "text/plain": [
       "0.6040218443757154"
      ]
     },
     "execution_count": 63,
     "metadata": {},
     "output_type": "execute_result"
    }
   ],
   "source": [
    "inbuffer_wt_prop"
   ]
  },
  {
   "cell_type": "code",
   "execution_count": 64,
   "id": "62cae3ef",
   "metadata": {},
   "outputs": [
    {
     "data": {
      "text/plain": [
       "0.20804368875143076"
      ]
     },
     "execution_count": 64,
     "metadata": {},
     "output_type": "execute_result"
    }
   ],
   "source": [
    "get_buffer_proportion(df)"
   ]
  },
  {
   "cell_type": "code",
   "execution_count": 70,
   "id": "be5e2224",
   "metadata": {},
   "outputs": [
    {
     "data": {
      "text/plain": [
       "0.20804368875143076"
      ]
     },
     "execution_count": 70,
     "metadata": {},
     "output_type": "execute_result"
    }
   ],
   "source": [
    "get_buffer_proportion(new_df)"
   ]
  },
  {
   "cell_type": "markdown",
   "id": "ef7ca510",
   "metadata": {},
   "source": [
    "### Permutation"
   ]
  },
  {
   "cell_type": "code",
   "execution_count": 65,
   "id": "4d782874",
   "metadata": {},
   "outputs": [],
   "source": [
    "def get_buffer_proportion(dataframe):\n",
    "    inbuffer_wt_prop = np.sum(dataframe['MINORPOP_bg_totprop'] * dataframe['intersect_prop']) / sum(dataframe['intersect_prop'])\n",
    "    outbuffer_wt_prop = 1-inbuffer_wt_prop\n",
    "    return inbuffer_wt_prop - outbuffer_wt_prop"
   ]
  },
  {
   "cell_type": "code",
   "execution_count": 72,
   "id": "c2a5262a",
   "metadata": {},
   "outputs": [
    {
     "data": {
      "image/png": "[encoded data removed]",
      "text/plain": [
       "<Figure size 640x480 with 1 Axes>"
      ]
     },
     "metadata": {},
     "output_type": "display_data"
    },
    {
     "name": "stdout",
     "output_type": "stream",
     "text": [
      " P value is 1.0\n",
      " Orig diff in proportions is 0.21\n"
     ]
    }
   ],
   "source": [
    "actual_value = get_buffer_proportion(df)\n",
    "\n",
    "n_sim = 100\n",
    "\n",
    "results = pd.DataFrame({'statistic': np.concatenate(([actual_value], np.full(n_sim, np.nan)))})\n",
    "\n",
    "new_df = df[['MINORPOP_bg_totprop', 'intersect_prop', 'buffer_present']].copy()\n",
    "\n",
    "\n",
    "for i in range(1, n_sim+1):\n",
    "    new_df['buffer_present'] = np.random.randint(2, size=len(df))\n",
    "    results.loc[i, 'statistic'] = get_buffer_proportion(new_df)\n",
    "\n",
    "pval = (np.abs(results['statistic'] >= actual_value)).mean()\n",
    "\n",
    "import matplotlib.pyplot as plt\n",
    "import seaborn as sns\n",
    "\n",
    "sns.histplot(results['statistic'], kde=True, color='blue', element='step', stat='density')\n",
    "plt.axvline(x=actual_value, color='red')\n",
    "plt.show()\n",
    "print(f' P value is {pval}')\n",
    "print(f' Orig diff in proportions is {round(actual_value, 2)}')"
   ]
  },
  {
   "cell_type": "code",
   "execution_count": null,
   "id": "a248b1f4",
   "metadata": {},
   "outputs": [],
   "source": []
  }
 ],
 "metadata": {
  "kernelspec": {
   "display_name": "capstonermi37",
   "language": "python",
   "name": "capstonermi37"
  },
  "language_info": {
   "codemirror_mode": {
    "name": "ipython",
    "version": 3
   },
   "file_extension": ".py",
   "mimetype": "text/x-python",
   "name": "python",
   "nbconvert_exporter": "python",
   "pygments_lexer": "ipython3",
   "version": "3.7.13"
  }
 },
 "nbformat": 4,
 "nbformat_minor": 5
}
