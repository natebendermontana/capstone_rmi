{
 "cells": [
  {
   "cell_type": "markdown",
   "id": "e8efbde9",
   "metadata": {},
   "source": [
    "# Permutation testing\n",
    "Null: there is no relationship between location of flares and the CA minority population ('MINORPOP').\n",
    "Alt: there is a relationship between flare location and the CA minority population.\n",
    "\n",
    "Statistic: difference in proportion of MINORPOP within a 5km buffer of any flare versus the MINORPOP proportion outside the flares buffer.\n",
    "\n",
    "1) Calculate the actual test statistic  \n",
    "2) Randomize the buffer_present binary variable  \n",
    "3) Re-calculate proportion of each BG intersecting with a buffer  \n",
    "5) Calculate the statistics based on the new overlay  \n",
    "6) Put stats into a new df for storage  \n",
    "7) visualize the stats with a density plot"
   ]
  },
  {
   "cell_type": "code",
   "execution_count": 9,
   "id": "e41350fc",
   "metadata": {},
   "outputs": [],
   "source": [
    "import geopandas as gp\n",
    "from shapely import wkt\n",
    "from shapely.geometry import Point, Polygon\n",
    "from shapely.ops import unary_union\n",
    "import pandas as pd\n",
    "import numpy as np\n",
    "from pprint import pprint\n",
    "import os\n",
    "import glob\n",
    "import openpyxl\n",
    "import matplotlib.pyplot as plt\n",
    "import plotly.express as px #if using plotly\n",
    "import folium\n",
    "\n",
    "import numpy as np\n",
    "import pandas as pd\n",
    "from scipy.stats import uniform\n",
    "import matplotlib.pyplot as plt"
   ]
  },
  {
   "cell_type": "code",
   "execution_count": 2,
   "id": "9a3b5fd6",
   "metadata": {},
   "outputs": [],
   "source": [
    "pd.set_option('display.max_columns', None)  # display all columns\n",
    "pd.options.display.float_format = '{:20,.2f}'.format  # suppress scientific notation"
   ]
  },
  {
   "cell_type": "markdown",
   "id": "41d02899",
   "metadata": {},
   "source": [
    "### Read in file, setup"
   ]
  },
  {
   "cell_type": "code",
   "execution_count": 3,
   "id": "55afb139",
   "metadata": {},
   "outputs": [],
   "source": [
    "test = pd.read_csv(\"data/bgformodel_permutation.csv\")"
   ]
  },
  {
   "cell_type": "code",
   "execution_count": 4,
   "id": "0d459d1d",
   "metadata": {},
   "outputs": [
    {
     "name": "stdout",
     "output_type": "stream",
     "text": [
      "             In_Buffer       Outside_Buffer\n",
      "0                 0.74                 0.60\n"
     ]
    }
   ],
   "source": [
    "\n",
    "in_buffer = np.sum(test['MINORPOP_bg_totprop'] * test['intersect_prop']) / np.sum(test['intersect_prop'])\n",
    "out_buffer = np.sum(test['MINORPOP_bg_totprop'] * (1 - test['intersect_prop'])) / np.sum(1 - test['intersect_prop'])\n",
    "\n",
    "# create a table from the in-buffer and outside-buffer proportions\n",
    "# proportions = pd.concat([in_buffer, out_buffer], axis=1)\n",
    "# proportions.columns = ['In_Buffer', 'Outside_Buffer']\n",
    "\n",
    "# table that compares the in-buffer proportions to the outside-buffer proportions\n",
    "temp = pd.DataFrame({'In_Buffer': [in_buffer], 'Outside_Buffer': [out_buffer]})\n",
    "print(temp)"
   ]
  },
  {
   "cell_type": "markdown",
   "id": "ef7ca510",
   "metadata": {},
   "source": [
    "### Permutation"
   ]
  },
  {
   "cell_type": "code",
   "execution_count": 10,
   "id": "4d782874",
   "metadata": {},
   "outputs": [],
   "source": [
    "def get_prop_diff(x):\n",
    "    in_buffer = np.sum(x['MINORPOP_bg_totprop'] * x['intersect_prop']) / np.sum(x['intersect_prop'])\n",
    "    out_buffer = np.sum(x['MINORPOP_bg_totprop'] * (1 - x['intersect_prop'])) / np.sum(1 - x['intersect_prop'])\n",
    "    return(in_buffer - out_buffer)"
   ]
  },
  {
   "cell_type": "code",
   "execution_count": 11,
   "id": "f25ae02c",
   "metadata": {},
   "outputs": [
    {
     "data": {
      "text/plain": [
       "0.13491477368362004"
      ]
     },
     "execution_count": 11,
     "metadata": {},
     "output_type": "execute_result"
    }
   ],
   "source": [
    "get_buffer_proportion(test)"
   ]
  },
  {
   "cell_type": "markdown",
   "id": "8675e0ac",
   "metadata": {},
   "source": [
    "### Updated permutation code"
   ]
  },
  {
   "cell_type": "code",
   "execution_count": 14,
   "id": "4dd5ec0f",
   "metadata": {
    "scrolled": true
   },
   "outputs": [
    {
     "name": "stderr",
     "output_type": "stream",
     "text": [
      "/Users/natebender/.local/lib/python3.7/site-packages/ipykernel_launcher.py:13: SettingWithCopyWarning: \n",
      "A value is trying to be set on a copy of a slice from a DataFrame.\n",
      "Try using .loc[row_indexer,col_indexer] = value instead\n",
      "\n",
      "See the caveats in the documentation: https://pandas.pydata.org/pandas-docs/stable/user_guide/indexing.html#returning-a-view-versus-a-copy\n",
      "  del sys.path[0]\n",
      "/Users/natebender/.local/lib/python3.7/site-packages/ipykernel_launcher.py:2: RuntimeWarning: invalid value encountered in double_scalars\n",
      "  \n"
     ]
    },
    {
     "name": "stdout",
     "output_type": "stream",
     "text": [
      "0.000999000999000999\n"
     ]
    },
    {
     "data": {
      "image/png": "[encoded data removed]",
      "text/plain": [
       "<Figure size 640x480 with 1 Axes>"
      ]
     },
     "metadata": {},
     "output_type": "display_data"
    }
   ],
   "source": [
    "actual_value = get_prop_diff(test)\n",
    "\n",
    "n_sim = 1000\n",
    "\n",
    "results = pd.DataFrame({'statistic': [actual_value] + [np.nan] * n_sim})\n",
    "\n",
    "new_df = test[['MINORPOP_bg_totprop', 'intersect_prop']]\n",
    "\n",
    "np.random.seed(42)\n",
    "\n",
    "for i in range(1, n_sim + 1):\n",
    "    #new_df['buffer_present'] = np.random.choice(new_df['buffer_present'])\n",
    "    new_df['intersect_prop'] = np.random.choice(new_df['intersect_prop'])\n",
    "    \n",
    "    # To do this for real the spatial calculation of proportions will need\n",
    "    # to be added to this step instead of the random proportion generator\n",
    "    #new_df['intersect_prop'] = np.where(new_df['buffer_present'] == 0, 0, uniform.rvs(size=len(new_df)))\n",
    "    \n",
    "    results.loc[i, 'statistic'] = get_prop_diff(new_df)\n",
    "\n",
    "pval = np.mean(np.abs(results['statistic']) >= actual_value)\n",
    "print(pval)\n",
    "\n",
    "plt.hist(results['statistic'], density=True)\n",
    "plt.axvline(x=actual_value, color='red')\n",
    "plt.xlabel('TEST: In Buffer v Out Buffer Proportion - MINORPOP')\n",
    "plt.ylabel('')\n",
    "plt.show()"
   ]
  },
  {
   "cell_type": "code",
   "execution_count": 19,
   "id": "4c3e4de4",
   "metadata": {},
   "outputs": [
    {
     "name": "stdout",
     "output_type": "stream",
     "text": [
      " Proportion of permutation stats equal to or more extreme than actual: 1.0\n",
      " P-value: 1.0\n"
     ]
    }
   ],
   "source": [
    "print(f\" Proportion of permutation stats equal to or more extreme than actual: {round(np.mean(results['statistic'] >= actual_value),2)}\")\n",
    "print(f\" P-value: {round(pval,2)}\")"
   ]
  },
  {
   "cell_type": "code",
   "execution_count": null,
   "id": "cc977647",
   "metadata": {},
   "outputs": [],
   "source": []
  },
  {
   "cell_type": "markdown",
   "id": "e67c7f4f",
   "metadata": {},
   "source": [
    "## NOTE setup / testing using random numbers and proportions\n"
   ]
  },
  {
   "cell_type": "code",
   "execution_count": 5,
   "id": "7a9277ae",
   "metadata": {},
   "outputs": [],
   "source": [
    "\n",
    "# # add the column of random proportions to the dataframe\n",
    "# df['buffer_present'] = np.random.randint(2, size=len(df))\n",
    "# df['intersect_prop'] = np.random.rand(len(df))\n",
    "# df.loc[df['buffer_present'] == 0, 'intersect_prop'] = 0\n",
    "# df['intersect_area'] = df['intersect_prop'] * df['Shape_Area']"
   ]
  },
  {
   "cell_type": "code",
   "execution_count": 11,
   "id": "c2a5262a",
   "metadata": {},
   "outputs": [],
   "source": [
    "# OLD PERMUTATION CODE\n",
    "\n",
    "# actual_value = get_buffer_proportion(df)\n",
    "\n",
    "# n_sim = 100\n",
    "\n",
    "# results = pd.DataFrame({'statistic': np.concatenate(([actual_value], np.full(n_sim, np.nan)))})\n",
    "\n",
    "# new_df = df[['MINORPOP_bg_totprop', 'intersect_prop', 'buffer_present']].copy()\n",
    "\n",
    "\n",
    "# for i in range(1, n_sim+1):\n",
    "#     new_df['buffer_present'] = np.random.randint(2, size=len(df))\n",
    "#     results.loc[i, 'statistic'] = get_buffer_proportion(new_df)\n",
    "\n",
    "# pval = (np.abs(results['statistic'] >= actual_value)).mean()\n",
    "\n",
    "# import matplotlib.pyplot as plt\n",
    "# import seaborn as sns\n",
    "\n",
    "# sns.histplot(results['statistic'], kde=True, color='blue', element='step', stat='density')\n",
    "# plt.axvline(x=actual_value, color='red')\n",
    "# plt.show()\n",
    "# print(f' P value is {pval}')\n",
    "# print(f' Orig diff in proportions is {round(actual_value, 2)}')"
   ]
  }
 ],
 "metadata": {
  "kernelspec": {
   "display_name": "capstonermi37",
   "language": "python",
   "name": "capstonermi37"
  },
  "language_info": {
   "codemirror_mode": {
    "name": "ipython",
    "version": 3
   },
   "file_extension": ".py",
   "mimetype": "text/x-python",
   "name": "python",
   "nbconvert_exporter": "python",
   "pygments_lexer": "ipython3",
   "version": "3.7.13"
  }
 },
 "nbformat": 4,
 "nbformat_minor": 5
}
