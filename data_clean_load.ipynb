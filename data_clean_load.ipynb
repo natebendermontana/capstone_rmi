{
 "cells": [
  {
   "cell_type": "markdown",
   "id": "3d9e8bdb",
   "metadata": {},
   "source": [
    "#### Workbook to read in data from different sources and prep for processing"
   ]
  },
  {
   "cell_type": "code",
   "execution_count": 1,
   "id": "b01e1cd6",
   "metadata": {},
   "outputs": [],
   "source": [
    "import geopandas as gp\n",
    "import pandas as pd\n",
    "import os\n",
    "import glob\n",
    "import requests"
   ]
  },
  {
   "cell_type": "markdown",
   "id": "20f21821",
   "metadata": {},
   "source": [
    "## Flares data"
   ]
  },
  {
   "cell_type": "code",
   "execution_count": 2,
   "id": "c77252d9",
   "metadata": {},
   "outputs": [],
   "source": [
    "projcrs = 4326"
   ]
  },
  {
   "cell_type": "code",
   "execution_count": 3,
   "id": "aad2c549",
   "metadata": {},
   "outputs": [],
   "source": [
    "def convert_geopandas(df):\n",
    "    '''Convert pandas df to geodataframe, drop orig Lat/Long cols, and set crs to common project crs'''\n",
    "    \n",
    "    df = gp.GeoDataFrame(\n",
    "        df, geometry=gp.points_from_xy(df[\"Longitude\"],\n",
    "                                       df[\"Latitude\"]), \n",
    "        crs = projcrs)\n",
    "\n",
    "    #df.drop(['Latitude', 'Longitude'], axis=1, inplace=True) \n",
    "    return(df)"
   ]
  },
  {
   "cell_type": "code",
   "execution_count": 4,
   "id": "596addee",
   "metadata": {},
   "outputs": [],
   "source": [
    "def read_excel(sheet_name):\n",
    "    \n",
    "    all_files = glob.glob(\"data/*.xlsx\")\n",
    "    temp = []\n",
    "\n",
    "    for filename in all_files:\n",
    "        df = pd.read_excel(filename, index_col=None, header=0, sheet_name=sheet_name)\n",
    "        temp.append(df)\n",
    "\n",
    "    df = pd.concat(temp, axis=0, ignore_index=True)\n",
    "\n",
    "    # some data cleanup\n",
    "    df.rename(columns={'BCM 2019':'BCM_2019', 'Avg. temp':'avg_temp',\n",
    "                       'BCM 2018':'BCM_2018', 'BCM 2020':'BCM_2020',\n",
    "                       'BCM 2021':'BCM_2021',\n",
    "                       'Detection_frequency_2012':'Det_freq12',\n",
    "                       'Detection_frequency_2013':'Det_freq13',\n",
    "                       'Detection_frequency_2014':'Det_freq14',\n",
    "                       'Detection_frequency_2015':'Det_freq15',\n",
    "                       'Detection_frequency_2016':'Det_freq16',\n",
    "                       'Detection_frequency_2017':'Det_freq17',\n",
    "                       'Detection frequency 2018':'Det_freq18',\n",
    "                       'Detection freq. 2019':'Det_freq19',\n",
    "                       'Detection frequency 2020':'Det_freq20',\n",
    "                       'Detection frequency 2021':'Det_freq21',\n",
    "                       'Clear_obs_2012': 'clr_obs12',\n",
    "                       'Clear_obs_2013': 'clr_obs13',\n",
    "                       'Clear_obs_2014': 'clr_obs14',\n",
    "                       'Clear_obs_2015': 'clr_obs15',\n",
    "                       'Clear_obs_2016': 'clr_obs16',\n",
    "                       'Clear_obs_2017': 'clr_obs17',\n",
    "                       'Clear obs 2018': 'clr_obs18',\n",
    "                       'Clear obs. 2019': 'clr_obs19',\n",
    "                       'Clear Obs. 2020': 'clr_obs20',\n",
    "                       'Clear Obs. 2021': 'clr_obs21'}, inplace=True)\n",
    "    \n",
    "    df[\"flare_category\"] = sheet_name  # add new column for overall flare type, to make summary stats easier\n",
    "    \n",
    "    return(df)"
   ]
  },
  {
   "cell_type": "code",
   "execution_count": 5,
   "id": "d9b720d5",
   "metadata": {},
   "outputs": [],
   "source": [
    "# define sheet names\n",
    "all_upstream=\"flares_upstream\"\n",
    "oil_downstream=\"flares_oil_downstream\"\n",
    "gas_downstream=\"flares_gas_downstream\"\n",
    "\n",
    "# create dfs by flare category\n",
    "flares_upstream = read_excel(all_upstream)\n",
    "oil_downstream = read_excel(oil_downstream)\n",
    "gas_downstream = read_excel(gas_downstream)\n",
    "\n",
    "# combine into single df and convert to geodataframe\n",
    "all_flares = convert_geopandas(pd.concat([flares_upstream, oil_downstream, gas_downstream]))"
   ]
  },
  {
   "cell_type": "code",
   "execution_count": 6,
   "id": "ba999e97",
   "metadata": {},
   "outputs": [
    {
     "name": "stderr",
     "output_type": "stream",
     "text": [
      "/Users/natebender/.local/lib/python3.7/site-packages/ipykernel_launcher.py:1: UserWarning: Column names longer than 10 characters will be truncated when saved to ESRI Shapefile.\n",
      "  \"\"\"Entry point for launching an IPython kernel.\n"
     ]
    }
   ],
   "source": [
    "all_flares.to_file(\"data/all_flares.shp\")"
   ]
  },
  {
   "cell_type": "markdown",
   "id": "dc71576f",
   "metadata": {},
   "source": [
    "## Social vulnerability data from CalEnviroScreen"
   ]
  },
  {
   "cell_type": "markdown",
   "id": "7cef18c3",
   "metadata": {},
   "source": [
    "No cleaning necessary; shapefile read in directly to analysis notebooks"
   ]
  },
  {
   "cell_type": "markdown",
   "id": "9c73271e",
   "metadata": {},
   "source": [
    "## Refineries"
   ]
  },
  {
   "cell_type": "markdown",
   "id": "68988bc5",
   "metadata": {},
   "source": [
    "No cleaning necessary; csv read in directly to analysis notebooks"
   ]
  },
  {
   "cell_type": "markdown",
   "id": "76330f16",
   "metadata": {},
   "source": [
    "## 2010 US Census data"
   ]
  },
  {
   "cell_type": "code",
   "execution_count": null,
   "id": "74219f40",
   "metadata": {},
   "outputs": [],
   "source": [
    "keys = pd.read_csv(\"api_keys.csv\")\n",
    "census_api_key = keys.loc[keys['api']=='census']['key'].iloc[0]"
   ]
  },
  {
   "cell_type": "markdown",
   "id": "ed1bde8b",
   "metadata": {},
   "source": [
    "### 2/16/23 note: not using census API right now. Maybe later in project. \n",
    "1) need to confirm variables of interest with advisor / RMI\n",
    "\n",
    "Czolowsky et al used: \n",
    "total population, Hispanic, minority, non-Hispanic minority, 5y and younger, under 18y, and 75y and older.\n",
    "\n",
    "Var list\n",
    "\n",
    "P001001: total population\n",
    "\n",
    "P004001: total hispanic or latino origin\n",
    "\n",
    "H008002: Total races tallied for householders — White alone or in combination with one or more other races\n"
   ]
  },
  {
   "cell_type": "code",
   "execution_count": 144,
   "id": "ce04fa97",
   "metadata": {},
   "outputs": [],
   "source": [
    "# helpful vid: https://www.youtube.com/watch?v=LW-M_UC0VTE\n",
    "# dec/sf1 variables: https://api.census.gov/data/2010/dec/sf1/variables.html\n",
    "# dec/sf1 example api calls: https://api.census.gov/data/2010/dec/sf1/examples.html\n",
    "# CA FIPS codes: https://www.weather.gov/hnx/cafips\n",
    "# FYI California has 8,057 census tracts, 23,212 block groups, and 710,145 blocks\n",
    "\n",
    "# set search query and parameters\n",
    "url = \"https://api.census.gov/data/2010/dec/sf1?get=NAME,TRACT,P001001,P004001,H008002&for=block:*&in=state:06&in=county:001&in=tract:*&key={0}\".format(census_api_key)\n",
    "\n",
    "# make call to api\n",
    "response = requests.request(\"GET\", url)"
   ]
  },
  {
   "cell_type": "code",
   "execution_count": 145,
   "id": "df144c6f",
   "metadata": {},
   "outputs": [],
   "source": [
    "# clean up column names that come from the api\n",
    "col_names = [\"name\", \"tract_id\", \"total_pop\", \"total_hisp\", \"race_white\", \"state\", \"county\", \"tract\", \"block\"]\n",
    "\n",
    "# construct df, beg. at first row so headers are skipped\n",
    "df = pd.DataFrame(columns=col_names, data=response.json()[1:]) "
   ]
  },
  {
   "cell_type": "code",
   "execution_count": 146,
   "id": "c5b8fea1",
   "metadata": {},
   "outputs": [
    {
     "data": {
      "text/html": [
       "<div>\n",
       "<style scoped>\n",
       "    .dataframe tbody tr th:only-of-type {\n",
       "        vertical-align: middle;\n",
       "    }\n",
       "\n",
       "    .dataframe tbody tr th {\n",
       "        vertical-align: top;\n",
       "    }\n",
       "\n",
       "    .dataframe thead th {\n",
       "        text-align: right;\n",
       "    }\n",
       "</style>\n",
       "<table border=\"1\" class=\"dataframe\">\n",
       "  <thead>\n",
       "    <tr style=\"text-align: right;\">\n",
       "      <th></th>\n",
       "      <th>name</th>\n",
       "      <th>tract_id</th>\n",
       "      <th>total_pop</th>\n",
       "      <th>total_hisp</th>\n",
       "      <th>race_white</th>\n",
       "      <th>state</th>\n",
       "      <th>county</th>\n",
       "      <th>tract</th>\n",
       "      <th>block</th>\n",
       "    </tr>\n",
       "  </thead>\n",
       "  <tbody>\n",
       "    <tr>\n",
       "      <th>2194</th>\n",
       "      <td>Block 1007, Block Group 1, Census Tract 4043, ...</td>\n",
       "      <td>404300</td>\n",
       "      <td>0</td>\n",
       "      <td>0</td>\n",
       "      <td>0</td>\n",
       "      <td>06</td>\n",
       "      <td>001</td>\n",
       "      <td>404300</td>\n",
       "      <td>1007</td>\n",
       "    </tr>\n",
       "    <tr>\n",
       "      <th>18306</th>\n",
       "      <td>Block 1014, Block Group 1, Census Tract 4431.0...</td>\n",
       "      <td>443103</td>\n",
       "      <td>12</td>\n",
       "      <td>12</td>\n",
       "      <td>1</td>\n",
       "      <td>06</td>\n",
       "      <td>001</td>\n",
       "      <td>443103</td>\n",
       "      <td>1014</td>\n",
       "    </tr>\n",
       "    <tr>\n",
       "      <th>21099</th>\n",
       "      <td>Block 1065, Block Group 1, Census Tract 4507.4...</td>\n",
       "      <td>450743</td>\n",
       "      <td>0</td>\n",
       "      <td>0</td>\n",
       "      <td>0</td>\n",
       "      <td>06</td>\n",
       "      <td>001</td>\n",
       "      <td>450743</td>\n",
       "      <td>1065</td>\n",
       "    </tr>\n",
       "    <tr>\n",
       "      <th>5062</th>\n",
       "      <td>Block 1005, Block Group 1, Census Tract 4089, ...</td>\n",
       "      <td>408900</td>\n",
       "      <td>0</td>\n",
       "      <td>0</td>\n",
       "      <td>0</td>\n",
       "      <td>06</td>\n",
       "      <td>001</td>\n",
       "      <td>408900</td>\n",
       "      <td>1005</td>\n",
       "    </tr>\n",
       "    <tr>\n",
       "      <th>14094</th>\n",
       "      <td>Block 1066, Block Group 1, Census Tract 4371.0...</td>\n",
       "      <td>437101</td>\n",
       "      <td>0</td>\n",
       "      <td>0</td>\n",
       "      <td>0</td>\n",
       "      <td>06</td>\n",
       "      <td>001</td>\n",
       "      <td>437101</td>\n",
       "      <td>1066</td>\n",
       "    </tr>\n",
       "    <tr>\n",
       "      <th>20825</th>\n",
       "      <td>Block 4028, Block Group 4, Census Tract 4507.0...</td>\n",
       "      <td>450701</td>\n",
       "      <td>0</td>\n",
       "      <td>0</td>\n",
       "      <td>0</td>\n",
       "      <td>06</td>\n",
       "      <td>001</td>\n",
       "      <td>450701</td>\n",
       "      <td>4028</td>\n",
       "    </tr>\n",
       "    <tr>\n",
       "      <th>20730</th>\n",
       "      <td>Block 3168, Block Group 3, Census Tract 4507.0...</td>\n",
       "      <td>450701</td>\n",
       "      <td>0</td>\n",
       "      <td>0</td>\n",
       "      <td>0</td>\n",
       "      <td>06</td>\n",
       "      <td>001</td>\n",
       "      <td>450701</td>\n",
       "      <td>3168</td>\n",
       "    </tr>\n",
       "    <tr>\n",
       "      <th>16546</th>\n",
       "      <td>Block 1267, Block Group 1, Census Tract 4415.0...</td>\n",
       "      <td>441503</td>\n",
       "      <td>0</td>\n",
       "      <td>0</td>\n",
       "      <td>0</td>\n",
       "      <td>06</td>\n",
       "      <td>001</td>\n",
       "      <td>441503</td>\n",
       "      <td>1267</td>\n",
       "    </tr>\n",
       "    <tr>\n",
       "      <th>15957</th>\n",
       "      <td>Block 2015, Block Group 2, Census Tract 4412, ...</td>\n",
       "      <td>441200</td>\n",
       "      <td>48</td>\n",
       "      <td>48</td>\n",
       "      <td>16</td>\n",
       "      <td>06</td>\n",
       "      <td>001</td>\n",
       "      <td>441200</td>\n",
       "      <td>2015</td>\n",
       "    </tr>\n",
       "    <tr>\n",
       "      <th>8294</th>\n",
       "      <td>Block 1005, Block Group 1, Census Tract 4251.0...</td>\n",
       "      <td>425102</td>\n",
       "      <td>0</td>\n",
       "      <td>0</td>\n",
       "      <td>0</td>\n",
       "      <td>06</td>\n",
       "      <td>001</td>\n",
       "      <td>425102</td>\n",
       "      <td>1005</td>\n",
       "    </tr>\n",
       "  </tbody>\n",
       "</table>\n",
       "</div>"
      ],
      "text/plain": [
       "                                                    name tract_id total_pop  \\\n",
       "2194   Block 1007, Block Group 1, Census Tract 4043, ...   404300         0   \n",
       "18306  Block 1014, Block Group 1, Census Tract 4431.0...   443103        12   \n",
       "21099  Block 1065, Block Group 1, Census Tract 4507.4...   450743         0   \n",
       "5062   Block 1005, Block Group 1, Census Tract 4089, ...   408900         0   \n",
       "14094  Block 1066, Block Group 1, Census Tract 4371.0...   437101         0   \n",
       "20825  Block 4028, Block Group 4, Census Tract 4507.0...   450701         0   \n",
       "20730  Block 3168, Block Group 3, Census Tract 4507.0...   450701         0   \n",
       "16546  Block 1267, Block Group 1, Census Tract 4415.0...   441503         0   \n",
       "15957  Block 2015, Block Group 2, Census Tract 4412, ...   441200        48   \n",
       "8294   Block 1005, Block Group 1, Census Tract 4251.0...   425102         0   \n",
       "\n",
       "      total_hisp race_white state county   tract block  \n",
       "2194           0          0    06    001  404300  1007  \n",
       "18306         12          1    06    001  443103  1014  \n",
       "21099          0          0    06    001  450743  1065  \n",
       "5062           0          0    06    001  408900  1005  \n",
       "14094          0          0    06    001  437101  1066  \n",
       "20825          0          0    06    001  450701  4028  \n",
       "20730          0          0    06    001  450701  3168  \n",
       "16546          0          0    06    001  441503  1267  \n",
       "15957         48         16    06    001  441200  2015  \n",
       "8294           0          0    06    001  425102  1005  "
      ]
     },
     "execution_count": 146,
     "metadata": {},
     "output_type": "execute_result"
    }
   ],
   "source": [
    "# check a few rows\n",
    "df.sample(5)"
   ]
  },
  {
   "cell_type": "code",
   "execution_count": 147,
   "id": "27fa3fc8",
   "metadata": {},
   "outputs": [],
   "source": [
    "# save to a csv for further processing in other notebooks\n",
    "df.to_csv(\"data/ca_blocklevel_demographics.csv\")"
   ]
  },
  {
   "cell_type": "code",
   "execution_count": null,
   "id": "129406f0",
   "metadata": {},
   "outputs": [],
   "source": []
  }
 ],
 "metadata": {
  "kernelspec": {
   "display_name": "capstonermi37",
   "language": "python",
   "name": "capstonermi37"
  },
  "language_info": {
   "codemirror_mode": {
    "name": "ipython",
    "version": 3
   },
   "file_extension": ".py",
   "mimetype": "text/x-python",
   "name": "python",
   "nbconvert_exporter": "python",
   "pygments_lexer": "ipython3",
   "version": "3.7.13"
  }
 },
 "nbformat": 4,
 "nbformat_minor": 5
}
