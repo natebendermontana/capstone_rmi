{
 "cells": [
  {
   "cell_type": "markdown",
   "id": "3d9e8bdb",
   "metadata": {},
   "source": [
    "#### Workbook to read in data from different sources and prep for processing"
   ]
  },
  {
   "cell_type": "code",
   "execution_count": 7,
   "id": "b01e1cd6",
   "metadata": {},
   "outputs": [],
   "source": [
    "import geopandas as gp\n",
    "import pandas as pd\n",
    "import numpy as np\n",
    "import os\n",
    "import glob\n",
    "import requests\n",
    "import warnings\n",
    "import uuid"
   ]
  },
  {
   "cell_type": "markdown",
   "id": "20f21821",
   "metadata": {},
   "source": [
    "## Flares data"
   ]
  },
  {
   "cell_type": "code",
   "execution_count": 2,
   "id": "c77252d9",
   "metadata": {},
   "outputs": [],
   "source": [
    "projcrs = 4326"
   ]
  },
  {
   "cell_type": "code",
   "execution_count": 3,
   "id": "596addee",
   "metadata": {},
   "outputs": [],
   "source": [
    "def read_excel(sheet_name):\n",
    "    \n",
    "    all_files = glob.glob(\"data/rmidata/*.xlsx\")\n",
    "    temp = []\n",
    "\n",
    "    for filename in all_files:\n",
    "        df = pd.read_excel(filename, index_col=None, header=0, sheet_name=sheet_name)\n",
    "        temp.append(df)\n",
    "\n",
    "    df = pd.concat(temp, axis=0, ignore_index=True)\n",
    "\n",
    "    # some data cleanup\n",
    "    df.rename(columns={'BCM 2019':'BCM_2019', 'Avg. temp':'avg_temp',\n",
    "                       'BCM 2018':'BCM_2018', 'BCM 2020':'BCM_2020',\n",
    "                       'BCM 2021':'BCM_2021',\n",
    "                       'Detection_frequency_2012':'Det_freq12',\n",
    "                       'Detection_frequency_2013':'Det_freq13',\n",
    "                       'Detection_frequency_2014':'Det_freq14',\n",
    "                       'Detection_frequency_2015':'Det_freq15',\n",
    "                       'Detection_frequency_2016':'Det_freq16',\n",
    "                       'Detection_frequency_2017':'Det_freq17',\n",
    "                       'Detection frequency 2018':'Det_freq18',\n",
    "                       'Detection freq. 2019':'Det_freq19',\n",
    "                       'Detection frequency 2020':'Det_freq20',\n",
    "                       'Detection frequency 2021':'Det_freq21',\n",
    "                       'Clear_obs_2012': 'clr_obs12',\n",
    "                       'Clear_obs_2013': 'clr_obs13',\n",
    "                       'Clear_obs_2014': 'clr_obs14',\n",
    "                       'Clear_obs_2015': 'clr_obs15',\n",
    "                       'Clear_obs_2016': 'clr_obs16',\n",
    "                       'Clear_obs_2017': 'clr_obs17',\n",
    "                       'Clear obs 2018': 'clr_obs18',\n",
    "                       'Clear obs. 2019': 'clr_obs19',\n",
    "                       'Clear Obs. 2020': 'clr_obs20',\n",
    "                       'Clear Obs. 2021': 'clr_obs21'}, inplace=True)\n",
    "    \n",
    "    df[\"flare_category\"] = sheet_name  # add new column for overall flare type, to make summary stats easier\n",
    "    \n",
    "    return(df)"
   ]
  },
  {
   "cell_type": "code",
   "execution_count": 4,
   "id": "aad2c549",
   "metadata": {},
   "outputs": [],
   "source": [
    "def convert_geopandas(df):\n",
    "    '''Convert pandas df to geodataframe, drop orig Lat/Long cols, and set crs to common project crs'''\n",
    "    \n",
    "    df = gp.GeoDataFrame(\n",
    "        df, geometry=gp.points_from_xy(df[\"Longitude\"],\n",
    "                                       df[\"Latitude\"]), \n",
    "        crs = projcrs)\n",
    "\n",
    "    #df.drop(['Latitude', 'Longitude'], axis=1, inplace=True) \n",
    "    return(df)"
   ]
  },
  {
   "cell_type": "code",
   "execution_count": 5,
   "id": "d9b720d5",
   "metadata": {},
   "outputs": [],
   "source": [
    "# define sheet names\n",
    "all_upstream=\"flares_upstream\"\n",
    "oil_downstream=\"flares_oil_downstream\"\n",
    "gas_downstream=\"flares_gas_downstream\"\n",
    "\n",
    "# create dfs by flare category\n",
    "flares_upstream = read_excel(all_upstream)\n",
    "oil_downstream = read_excel(oil_downstream)\n",
    "gas_downstream = read_excel(gas_downstream)\n",
    "\n",
    "# combine into single df and convert to geodataframe\n",
    "all_flares = convert_geopandas(pd.concat([flares_upstream, oil_downstream, gas_downstream]))"
   ]
  },
  {
   "cell_type": "code",
   "execution_count": 8,
   "id": "070923cc",
   "metadata": {},
   "outputs": [],
   "source": [
    "# not all flares have a unique identifier — both CatalogID and ID columns have missing values\n",
    "# so I create a new col \"flare_id\" of IDs\n",
    "\n",
    "np.random.seed(123)\n",
    "\n",
    "# generate random integer IDs\n",
    "ids = np.random.randint(100000, 999999, size=len(all_flares))\n",
    "\n",
    "# convert integer IDs to unique string identifiers\n",
    "id_str = [str(uuid.uuid4())[:8] + str(i) for i in ids]\n",
    "\n",
    "# add the new column to the DataFrame\n",
    "all_flares['flare_id'] = id_str"
   ]
  },
  {
   "cell_type": "code",
   "execution_count": 9,
   "id": "e97ce3da",
   "metadata": {},
   "outputs": [
    {
     "data": {
      "text/html": [
       "<div>\n",
       "<style scoped>\n",
       "    .dataframe tbody tr th:only-of-type {\n",
       "        vertical-align: middle;\n",
       "    }\n",
       "\n",
       "    .dataframe tbody tr th {\n",
       "        vertical-align: top;\n",
       "    }\n",
       "\n",
       "    .dataframe thead th {\n",
       "        text-align: right;\n",
       "    }\n",
       "</style>\n",
       "<table border=\"1\" class=\"dataframe\">\n",
       "  <thead>\n",
       "    <tr style=\"text-align: right;\">\n",
       "      <th></th>\n",
       "      <th>Country</th>\n",
       "      <th>ISO Code</th>\n",
       "      <th>Catalog ID</th>\n",
       "      <th>id #</th>\n",
       "      <th>Latitude</th>\n",
       "      <th>Longitude</th>\n",
       "      <th>BCM_2019</th>\n",
       "      <th>avg_temp</th>\n",
       "      <th>Ellipticity</th>\n",
       "      <th>Detection_frequency_2019</th>\n",
       "      <th>...</th>\n",
       "      <th>Det_freq16</th>\n",
       "      <th>Catalog id</th>\n",
       "      <th>BCM_2018</th>\n",
       "      <th>Det_freq18</th>\n",
       "      <th>clr_obs18</th>\n",
       "      <th>flare_category</th>\n",
       "      <th>Detection freq.</th>\n",
       "      <th>Det_freq19</th>\n",
       "      <th>geometry</th>\n",
       "      <th>flare_id</th>\n",
       "    </tr>\n",
       "  </thead>\n",
       "  <tbody>\n",
       "    <tr>\n",
       "      <th>17755</th>\n",
       "      <td>Libya</td>\n",
       "      <td>LBY</td>\n",
       "      <td>LBY_UPS_2018_19.9139E_28.2088N_v0.2</td>\n",
       "      <td>NaN</td>\n",
       "      <td>28.208772</td>\n",
       "      <td>19.913904</td>\n",
       "      <td>NaN</td>\n",
       "      <td>NaN</td>\n",
       "      <td>1.35255</td>\n",
       "      <td>NaN</td>\n",
       "      <td>...</td>\n",
       "      <td>NaN</td>\n",
       "      <td>NaN</td>\n",
       "      <td>NaN</td>\n",
       "      <td>NaN</td>\n",
       "      <td>NaN</td>\n",
       "      <td>flares_upstream</td>\n",
       "      <td>NaN</td>\n",
       "      <td>NaN</td>\n",
       "      <td>POINT (19.91390 28.20877)</td>\n",
       "      <td>98da863b428785</td>\n",
       "    </tr>\n",
       "    <tr>\n",
       "      <th>32513</th>\n",
       "      <td>Russian Federation</td>\n",
       "      <td>NaN</td>\n",
       "      <td>NaN</td>\n",
       "      <td>NaN</td>\n",
       "      <td>62.077548</td>\n",
       "      <td>71.025300</td>\n",
       "      <td>NaN</td>\n",
       "      <td>NaN</td>\n",
       "      <td>NaN</td>\n",
       "      <td>NaN</td>\n",
       "      <td>...</td>\n",
       "      <td>NaN</td>\n",
       "      <td>NaN</td>\n",
       "      <td>NaN</td>\n",
       "      <td>NaN</td>\n",
       "      <td>NaN</td>\n",
       "      <td>flares_upstream</td>\n",
       "      <td>NaN</td>\n",
       "      <td>NaN</td>\n",
       "      <td>POINT (71.02530 62.07755)</td>\n",
       "      <td>20548292778989</td>\n",
       "    </tr>\n",
       "    <tr>\n",
       "      <th>751</th>\n",
       "      <td>Russian Federation</td>\n",
       "      <td>RUS</td>\n",
       "      <td>RUS_UPG_2015_76.8498E_65.9371N_v0.2</td>\n",
       "      <td>7348.0</td>\n",
       "      <td>65.937147</td>\n",
       "      <td>76.849779</td>\n",
       "      <td>0.001154</td>\n",
       "      <td>1712.17</td>\n",
       "      <td>1.60150</td>\n",
       "      <td>NaN</td>\n",
       "      <td>...</td>\n",
       "      <td>NaN</td>\n",
       "      <td>NaN</td>\n",
       "      <td>NaN</td>\n",
       "      <td>NaN</td>\n",
       "      <td>NaN</td>\n",
       "      <td>flares_oil_downstream</td>\n",
       "      <td>1.86916</td>\n",
       "      <td>NaN</td>\n",
       "      <td>POINT (76.84978 65.93715)</td>\n",
       "      <td>8bf6b44b368489</td>\n",
       "    </tr>\n",
       "    <tr>\n",
       "      <th>17197</th>\n",
       "      <td>United States</td>\n",
       "      <td>USA</td>\n",
       "      <td>USA_UPS_2019_96.2354W_30.7334N_v0.2</td>\n",
       "      <td>NaN</td>\n",
       "      <td>30.733352</td>\n",
       "      <td>-96.235449</td>\n",
       "      <td>NaN</td>\n",
       "      <td>NaN</td>\n",
       "      <td>1.60150</td>\n",
       "      <td>NaN</td>\n",
       "      <td>...</td>\n",
       "      <td>NaN</td>\n",
       "      <td>NaN</td>\n",
       "      <td>NaN</td>\n",
       "      <td>NaN</td>\n",
       "      <td>NaN</td>\n",
       "      <td>flares_upstream</td>\n",
       "      <td>NaN</td>\n",
       "      <td>NaN</td>\n",
       "      <td>POINT (-96.23545 30.73335)</td>\n",
       "      <td>67c0e77a185509</td>\n",
       "    </tr>\n",
       "    <tr>\n",
       "      <th>25560</th>\n",
       "      <td>China</td>\n",
       "      <td>CHN</td>\n",
       "      <td>CHN_UPS_2016_108.2411E_36.0699N_v0.2</td>\n",
       "      <td>NaN</td>\n",
       "      <td>36.069889</td>\n",
       "      <td>108.241148</td>\n",
       "      <td>NaN</td>\n",
       "      <td>NaN</td>\n",
       "      <td>1.33265</td>\n",
       "      <td>NaN</td>\n",
       "      <td>...</td>\n",
       "      <td>NaN</td>\n",
       "      <td>NaN</td>\n",
       "      <td>NaN</td>\n",
       "      <td>NaN</td>\n",
       "      <td>NaN</td>\n",
       "      <td>flares_upstream</td>\n",
       "      <td>NaN</td>\n",
       "      <td>NaN</td>\n",
       "      <td>POINT (108.24115 36.06989)</td>\n",
       "      <td>27895731186002</td>\n",
       "    </tr>\n",
       "  </tbody>\n",
       "</table>\n",
       "<p>5 rows × 52 columns</p>\n",
       "</div>"
      ],
      "text/plain": [
       "                  Country ISO Code                            Catalog ID  \\\n",
       "17755               Libya      LBY   LBY_UPS_2018_19.9139E_28.2088N_v0.2   \n",
       "32513  Russian Federation      NaN                                   NaN   \n",
       "751    Russian Federation      RUS   RUS_UPG_2015_76.8498E_65.9371N_v0.2   \n",
       "17197       United States      USA   USA_UPS_2019_96.2354W_30.7334N_v0.2   \n",
       "25560               China      CHN  CHN_UPS_2016_108.2411E_36.0699N_v0.2   \n",
       "\n",
       "         id #   Latitude   Longitude  BCM_2019  avg_temp  Ellipticity  \\\n",
       "17755     NaN  28.208772   19.913904       NaN       NaN      1.35255   \n",
       "32513     NaN  62.077548   71.025300       NaN       NaN          NaN   \n",
       "751    7348.0  65.937147   76.849779  0.001154   1712.17      1.60150   \n",
       "17197     NaN  30.733352  -96.235449       NaN       NaN      1.60150   \n",
       "25560     NaN  36.069889  108.241148       NaN       NaN      1.33265   \n",
       "\n",
       "       Detection_frequency_2019  ...  Det_freq16 Catalog id  BCM_2018  \\\n",
       "17755                       NaN  ...         NaN        NaN       NaN   \n",
       "32513                       NaN  ...         NaN        NaN       NaN   \n",
       "751                         NaN  ...         NaN        NaN       NaN   \n",
       "17197                       NaN  ...         NaN        NaN       NaN   \n",
       "25560                       NaN  ...         NaN        NaN       NaN   \n",
       "\n",
       "       Det_freq18  clr_obs18         flare_category  Detection freq.  \\\n",
       "17755         NaN        NaN        flares_upstream              NaN   \n",
       "32513         NaN        NaN        flares_upstream              NaN   \n",
       "751           NaN        NaN  flares_oil_downstream          1.86916   \n",
       "17197         NaN        NaN        flares_upstream              NaN   \n",
       "25560         NaN        NaN        flares_upstream              NaN   \n",
       "\n",
       "       Det_freq19                    geometry        flare_id  \n",
       "17755         NaN   POINT (19.91390 28.20877)  98da863b428785  \n",
       "32513         NaN   POINT (71.02530 62.07755)  20548292778989  \n",
       "751           NaN   POINT (76.84978 65.93715)  8bf6b44b368489  \n",
       "17197         NaN  POINT (-96.23545 30.73335)  67c0e77a185509  \n",
       "25560         NaN  POINT (108.24115 36.06989)  27895731186002  \n",
       "\n",
       "[5 rows x 52 columns]"
      ]
     },
     "execution_count": 9,
     "metadata": {},
     "output_type": "execute_result"
    }
   ],
   "source": [
    "all_flares.sample(5)"
   ]
  },
  {
   "cell_type": "code",
   "execution_count": 10,
   "id": "ba999e97",
   "metadata": {},
   "outputs": [
    {
     "name": "stderr",
     "output_type": "stream",
     "text": [
      "/Users/natebender/.local/lib/python3.7/site-packages/ipykernel_launcher.py:2: UserWarning: Column names longer than 10 characters will be truncated when saved to ESRI Shapefile.\n",
      "  \n"
     ]
    }
   ],
   "source": [
    "# save as shapefile\n",
    "all_flares.to_file(\"data/all_flares.shp\")"
   ]
  },
  {
   "cell_type": "markdown",
   "id": "dc71576f",
   "metadata": {},
   "source": [
    "## Social vulnerability data from CalEnviroScreen"
   ]
  },
  {
   "cell_type": "markdown",
   "id": "7cef18c3",
   "metadata": {},
   "source": [
    "No cleaning necessary; shapefile read in directly to analysis notebooks"
   ]
  },
  {
   "cell_type": "markdown",
   "id": "9c73271e",
   "metadata": {},
   "source": [
    "## Refineries"
   ]
  },
  {
   "cell_type": "markdown",
   "id": "68988bc5",
   "metadata": {},
   "source": [
    "No cleaning necessary; csv read in directly to analysis notebooks"
   ]
  },
  {
   "cell_type": "markdown",
   "id": "9e7107be",
   "metadata": {},
   "source": [
    "## EJScreen data: ACS 5-year Estimates (2017-2021)"
   ]
  },
  {
   "cell_type": "code",
   "execution_count": 11,
   "id": "8bafbcf5",
   "metadata": {},
   "outputs": [],
   "source": [
    "# Load census block group level data from EJscreen\n",
    "# Source: https://www.epa.gov/ejscreen/download-ejscreen-data\n",
    "# This is the 2017-2021 5-year ACS average data\n",
    "ejscreen = pd.read_excel(\"data/CA_EJSCREEN_2022_Full_with_AS_CNMI_GU_VI.xlsx\", index_col=None, header=0)\n",
    "\n",
    "ca_counties = gp.read_file(\"data/CA_Counties_TIGER2016.shp\")  # CA counties\n",
    "ca_bg = gp.read_file(\"data/tl_2022_06_bg.shp\")  # CA block groups\n",
    "\n",
    "# read in cleaned and combined flares data\n",
    "all_flares = gp.read_file(\"data/all_flares.shp\")"
   ]
  },
  {
   "cell_type": "code",
   "execution_count": 12,
   "id": "cc854006",
   "metadata": {},
   "outputs": [],
   "source": [
    "meters_crs = 3310  # Projected crs. this should be good for this overlay() calculation and all of project. \n",
    "\n",
    "ca_counties = ca_counties.to_crs(meters_crs)\n",
    "ca_bg = ca_bg.to_crs(meters_crs)\n",
    "all_flares = all_flares.to_crs(meters_crs)"
   ]
  },
  {
   "cell_type": "code",
   "execution_count": 13,
   "id": "76383f5d",
   "metadata": {},
   "outputs": [
    {
     "name": "stdout",
     "output_type": "stream",
     "text": [
      "25607 block groups in the EJScreen data \n",
      "\n",
      "25607 block groups in the CA block group shapefile\n",
      "\n",
      "0 block groups are missing after merge\n"
     ]
    }
   ],
   "source": [
    "# Merge EJscreen data with CA block groups shapefile\n",
    "ca_bg.rename(columns={'GEOID':'ID'}, inplace=True)  # old:new. match column names for merging\n",
    "ca_bg['ID'] = ca_bg['ID'].astype(np.int64)\n",
    "\n",
    "print(f\"{len(ejscreen['ID'])} block groups in the EJScreen data \\n\")\n",
    "print(f\"{len(ca_bg['ID'])} block groups in the CA block group shapefile\\n\")\n",
    "ca_bg_joined = pd.merge(ca_bg, ejscreen, on='ID')\n",
    "print(f\"{len(ca_bg['ID'].unique())-len(ca_bg_joined)} block groups are missing after merge\")\n",
    "warnings.filterwarnings('ignore')\n",
    "\n",
    "# create column of correct area\n",
    "ca_bg_joined.loc[:, 'shape_area_new'] = ca_bg_joined.geometry.area\n",
    "ca_bg_joined.rename(columns={'ID':'bg_id'}, inplace=True)  # old:new"
   ]
  },
  {
   "cell_type": "code",
   "execution_count": 14,
   "id": "d2d0718b",
   "metadata": {},
   "outputs": [
    {
     "name": "stdout",
     "output_type": "stream",
     "text": [
      "Flares found: 117\n"
     ]
    }
   ],
   "source": [
    "# subset flares to only those in Cali\n",
    "ca_flares = gp.sjoin(all_flares, ca_counties, how = \"inner\", predicate = 'within')\n",
    "print(f'Flares found: {len(ca_flares)}')\n",
    "ca_flares.drop('index_right', axis=1, inplace=True)"
   ]
  },
  {
   "cell_type": "code",
   "execution_count": 15,
   "id": "9d8531fb",
   "metadata": {},
   "outputs": [
    {
     "name": "stdout",
     "output_type": "stream",
     "text": [
      "['flares_upstream' 'flares_oil_downstream' 'flares_gas_downstream']\n",
      "['flares_upstream' 'flares_oil_downstream']\n"
     ]
    }
   ],
   "source": [
    "print(all_flares['flare_cate'].unique())\n",
    "\n",
    "# reminder: once you subset to CA there are no downstream gas flares\n",
    "print(ca_flares['flare_cate'].unique())"
   ]
  },
  {
   "cell_type": "code",
   "execution_count": 16,
   "id": "66762788",
   "metadata": {},
   "outputs": [],
   "source": [
    "ca_flares.to_file('data/ca_flares_clean.shp', driver='ESRI Shapefile')"
   ]
  },
  {
   "cell_type": "code",
   "execution_count": 17,
   "id": "94cb37e6",
   "metadata": {},
   "outputs": [],
   "source": [
    "ca_bg_joined.to_file('data/ca_bg_joined_clean.shp', driver='ESRI Shapefile')"
   ]
  },
  {
   "cell_type": "code",
   "execution_count": 18,
   "id": "fdaa466e",
   "metadata": {},
   "outputs": [],
   "source": [
    "ca_bg.to_file('data/ca_bg_clean.shp', driver='ESRI Shapefile')"
   ]
  },
  {
   "cell_type": "markdown",
   "id": "76330f16",
   "metadata": {},
   "source": [
    "## API: 2010 US Census data"
   ]
  },
  {
   "cell_type": "markdown",
   "id": "ed1bde8b",
   "metadata": {},
   "source": [
    "### 2/16/23 note: not using census API right now. Maybe later in project. \n",
    "\n",
    "Czolowsky et al used: \n",
    "total population, Hispanic, minority, non-Hispanic minority, 5y and younger, under 18y, and 75y and older.\n",
    "\n",
    "Var list\n",
    "\n",
    "P001001: total population\n",
    "\n",
    "P004001: total hispanic or latino origin\n",
    "\n",
    "H008002: Total races tallied for householders — White alone or in combination with one or more other races\n"
   ]
  },
  {
   "cell_type": "code",
   "execution_count": null,
   "id": "74219f40",
   "metadata": {},
   "outputs": [],
   "source": [
    "keys = pd.read_csv(\"api_keys.csv\")\n",
    "census_api_key = keys.loc[keys['api']=='census']['key'].iloc[0]"
   ]
  },
  {
   "cell_type": "code",
   "execution_count": 144,
   "id": "ce04fa97",
   "metadata": {},
   "outputs": [],
   "source": [
    "# helpful vid: https://www.youtube.com/watch?v=LW-M_UC0VTE\n",
    "# dec/sf1 variables: https://api.census.gov/data/2010/dec/sf1/variables.html\n",
    "# dec/sf1 example api calls: https://api.census.gov/data/2010/dec/sf1/examples.html\n",
    "# CA FIPS codes: https://www.weather.gov/hnx/cafips\n",
    "# FYI California has 8,057 census tracts, 23,212 block groups, and 710,145 blocks\n",
    "\n",
    "# set search query and parameters\n",
    "url = \"https://api.census.gov/data/2010/dec/sf1?get=NAME,TRACT,P001001,P004001,H008002&for=block:*&in=state:06&in=county:001&in=tract:*&key={0}\".format(census_api_key)\n",
    "\n",
    "# make call to api\n",
    "response = requests.request(\"GET\", url)"
   ]
  },
  {
   "cell_type": "code",
   "execution_count": 145,
   "id": "df144c6f",
   "metadata": {},
   "outputs": [],
   "source": [
    "# clean up column names that come from the api\n",
    "col_names = [\"name\", \"tract_id\", \"total_pop\", \"total_hisp\", \"race_white\", \"state\", \"county\", \"tract\", \"block\"]\n",
    "\n",
    "# construct df, beg. at first row so headers are skipped\n",
    "df = pd.DataFrame(columns=col_names, data=response.json()[1:]) "
   ]
  },
  {
   "cell_type": "code",
   "execution_count": 146,
   "id": "c5b8fea1",
   "metadata": {},
   "outputs": [
    {
     "data": {
      "text/html": [
       "<div>\n",
       "<style scoped>\n",
       "    .dataframe tbody tr th:only-of-type {\n",
       "        vertical-align: middle;\n",
       "    }\n",
       "\n",
       "    .dataframe tbody tr th {\n",
       "        vertical-align: top;\n",
       "    }\n",
       "\n",
       "    .dataframe thead th {\n",
       "        text-align: right;\n",
       "    }\n",
       "</style>\n",
       "<table border=\"1\" class=\"dataframe\">\n",
       "  <thead>\n",
       "    <tr style=\"text-align: right;\">\n",
       "      <th></th>\n",
       "      <th>name</th>\n",
       "      <th>tract_id</th>\n",
       "      <th>total_pop</th>\n",
       "      <th>total_hisp</th>\n",
       "      <th>race_white</th>\n",
       "      <th>state</th>\n",
       "      <th>county</th>\n",
       "      <th>tract</th>\n",
       "      <th>block</th>\n",
       "    </tr>\n",
       "  </thead>\n",
       "  <tbody>\n",
       "    <tr>\n",
       "      <th>2194</th>\n",
       "      <td>Block 1007, Block Group 1, Census Tract 4043, ...</td>\n",
       "      <td>404300</td>\n",
       "      <td>0</td>\n",
       "      <td>0</td>\n",
       "      <td>0</td>\n",
       "      <td>06</td>\n",
       "      <td>001</td>\n",
       "      <td>404300</td>\n",
       "      <td>1007</td>\n",
       "    </tr>\n",
       "    <tr>\n",
       "      <th>18306</th>\n",
       "      <td>Block 1014, Block Group 1, Census Tract 4431.0...</td>\n",
       "      <td>443103</td>\n",
       "      <td>12</td>\n",
       "      <td>12</td>\n",
       "      <td>1</td>\n",
       "      <td>06</td>\n",
       "      <td>001</td>\n",
       "      <td>443103</td>\n",
       "      <td>1014</td>\n",
       "    </tr>\n",
       "    <tr>\n",
       "      <th>21099</th>\n",
       "      <td>Block 1065, Block Group 1, Census Tract 4507.4...</td>\n",
       "      <td>450743</td>\n",
       "      <td>0</td>\n",
       "      <td>0</td>\n",
       "      <td>0</td>\n",
       "      <td>06</td>\n",
       "      <td>001</td>\n",
       "      <td>450743</td>\n",
       "      <td>1065</td>\n",
       "    </tr>\n",
       "    <tr>\n",
       "      <th>5062</th>\n",
       "      <td>Block 1005, Block Group 1, Census Tract 4089, ...</td>\n",
       "      <td>408900</td>\n",
       "      <td>0</td>\n",
       "      <td>0</td>\n",
       "      <td>0</td>\n",
       "      <td>06</td>\n",
       "      <td>001</td>\n",
       "      <td>408900</td>\n",
       "      <td>1005</td>\n",
       "    </tr>\n",
       "    <tr>\n",
       "      <th>14094</th>\n",
       "      <td>Block 1066, Block Group 1, Census Tract 4371.0...</td>\n",
       "      <td>437101</td>\n",
       "      <td>0</td>\n",
       "      <td>0</td>\n",
       "      <td>0</td>\n",
       "      <td>06</td>\n",
       "      <td>001</td>\n",
       "      <td>437101</td>\n",
       "      <td>1066</td>\n",
       "    </tr>\n",
       "    <tr>\n",
       "      <th>20825</th>\n",
       "      <td>Block 4028, Block Group 4, Census Tract 4507.0...</td>\n",
       "      <td>450701</td>\n",
       "      <td>0</td>\n",
       "      <td>0</td>\n",
       "      <td>0</td>\n",
       "      <td>06</td>\n",
       "      <td>001</td>\n",
       "      <td>450701</td>\n",
       "      <td>4028</td>\n",
       "    </tr>\n",
       "    <tr>\n",
       "      <th>20730</th>\n",
       "      <td>Block 3168, Block Group 3, Census Tract 4507.0...</td>\n",
       "      <td>450701</td>\n",
       "      <td>0</td>\n",
       "      <td>0</td>\n",
       "      <td>0</td>\n",
       "      <td>06</td>\n",
       "      <td>001</td>\n",
       "      <td>450701</td>\n",
       "      <td>3168</td>\n",
       "    </tr>\n",
       "    <tr>\n",
       "      <th>16546</th>\n",
       "      <td>Block 1267, Block Group 1, Census Tract 4415.0...</td>\n",
       "      <td>441503</td>\n",
       "      <td>0</td>\n",
       "      <td>0</td>\n",
       "      <td>0</td>\n",
       "      <td>06</td>\n",
       "      <td>001</td>\n",
       "      <td>441503</td>\n",
       "      <td>1267</td>\n",
       "    </tr>\n",
       "    <tr>\n",
       "      <th>15957</th>\n",
       "      <td>Block 2015, Block Group 2, Census Tract 4412, ...</td>\n",
       "      <td>441200</td>\n",
       "      <td>48</td>\n",
       "      <td>48</td>\n",
       "      <td>16</td>\n",
       "      <td>06</td>\n",
       "      <td>001</td>\n",
       "      <td>441200</td>\n",
       "      <td>2015</td>\n",
       "    </tr>\n",
       "    <tr>\n",
       "      <th>8294</th>\n",
       "      <td>Block 1005, Block Group 1, Census Tract 4251.0...</td>\n",
       "      <td>425102</td>\n",
       "      <td>0</td>\n",
       "      <td>0</td>\n",
       "      <td>0</td>\n",
       "      <td>06</td>\n",
       "      <td>001</td>\n",
       "      <td>425102</td>\n",
       "      <td>1005</td>\n",
       "    </tr>\n",
       "  </tbody>\n",
       "</table>\n",
       "</div>"
      ],
      "text/plain": [
       "                                                    name tract_id total_pop  \\\n",
       "2194   Block 1007, Block Group 1, Census Tract 4043, ...   404300         0   \n",
       "18306  Block 1014, Block Group 1, Census Tract 4431.0...   443103        12   \n",
       "21099  Block 1065, Block Group 1, Census Tract 4507.4...   450743         0   \n",
       "5062   Block 1005, Block Group 1, Census Tract 4089, ...   408900         0   \n",
       "14094  Block 1066, Block Group 1, Census Tract 4371.0...   437101         0   \n",
       "20825  Block 4028, Block Group 4, Census Tract 4507.0...   450701         0   \n",
       "20730  Block 3168, Block Group 3, Census Tract 4507.0...   450701         0   \n",
       "16546  Block 1267, Block Group 1, Census Tract 4415.0...   441503         0   \n",
       "15957  Block 2015, Block Group 2, Census Tract 4412, ...   441200        48   \n",
       "8294   Block 1005, Block Group 1, Census Tract 4251.0...   425102         0   \n",
       "\n",
       "      total_hisp race_white state county   tract block  \n",
       "2194           0          0    06    001  404300  1007  \n",
       "18306         12          1    06    001  443103  1014  \n",
       "21099          0          0    06    001  450743  1065  \n",
       "5062           0          0    06    001  408900  1005  \n",
       "14094          0          0    06    001  437101  1066  \n",
       "20825          0          0    06    001  450701  4028  \n",
       "20730          0          0    06    001  450701  3168  \n",
       "16546          0          0    06    001  441503  1267  \n",
       "15957         48         16    06    001  441200  2015  \n",
       "8294           0          0    06    001  425102  1005  "
      ]
     },
     "execution_count": 146,
     "metadata": {},
     "output_type": "execute_result"
    }
   ],
   "source": [
    "# check a few rows\n",
    "df.sample(5)"
   ]
  },
  {
   "cell_type": "code",
   "execution_count": 147,
   "id": "27fa3fc8",
   "metadata": {},
   "outputs": [],
   "source": [
    "# save to a csv for further processing in other notebooks\n",
    "df.to_csv(\"data/ca_blocklevel_demographics.csv\")"
   ]
  },
  {
   "cell_type": "code",
   "execution_count": null,
   "id": "129406f0",
   "metadata": {},
   "outputs": [],
   "source": []
  }
 ],
 "metadata": {
  "kernelspec": {
   "display_name": "capstonermi37",
   "language": "python",
   "name": "capstonermi37"
  },
  "language_info": {
   "codemirror_mode": {
    "name": "ipython",
    "version": 3
   },
   "file_extension": ".py",
   "mimetype": "text/x-python",
   "name": "python",
   "nbconvert_exporter": "python",
   "pygments_lexer": "ipython3",
   "version": "3.7.13"
  }
 },
 "nbformat": 4,
 "nbformat_minor": 5
}
