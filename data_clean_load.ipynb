{
 "cells": [
  {
   "cell_type": "code",
   "execution_count": 1,
   "id": "b01e1cd6",
   "metadata": {},
   "outputs": [],
   "source": [
    "import geopandas as gp\n",
    "import pandas as pd\n",
    "import os\n",
    "import glob"
   ]
  },
  {
   "cell_type": "code",
   "execution_count": 2,
   "id": "c77252d9",
   "metadata": {},
   "outputs": [],
   "source": [
    "projcrs = 4326"
   ]
  },
  {
   "cell_type": "code",
   "execution_count": 3,
   "id": "aad2c549",
   "metadata": {},
   "outputs": [],
   "source": [
    "def convert_geopandas(df):\n",
    "    '''Convert pandas df to geodataframe, drop orig Lat/Long cols, and set crs to common project crs'''\n",
    "    \n",
    "    df = gp.GeoDataFrame(\n",
    "        df, geometry=gp.points_from_xy(df[\"Longitude\"],\n",
    "                                       df[\"Latitude\"]), \n",
    "        crs = projcrs)\n",
    "\n",
    "    df.drop(['Latitude', 'Longitude'], axis=1, inplace=True) \n",
    "    return(df)"
   ]
  },
  {
   "cell_type": "code",
   "execution_count": 4,
   "id": "596addee",
   "metadata": {},
   "outputs": [],
   "source": [
    "def read_excel(sheet_name):\n",
    "    \n",
    "    all_files = glob.glob(\"data/*.xlsx\")\n",
    "    temp = []\n",
    "\n",
    "    for filename in all_files:\n",
    "        df = pd.read_excel(filename, index_col=None, header=0, sheet_name=sheet_name)\n",
    "        temp.append(df)\n",
    "\n",
    "    df = pd.concat(temp, axis=0, ignore_index=True)\n",
    "\n",
    "    # some data cleanup\n",
    "    df.rename(columns={'BCM 2019':'BCM_2019', 'Avg. temp':'avg_temp',\n",
    "                       'BCM 2018':'BCM_2018', 'BCM 2020':'BCM_2020',\n",
    "                       'BCM 2021':'BCM_2021',\n",
    "                       'Detection_frequency_2012':'Det_freq12',\n",
    "                       'Detection_frequency_2013':'Det_freq13',\n",
    "                       'Detection_frequency_2014':'Det_freq14',\n",
    "                       'Detection_frequency_2015':'Det_freq15',\n",
    "                       'Detection_frequency_2016':'Det_freq16',\n",
    "                       'Detection_frequency_2017':'Det_freq17',\n",
    "                       'Detection frequency 2018':'Det_freq18',\n",
    "                       'Detection freq. 2019':'Det_freq19',\n",
    "                       'Detection frequency 2020':'Det_freq20',\n",
    "                       'Detection frequency 2021':'Det_freq21',\n",
    "                       'Clear_obs_2012': 'clr_obs12',\n",
    "                       'Clear_obs_2013': 'clr_obs13',\n",
    "                       'Clear_obs_2014': 'clr_obs14',\n",
    "                       'Clear_obs_2015': 'clr_obs15',\n",
    "                       'Clear_obs_2016': 'clr_obs16',\n",
    "                       'Clear_obs_2017': 'clr_obs17',\n",
    "                       'Clear obs 2018': 'clr_obs18',\n",
    "                       'Clear obs. 2019': 'clr_obs19',\n",
    "                       'Clear Obs. 2020': 'clr_obs20',\n",
    "                       'Clear Obs. 2021': 'clr_obs21'}, inplace=True)\n",
    "    \n",
    "    df[\"flare_category\"] = sheet_name  # add new column for overall flare type, to make summary stats easier\n",
    "    \n",
    "    return(df)"
   ]
  },
  {
   "cell_type": "code",
   "execution_count": 5,
   "id": "d9b720d5",
   "metadata": {},
   "outputs": [
    {
     "name": "stderr",
     "output_type": "stream",
     "text": [
      "/Users/natebender/opt/anaconda3/envs/capstonermi37/lib/python3.7/site-packages/geopandas/array.py:275: ShapelyDeprecationWarning: The array interface is deprecated and will no longer work in Shapely 2.0. Convert the '.coords' to a numpy array instead.\n",
      "  return GeometryArray(vectorized.points_from_xy(x, y, z), crs=crs)\n"
     ]
    }
   ],
   "source": [
    "# define sheet names\n",
    "all_upstream=\"flares_upstream\"\n",
    "oil_downstream=\"flares_oil_downstream\"\n",
    "gas_downstream=\"flares_gas_downstream\"\n",
    "\n",
    "# create dfs by flare category\n",
    "flares_upstream = read_excel(all_upstream)\n",
    "oil_downstream = read_excel(oil_downstream)\n",
    "gas_downstream = read_excel(gas_downstream)\n",
    "\n",
    "# combine into single df and convert to geodataframe\n",
    "all_flares = convert_geopandas(pd.concat([flares_upstream, oil_downstream, gas_downstream]))"
   ]
  },
  {
   "cell_type": "code",
   "execution_count": 6,
   "id": "ba999e97",
   "metadata": {},
   "outputs": [
    {
     "name": "stderr",
     "output_type": "stream",
     "text": [
      "/Users/natebender/.local/lib/python3.7/site-packages/ipykernel_launcher.py:1: UserWarning: Column names longer than 10 characters will be truncated when saved to ESRI Shapefile.\n",
      "  \"\"\"Entry point for launching an IPython kernel.\n"
     ]
    }
   ],
   "source": [
    "all_flares.to_file(\"data/all_flares.shp\")"
   ]
  },
  {
   "cell_type": "code",
   "execution_count": null,
   "id": "80b06576",
   "metadata": {},
   "outputs": [],
   "source": []
  }
 ],
 "metadata": {
  "kernelspec": {
   "display_name": "capstonermi37",
   "language": "python",
   "name": "capstonermi37"
  },
  "language_info": {
   "codemirror_mode": {
    "name": "ipython",
    "version": 3
   },
   "file_extension": ".py",
   "mimetype": "text/x-python",
   "name": "python",
   "nbconvert_exporter": "python",
   "pygments_lexer": "ipython3",
   "version": "3.7.13"
  }
 },
 "nbformat": 4,
 "nbformat_minor": 5
}
