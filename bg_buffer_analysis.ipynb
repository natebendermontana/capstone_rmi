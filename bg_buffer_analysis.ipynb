{
 "cells": [
  {
   "cell_type": "code",
   "execution_count": null,
   "id": "30bd301c",
   "metadata": {},
   "outputs": [],
   "source": [
    "import geopandas as gp\n",
    "from shapely import wkt\n",
    "from shapely.geometry import Point, Polygon\n",
    "from shapely.ops import unary_union\n",
    "import pandas as pd\n",
    "import numpy as np\n",
    "from pprint import pprint\n",
    "import os\n",
    "import glob\n",
    "import openpyxl\n",
    "import matplotlib.pyplot as plt\n",
    "import plotly.express as px #if using plotly\n",
    "import folium\n",
    "import warnings\n"
   ]
  },
  {
   "cell_type": "markdown",
   "id": "c149f833",
   "metadata": {},
   "source": [
    "## Research Questions"
   ]
  },
  {
   "cell_type": "markdown",
   "id": "6eddae6c",
   "metadata": {},
   "source": [
    "### 2) Is there a significant difference in the proportion of minorities within a given flaring buffer zone versus outside the buffer? \n",
    "\n",
    "#### Ultimate goal is a comparison of six different buffers (of 100; 400; 800; 1,000; 1,600; and 2,000 m) following Czolowski et al, 2017)\n",
    "\n",
    "Null: Proportion of BG in a buffer is independent of minority status.\n",
    "Alt:  Proportion of BG in a buffer is related to minority status.\n",
    "  \n",
    "Test stat: Difference in weighted minority proportions.\n",
    "\n",
    "Weighted minority proportion = sumproduct(minority_prop * intersect_prop) / sum(intersect_prop)\n",
    "minority_prop is the proportion of minorities in a block group\n",
    "intersect_prop is the proportion of BG area residing in the buffer zone\n",
    "\n",
    "Permutation testing: Permute the intersect_prop variable, holding the fraction of minorities in each BG constant.\n",
    " \n",
    "Process   \n",
    "a) Calculate the actual minority proportions of the aggregrate in-buffer and out-buffer areas\n",
    "Using 2km buffer for starters (Czolowski, 2017)\n",
    "b) Scramble the intersect_prop variable, holding the minority_prop variable constant. \n",
    "c) Calculate number of simulated proportions that match or exceed the actual proportion. Calculate p-value.\n"
   ]
  },
  {
   "cell_type": "markdown",
   "id": "3975a71b",
   "metadata": {},
   "source": [
    "## Setup / load data"
   ]
  },
  {
   "cell_type": "code",
   "execution_count": null,
   "id": "ea659b2b",
   "metadata": {},
   "outputs": [],
   "source": [
    "pd.set_option('display.max_columns', None)  # display all columns\n",
    "pd.options.display.float_format = '{:20,.2f}'.format  # suppress scientific notation"
   ]
  },
  {
   "cell_type": "code",
   "execution_count": null,
   "id": "212b25d2",
   "metadata": {},
   "outputs": [],
   "source": [
    "ca_state = gp.read_file(\"data/CA_State_TIGER2016.shp\")  # CA state\n",
    "ca_counties = gp.read_file(\"data/CA_Counties_TIGER2016.shp\")  # CA counties\n",
    "ca_bg = gp.read_file(\"data/tl_2022_06_bg.shp\")  # CA block groups"
   ]
  },
  {
   "cell_type": "code",
   "execution_count": null,
   "id": "c1be8974",
   "metadata": {},
   "outputs": [],
   "source": [
    "# Load census block group level data from EJscreen\n",
    "# Source: https://www.epa.gov/ejscreen/download-ejscreen-data\n",
    "# This is the 2017-2021 5-year ACS average data\n",
    "ejscreen = pd.read_excel(\"data/CA_EJSCREEN_2022_Full_with_AS_CNMI_GU_VI.xlsx\", index_col=None, header=0)"
   ]
  },
  {
   "cell_type": "code",
   "execution_count": null,
   "id": "c82f425e",
   "metadata": {},
   "outputs": [],
   "source": [
    "# read in cleaned and combined flares data\n",
    "all_flares = gp.read_file(\"data/all_flares.shp\")"
   ]
  },
  {
   "cell_type": "code",
   "execution_count": null,
   "id": "feacd1ee",
   "metadata": {},
   "outputs": [],
   "source": [
    "# set common crs for project\n",
    "#projcrs = 4326\n",
    "\n",
    "# epsg3310: https://epsg.io/3310-1739\n",
    "# units: meters\n",
    "meters_crs = 3310  # Projected crs. this should be good for this overlay() calculation and all of project. \n",
    "ca_state = ca_state.to_crs(meters_crs)\n",
    "ca_counties = ca_counties.to_crs(meters_crs)\n",
    "ca_bg = ca_bg.to_crs(meters_crs)\n",
    "all_flares = all_flares.to_crs(meters_crs)\n",
    "\n",
    "\n",
    "ca_bg.rename(columns={'GEOID':'ID'}, inplace=True)  # match column names for merging\n",
    "ca_bg['ID'] = ca_bg['ID'].astype(np.int64)"
   ]
  },
  {
   "cell_type": "code",
   "execution_count": null,
   "id": "5c7be374",
   "metadata": {},
   "outputs": [],
   "source": [
    "print(f\"{len(ejscreen['ID'])} block groups in the EJScreen data \\n\")\n",
    "print(f\"{len(ca_bg['ID'])} block groups in the CA block group shapefile\\n\")\n",
    "ca_bg_joined = pd.merge(ca_bg, ejscreen, on='ID')\n",
    "print(f\"{len(ca_bg['ID'].unique())-len(ca_bg_joined)} block groups are missing after merge\")\n"
   ]
  },
  {
   "cell_type": "code",
   "execution_count": null,
   "id": "cfa34cb7",
   "metadata": {},
   "outputs": [],
   "source": [
    "# subset flares to only those in Cali\n",
    "ca_flares = gp.sjoin(all_flares, ca_counties, how = \"inner\", predicate = 'within')\n",
    "print(f'Flares found: {len(ca_flares)}')\n",
    "ca_flares.drop('index_right', axis=1, inplace=True)\n",
    "\n",
    "# set col list for BCM_avg calculation\n",
    "col_list = ['BCM_2012','BCM_2013','BCM_2014','BCM_2015','BCM_2016','BCM_2017',\n",
    "            'BCM_2018','BCM_2019','BCM_2020','BCM_2021']\n",
    "\n",
    "# add new column for average BCM across all years\n",
    "ca_flares['BCM_avg'] = ca_flares[col_list].mean(axis=1)  "
   ]
  },
  {
   "cell_type": "code",
   "execution_count": null,
   "id": "ff99d0c6",
   "metadata": {},
   "outputs": [],
   "source": [
    "\n",
    "\n",
    "# ca_polys_subset = ca_polys_subset.to_crs(meters_crs)\n",
    "# ca_bg_joined = ca_bg_joined.to_crs(meters_crs)"
   ]
  },
  {
   "cell_type": "code",
   "execution_count": null,
   "id": "a023a648",
   "metadata": {},
   "outputs": [],
   "source": [
    "# # Create \"flares present\" binary dependent variable\n",
    "# ca_polys_subset = gp.sjoin(ca_bg_joined, ca_flares, how='inner', predicate='contains')\n",
    "# ca_bg_joined = ca_bg_joined.assign(flares_present=ca_bg_joined['geometry'].isin(ca_polys_subset['geometry']).astype(int))\n",
    "\n",
    "# print(f\"Block groups containing flares (0=no, 1=yes):\\n\")\n",
    "# print(ca_bg_joined['flares_present'].value_counts())"
   ]
  },
  {
   "cell_type": "markdown",
   "id": "8859e131",
   "metadata": {},
   "source": [
    "## 2km Buffer Analysis"
   ]
  },
  {
   "cell_type": "markdown",
   "id": "cea12fd5",
   "metadata": {},
   "source": [
    "1) set buffers around flares  \n",
    "2) Subset census data to only to race and age columns  \n",
    "3) count # of people and create proportion of those columns that are anywhere within the combined buffer  \n",
    "4) same for outside the buffer  \n",
    "5) Create table that summarizes the proportions for in-buffer and out-buffer"
   ]
  },
  {
   "cell_type": "code",
   "execution_count": null,
   "id": "932cceb8",
   "metadata": {},
   "outputs": [],
   "source": [
    "# 1) set 2km buffers around flares and unary_union() into single multipolygon\n",
    "#ca_flares = ca_flares.to_crs(meters_crs)\n",
    "ca_flares[\"buffer_2000m\"] = ca_flares['geometry'].buffer(distance = 2000)"
   ]
  },
  {
   "cell_type": "code",
   "execution_count": null,
   "id": "e141cdda",
   "metadata": {},
   "outputs": [],
   "source": [
    "# ID, ACSTOTPOP, UNDER5, OVER64, MINORPOP, LOWINCOME, D_PM25_2\n",
    "# total population, under 5yr, over 64yr, people of color, low income, EJ index for PM2.5\n",
    "\n",
    "bg_formodel = ca_bg_joined[['ID', 'CNTY_NAME', 'Shape_Area', 'ACSTOTPOP', 'UNDER5', 'OVER64', 'MINORPOP', 'LOWINCOME', 'D_PM25_2', 'geometry']]"
   ]
  },
  {
   "cell_type": "code",
   "execution_count": null,
   "id": "6e0441f1",
   "metadata": {},
   "outputs": [],
   "source": [
    "warnings.filterwarnings('ignore')\n",
    "bg_formodel.loc[:, 'shape_area_new'] = bg_formodel.geometry.area"
   ]
  },
  {
   "cell_type": "code",
   "execution_count": null,
   "id": "16afc3c6",
   "metadata": {},
   "outputs": [],
   "source": [
    "bg_formodel.sample(5)"
   ]
  },
  {
   "cell_type": "code",
   "execution_count": null,
   "id": "7047e3fb",
   "metadata": {},
   "outputs": [],
   "source": [
    "# save to csv for use with initial permutation testing\n",
    "# bg_formodel.to_csv(\"data/bgformodel_permutation.csv\")"
   ]
  },
  {
   "cell_type": "code",
   "execution_count": null,
   "id": "bdcea2e3",
   "metadata": {},
   "outputs": [],
   "source": [
    "# sjoin() doesn't seem to allow picking a specific geometry col.\n",
    "# Have to manually set it to the buffers rather than the flare points\n",
    "ca_flares = ca_flares.set_geometry('buffer_2000m')  # set to the buffers rather than the points\n",
    "\n",
    "# create unary_union of flares, then change back to geodf for processing\n",
    "# crs must be geographic not projected to do a unary union\n",
    "temp = ca_flares.unary_union\n",
    "all_buffers = gp.GeoDataFrame({'geometry': [temp]}, crs=ca_flares.crs)  # convert back to geodf for processing"
   ]
  },
  {
   "cell_type": "code",
   "execution_count": null,
   "id": "11c6d36f",
   "metadata": {
    "scrolled": false
   },
   "outputs": [],
   "source": [
    "# match crs\n",
    "#all_buffers = all_buffers.to_crs(meters_crs)\n",
    "#bg_formodel = bg_formodel.to_crs(meters_crs)\n",
    "\n",
    "# Spatial overlay operation to find only the areas that are in both geometries. \n",
    "# i.e. only the block group areas that are within any buffer zone\n",
    "\n",
    "# this can help with \"bad\" geometries. looks at both inputs and repairs any bad geometries. \n",
    "# make_valid=True\n",
    "bg_inbuffer = gp.overlay(bg_formodel, all_buffers, how='intersection')  # could look at keep_geom=False"
   ]
  },
  {
   "cell_type": "code",
   "execution_count": null,
   "id": "eb2d4cc4",
   "metadata": {},
   "outputs": [],
   "source": [
    "# Create new 'area' column for the areas of the intersections\n",
    "#bg_inbuffer = bg_inbuffer.to_crs(meters_crs)\n",
    "bg_inbuffer['intersect_area'] = bg_inbuffer.area"
   ]
  },
  {
   "cell_type": "code",
   "execution_count": null,
   "id": "24b641f8",
   "metadata": {},
   "outputs": [],
   "source": [
    "# Calculate the proportion of each block group within the buffer zone\n",
    "bg_inbuffer['intersect_prop'] = bg_inbuffer['intersect_area'] / bg_inbuffer['shape_area_new']\n",
    "\n",
    "#bg_formodel = bg_formodel.set_index(bg_formodel.index.astype(int))\n",
    "#bg_formodel = bg_formodel.reset_index().set_index('ID')\n",
    "\n",
    "#bg_inbuffer = bg_inbuffer.set_index('ID')\n",
    "#bg_formodel = bg_formodel.to_crs(meters_crs)\n",
    "#bg_inbuffer['intersect_prop'] = bg_inbuffer['intersect_area'] / bg_formodel.loc[bg_inbuffer.index, 'geometry'].area\n"
   ]
  },
  {
   "cell_type": "code",
   "execution_count": null,
   "id": "3d040b3c",
   "metadata": {},
   "outputs": [],
   "source": [
    "# Apply the proportion to each demographic variable to find counts by variable\n",
    "demo_vars = ['ACSTOTPOP', 'UNDER5', 'OVER64', 'MINORPOP', 'LOWINCOME']\n",
    "for var in demo_vars:\n",
    "    bg_inbuffer[var + '_intersect_count'] = bg_inbuffer[var] * bg_inbuffer['intersect_prop']\n",
    "\n",
    "# find overall proportions for each demo var by dividing var count by respective total population    \n",
    "for var in demo_vars:\n",
    "    bg_inbuffer[var + '_bg_totprop'] = bg_inbuffer[var] / bg_inbuffer['ACSTOTPOP']"
   ]
  },
  {
   "cell_type": "code",
   "execution_count": null,
   "id": "37b09d35",
   "metadata": {},
   "outputs": [],
   "source": [
    "# It's not calculating correctly when a block group is completely contained within a buffer.\n",
    "# so set the ceiling of possible proportions to 1. Band-aid fix. \n",
    "# Does this mean the area calculation is not right either?\n",
    "#bg_flares['bg_5kbuf_prop'] = bg_flares['bg_5kbuf_prop'].clip(0, 1)\n",
    "\n",
    "# calculate the outside-buffer proportion\n",
    "#bg_flares['bg_5kbuf_out_prop'] = 1 - bg_flares['bg_5kbuf_prop']\n",
    "\n",
    "\n",
    "    "
   ]
  },
  {
   "cell_type": "markdown",
   "id": "b13c17ad",
   "metadata": {},
   "source": [
    "### In/out buffer proportions"
   ]
  },
  {
   "cell_type": "code",
   "execution_count": null,
   "id": "716097b9",
   "metadata": {
    "scrolled": false
   },
   "outputs": [],
   "source": [
    "bg_inbuffer[['intersect_area', 'shape_area_new', 'intersect_prop']].sample(10)"
   ]
  },
  {
   "cell_type": "code",
   "execution_count": null,
   "id": "0d8198a4",
   "metadata": {},
   "outputs": [],
   "source": [
    "(bg_inbuffer['MINORPOP_bg_totprop'] * bg_inbuffer['intersect_prop']).mean()"
   ]
  },
  {
   "cell_type": "code",
   "execution_count": null,
   "id": "82501026",
   "metadata": {},
   "outputs": [],
   "source": [
    "prop_vars = ['ACSTOTPOP_bg_totprop', 'UNDER5_bg_totprop', 'OVER64_bg_totprop', 'MINORPOP_bg_totprop', 'LOWINCOME_bg_totprop']\n"
   ]
  },
  {
   "cell_type": "code",
   "execution_count": null,
   "id": "946be0e5",
   "metadata": {},
   "outputs": [],
   "source": [
    "in_buffer"
   ]
  },
  {
   "cell_type": "code",
   "execution_count": null,
   "id": "a141c6f2",
   "metadata": {},
   "outputs": [],
   "source": [
    "#prop_vars = ['ACSTOTPOP_bg_totprop', 'UNDER5_bg_totprop', 'OVER64_bg_totprop', 'MINORPOP_bg_totprop', 'LOWINCOME_bg_totprop']\n",
    "\n",
    "in_buffer = np.sum(bg_inbuffer['MINORPOP_bg_totprop'] * bg_inbuffer['intersect_prop']) / np.sum(bg_inbuffer['intersect_prop'])\n",
    "out_buffer = np.sum(bg_inbuffer['MINORPOP_bg_totprop'] * (1 - bg_inbuffer['intersect_prop'])) / np.sum(1 - bg_inbuffer['intersect_prop'])\n",
    "\n",
    "# create a table from the in-buffer and outside-buffer proportions\n",
    "# proportions = pd.concat([in_buffer, out_buffer], axis=1)\n",
    "# proportions.columns = ['In_Buffer', 'Outside_Buffer']\n",
    "\n",
    "# table that compares the in-buffer proportions to the outside-buffer proportions\n",
    "temp = pd.DataFrame({'In_Buffer': [in_buffer], 'Outside_Buffer': [out_buffer]})\n",
    "print(temp)"
   ]
  },
  {
   "cell_type": "markdown",
   "id": "a9577714",
   "metadata": {},
   "source": [
    "### In/out buffer counts"
   ]
  },
  {
   "cell_type": "code",
   "execution_count": null,
   "id": "edc02d4f",
   "metadata": {},
   "outputs": [],
   "source": [
    "# count_vars = ['ACSTOTPOP_intersect_count', 'UNDER5_intersect_count', 'OVER64_intersect_count', 'MINORPOP_intersect_count', 'LOWINCOME_intersect_count']\n",
    "\n",
    "in_buffer_tot = bg_inbuffer['MINORPOP_bg_totprop'].sum()\n",
    "out_buffer_tot = bg_formodel['ACSTOTPOP'].sum() - in_buffer_tot\n",
    "\n",
    "# create a table from the in-buffer and outside-buffer counts\n",
    "#counts = pd.concat([in_buffer_tot, out_buffer_tot], axis=1)\n",
    "temp = pd.DataFrame({'In_Buffer': [in_buffer_tot], 'Outside_Buffer': [out_buffer_tot]})\n",
    "# format w thousands separators\n",
    "#counts[['In_Buffer_Count', 'Outside_Buffer_Count']] = counts[['In_Buffer_Count', 'Outside_Buffer_Count']].applymap('{:,.0f}'.format)\n",
    "\n",
    "# table that compares the in-buffer counts to the outside-buffer counts\n",
    "print(temp)"
   ]
  },
  {
   "cell_type": "markdown",
   "id": "ce64ee39",
   "metadata": {},
   "source": [
    "#### Save to csv for permutation testing in other notebook\n",
    "\n",
    "**Note** calcs are not correct yet."
   ]
  },
  {
   "cell_type": "code",
   "execution_count": null,
   "id": "1ddff2fc",
   "metadata": {},
   "outputs": [],
   "source": [
    "# save to a csv for further processing in other notebooks\n",
    "# bg_formodel.to_csv(\"data/bgformodel_permutation.csv\")"
   ]
  },
  {
   "cell_type": "markdown",
   "id": "3c1edc96",
   "metadata": {},
   "source": [
    "## Visualization with Folium"
   ]
  },
  {
   "cell_type": "code",
   "execution_count": null,
   "id": "cda809e5",
   "metadata": {},
   "outputs": [],
   "source": [
    "# Convert the GeoDataFrame to the same CRS as the folium map (if necessary)\n",
    "#bg_formodel = bg_formodel.to_crs(3857)\n",
    "\n",
    "# Create a folium map with a center location\n",
    "m = folium.Map(location=[38.377158,-121.645792], zoom_start=6, tiles=None,overlay=False)  #start w lat/long roughly in center of CA\n",
    "base_map = folium.FeatureGroup(name='Base map', overlay=True, control=False)\n",
    "folium.TileLayer(tiles='OpenStreetMap').add_to(base_map)\n",
    "base_map.add_to(m)"
   ]
  },
  {
   "cell_type": "code",
   "execution_count": null,
   "id": "a6648433",
   "metadata": {},
   "outputs": [],
   "source": [
    "# Choropleth of Block Groups\n",
    "folium.Choropleth(bg_formodel,\n",
    "                  data=bg_formodel,\n",
    "                  columns = ['ID', 'D_PM25_2'], \n",
    "                  key_on='feature.properties.ID',\n",
    "                  fill_color=\"Reds\",\n",
    "                  fill_opacity=0.7,\n",
    "                  line_opacity=0.2,\n",
    "                  legend_name=\"PM2.5 Index\",\n",
    "                 name=\"Block Groups\").add_to(m)"
   ]
  },
  {
   "cell_type": "code",
   "execution_count": null,
   "id": "660a2fc7",
   "metadata": {},
   "outputs": [],
   "source": [
    "# Feature Group: Buffers\n",
    "\n",
    "def style_function(feature):\n",
    "    return {\n",
    "        'fillColor': 'red',\n",
    "        'color': 'red',\n",
    "        'fillOpacity': 0.2\n",
    "    }\n",
    "\n",
    "all_flares_buffers = folium.FeatureGroup(name='Flare Buffers', overlay=True)\n",
    "folium.GeoJson(\n",
    "    data=ca_flares[\"buffer_2000m\"],\n",
    "    style_function=style_function\n",
    ").add_to(all_flares_buffers)\n",
    "all_flares_buffers.add_to(m)"
   ]
  },
  {
   "cell_type": "code",
   "execution_count": null,
   "id": "3370356e",
   "metadata": {},
   "outputs": [],
   "source": [
    "# Feature Group: BG-Buffer Intersections\n",
    "\n",
    "def style_function2(feature):\n",
    "    return {\n",
    "        'fillColor': 'blue',\n",
    "        'color': 'blue',\n",
    "        'fillOpacity': 0.2\n",
    "    }\n",
    "\n",
    "intersect = folium.FeatureGroup(name='BG-Flare Intersections', overlay=True)\n",
    "folium.GeoJson(\n",
    "    data=bg_inbuffer['geometry'],\n",
    "    style_function=style_function2\n",
    ").add_to(intersect)\n",
    "intersect.add_to(m)"
   ]
  },
  {
   "cell_type": "code",
   "execution_count": null,
   "id": "ae96cf94",
   "metadata": {},
   "outputs": [],
   "source": [
    "# Add hover functionality\n",
    "style_function = lambda x: {'fillColor': '#ffffff', \n",
    "                            'color':'#000000', \n",
    "                            'fillOpacity': 0.1, \n",
    "                            'weight': 0.1}\n",
    "highlight_function = lambda x: {'fillColor': '#999999', \n",
    "                                'color':'#999999', \n",
    "                                'fillOpacity': 0.50, \n",
    "                                'weight': 0.1}\n",
    "NIL = folium.features.GeoJson(\n",
    "    data = bg_inbuffer,\n",
    "    style_function=style_function, \n",
    "    control=False,\n",
    "    highlight_function=highlight_function, \n",
    "    tooltip=folium.features.GeoJsonTooltip(\n",
    "        fields=['ID','CNTY_NAME', 'intersect_prop', 'intersect_area', 'shape_area_new', 'D_PM25_2', 'MINORPOP'],\n",
    "        style=(\"background-color: white; color: #333333; font-family: arial; font-size: 12px; padding: 10px;\") \n",
    "    )\n",
    ")"
   ]
  },
  {
   "cell_type": "code",
   "execution_count": null,
   "id": "a298b42d",
   "metadata": {},
   "outputs": [],
   "source": [
    "# add hover functionality as child to map, add layering, display map\n",
    "m.add_child(NIL)\n",
    "m.keep_in_front(NIL)\n",
    "folium.LayerControl().add_to(m)\n",
    "m"
   ]
  },
  {
   "cell_type": "code",
   "execution_count": null,
   "id": "ab17b442",
   "metadata": {},
   "outputs": [],
   "source": [
    "# # Flares\n",
    "# all_flares_points = folium.FeatureGroup(name='flare points', overlay=True)\n",
    "# folium.GeoJson(data=ca_flares[\"geometry\"]).add_to(all_flares_points)\n",
    "# all_flares_points.add_to(m)"
   ]
  }
 ],
 "metadata": {
  "kernelspec": {
   "display_name": "capstonermi37",
   "language": "python",
   "name": "capstonermi37"
  },
  "language_info": {
   "codemirror_mode": {
    "name": "ipython",
    "version": 3
   },
   "file_extension": ".py",
   "mimetype": "text/x-python",
   "name": "python",
   "nbconvert_exporter": "python",
   "pygments_lexer": "ipython3",
   "version": "3.7.13"
  }
 },
 "nbformat": 4,
 "nbformat_minor": 5
}
