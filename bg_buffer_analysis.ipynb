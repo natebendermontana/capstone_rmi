{
 "cells": [
  {
   "cell_type": "code",
   "execution_count": null,
   "id": "30bd301c",
   "metadata": {},
   "outputs": [],
   "source": [
    "import geopandas as gp\n",
    "from shapely import wkt\n",
    "from shapely.geometry import Point, Polygon\n",
    "from shapely.ops import unary_union\n",
    "import pandas as pd\n",
    "import numpy as np\n",
    "from pprint import pprint\n",
    "import os\n",
    "import glob\n",
    "import openpyxl\n",
    "import matplotlib.pyplot as plt\n",
    "import matplotlib.ticker as mtick\n",
    "import plotly.express as px #if using plotly\n",
    "import folium\n",
    "import warnings\n",
    "import random"
   ]
  },
  {
   "cell_type": "code",
   "execution_count": null,
   "id": "ea659b2b",
   "metadata": {},
   "outputs": [],
   "source": [
    "pd.set_option('display.max_columns', None)  # display all columns\n",
    "pd.options.display.float_format = '{:20,.2f}'.format  # suppress scientific notation"
   ]
  },
  {
   "cell_type": "markdown",
   "id": "c149f833",
   "metadata": {},
   "source": [
    "## Research Questions"
   ]
  },
  {
   "cell_type": "markdown",
   "id": "6eddae6c",
   "metadata": {},
   "source": [
    "### 1) Is there a significant difference in the proportion of minorities within a given flaring buffer zone versus outside the buffer? \n",
    "\n",
    "#### Ultimate goal is a comparison of three different buffers (400, 1000, 2000) following Czolowski et al, 2017 (they did 100; 400; 800; 1,000; 1,600; and 2,000 m)\n",
    "\n",
    "#### Two comparisons: In_buffer versus all of California, and a geographically narrower version: in_buffer versus only the subset of the population in BGs that intersect a flare or are adjacent to a BG that intersects a flare. \n",
    "\n",
    "Null: Proportion of BG in a buffer is independent of minority status.  \n",
    "Alt:  Proportion of BG in a buffer is related to minority status.\n",
    "  \n",
    "Test stat: Difference in weighted minority proportions.\n",
    "\n",
    "Weighted minority proportion = sumproduct(minority_prop * intersect_prop) / sum(intersect_prop)\n",
    "minority_prop is the proportion of minorities in a block group\n",
    "intersect_prop is the proportion of BG area residing in the buffer zone\n",
    "\n",
    "Permutation testing: Permute the intersect_prop variable, holding the fraction of minorities in each BG constant.\n",
    " \n",
    "Process   \n",
    "a) Calculate the actual minority proportions of the aggregrate in-buffer and out-buffer areas\n",
    "Using 2km buffer for starters (Czolowski, 2017)  \n",
    "b) Scramble the intersect_prop variable, holding the minority_prop variable constant.   \n",
    "c) Calculate number of simulated proportions that match or exceed the actual proportion. Calculate p-value.  \n"
   ]
  },
  {
   "cell_type": "markdown",
   "id": "3975a71b",
   "metadata": {},
   "source": [
    "## Load data, set project CRS"
   ]
  },
  {
   "cell_type": "code",
   "execution_count": null,
   "id": "212b25d2",
   "metadata": {},
   "outputs": [],
   "source": [
    "ca_state = gp.read_file(\"data/CA_State_TIGER2016.shp\")  # CA state\n",
    "ca_counties = gp.read_file(\"data/CA_Counties_TIGER2016.shp\")  # CA counties\n",
    "ca_bg = gp.read_file(\"data/ca_bg_clean.shp\")  # CA block groups, cleaned"
   ]
  },
  {
   "cell_type": "code",
   "execution_count": null,
   "id": "c82f425e",
   "metadata": {},
   "outputs": [],
   "source": [
    "# just CA flares\n",
    "ca_flares = gp.read_file(\"data/ca_flares_clean.shp\")\n",
    "print(f'Flares found: {len(ca_flares)}')\n",
    "\n",
    "# CA block groups merged with EJscreen data\n",
    "ca_bg_joined = gp.read_file(\"data/ca_bg_joined_clean.shp\", dtype={'bg_id': 'int', 'index':'int'})\n",
    "\n",
    "# update col name for correct area b/c it gets saved as a truncated version when saved as a shapefile out of the \n",
    "# main data cleaning notebook\n",
    "ca_bg_joined.rename(columns={'shape_ar_1':'shape_area_new'}, inplace=True)  # old:new.\n",
    "print(f'BGs found: {len(ca_bg_joined)}')"
   ]
  },
  {
   "cell_type": "code",
   "execution_count": null,
   "id": "feacd1ee",
   "metadata": {},
   "outputs": [],
   "source": [
    "# set common crs for project\n",
    "# epsg3310: https://epsg.io/3310-1739\n",
    "# units: meters\n",
    "meters_crs = 3310  # Projected crs. this should be good for this overlay() calculation and all of project. \n",
    "\n",
    "ca_state = ca_state.to_crs(meters_crs)\n",
    "ca_counties = ca_counties.to_crs(meters_crs)\n",
    "ca_bg = ca_bg.to_crs(meters_crs)"
   ]
  },
  {
   "cell_type": "markdown",
   "id": "5e61d175",
   "metadata": {},
   "source": [
    "#### Discuss w RMI: dropping the three aquatic buffers"
   ]
  },
  {
   "cell_type": "code",
   "execution_count": null,
   "id": "fa4de4eb",
   "metadata": {},
   "outputs": [],
   "source": [
    "# There are five BGs that seem to just be aquatic buffers around the actual county land.\n",
    "# Dropping them for now \n",
    "# Explore if needed: ca_bg_joined.explore()\n",
    "\n",
    "ids_to_drop = [60839900000, 61119901000, 60379902000, 60379903000, 60599901000]\n",
    "\n",
    "# Drop the rows with those IDs\n",
    "ca_bg_joined = ca_bg_joined[~ca_bg_joined['bg_id'].isin(ids_to_drop)]"
   ]
  },
  {
   "cell_type": "markdown",
   "id": "50162b7d",
   "metadata": {},
   "source": [
    "### Break things back out of functions, troubleshoot step by step to find issue with the out_buffer calculation coming out to ~0.60 for all buffer sizes. "
   ]
  },
  {
   "cell_type": "code",
   "execution_count": null,
   "id": "3a631bbc",
   "metadata": {},
   "outputs": [],
   "source": [
    "ca_counties.rename(columns={'NAMELSAD':'CNTY_NAME'}, inplace=True)  # old:new. Match col names for merging\n",
    "\n",
    "# subset to only cols needed\n",
    "ca_bg_joined_sub = ca_bg_joined[['bg_id', 'CNTY_NAME', 'ACSTOTPOP', 'MINORPOP',\n",
    "                           'D_PM25_2', 'shape_area_new', 'geometry']].copy()\n",
    "\n",
    "ca_bg_joined_sub.rename(columns={'geometry':'bg_geom'}, inplace=True)  # old:new. Match col names for merging\n",
    "\n",
    "counties_sub = ca_counties[['CNTY_NAME', 'geometry']].copy()\n",
    "\n",
    "counties_sub.rename(columns={'geometry':'cnty_geom'}, inplace=True)  # old:new. Match col names for merging\n"
   ]
  },
  {
   "cell_type": "code",
   "execution_count": null,
   "id": "0a3ec178",
   "metadata": {},
   "outputs": [],
   "source": [
    "# add county names to social dataframe\n",
    "\n",
    "ca_bg_joined_sub = pd.merge(ca_bg_joined_sub, counties_sub, \n",
    "                             on='CNTY_NAME', how='left')\n",
    "\n"
   ]
  },
  {
   "cell_type": "markdown",
   "id": "cc52193a",
   "metadata": {},
   "source": [
    "#### Store for later use if necessary: subsetting to only intersected counties"
   ]
  },
  {
   "cell_type": "code",
   "execution_count": null,
   "id": "f9e1d202",
   "metadata": {},
   "outputs": [],
   "source": [
    "# # subset full social df down to just the rows that are in the intersected counties\n",
    "# county_names = intersect_df['CNTY_NAME'].unique()\n",
    "# social_counties = ca_bg_joined_sub[ca_bg_joined_sub['CNTY_NAME'].isin(county_names)]"
   ]
  },
  {
   "cell_type": "markdown",
   "id": "aa666031",
   "metadata": {},
   "source": [
    "#### Subset full social data down to just intersected BGs and BGs adjacent (\"touching\") to the intersected BGs. "
   ]
  },
  {
   "cell_type": "code",
   "execution_count": null,
   "id": "86ec1008",
   "metadata": {},
   "outputs": [],
   "source": [
    "buffer_size=2000\n",
    "ca_flares, intersect_df = create_buffer_intersection(ca_flares, ca_bg_joined_sub, buffer_size)"
   ]
  },
  {
   "cell_type": "code",
   "execution_count": null,
   "id": "b6073aba",
   "metadata": {},
   "outputs": [],
   "source": [
    "intersect_df = intersect_df.set_geometry('intersect_geom')\n",
    "ca_bg_joined_sub = ca_bg_joined_sub.set_geometry('bg_geom')\n",
    "\n",
    "intersect_mask = intersect_df['bg_id'].unique()"
   ]
  },
  {
   "cell_type": "code",
   "execution_count": null,
   "id": "917760d0",
   "metadata": {},
   "outputs": [],
   "source": [
    "len(intersect_mask)"
   ]
  },
  {
   "cell_type": "code",
   "execution_count": null,
   "id": "34d0dd70",
   "metadata": {},
   "outputs": [],
   "source": [
    "intersect_bgs = ca_bg_joined_sub[ca_bg_joined_sub['bg_id'].isin(intersect_mask)]"
   ]
  },
  {
   "cell_type": "code",
   "execution_count": null,
   "id": "d37a5a7e",
   "metadata": {},
   "outputs": [],
   "source": [
    "intersect_bgs[intersect_bgs['bg_id']==60375754011]"
   ]
  },
  {
   "cell_type": "markdown",
   "id": "d26db43a",
   "metadata": {},
   "source": [
    "### Use the intersected BGs to subset the full df to only the BGs adjacent to the intersected BGs. "
   ]
  },
  {
   "cell_type": "code",
   "execution_count": null,
   "id": "28cabadf",
   "metadata": {},
   "outputs": [],
   "source": [
    "inter_adj_df = gp.sjoin(ca_bg_joined_sub, intersect_bgs, how = \"inner\", predicate = 'intersects')"
   ]
  },
  {
   "cell_type": "code",
   "execution_count": null,
   "id": "9b6a63b4",
   "metadata": {},
   "outputs": [],
   "source": [
    "\n",
    "# clean up df after sjoin brought a bunch of extra cols in\n",
    "to_drop = []\n",
    "\n",
    "for col in inter_adj_df.columns:\n",
    "    \n",
    "    # Check if the column name ends with '_left'\n",
    "    if col.endswith('_left'):\n",
    "        new_col = col[:-5]\n",
    "        inter_adj_df = inter_adj_df.rename(columns={col:new_col})\n",
    "\n",
    "    # drop the '_right' cols bc they're duplicates\n",
    "    elif col.endswith('_right'):\n",
    "        to_drop.append(col)\n",
    "\n",
    "inter_adj_df = inter_adj_df.drop(to_drop, axis=1)\n",
    "\n",
    "# drop duplicates brought in by the sjoin()\n",
    "inter_adj_df = inter_adj_df.drop_duplicates(subset=['bg_id'])\n"
   ]
  },
  {
   "cell_type": "code",
   "execution_count": null,
   "id": "899c28c0",
   "metadata": {},
   "outputs": [],
   "source": [
    "len(inter_adj_df)"
   ]
  },
  {
   "cell_type": "code",
   "execution_count": null,
   "id": "a3ade2e0",
   "metadata": {},
   "outputs": [],
   "source": [
    "len(inter_adj_df['bg_id'].unique())"
   ]
  },
  {
   "cell_type": "code",
   "execution_count": null,
   "id": "c43c5591",
   "metadata": {},
   "outputs": [],
   "source": [
    "inter_adj_df[inter_adj_df['bg_id']==60375754011]"
   ]
  },
  {
   "cell_type": "code",
   "execution_count": null,
   "id": "9d7ea144",
   "metadata": {},
   "outputs": [],
   "source": [
    "# ensure that the intersections, not the counties, are set as the geometry for calculations.\n",
    "intersect_df = intersect_df.set_geometry('intersect_geom')  # set to the buffers rather than the points\n",
    "\n",
    "# Create new 'area' column for the areas of the intersections\n",
    "intersect_df['intersect_area'] = intersect_df.area\n",
    "\n",
    "# Calculate the proportion of each block group within the buffer zone\n",
    "intersect_df['intersect_prop'] = intersect_df['intersect_area'] / intersect_df['shape_area_new']\n",
    "\n",
    "\n",
    "\n",
    "# merge the intersections data back into the (subsetted) social df. This creates a df of all BGs — those\n",
    "# that contain intersections and those that do not — in the counties that have an intersection. \n",
    "\n",
    "# I'm creating a subset of California, in effect, to combat against the extremely skewed dataset when I \n",
    "# compare the in/out buffer proportions across all of Cali. \n",
    "bgs_intersections = pd.merge(inter_adj_df, \n",
    "                             intersect_df[['bg_id','intersect_geom','intersect_area', 'intersect_prop']], \n",
    "                             on=['bg_id'], \n",
    "                             how='left').fillna({'intersect_area': 0, 'intersect_prop': 0})"
   ]
  },
  {
   "cell_type": "code",
   "execution_count": null,
   "id": "95bfc7f9",
   "metadata": {},
   "outputs": [],
   "source": [
    "# Apply the proportion to each demographic variable to find counts by variable\n",
    "demo_vars = ['ACSTOTPOP', 'MINORPOP']\n",
    "for var in demo_vars:\n",
    "    bgs_intersections[var + '_intersect_count'] = bgs_intersections[var] * bgs_intersections['intersect_prop']\n",
    "\n",
    "# find overall proportions for each demo var by dividing var count by respective total population    \n",
    "for var in demo_vars:\n",
    "    bgs_intersections[var + '_bg_totprop'] = np.where(bgs_intersections['ACSTOTPOP'] != 0, \n",
    "                                                      bgs_intersections[var] / bgs_intersections['ACSTOTPOP'], 0)\n",
    "\n",
    "bgs_intersections['outintersect_prop'] = 1-bgs_intersections['intersect_prop']\n",
    "\n",
    "# Calculate the in_buffer and out_buffer proportions for the sample\n",
    "in_buffer = np.sum(bgs_intersections['MINORPOP_bg_totprop'] * bgs_intersections['intersect_prop']) / np.sum(bgs_intersections['intersect_prop'])\n",
    "out_buffer = np.sum(bgs_intersections['MINORPOP_bg_totprop'] * bgs_intersections['outintersect_prop']) / np.sum(bgs_intersections['outintersect_prop'])\n",
    "\n"
   ]
  },
  {
   "cell_type": "code",
   "execution_count": null,
   "id": "6822459d",
   "metadata": {},
   "outputs": [],
   "source": [
    "# why so many duplicates?\n",
    "\n",
    "# sample bg\n",
    "bgs_intersections[bgs_intersections['bg_id']==60375754011]"
   ]
  },
  {
   "cell_type": "code",
   "execution_count": null,
   "id": "2bc1ed7f",
   "metadata": {},
   "outputs": [],
   "source": []
  },
  {
   "cell_type": "markdown",
   "id": "1b967e10",
   "metadata": {},
   "source": [
    "# Functions"
   ]
  },
  {
   "cell_type": "code",
   "execution_count": null,
   "id": "23fd79fb",
   "metadata": {},
   "outputs": [],
   "source": [
    "def create_buffer_intersection(flares_df, social_df, buffer_size):\n",
    "    \"\"\"\n",
    "    Creates a new Geodf containing the intersection between census BGs\n",
    "    and buffers of {buffer size} around flare sites.\n",
    "    \n",
    "    Parameters\n",
    "    ----------\n",
    "    flares_df : A Geodf containing point geometries representing flare sites.\n",
    "    social_df : A Geodf containing polygon geometries representing social data from EPA EJScreen\n",
    "    buffer_size : int\n",
    "        The size of the buffer around each flare site, in meters.\n",
    "    \n",
    "    Returns\n",
    "    -------\n",
    "    tuple of GeoDataFrames\n",
    "        A tuple containing two GeoDataFrames:\n",
    "        1. The original flares_df with a new buffer column added.\n",
    "        2. A GeoDataFrame containing the intersection between social_df and the \n",
    "        union of all buffer geometries in flares_df.\n",
    "    \"\"\"\n",
    "    \n",
    "    social_df = social_df.set_geometry('bg_geom')\n",
    "    \n",
    "    #flares_df = set_geometry_buffer(flares_df, buffer_size)\n",
    "    buffer_col = f\"buffer_{buffer_size}m\"\n",
    "    flares_df[buffer_col] = flares_df['geometry'].buffer(distance=buffer_size)\n",
    "\n",
    "    flares_df = flares_df.set_geometry(buffer_col)\n",
    "    \n",
    "    temp = flares_df.unary_union\n",
    "    all_buffers = gp.GeoDataFrame({'geometry': [temp]}, crs=flares_df.crs)  # convert back to geodf for processing\n",
    "    \n",
    "    intersect_temp = gp.overlay(social_df, all_buffers, how='intersection')  # could look at keep_geom=False\n",
    "    \n",
    "    intersect_temp.rename(columns={'geometry':'intersect_geom'}, inplace=True)  # old:new. Match col names for merging\n",
    "    \n",
    "    return flares_df, intersect_temp"
   ]
  },
  {
   "cell_type": "code",
   "execution_count": null,
   "id": "529942cf",
   "metadata": {},
   "outputs": [],
   "source": [
    "def calculate_stats_ca(intersect_portions, social_df, buffer_size, analysis_type):\n",
    "    \"\"\"\n",
    "    Calculates statistics related to the intersection between buffer zones and census block groups.\n",
    "    BGs used for analysis are all California BGs. \n",
    "\n",
    "    Parameters:\n",
    "    -----------\n",
    "    intersect_portions : pandas.df\n",
    "        df containing information on intersections between buffer zones and census block groups.\n",
    "    social_df : pandas.df\n",
    "        df containing social variables for each census block group.\n",
    "    buffer_size : int\n",
    "        Size of the buffer zone in meters.\n",
    "    \"\"\"\n",
    "    \n",
    "    intersect_portions_temp = intersect_portions\n",
    "\n",
    "    # ensure that the intersections, not the counties, are set as the geometry for calculations.\n",
    "    intersect_portions_temp = intersect_portions_temp.set_geometry('intersect_geom')  # set to the buffers rather than the points\n",
    "\n",
    "    # Create new 'area' column for the areas of the intersections\n",
    "    intersect_portions_temp['intersect_area'] = intersect_portions_temp.area\n",
    "\n",
    "    # Calculate the proportion of each block group within the buffer zone\n",
    "    intersect_portions_temp['intersect_prop'] = intersect_portions_temp['intersect_area'] / intersect_portions_temp['shape_area_new']\n",
    "\n",
    "    bgs_intersections = pd.merge(social_df, \n",
    "                                 intersect_portions_temp[['bg_id','intersect_geom','intersect_area', 'intersect_prop']], \n",
    "                                 on=['bg_id'], \n",
    "                                 how='left').fillna({'intersect_area': 0, 'intersect_prop': 0})\n",
    "\n",
    "    # Apply the proportion to each demographic variable to find counts by variable\n",
    "    demo_vars = ['ACSTOTPOP', 'MINORPOP']\n",
    "    for var in demo_vars:\n",
    "        bgs_intersections[var + '_intersect_count'] = bgs_intersections[var] * bgs_intersections['intersect_prop']\n",
    "\n",
    "    # find overall proportions for each demo var by dividing var count by respective total population    \n",
    "    for var in demo_vars:\n",
    "        bgs_intersections[var + '_bg_totprop'] = np.where(bgs_intersections['ACSTOTPOP'] != 0, \n",
    "                                                          bgs_intersections[var] / bgs_intersections['ACSTOTPOP'], 0)\n",
    "\n",
    "    bgs_intersections['outintersect_prop'] = 1-bgs_intersections['intersect_prop']\n",
    "\n",
    "    # Calculate the in_buffer and out_buffer proportions for the sample\n",
    "    in_buffer = np.sum(bgs_intersections['MINORPOP_bg_totprop'] * bgs_intersections['intersect_prop']) / np.sum(bgs_intersections['intersect_prop'])\n",
    "    out_buffer = np.sum(bgs_intersections['MINORPOP_bg_totprop'] * bgs_intersections['outintersect_prop']) / np.sum(bgs_intersections['outintersect_prop'])\n",
    "\n",
    "    # old print statements; not used now but may be useful in future\n",
    "#     print(f\" buffer: *{buffer_size}m*\")\n",
    "#     print(f\" BGs in buffer: {len(intersect_portions_temp)} out of total: {len(bgs_intersections)}\")\n",
    "#     print(f\" People in buffer: {round(sum(bgs_intersections['ACSTOTPOP_intersect_count'])):,} out of total: {sum(bgs_intersections['ACSTOTPOP']):,}\")\n",
    "#     print()\n",
    "#     print(f\" in_buffer prop: {in_buffer}\")\n",
    "#     print(f\" out_buffer prop: {out_buffer}\")\n",
    "#     print()\n",
    "    \n",
    "    # Create a dictionary to hold the output for this buffer size    \n",
    "    output_dict = {\n",
    "        'analysis_type': analysis_type,\n",
    "        'buffer_size (m)': buffer_size,\n",
    "        'BGs_50%ormore_overlap': (bgs_intersections.groupby('bg_id')['intersect_prop'].\n",
    "                                  apply(lambda x: (x >= .5).sum()).sum()),\n",
    "        'BGs_full_overlap': (bgs_intersections.groupby('bg_id')['intersect_prop'].\n",
    "                             apply(lambda x: (x == 1).sum()).sum()),\n",
    "        'BGs_inbuffer': len(intersect_portions_temp),\n",
    "        'BGs_total': len(bgs_intersections['bg_id'].unique()),\n",
    "        'pop_inbuffer': round(bgs_intersections.groupby('bg_id')['ACSTOTPOP_intersect_count'].sum().sum()),\n",
    "        'pop_total': sum(bgs_intersections.groupby('bg_id')['ACSTOTPOP'].sum()),\n",
    "        'inbuffer_prop': in_buffer,\n",
    "        'outbuffer_prop': out_buffer,\n",
    "        'prop_diff': in_buffer-out_buffer\n",
    "    }\n",
    "    \n",
    "    # Return the output as a DataFrame\n",
    "    return bgs_intersections, pd.DataFrame(output_dict, index=[0])"
   ]
  },
  {
   "cell_type": "code",
   "execution_count": null,
   "id": "e16218b0",
   "metadata": {},
   "outputs": [],
   "source": [
    "# Comparison set: all BGs in California\n",
    "\n",
    "buffer_sizes = [100, 400, 800, 1000, 1600, 2000, 5000, 7500, 10000]\n",
    "\n",
    "# initialize empty df\n",
    "df_view_ca = pd.DataFrame()\n",
    "\n",
    "for buffer_size in buffer_sizes:\n",
    "    ca_flares, intersect_portions = create_buffer_intersection(ca_flares, ca_bg_joined_sub, buffer_size)\n",
    "    df_ca_forpermutation, buffer_output = calculate_stats_ca(intersect_portions, ca_bg_joined_sub, buffer_size, \"ca\")\n",
    "\n",
    "    df_view_ca = df_view_ca.append(buffer_output, ignore_index=True) "
   ]
  },
  {
   "cell_type": "code",
   "execution_count": null,
   "id": "9f68203a",
   "metadata": {},
   "outputs": [],
   "source": [
    "df_view"
   ]
  },
  {
   "cell_type": "code",
   "execution_count": null,
   "id": "62627441",
   "metadata": {},
   "outputs": [],
   "source": [
    "def calculate_stats_adjacent(intersect_portions, social_df, buffer_size, analysis_type):\n",
    "    \"\"\"\n",
    "    Calculates statistics related to the intersection between buffer zones and census block groups.\n",
    "    BGs used for analysis are those that contain an intersection with a buffer and those BGs adjacent to the\n",
    "    intersected BGs.\n",
    "\n",
    "    Parameters:\n",
    "    -----------\n",
    "    intersect_portions : pandas.df\n",
    "        df containing information on intersections between buffer zones and census block groups.\n",
    "    social_df : pandas.df\n",
    "        df containing social variables for each census block group.\n",
    "    buffer_size : int\n",
    "        Size of the buffer zone in meters.\n",
    "    \"\"\"\n",
    "    \n",
    "    social_df = social_df.set_geometry('bg_geom')\n",
    "    \n",
    "    # Create filtered df of all intersected BGs plus adjacent BGs to those intersected\n",
    "    # mask for filtering social_df down to just intersected BGs\n",
    "    intersect_portions_temp = intersect_portions\n",
    "    intersect_portions_temp = intersect_portions_temp.set_geometry('intersect_geom')\n",
    "    intersect_mask = intersect_portions_temp['bg_id'].unique()\n",
    "    intersect_bgs = social_df[social_df['bg_id'].isin(intersect_mask)]\n",
    "    intersect_bgs = intersect_bgs.set_geometry('bg_geom')  # set to the buffers rather than the points\n",
    "\n",
    "    # \n",
    "    inter_adj_df = gp.sjoin(social_df, intersect_bgs, how = \"inner\", predicate = 'intersects')\n",
    "    inter_adj_df = inter_adj_df.loc[:, ~inter_adj_df.columns.str.endswith('_right')]\n",
    "    inter_adj_df.columns = inter_adj_df.columns.str.replace('_left', '')\n",
    "    \n",
    "    # drop duplicates brought in by the sjoin()\n",
    "    inter_adj_df = inter_adj_df.drop_duplicates(subset=['bg_id'])\n",
    "\n",
    "    # Conduct area and proportions calculations\n",
    "    # ensure that the intersections, not the counties, are set as the geometry for calculations.\n",
    "    intersect_portions_temp = intersect_portions_temp.set_geometry('intersect_geom')  # set to the buffers rather than the points\n",
    "    # Create new 'area' column for the areas of the intersections\n",
    "    intersect_portions_temp['intersect_area'] = intersect_portions_temp.area\n",
    "    # Calculate the proportion of each block group within the buffer zone\n",
    "    intersect_portions_temp['intersect_prop'] = intersect_portions_temp['intersect_area'] / intersect_portions_temp['shape_area_new']\n",
    "\n",
    "    # merge the intersections data back into the (subsetted) social df. This creates a df of all BGs — those\n",
    "    # that contain intersections and those that do not — in the bgs that have an intersection plus BGs adjacent\n",
    "    # to the intersected BGs. \n",
    "    # I'm creating a subset of California, in effect, to combat against the extremely skewed dataset when I \n",
    "    # compare the in/out buffer proportions across all of Cali. \n",
    "    bgs_intersections = pd.merge(inter_adj_df, \n",
    "                                 intersect_portions_temp[['bg_id','intersect_geom','intersect_area', 'intersect_prop']], \n",
    "                                 on=['bg_id'], \n",
    "                                 how='left').fillna({'intersect_area': 0, 'intersect_prop': 0})\n",
    "\n",
    "    # Apply the proportion to each demographic variable to find counts by variable\n",
    "    demo_vars = ['ACSTOTPOP', 'MINORPOP']\n",
    "    for var in demo_vars:\n",
    "        bgs_intersections[var + '_intersect_count'] = bgs_intersections[var] * bgs_intersections['intersect_prop']\n",
    "\n",
    "    # find overall proportions for each demo var by dividing var count by respective total population    \n",
    "    for var in demo_vars:\n",
    "        bgs_intersections[var + '_bg_totprop'] = np.where(bgs_intersections['ACSTOTPOP'] != 0, \n",
    "                                                          bgs_intersections[var] / bgs_intersections['ACSTOTPOP'], 0)\n",
    "\n",
    "    bgs_intersections['outintersect_prop'] = 1-bgs_intersections['intersect_prop']\n",
    "\n",
    "    # Calculate the in_buffer and out_buffer proportions for the sample\n",
    "    in_buffer = np.sum(bgs_intersections['MINORPOP_bg_totprop'] * bgs_intersections['intersect_prop']) / np.sum(bgs_intersections['intersect_prop'])\n",
    "    out_buffer = np.sum(bgs_intersections['MINORPOP_bg_totprop'] * bgs_intersections['outintersect_prop']) / np.sum(bgs_intersections['outintersect_prop'])\n",
    "\n",
    "    # Create a dictionary to hold the output for this buffer size\n",
    "    \n",
    "    output_dict = {\n",
    "        'analysis_type': analysis_type,\n",
    "        'buffer_size (m)': buffer_size,\n",
    "        'BGs_50%ormore_overlap': (bgs_intersections.groupby('bg_id')['intersect_prop'].\n",
    "                                  apply(lambda x: (x >= .5).sum()).sum()),\n",
    "        'BGs_full_overlap': (bgs_intersections.groupby('bg_id')['intersect_prop'].\n",
    "                             apply(lambda x: (x == 1).sum()).sum()),\n",
    "        'BGs_inbuffer': len(intersect_mask),\n",
    "        'BGs_total': len(bgs_intersections['bg_id'].unique()),\n",
    "        'pop_inbuffer': round(bgs_intersections.groupby('bg_id')['ACSTOTPOP_intersect_count'].sum().sum()),\n",
    "        'pop_total': sum(bgs_intersections.groupby('bg_id')['ACSTOTPOP'].sum()),\n",
    "        'inbuffer_prop': in_buffer,\n",
    "        'outbuffer_prop': out_buffer,\n",
    "        'prop_diff': in_buffer-out_buffer\n",
    "    }\n",
    "    \n",
    "    # Return the output as a DataFrame\n",
    "    return bgs_intersections, pd.DataFrame(output_dict, index=[0])\n"
   ]
  },
  {
   "cell_type": "code",
   "execution_count": null,
   "id": "4413046f",
   "metadata": {},
   "outputs": [],
   "source": [
    "# Comparison set: only intersected and intersect-adjacent BGs\n",
    "\n",
    "buffer_sizes = [100, 400, 800, 1000, 1600, 2000, 5000, 7500, 10000]\n",
    "#buffer_sizes = [2000, 5000, 10000]\n",
    "\n",
    "# initialize empty df\n",
    "df_view_adjacent = pd.DataFrame()\n",
    "\n",
    "for buffer_size in buffer_sizes:\n",
    "    \n",
    "    ca_flares, intersect_portions = create_buffer_intersection(ca_flares, ca_bg_joined_sub, buffer_size)\n",
    "    df_adjacent_forpermutation, buffer_output = calculate_stats_adjacent(intersect_portions, ca_bg_joined_sub, buffer_size, \"adjacent\")\n",
    "\n",
    "    df_view_adjacent = df_view_adjacent.append(buffer_output, ignore_index=True) "
   ]
  },
  {
   "cell_type": "code",
   "execution_count": null,
   "id": "113bbc58",
   "metadata": {},
   "outputs": [],
   "source": [
    "df_view_adjacent"
   ]
  },
  {
   "cell_type": "code",
   "execution_count": null,
   "id": "f7044b8b",
   "metadata": {},
   "outputs": [],
   "source": [
    "def write_files(df, analysis_type):\n",
    "    \"\"\"\n",
    "    Write final df to tsv for permutation in R. \n",
    "    Analyis type = either \"ca\" for all of Cali BGs, or \"adjacent\" for the intersected and intersected-adjacent BGs\n",
    "    \"\"\"\n",
    "    \n",
    "    # drop the geometries before writing to files; they're not needed for permutation\n",
    "    df_drop = df.drop([\"bg_geom\", \"intersect_geom\", \"cnty_geom\"], axis=1)    \n",
    "    filename = f\"data/{analysis_type}_df_{buffer_size}m_forpermutation.tsv\"\n",
    "    bgs_intersections_drop.to_csv(filename, sep=\"\\t\", index=False)\n",
    "    return"
   ]
  },
  {
   "cell_type": "markdown",
   "id": "7467816e",
   "metadata": {},
   "source": [
    "### Prop table"
   ]
  },
  {
   "cell_type": "code",
   "execution_count": null,
   "id": "85a6e8c9",
   "metadata": {},
   "outputs": [],
   "source": [
    "# scatterplot of buffer props\n",
    "\n",
    "fig, ax = plt.subplots(figsize=(8, 6))\n",
    "ax.scatter(df_view_adjacent['buffer_size (m)'], df_view_adjacent['inbuffer_prop'], label='Inside buffer')\n",
    "ax.scatter(df_view_adjacent['buffer_size (m)'], df_view_adjacent['outbuffer_prop'], label='Outside buffer')\n",
    "\n",
    "# Set xticks to the buffer sizes\n",
    "xticks = [100, 400, 800, 1000, 1600, 2000]\n",
    "ax.set_xticks(xticks)\n",
    "\n",
    "# Set xticklabels to the buffer sizes\n",
    "xticklabels = [f\"{b:,}\" for b in xticks]\n",
    "ax.set_xticklabels(xticklabels)\n",
    "ax.set_xlabel('Buffer size (m)')\n",
    "ax.set_ylabel('Proportion of MINORPOP')\n",
    "ax.legend()\n",
    "plt.show()\n"
   ]
  },
  {
   "cell_type": "markdown",
   "id": "4245ba3e",
   "metadata": {},
   "source": [
    "### Counts"
   ]
  },
  {
   "cell_type": "code",
   "execution_count": null,
   "id": "af3d5e1b",
   "metadata": {},
   "outputs": [],
   "source": [
    "# scatterplot of buffer counts\n",
    "# visualizing just in-buffer counts for readability. \n",
    "\n",
    "fig, ax = plt.subplots(figsize=(8, 6))\n",
    "ax.scatter(df_view_adjacent['buffer_size (m)'], df_view_adjacent['pop_inbuffer'], label='Inside buffer')\n",
    "#ax.scatter(df_view_adjacent['buffer_size (m)'], df_view_adjacent['pop_outbuffer'], label='Outside buffer')\n",
    "\n",
    "# Define the formatter function\n",
    "def thousand_fmt(x, pos):\n",
    "    return f\"{x:,.0f}\"\n",
    "# Set the formatter function for the y-axis\n",
    "ax.yaxis.set_major_formatter(mtick.FuncFormatter(thousand_fmt))\n",
    "\n",
    "# Set xticks to the buffer sizes\n",
    "xticks = [100, 400, 800, 1000, 1600, 2000, 5000, 7500, 10000]\n",
    "ax.set_xticks(xticks)\n",
    "\n",
    "# Set xticklabels to the buffer sizes\n",
    "xticklabels = [f\"{b:,}\" for b in xticks]\n",
    "ax.set_xticklabels(xticklabels)\n",
    "ax.set_xlabel('Buffer size (m)')\n",
    "ax.set_ylabel('Counts of MINORPOP')\n",
    "ax.legend()\n",
    "plt.show()"
   ]
  },
  {
   "cell_type": "markdown",
   "id": "3c1edc96",
   "metadata": {},
   "source": [
    "## Visualization with Folium"
   ]
  },
  {
   "cell_type": "code",
   "execution_count": null,
   "id": "a6648433",
   "metadata": {},
   "outputs": [],
   "source": [
    "# # Choropleth of Block Groups\n",
    "\n",
    "# folium.Choropleth(intersect_df,\n",
    "#                   data=intersect_df,\n",
    "#                   columns = ['bg_id', 'D_PM25_2'], \n",
    "#                   key_on='feature.properties.bg_id',\n",
    "#                   fill_color=\"Reds\",\n",
    "#                   fill_opacity=0.7,\n",
    "#                   line_opacity=0.2,\n",
    "#                   legend_name=\"PM2.5 Index\",\n",
    "#                  name=\"Block Groups\").add_to(m)\n"
   ]
  },
  {
   "cell_type": "code",
   "execution_count": null,
   "id": "cda809e5",
   "metadata": {},
   "outputs": [],
   "source": [
    "# Convert the GeoDataFrame to the same CRS as the folium map (if necessary)\n",
    "\n",
    "# Create a folium map with a center location\n",
    "m = folium.Map(location=[38.377158,-121.645792], zoom_start=6, tiles=None,overlay=False)  #start w lat/long roughly in center of CA\n",
    "base_map = folium.FeatureGroup(name='Base map', overlay=True, control=False)\n",
    "folium.TileLayer(tiles='OpenStreetMap').add_to(base_map)\n",
    "base_map.add_to(m)"
   ]
  },
  {
   "cell_type": "code",
   "execution_count": null,
   "id": "3370356e",
   "metadata": {},
   "outputs": [],
   "source": [
    "# Feature Group: All CA block groups\n",
    "\n",
    "def style_function2(feature):\n",
    "    return {\n",
    "        'fillColor': 'grey',\n",
    "        'color': 'grey',\n",
    "        'fillOpacity': 0.01\n",
    "    }\n",
    "\n",
    "all_ca_bg = folium.FeatureGroup(name='All CA BG', overlay=True)\n",
    "folium.GeoJson(\n",
    "    data=ca_bg_joined_sub['bg_geom'],\n",
    "    style_function=style_function2\n",
    ").add_to(all_ca_bg)\n",
    "all_ca_bg.add_to(m)"
   ]
  },
  {
   "cell_type": "code",
   "execution_count": null,
   "id": "8ccc2986",
   "metadata": {},
   "outputs": [],
   "source": [
    "# Feature Group: Full BG geom for intersected Block Groups\n",
    "\n",
    "def style_function4(feature):\n",
    "    return {\n",
    "        'fillColor': 'red',\n",
    "        'color': 'red',\n",
    "        'fillOpacity': 0.05\n",
    "    }\n",
    "\n",
    "all_bg = folium.FeatureGroup(name='Intersect BG', overlay=True)\n",
    "folium.GeoJson(\n",
    "    data=intersect_bgs[\"bg_geom\"],\n",
    "    style_function=style_function4\n",
    ").add_to(all_bg)\n",
    "all_bg.add_to(m)"
   ]
  },
  {
   "cell_type": "code",
   "execution_count": null,
   "id": "5318968d",
   "metadata": {},
   "outputs": [],
   "source": [
    "# Feature Group: Intersect portion of intersected Block Groups\n",
    "\n",
    "def style_function3(feature):\n",
    "    return {\n",
    "        'fillColor': 'blue',\n",
    "        'color': 'blue',\n",
    "        'fillOpacity': 0.05\n",
    "    }\n",
    "\n",
    "inter_all_bg = folium.FeatureGroup(name='Intersect BG', overlay=True)\n",
    "folium.GeoJson(\n",
    "    data=intersect_df[\"intersect_geom\"],\n",
    "    style_function=style_function3\n",
    ").add_to(inter_all_bg)\n",
    "inter_all_bg.add_to(m)"
   ]
  },
  {
   "cell_type": "code",
   "execution_count": null,
   "id": "6ce93271",
   "metadata": {},
   "outputs": [],
   "source": [
    "# Feature Group: Intersected and Adjacent Block Groups\n",
    "\n",
    "def style_function5(feature):\n",
    "    return {\n",
    "        'fillColor': 'green',\n",
    "        'color': 'green',\n",
    "        'fillOpacity': 0.05\n",
    "    }\n",
    "\n",
    "inter_adj_fg = folium.FeatureGroup(name='Intersect & Adjacent BG', overlay=True)\n",
    "folium.GeoJson(\n",
    "    data=inter_adj_df[\"bg_geom\"],\n",
    "    style_function=style_function5\n",
    ").add_to(inter_adj_fg)\n",
    "inter_adj_fg.add_to(m)"
   ]
  },
  {
   "cell_type": "code",
   "execution_count": null,
   "id": "660a2fc7",
   "metadata": {},
   "outputs": [],
   "source": [
    "# # Feature Group: Buffers\n",
    "\n",
    "# def style_function1(feature):\n",
    "#     return {\n",
    "#         'fillColor': 'red',\n",
    "#         'color': 'red',\n",
    "#         'fillOpacity': 0.1\n",
    "#     }\n",
    "\n",
    "# all_flares_buffers = folium.FeatureGroup(name='Flare Buffers', overlay=True)\n",
    "# folium.GeoJson(\n",
    "#     data=ca_flares[\"buffer_2000m\"],\n",
    "#     style_function=style_function1\n",
    "# ).add_to(all_flares_buffers)\n",
    "# all_flares_buffers.add_to(m)\n",
    "\n",
    "\n"
   ]
  },
  {
   "cell_type": "code",
   "execution_count": null,
   "id": "27b8fc48",
   "metadata": {},
   "outputs": [],
   "source": [
    "# # Feature Group: Counties\n",
    "\n",
    "# # def style_function1(feature):\n",
    "# #     return {\n",
    "# #         'fillColor': 'red',\n",
    "# #         'color': 'red',\n",
    "# #         'fillOpacity': 0.2\n",
    "# #     }\n",
    "\n",
    "# # all_flares_buffers = folium.FeatureGroup(name='Flare Buffers', overlay=True)\n",
    "# # folium.GeoJson(\n",
    "# #     data=intersect_df[\"cnty_geom\"],\n",
    "# #     style_function=style_function1\n",
    "# # ).add_to(all_flares_buffers)\n",
    "# # all_flares_buffers.add_to(m)"
   ]
  },
  {
   "cell_type": "code",
   "execution_count": null,
   "id": "2c205e94",
   "metadata": {},
   "outputs": [],
   "source": [
    "# # Add hover functionality\n",
    "# test = test.to_crs(\"EPSG:3857\")\n",
    "# test = test.set_geometry('bg_geom')\n",
    "# test_json = test.__geo_interface__"
   ]
  },
  {
   "cell_type": "code",
   "execution_count": null,
   "id": "ae96cf94",
   "metadata": {},
   "outputs": [],
   "source": [
    "\n",
    "# style_function = lambda x: {'fillColor': '#ffffff', \n",
    "#                             'color':'#000000', \n",
    "#                             'fillOpacity': 0.1, \n",
    "#                             'weight': 0.1}\n",
    "# highlight_function = lambda x: {'fillColor': '#999999', \n",
    "#                                 'color':'#999999', \n",
    "#                                 'fillOpacity': 0.50, \n",
    "#                                 'weight': 0.1}\n",
    "# NIL = folium.features.GeoJson(\n",
    "#     data = intersect_df,\n",
    "#     style_function=style_function, \n",
    "#     control=False,\n",
    "#     highlight_function=highlight_function, \n",
    "#     tooltip=folium.features.GeoJsonTooltip(\n",
    "#         fields=['ID','CNTY_NAME'],# 'D_PM25_2', 'ACSTOTPOP', 'MINORPOP','shape_area_new', 'intersect_prop', 'intersect_area', 'MINORPOP_bg_totprop'],\n",
    "#         style=(\"background-color: white; color: #333333; font-family: arial; font-size: 12px; padding: 10px;\") \n",
    "#     )\n",
    "# )"
   ]
  },
  {
   "cell_type": "code",
   "execution_count": null,
   "id": "a298b42d",
   "metadata": {},
   "outputs": [],
   "source": [
    "# # add hover functionality as child to map, add layering, display map\n",
    "# m.add_child(NIL)\n",
    "# m.keep_in_front(NIL)\n",
    "# folium.LayerControl().add_to(m)\n",
    "# m"
   ]
  },
  {
   "cell_type": "code",
   "execution_count": null,
   "id": "ab17b442",
   "metadata": {},
   "outputs": [],
   "source": [
    "# Flares\n",
    "all_flares_points = folium.FeatureGroup(name='flare points', overlay=True)\n",
    "folium.GeoJson(data=ca_flares[\"geometry\"]).add_to(all_flares_points)\n",
    "all_flares_points.add_to(m)"
   ]
  },
  {
   "cell_type": "code",
   "execution_count": null,
   "id": "ab7ee399",
   "metadata": {
    "scrolled": false
   },
   "outputs": [],
   "source": [
    "m"
   ]
  },
  {
   "cell_type": "code",
   "execution_count": null,
   "id": "09c4daa2",
   "metadata": {},
   "outputs": [],
   "source": []
  }
 ],
 "metadata": {
  "kernelspec": {
   "display_name": "capstonermi37",
   "language": "python",
   "name": "capstonermi37"
  },
  "language_info": {
   "codemirror_mode": {
    "name": "ipython",
    "version": 3
   },
   "file_extension": ".py",
   "mimetype": "text/x-python",
   "name": "python",
   "nbconvert_exporter": "python",
   "pygments_lexer": "ipython3",
   "version": "3.7.13"
  }
 },
 "nbformat": 4,
 "nbformat_minor": 5
}
