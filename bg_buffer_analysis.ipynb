{
 "cells": [
  {
   "cell_type": "code",
   "execution_count": null,
   "id": "30bd301c",
   "metadata": {},
   "outputs": [],
   "source": [
    "import geopandas as gp\n",
    "from shapely import wkt\n",
    "from shapely.geometry import Point, Polygon\n",
    "from shapely.ops import unary_union\n",
    "import pandas as pd\n",
    "import numpy as np\n",
    "from pprint import pprint\n",
    "import os\n",
    "import glob\n",
    "import openpyxl\n",
    "import matplotlib.pyplot as plt\n",
    "import plotly.express as px #if using plotly\n",
    "import folium"
   ]
  },
  {
   "cell_type": "markdown",
   "id": "3975a71b",
   "metadata": {},
   "source": [
    "## Read in files"
   ]
  },
  {
   "cell_type": "code",
   "execution_count": null,
   "id": "ea659b2b",
   "metadata": {},
   "outputs": [],
   "source": [
    "pd.set_option('display.max_columns', None)  # display all columns\n",
    "pd.options.display.float_format = '{:20,.2f}'.format  # suppress scientific notation"
   ]
  },
  {
   "cell_type": "code",
   "execution_count": null,
   "id": "212b25d2",
   "metadata": {},
   "outputs": [],
   "source": [
    "ca_state = gp.read_file(\"data/CA_State_TIGER2016.shp\")  # CA state\n",
    "ca_counties = gp.read_file(\"data/CA_Counties_TIGER2016.shp\")  # CA counties\n",
    "ca_bg = gp.read_file(\"data/tl_2022_06_bg.shp\")  # CA block groups"
   ]
  },
  {
   "cell_type": "code",
   "execution_count": null,
   "id": "c1be8974",
   "metadata": {},
   "outputs": [],
   "source": [
    "# Load census block group level data from EJscreen\n",
    "# Source: https://www.epa.gov/ejscreen/download-ejscreen-data\n",
    "# This is the 2017-2021 5-year ACS average data\n",
    "ejscreen = pd.read_excel(\"data/CA_EJSCREEN_2022_Full_with_AS_CNMI_GU_VI.xlsx\", index_col=None, header=0)"
   ]
  },
  {
   "cell_type": "code",
   "execution_count": null,
   "id": "c82f425e",
   "metadata": {},
   "outputs": [],
   "source": [
    "# read in cleaned and combined flares data\n",
    "all_flares = gp.read_file(\"data/all_flares.shp\")"
   ]
  },
  {
   "cell_type": "code",
   "execution_count": null,
   "id": "feacd1ee",
   "metadata": {},
   "outputs": [],
   "source": [
    "# set common crs for project\n",
    "projcrs = 4326\n",
    "ca_state = ca_state.to_crs(projcrs)\n",
    "ca_counties = ca_counties.to_crs(projcrs)\n",
    "ca_bg = ca_bg.to_crs(projcrs)\n",
    "\n",
    "ca_bg.rename(columns={'GEOID':'ID'}, inplace=True)  # match column names for merging\n",
    "ca_bg['ID'] = ca_bg['ID'].astype(np.int64)"
   ]
  },
  {
   "cell_type": "code",
   "execution_count": null,
   "id": "5c7be374",
   "metadata": {},
   "outputs": [],
   "source": [
    "print(f\"{len(ejscreen['ID'])} block groups in the EJScreen data \\n\")\n",
    "print(f\"{len(ca_bg['ID'])} block groups in the CA block group shapefile\\n\")\n",
    "ca_bg_joined = pd.merge(ca_bg, ejscreen, on='ID')\n",
    "print(f\"{len(ca_bg['ID'].unique())-len(ca_bg_joined)} block groups are missing after merge\")"
   ]
  },
  {
   "cell_type": "code",
   "execution_count": null,
   "id": "cfa34cb7",
   "metadata": {},
   "outputs": [],
   "source": [
    "# subset flares to only those in Cali\n",
    "ca_flares = gp.sjoin(all_flares, ca_counties, how = \"inner\", predicate = 'within')\n",
    "print(f'Flares found: {len(ca_flares)}')\n",
    "ca_flares.drop('index_right', axis=1, inplace=True)\n",
    "\n",
    "# set col list for BCM_avg calculation\n",
    "col_list = ['BCM_2012','BCM_2013','BCM_2014','BCM_2015','BCM_2016','BCM_2017',\n",
    "            'BCM_2018','BCM_2019','BCM_2020','BCM_2021']\n",
    "\n",
    "# add new column for average BCM across all years\n",
    "ca_flares['BCM_avg'] = ca_flares[col_list].mean(axis=1)  "
   ]
  },
  {
   "cell_type": "code",
   "execution_count": null,
   "id": "0af9815c",
   "metadata": {},
   "outputs": [],
   "source": [
    "# ca_polys_subset = gp.sjoin(ca_bg_joined, ca_flares, how='inner', predicate='contains')"
   ]
  },
  {
   "cell_type": "code",
   "execution_count": null,
   "id": "ff99d0c6",
   "metadata": {},
   "outputs": [],
   "source": [
    "# epsg3310: https://epsg.io/3310-1739\n",
    "# units: meters\n",
    "meters_crs = 3310\n",
    "# ca_polys_subset = ca_polys_subset.to_crs(meters_crs)\n",
    "ca_flares = ca_flares.to_crs(meters_crs)\n",
    "ca_bg_joined = ca_bg_joined.to_crs(meters_crs)"
   ]
  },
  {
   "cell_type": "code",
   "execution_count": null,
   "id": "a023a648",
   "metadata": {},
   "outputs": [],
   "source": [
    "# # Create \"flares present\" binary dependent variable\n",
    "# ca_bg_joined = ca_bg_joined.assign(flares_present=ca_bg_joined['geometry'].isin(ca_polys_subset['geometry']).astype(int))\n",
    "\n",
    "# print(f\"Block groups containing flares (0=no, 1=yes):\\n\")\n",
    "# print(ca_bg_joined['flares_present'].value_counts())"
   ]
  },
  {
   "cell_type": "markdown",
   "id": "8859e131",
   "metadata": {},
   "source": [
    "### 5km Buffer Analysis"
   ]
  },
  {
   "cell_type": "markdown",
   "id": "cea12fd5",
   "metadata": {},
   "source": [
    "1) set 5km buffers around flares  \n",
    "2) Subset census data to only to race and age columns  \n",
    "3) count # of people or create proportion of those columns that are anywhere within the combined buffer  \n",
    "4) same for outside the buffer  \n",
    "5) Create table that summarizes the proportions for in-buffer and out-buffer"
   ]
  },
  {
   "cell_type": "code",
   "execution_count": null,
   "id": "932cceb8",
   "metadata": {},
   "outputs": [],
   "source": [
    "# 1) set 5km buffers around flares and unary_union() into single multipolygon\n",
    "ca_flares[\"buffer_5000m\"] = ca_flares['geometry'].buffer(distance = 5000)\n"
   ]
  },
  {
   "cell_type": "code",
   "execution_count": null,
   "id": "e141cdda",
   "metadata": {},
   "outputs": [],
   "source": [
    "# ID, ACSTOTPOP, UNDER5, OVER64, MINORPOP, LOWINCOME, D_PM25_2\n",
    "# total population, under 5yr, over 64yr, people of color, low income, EJ index for PM2.5\n",
    "\n",
    "bg_formodel = ca_bg_joined[['ID', 'ACSTOTPOP', 'UNDER5', 'OVER64', 'MINORPOP', 'LOWINCOME', 'D_PM25_2', 'geometry']]"
   ]
  },
  {
   "cell_type": "code",
   "execution_count": null,
   "id": "11c6d36f",
   "metadata": {
    "scrolled": false
   },
   "outputs": [],
   "source": [
    "# match crs\n",
    "ca_flares = ca_flares.to_crs(meters_crs)\n",
    "bg_formodel = bg_formodel.to_crs(meters_crs)\n",
    "\n",
    "# sjoin() doesn't seem to allow picking a specific geometry col.\n",
    "# Have to manually set it to the buffers rather than the flare points\n",
    "ca_flares = ca_flares.set_geometry('buffer_5000m')  # set to the buffers rather than the points\n",
    "\n",
    "# Spatial overlay operation to find only the areas that are in both geometries. \n",
    "# i.e. only the block group areas that are within any buffer zone\n",
    "bg_flares = gp.overlay(ca_flares, bg_formodel, how='intersection')"
   ]
  },
  {
   "cell_type": "code",
   "execution_count": null,
   "id": "8142db3f",
   "metadata": {},
   "outputs": [],
   "source": [
    "# Calculate the area of each block group within the buffer zone\n",
    "for bg in bg_formodel['geometry']:\n",
    "    bg_flares['intersection_area'] = bg_flares.geometry.area"
   ]
  },
  {
   "cell_type": "markdown",
   "id": "1a7ab71c",
   "metadata": {},
   "source": [
    "### It's not calculating correctly when a block group is completely contained within a buffer. So I've set the ceiling of possible proportions to 1. Band-aid fix. \n",
    "### Does this mean the area calculation is not right either?"
   ]
  },
  {
   "cell_type": "code",
   "execution_count": null,
   "id": "37b09d35",
   "metadata": {},
   "outputs": [],
   "source": [
    "# Calculate the proportion of each block group within the buffer zone\n",
    "bg_flares['bg_5kbuf_prop'] = bg_flares['intersection_area'] / bg_formodel.geometry.area\n",
    "\n",
    "# It's not calculating correctly when a block group is completely contained within a buffer.\n",
    "# so set the ceiling of possible proportions to 1. Band-aid fix. \n",
    "# Does this mean the area calculation is not right either?\n",
    "bg_flares['bg_5kbuf_prop'] = bg_flares['bg_5kbuf_prop'].clip(0, 1)\n",
    "\n",
    "# calculate the outside-buffer proportion\n",
    "bg_flares['bg_5kbuf_out_prop'] = 1 - bg_flares['bg_5kbuf_prop']\n",
    "\n",
    "# Apply the proportion to each demographic variable to find counts by variable\n",
    "demo_vars = ['ACSTOTPOP', 'UNDER5', 'OVER64', 'MINORPOP', 'LOWINCOME']\n",
    "for var in demo_vars:\n",
    "    bg_flares[var + '_5kbuf_count'] = bg_flares[var] * bg_flares['bg_5kbuf_prop']\n",
    "\n",
    "# find overall proportions for each demo var by dividing their count by their total population    \n",
    "for var in demo_vars:\n",
    "    bg_flares[var + '_bg_totprop'] = bg_flares[var] / bg_flares['ACSTOTPOP']\n",
    "    "
   ]
  },
  {
   "cell_type": "code",
   "execution_count": null,
   "id": "a141c6f2",
   "metadata": {},
   "outputs": [],
   "source": [
    "prop_vars = ['ACSTOTPOP_bg_totprop', 'UNDER5_bg_totprop', 'OVER64_bg_totprop', 'MINORPOP_bg_totprop', 'LOWINCOME_bg_totprop']\n",
    "in_buffer_prop = bg_flares[prop_vars].mean()\n",
    "out_buffer_prop = 1-in_buffer_prop\n",
    "\n",
    "# create a table from the in-buffer and outside-buffer proportions\n",
    "proportions = pd.concat([in_buffer_prop, out_buffer_prop], axis=1)\n",
    "proportions.columns = ['In_Buffer', 'Outside_Buffer']\n",
    "\n",
    "# table that compares the in-buffer proportions to the outside-buffer proportions\n",
    "print(proportions)"
   ]
  },
  {
   "cell_type": "code",
   "execution_count": null,
   "id": "edc02d4f",
   "metadata": {},
   "outputs": [],
   "source": [
    "count_vars = ['ACSTOTPOP_5kbuf_count', 'UNDER5_5kbuf_count', 'OVER64_5kbuf_count', 'MINORPOP_5kbuf_count', 'LOWINCOME_5kbuf_count']\n",
    "\n",
    "in_buffer_tot = bg_flares[count_vars].sum()\n",
    "out_buffer_tot = bg_formodel['ACSTOTPOP'].sum() - in_buffer_tot\n",
    "\n",
    "# create a table from the in-buffer and outside-buffer counts\n",
    "counts = pd.concat([in_buffer_tot, out_buffer_tot], axis=1)\n",
    "counts.columns = ['In_Buffer_Count', 'Outside_Buffer_Count']\n",
    "# format w thousands separators\n",
    "counts[['In_Buffer_Count', 'Outside_Buffer_Count']] = counts[['In_Buffer_Count', 'Outside_Buffer_Count']].applymap('{:,.0f}'.format)\n",
    "\n",
    "# table that compares the in-buffer counts to the outside-buffer counts\n",
    "print(counts)"
   ]
  },
  {
   "cell_type": "markdown",
   "id": "901b1b09",
   "metadata": {},
   "source": []
  },
  {
   "cell_type": "markdown",
   "id": "a953679f",
   "metadata": {},
   "source": []
  },
  {
   "cell_type": "code",
   "execution_count": null,
   "id": "425e60da",
   "metadata": {},
   "outputs": [],
   "source": []
  },
  {
   "cell_type": "code",
   "execution_count": null,
   "id": "3793a4a6",
   "metadata": {},
   "outputs": [],
   "source": []
  },
  {
   "cell_type": "markdown",
   "id": "c9c3cbd9",
   "metadata": {},
   "source": []
  },
  {
   "cell_type": "code",
   "execution_count": null,
   "id": "0dd5331c",
   "metadata": {},
   "outputs": [],
   "source": []
  },
  {
   "cell_type": "code",
   "execution_count": null,
   "id": "b433242d",
   "metadata": {},
   "outputs": [],
   "source": []
  },
  {
   "cell_type": "markdown",
   "id": "3c1edc96",
   "metadata": {},
   "source": [
    "### Folium mapping"
   ]
  },
  {
   "cell_type": "code",
   "execution_count": null,
   "id": "ae96cf94",
   "metadata": {},
   "outputs": [],
   "source": [
    "# # Convert the GeoDataFrame to the same CRS as the folium map (if necessary)\n",
    "# ca_flares = ca_flares.to_crs(3857)\n",
    "\n",
    "# # Create a folium map with a center location\n",
    "# m = folium.Map(location=[38.377158,-121.645792], zoom_start=6, tiles=None,overlay=False)  #start w lat/long roughly in center of CA\n",
    "# base_map = folium.FeatureGroup(name='Base map', overlay=True, control=False)\n",
    "# folium.TileLayer(tiles='OpenStreetMap').add_to(base_map)\n",
    "# base_map.add_to(m)\n",
    "\n",
    "# def style_function(feature):\n",
    "#     return {\n",
    "#         'fillColor': 'red',\n",
    "#         'color': 'red',\n",
    "#         'fillOpacity': 0.2\n",
    "#     }\n",
    "\n",
    "# def style_function2(feature):\n",
    "#     return {\n",
    "#         'fillColor': 'blue',\n",
    "#         'color': 'blue',\n",
    "#         'fillOpacity': 0.2\n",
    "#     }\n",
    "\n",
    "\n",
    "# # points\n",
    "# all_flares_points = folium.FeatureGroup(name='flare points', overlay=True)\n",
    "# folium.GeoJson(data=ca_flares[\"geometry\"]).add_to(all_flares_points)\n",
    "# all_flares_points.add_to(m)\n",
    "\n",
    "\n",
    "# # buffers\n",
    "# all_flares_buffers = folium.FeatureGroup(name='flare buffers', overlay=True)\n",
    "# folium.GeoJson(\n",
    "#     data=ca_flares[\"buffer_5000m\"],\n",
    "#     style_function=style_function\n",
    "# ).add_to(all_flares_buffers)\n",
    "# all_flares_buffers.add_to(m)\n",
    "\n",
    "# # intersected polygons\n",
    "# intersect = folium.FeatureGroup(name='intersect', overlay=True)\n",
    "# folium.GeoJson(\n",
    "#     data=bg_flares['geometry'],\n",
    "#     style_function=style_function2\n",
    "# ).add_to(intersect)\n",
    "# intersect.add_to(m)\n",
    "\n",
    "\n",
    "# # multipolygon test\n",
    "# # leaving commented out for now b/c it's not working\n",
    "# # all_flares_comb = folium.FeatureGroup(name='flares combined', overlay=True)\n",
    "# # if combined_buffers.geom_type == 'MultiPolygon':\n",
    "# #     for polygon in combined_buffers.geoms:\n",
    "# #         folium.Polygon(\n",
    "# #             locations=polygon.exterior.coords[:],\n",
    "# #             color='red',\n",
    "# #             fill=True,\n",
    "# #             fill_color='red'\n",
    "# #         ).add_to(all_flares_comb)\n",
    "        \n",
    "# # all_flares_comb.add_to(m)\n",
    "\n",
    "\n",
    "# folium.LayerControl().add_to(m)\n",
    "# m"
   ]
  },
  {
   "cell_type": "code",
   "execution_count": null,
   "id": "a298b42d",
   "metadata": {},
   "outputs": [],
   "source": []
  }
 ],
 "metadata": {
  "kernelspec": {
   "display_name": "capstonermi37",
   "language": "python",
   "name": "capstonermi37"
  },
  "language_info": {
   "codemirror_mode": {
    "name": "ipython",
    "version": 3
   },
   "file_extension": ".py",
   "mimetype": "text/x-python",
   "name": "python",
   "nbconvert_exporter": "python",
   "pygments_lexer": "ipython3",
   "version": "3.7.13"
  }
 },
 "nbformat": 4,
 "nbformat_minor": 5
}
