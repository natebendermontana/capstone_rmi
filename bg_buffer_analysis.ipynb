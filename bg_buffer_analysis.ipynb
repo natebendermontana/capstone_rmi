{
 "cells": [
  {
   "cell_type": "code",
   "execution_count": 1,
   "id": "30bd301c",
   "metadata": {},
   "outputs": [],
   "source": [
    "import geopandas as gp\n",
    "from shapely import wkt\n",
    "from shapely.geometry import Point, Polygon\n",
    "from shapely.ops import unary_union\n",
    "import pandas as pd\n",
    "import numpy as np\n",
    "from pprint import pprint\n",
    "import os\n",
    "import glob\n",
    "import openpyxl\n",
    "import matplotlib.pyplot as plt\n",
    "import matplotlib.ticker as mtick\n",
    "import plotly.express as px #if using plotly\n",
    "import folium\n",
    "import warnings"
   ]
  },
  {
   "cell_type": "code",
   "execution_count": 2,
   "id": "ea659b2b",
   "metadata": {},
   "outputs": [],
   "source": [
    "pd.set_option('display.max_columns', None)  # display all columns\n",
    "pd.options.display.float_format = '{:20,.2f}'.format  # suppress scientific notation"
   ]
  },
  {
   "cell_type": "markdown",
   "id": "c149f833",
   "metadata": {},
   "source": [
    "## Research Questions"
   ]
  },
  {
   "cell_type": "markdown",
   "id": "6eddae6c",
   "metadata": {},
   "source": [
    "### 1) Is there a significant difference in the proportion of minorities within a given flaring buffer zone versus outside the buffer? \n",
    "\n",
    "#### Ultimate goal is a comparison of six different buffers (of 100; 400; 800; 1,000; 1,600; and 2,000 m) following Czolowski et al, 2017\n",
    "\n",
    "Null: Proportion of BG in a buffer is independent of minority status.\n",
    "Alt:  Proportion of BG in a buffer is related to minority status.\n",
    "  \n",
    "Test stat: Difference in weighted minority proportions.\n",
    "\n",
    "Weighted minority proportion = sumproduct(minority_prop * intersect_prop) / sum(intersect_prop)\n",
    "minority_prop is the proportion of minorities in a block group\n",
    "intersect_prop is the proportion of BG area residing in the buffer zone\n",
    "\n",
    "Permutation testing: Permute the intersect_prop variable, holding the fraction of minorities in each BG constant.\n",
    " \n",
    "Process   \n",
    "a) Calculate the actual minority proportions of the aggregrate in-buffer and out-buffer areas\n",
    "Using 2km buffer for starters (Czolowski, 2017)  \n",
    "b) Scramble the intersect_prop variable, holding the minority_prop variable constant.   \n",
    "c) Calculate number of simulated proportions that match or exceed the actual proportion. Calculate p-value.  \n"
   ]
  },
  {
   "cell_type": "markdown",
   "id": "3975a71b",
   "metadata": {},
   "source": [
    "## Load data, set project CRS"
   ]
  },
  {
   "cell_type": "code",
   "execution_count": 3,
   "id": "212b25d2",
   "metadata": {},
   "outputs": [],
   "source": [
    "ca_state = gp.read_file(\"data/CA_State_TIGER2016.shp\")  # CA state\n",
    "ca_counties = gp.read_file(\"data/CA_Counties_TIGER2016.shp\")  # CA counties\n",
    "ca_bg = gp.read_file(\"data/ca_bg_clean.shp\")  # CA block groups, cleaned"
   ]
  },
  {
   "cell_type": "code",
   "execution_count": 4,
   "id": "c82f425e",
   "metadata": {},
   "outputs": [
    {
     "name": "stdout",
     "output_type": "stream",
     "text": [
      "Flares found: 117\n",
      "BGs found: 25607\n"
     ]
    }
   ],
   "source": [
    "# just CA flares\n",
    "ca_flares = gp.read_file(\"data/ca_flares_clean.shp\")\n",
    "print(f'Flares found: {len(ca_flares)}')\n",
    "\n",
    "# CA block groups merged with EJscreen data\n",
    "ca_bg_joined = gp.read_file(\"data/ca_bg_joined_clean.shp\")\n",
    "\n",
    "# update col name for correct area b/c it gets saved as a truncated version when saved as a shapefile out of the \n",
    "# main data cleaning notebook\n",
    "ca_bg_joined.rename(columns={'shape_ar_1':'shape_area_new'}, inplace=True)  # old:new.\n",
    "print(f'BGs found: {len(ca_bg_joined)}')"
   ]
  },
  {
   "cell_type": "code",
   "execution_count": 5,
   "id": "feacd1ee",
   "metadata": {},
   "outputs": [],
   "source": [
    "# set common crs for project\n",
    "# epsg3310: https://epsg.io/3310-1739\n",
    "# units: meters\n",
    "meters_crs = 3310  # Projected crs. this should be good for this overlay() calculation and all of project. \n",
    "\n",
    "ca_state = ca_state.to_crs(meters_crs)\n",
    "ca_counties = ca_counties.to_crs(meters_crs)\n",
    "ca_bg = ca_bg.to_crs(meters_crs)"
   ]
  },
  {
   "cell_type": "markdown",
   "id": "5e61d175",
   "metadata": {},
   "source": [
    "#### Discuss w RMI: dropping the three aquatic buffers"
   ]
  },
  {
   "cell_type": "code",
   "execution_count": 6,
   "id": "fa4de4eb",
   "metadata": {},
   "outputs": [],
   "source": [
    "# There are three BGs that seem to just be aquatic buffers around the actual county land.\n",
    "# Dropping them for now \n",
    "# IDs: 60839900000, 61119901000, 60379902000\n",
    "# Explore if needed: ca_bg_joined.explore()\n",
    "\n",
    "ids_to_drop = [60839900000, 61119901000, 60379902000]\n",
    "\n",
    "# Drop the rows with those IDs\n",
    "ca_bg_joined = ca_bg_joined[~ca_bg_joined['ID'].isin(ids_to_drop)]"
   ]
  },
  {
   "cell_type": "markdown",
   "id": "a15b4e49",
   "metadata": {},
   "source": [
    "## Analysis\n",
    "### Functions"
   ]
  },
  {
   "cell_type": "code",
   "execution_count": 7,
   "id": "23fd79fb",
   "metadata": {},
   "outputs": [],
   "source": [
    "def create_buffer_intersection(flares_df, social_df, buffer_size):\n",
    "    social_df = social_df[['ID', 'CNTY_NAME', 'Shape_Area', 'ACSTOTPOP', 'MINORPOP', 'D_PM25_2', 'shape_area_new', 'geometry']]\n",
    "    \n",
    "    #flares_df = set_geometry_buffer(flares_df, buffer_size)\n",
    "    buffer_col = f\"buffer_{buffer_size}m\"\n",
    "    flares_df[buffer_col] = flares_df['geometry'].buffer(distance=buffer_size)\n",
    "\n",
    "    flares_df = flares_df.set_geometry(buffer_col)\n",
    "    \n",
    "    temp = flares_df.unary_union\n",
    "    all_buffers = gp.GeoDataFrame({'geometry': [temp]}, crs=flares_df.crs)  # convert back to geodf for processing\n",
    "    \n",
    "    bg_inbuffer = gp.overlay(social_df, all_buffers, how='intersection')  # could look at keep_geom=False\n",
    "    \n",
    "    return bg_inbuffer"
   ]
  },
  {
   "cell_type": "code",
   "execution_count": 71,
   "id": "fbfff8ff",
   "metadata": {},
   "outputs": [],
   "source": [
    "buffer_size=2000\n",
    "test_intersection = create_buffer_intersection(ca_flares, ca_bg_joined, buffer_size)"
   ]
  },
  {
   "cell_type": "code",
   "execution_count": 72,
   "id": "0d566ccf",
   "metadata": {},
   "outputs": [],
   "source": [
    "df_final = calc_intersect_stats(test_intersection, ca_bg_joined, ca_bg, buffer_size)"
   ]
  },
  {
   "cell_type": "code",
   "execution_count": 83,
   "id": "729dd077",
   "metadata": {},
   "outputs": [
    {
     "data": {
      "text/plain": [
       "238"
      ]
     },
     "execution_count": 83,
     "metadata": {},
     "output_type": "execute_result"
    }
   ],
   "source": [
    "(df_final['intersect_prop'] != 0).sum()"
   ]
  },
  {
   "cell_type": "code",
   "execution_count": 84,
   "id": "313e6167",
   "metadata": {},
   "outputs": [],
   "source": [
    "df_non_zero = df_final[df_final['intersect_prop'] != 0]"
   ]
  },
  {
   "cell_type": "code",
   "execution_count": 85,
   "id": "a33f1e40",
   "metadata": {},
   "outputs": [
    {
     "data": {
      "text/html": [
       "<div>\n",
       "<style scoped>\n",
       "    .dataframe tbody tr th:only-of-type {\n",
       "        vertical-align: middle;\n",
       "    }\n",
       "\n",
       "    .dataframe tbody tr th {\n",
       "        vertical-align: top;\n",
       "    }\n",
       "\n",
       "    .dataframe thead th {\n",
       "        text-align: right;\n",
       "    }\n",
       "</style>\n",
       "<table border=\"1\" class=\"dataframe\">\n",
       "  <thead>\n",
       "    <tr style=\"text-align: right;\">\n",
       "      <th></th>\n",
       "      <th>ID</th>\n",
       "      <th>CNTY_NAME</th>\n",
       "      <th>ACSTOTPOP</th>\n",
       "      <th>MINORPOP</th>\n",
       "      <th>D_PM25_2</th>\n",
       "      <th>shape_area_new</th>\n",
       "      <th>intersect_area</th>\n",
       "      <th>intersect_prop</th>\n",
       "      <th>bg_geom</th>\n",
       "      <th>intersect_geom</th>\n",
       "      <th>ACSTOTPOP_intersect_count</th>\n",
       "      <th>MINORPOP_intersect_count</th>\n",
       "      <th>ACSTOTPOP_bg_totprop</th>\n",
       "      <th>MINORPOP_bg_totprop</th>\n",
       "    </tr>\n",
       "  </thead>\n",
       "  <tbody>\n",
       "    <tr>\n",
       "      <th>21705</th>\n",
       "      <td>60375754012</td>\n",
       "      <td>Los Angeles County</td>\n",
       "      <td>1764</td>\n",
       "      <td>1679</td>\n",
       "      <td>70.85</td>\n",
       "      <td>88,265.00</td>\n",
       "      <td>2,240.99</td>\n",
       "      <td>0.03</td>\n",
       "      <td>POLYGON ((166911.199 -468333.383, 166912.494 -...</td>\n",
       "      <td>POLYGON ((166965.679 -468442.117, 166912.357 -...</td>\n",
       "      <td>44.79</td>\n",
       "      <td>42.63</td>\n",
       "      <td>1.00</td>\n",
       "      <td>0.95</td>\n",
       "    </tr>\n",
       "    <tr>\n",
       "      <th>1055</th>\n",
       "      <td>60375780003</td>\n",
       "      <td>Los Angeles County</td>\n",
       "      <td>1111</td>\n",
       "      <td>1036</td>\n",
       "      <td>50.58</td>\n",
       "      <td>202,895.90</td>\n",
       "      <td>6.14</td>\n",
       "      <td>0.00</td>\n",
       "      <td>POLYGON ((165285.750 -467414.803, 165284.012 -...</td>\n",
       "      <td>POLYGON ((165300.399 -467515.481, 165286.816 -...</td>\n",
       "      <td>0.03</td>\n",
       "      <td>0.03</td>\n",
       "      <td>1.00</td>\n",
       "      <td>0.93</td>\n",
       "    </tr>\n",
       "  </tbody>\n",
       "</table>\n",
       "</div>"
      ],
      "text/plain": [
       "                ID           CNTY_NAME  ACSTOTPOP  MINORPOP  \\\n",
       "21705  60375754012  Los Angeles County       1764      1679   \n",
       "1055   60375780003  Los Angeles County       1111      1036   \n",
       "\n",
       "                  D_PM25_2       shape_area_new       intersect_area  \\\n",
       "21705                70.85            88,265.00             2,240.99   \n",
       "1055                 50.58           202,895.90                 6.14   \n",
       "\n",
       "            intersect_prop                                            bg_geom  \\\n",
       "21705                 0.03  POLYGON ((166911.199 -468333.383, 166912.494 -...   \n",
       "1055                  0.00  POLYGON ((165285.750 -467414.803, 165284.012 -...   \n",
       "\n",
       "                                          intersect_geom  \\\n",
       "21705  POLYGON ((166965.679 -468442.117, 166912.357 -...   \n",
       "1055   POLYGON ((165300.399 -467515.481, 165286.816 -...   \n",
       "\n",
       "       ACSTOTPOP_intersect_count  MINORPOP_intersect_count  \\\n",
       "21705                      44.79                     42.63   \n",
       "1055                        0.03                      0.03   \n",
       "\n",
       "       ACSTOTPOP_bg_totprop  MINORPOP_bg_totprop  \n",
       "21705                  1.00                 0.95  \n",
       "1055                   1.00                 0.93  "
      ]
     },
     "execution_count": 85,
     "metadata": {},
     "output_type": "execute_result"
    }
   ],
   "source": [
    "df_non_zero.sample(2)"
   ]
  },
  {
   "cell_type": "code",
   "execution_count": 86,
   "id": "eada90c7",
   "metadata": {},
   "outputs": [],
   "source": [
    "df_non_zero.to_csv(\"data/testing_calc.csv\")\n"
   ]
  },
  {
   "cell_type": "code",
   "execution_count": null,
   "id": "012aec93",
   "metadata": {},
   "outputs": [],
   "source": []
  },
  {
   "cell_type": "code",
   "execution_count": 8,
   "id": "c0a1db58",
   "metadata": {},
   "outputs": [],
   "source": [
    "def calc_intersect_stats(bg_inbuffer, social_df, ca_blockgroups, buffer_size):\n",
    "    \n",
    "    # Create new 'area' column for the areas of the intersections\n",
    "    bg_inbuffer['intersect_area'] = bg_inbuffer.area\n",
    "    \n",
    "    # Calculate the proportion of each block group within the buffer zone\n",
    "    bg_inbuffer['intersect_prop'] = bg_inbuffer['intersect_area'] / bg_inbuffer['shape_area_new']\n",
    "    \n",
    "    # Rename geometry col to intersect_geom so it's clear these geoms are just the intersections\n",
    "    bg_inbuffer.rename(columns={'geometry':'intersect_geom'}, inplace=True)  # old:new. Match col names for merging\n",
    "\n",
    "    # merge with ca_bg block groups to get full BG polygon geoms back in the df\n",
    "    bg_inbuffer = pd.merge(bg_inbuffer, ca_blockgroups, on='ID')\n",
    "\n",
    "    # Rename geometry column for clarity\n",
    "    bg_inbuffer.rename(columns={'geometry':'bg_geom'}, inplace=True)  # old:new. Match col names for merging\n",
    "    \n",
    "    bg_inbuffer = bg_inbuffer.set_geometry('bg_geom')  # set to the buffers rather than the points\n",
    "\n",
    "    # merge the intersected data back into the full df of all block groups\n",
    "    df_final = gp.sjoin(social_df, bg_inbuffer, how = \"left\", predicate = 'contains')\n",
    "    \n",
    "    # Filter cols to just what's needed\n",
    "    df_final = df_final[['ID_left', 'CNTY_NAME_left', 'ACSTOTPOP_left', 'MINORPOP_left', 'D_PM25_2_left', 'shape_area_new_left', 'intersect_area', 'intersect_prop', 'geometry', 'intersect_geom']]\n",
    "\n",
    "    # clean things up after the sjoin\n",
    "    new_cols = [col.replace('_left', '') if col.endswith('_left') else col for col in df_final.columns]\n",
    "    df_final.columns = new_cols\n",
    "    \n",
    "    # Rename geometry column for clarity\n",
    "    df_final.rename(columns={'geometry':'bg_geom'}, inplace=True)  # old:new. Match col names for merging\n",
    "\n",
    "    # Replace NAs in both the intersect_prop and intersect_area with 0 for BG that have no intersection\n",
    "    no_intersect = df_final['intersect_prop'].isna() | df_final['intersect_area'].isna()\n",
    "\n",
    "    # Update the values in the 'intersect_prop' and 'intersect_area' columns of those rows to 0 using the loc method\n",
    "    df_final.loc[no_intersect, ['intersect_prop', 'intersect_area']] = 0\n",
    "    \n",
    "    # Apply the proportion to each demographic variable to find counts by variable\n",
    "    demo_vars = ['ACSTOTPOP', 'MINORPOP']\n",
    "    for var in demo_vars:\n",
    "        df_final[var + '_intersect_count'] = df_final[var] * df_final['intersect_prop']\n",
    "\n",
    "    # find overall proportions for each demo var by dividing var count by respective total population    \n",
    "    for var in demo_vars:\n",
    "        df_final[var + '_bg_totprop'] = df_final[var] / df_final['ACSTOTPOP']\n",
    "    \n",
    "    # Finally, save a subsetted version of the df for permutation testing\n",
    "    df_forpermutation = df_final[['MINORPOP_bg_totprop', 'intersect_prop']]\n",
    "    df_forpermutation.to_csv(F\"data/df_{buffer_size}m_forpermutation.csv\", index=False)\n",
    "    \n",
    "    return df_final"
   ]
  },
  {
   "cell_type": "markdown",
   "id": "aba75c31",
   "metadata": {},
   "source": [
    "#### create a spreadsheet of df_final to check the calcs"
   ]
  },
  {
   "cell_type": "code",
   "execution_count": 58,
   "id": "7cb683dd",
   "metadata": {},
   "outputs": [],
   "source": [
    "def calc_proportions(df, buffer_size, gen_table):\n",
    "    \n",
    "    df.to_csv(\"data/testing_calc.csv\")\n",
    "    \n",
    "    in_buffer = np.sum(df['MINORPOP_bg_totprop'] * df['intersect_prop']) / np.sum(df['intersect_prop'])\n",
    "    out_buffer = (np.sum(df['MINORPOP_bg_totprop'] * (1 - df['intersect_prop'])) /\n",
    "                  np.sum(1 - df['intersect_prop']))\n",
    "    \n",
    "    # table that compares the in-buffer proportions to the outside-buffer proportions\n",
    "    temp = pd.DataFrame({'ID': [f\"buffer_{buffer_size}\"], 'Buffer': [buffer_size], \n",
    "                         'in_buffer': [in_buffer], 'out_buffer': [out_buffer]})\n",
    "    \n",
    "    \n",
    "    gen_table = pd.concat([gen_table, temp], ignore_index=True)\n",
    "    \n",
    "    return gen_table\n",
    "    "
   ]
  },
  {
   "cell_type": "code",
   "execution_count": 59,
   "id": "8ce7d1c0",
   "metadata": {},
   "outputs": [],
   "source": [
    "def calc_counts(df, buffer_size, gen_table):\n",
    "\n",
    "    in_buffer = df['MINORPOP_intersect_count'].sum()\n",
    "    out_buffer = df['ACSTOTPOP'].sum() - in_buffer\n",
    "\n",
    "    # table that compares the in-buffer proportions to the outside-buffer proportions\n",
    "    temp = pd.DataFrame({'ID': [f\"buffer_{buffer_size}\"], 'Buffer': [buffer_size], 'in_buffer': [in_buffer], 'out_buffer': [out_buffer]})\n",
    "    \n",
    "    gen_table = pd.concat([gen_table, temp], ignore_index=True)\n",
    "    \n",
    "    return gen_table"
   ]
  },
  {
   "cell_type": "code",
   "execution_count": 60,
   "id": "e5a7a796",
   "metadata": {},
   "outputs": [],
   "source": [
    "def combined_calcs(flares_df, social_df, ca_blockgroups, buffer_size, gen_table):\n",
    "    \n",
    "    intersect = create_buffer_intersection(flares_df, social_df, buffer_size)\n",
    "    df = calc_intersect_stats(intersect, social_df, ca_blockgroups, buffer_size)\n",
    "    \n",
    "    gen_table = calc_proportions(df, buffer_size, gen_table)\n",
    "\n",
    "    return gen_table"
   ]
  },
  {
   "cell_type": "code",
   "execution_count": 67,
   "id": "d8b9ee40",
   "metadata": {},
   "outputs": [],
   "source": [
    "def all_buffer_calcs(gen_table, buffer_sizes = [100, 400, 800, 1000, 1600, 2000]):\n",
    "\n",
    "    for buffer_size in buffer_sizes:\n",
    "        gen_table = combined_calcs(ca_flares, ca_bg_joined, ca_bg, buffer_size, gen_table.copy())  \n",
    "        \n",
    "    return gen_table"
   ]
  },
  {
   "cell_type": "code",
   "execution_count": null,
   "id": "e7876a10",
   "metadata": {},
   "outputs": [],
   "source": []
  },
  {
   "cell_type": "code",
   "execution_count": null,
   "id": "224a2140",
   "metadata": {},
   "outputs": [],
   "source": []
  },
  {
   "cell_type": "code",
   "execution_count": null,
   "id": "6c840105",
   "metadata": {},
   "outputs": [],
   "source": []
  },
  {
   "cell_type": "markdown",
   "id": "cfb40a2c",
   "metadata": {},
   "source": [
    "#### *Figure out why \"buffer_size\" is being treated literally.*"
   ]
  },
  {
   "cell_type": "markdown",
   "id": "f23e53e9",
   "metadata": {},
   "source": [
    "### Proportions table"
   ]
  },
  {
   "cell_type": "code",
   "execution_count": 68,
   "id": "3008384f",
   "metadata": {},
   "outputs": [],
   "source": [
    "# initialize empty df\n",
    "prop_table = pd.DataFrame(columns=['ID', \"Buffer\", 'in_buffer', 'out_buffer'])\n",
    "name = prop_table.name = 'Proportions Table'"
   ]
  },
  {
   "cell_type": "code",
   "execution_count": 69,
   "id": "ed81c699",
   "metadata": {},
   "outputs": [],
   "source": [
    "prop_table = all_buffer_calcs(prop_table, buffer_sizes=[100, 400])\n",
    "prop_table['Buffer'] = prop_table['Buffer'].astype(float)"
   ]
  },
  {
   "cell_type": "code",
   "execution_count": 70,
   "id": "b468ac6d",
   "metadata": {},
   "outputs": [
    {
     "data": {
      "text/html": [
       "<div>\n",
       "<style scoped>\n",
       "    .dataframe tbody tr th:only-of-type {\n",
       "        vertical-align: middle;\n",
       "    }\n",
       "\n",
       "    .dataframe tbody tr th {\n",
       "        vertical-align: top;\n",
       "    }\n",
       "\n",
       "    .dataframe thead th {\n",
       "        text-align: right;\n",
       "    }\n",
       "</style>\n",
       "<table border=\"1\" class=\"dataframe\">\n",
       "  <thead>\n",
       "    <tr style=\"text-align: right;\">\n",
       "      <th></th>\n",
       "      <th>ID</th>\n",
       "      <th>Buffer</th>\n",
       "      <th>in_buffer</th>\n",
       "      <th>out_buffer</th>\n",
       "    </tr>\n",
       "  </thead>\n",
       "  <tbody>\n",
       "    <tr>\n",
       "      <th>0</th>\n",
       "      <td>buffer_100</td>\n",
       "      <td>100.00</td>\n",
       "      <td>0.39</td>\n",
       "      <td>0.60</td>\n",
       "    </tr>\n",
       "    <tr>\n",
       "      <th>1</th>\n",
       "      <td>buffer_400</td>\n",
       "      <td>400.00</td>\n",
       "      <td>0.44</td>\n",
       "      <td>0.60</td>\n",
       "    </tr>\n",
       "  </tbody>\n",
       "</table>\n",
       "</div>"
      ],
      "text/plain": [
       "           ID               Buffer            in_buffer           out_buffer\n",
       "0  buffer_100               100.00                 0.39                 0.60\n",
       "1  buffer_400               400.00                 0.44                 0.60"
      ]
     },
     "execution_count": 70,
     "metadata": {},
     "output_type": "execute_result"
    }
   ],
   "source": [
    "prop_table"
   ]
  },
  {
   "cell_type": "markdown",
   "id": "337082d8",
   "metadata": {},
   "source": [
    "#### *The out-buffer proportions are not being calculated correctly. Code seems right, though. Troubleshoot with JC*"
   ]
  },
  {
   "cell_type": "code",
   "execution_count": 16,
   "id": "85a6e8c9",
   "metadata": {},
   "outputs": [
    {
     "data": {
      "image/png": "[encoded data removed]",
      "text/plain": [
       "<Figure size 800x600 with 1 Axes>"
      ]
     },
     "metadata": {},
     "output_type": "display_data"
    }
   ],
   "source": [
    "# scatterplot of buffer props\n",
    "\n",
    "fig, ax = plt.subplots(figsize=(8, 6))\n",
    "ax.scatter(prop_table['Buffer'], prop_table['in_buffer'], label='Inside buffer')\n",
    "ax.scatter(prop_table['Buffer'], prop_table['out_buffer'], label='Outside buffer')\n",
    "\n",
    "# Set xticks to the buffer sizes\n",
    "xticks = [100, 400, 800, 1000, 1600, 2000]\n",
    "ax.set_xticks(xticks)\n",
    "\n",
    "# Set xticklabels to the buffer sizes\n",
    "xticklabels = [f\"{b:,}\" for b in xticks]\n",
    "ax.set_xticklabels(xticklabels)\n",
    "ax.set_xlabel('Buffer size (m)')\n",
    "ax.set_ylabel('Proportion of MINORPOP')\n",
    "ax.legend()\n",
    "plt.show()\n"
   ]
  },
  {
   "cell_type": "markdown",
   "id": "4245ba3e",
   "metadata": {},
   "source": [
    "### Counts table"
   ]
  },
  {
   "cell_type": "code",
   "execution_count": 17,
   "id": "0059ca8d",
   "metadata": {},
   "outputs": [],
   "source": [
    "# initialize empty df\n",
    "count_table = pd.DataFrame(columns=['ID', \"Buffer\", 'in_buffer', 'out_buffer'])\n",
    "name = count_table.name = 'Counts Table'"
   ]
  },
  {
   "cell_type": "code",
   "execution_count": 18,
   "id": "4de9aeb7",
   "metadata": {},
   "outputs": [],
   "source": [
    "# def combined_calcs(flares_df, social_df, ca_blockgroups, buffer_size, gen_table):\n",
    "    \n",
    "#     intersect = create_buffer_intersection(flares_df, social_df, buffer_size)\n",
    "#     df = calc_intersect_stats(intersect, social_df, ca_blockgroups, buffer_size)\n",
    "    \n",
    "#     #gen_table = calc_proportions(df, buffer_size, gen_table)\n",
    "#     gen_table = calc_counts(df, buffer_size, gen_table)\n",
    "\n",
    "#     return gen_table"
   ]
  },
  {
   "cell_type": "code",
   "execution_count": 19,
   "id": "b9983892",
   "metadata": {},
   "outputs": [],
   "source": [
    "count_table = all_buf_calcs(count_table)\n",
    "count_table['Buffer'] = count_table['Buffer'].astype(float)"
   ]
  },
  {
   "cell_type": "code",
   "execution_count": 20,
   "id": "c02c30d5",
   "metadata": {},
   "outputs": [
    {
     "data": {
      "text/html": [
       "<div>\n",
       "<style scoped>\n",
       "    .dataframe tbody tr th:only-of-type {\n",
       "        vertical-align: middle;\n",
       "    }\n",
       "\n",
       "    .dataframe tbody tr th {\n",
       "        vertical-align: top;\n",
       "    }\n",
       "\n",
       "    .dataframe thead th {\n",
       "        text-align: right;\n",
       "    }\n",
       "</style>\n",
       "<table border=\"1\" class=\"dataframe\">\n",
       "  <thead>\n",
       "    <tr style=\"text-align: right;\">\n",
       "      <th></th>\n",
       "      <th>ID</th>\n",
       "      <th>Buffer</th>\n",
       "      <th>in_buffer</th>\n",
       "      <th>out_buffer</th>\n",
       "    </tr>\n",
       "  </thead>\n",
       "  <tbody>\n",
       "    <tr>\n",
       "      <th>0</th>\n",
       "      <td>buffer_100</td>\n",
       "      <td>100.00</td>\n",
       "      <td>81.15</td>\n",
       "      <td>39,345,941.85</td>\n",
       "    </tr>\n",
       "    <tr>\n",
       "      <th>1</th>\n",
       "      <td>buffer_400</td>\n",
       "      <td>400.00</td>\n",
       "      <td>1,671.84</td>\n",
       "      <td>39,344,351.16</td>\n",
       "    </tr>\n",
       "    <tr>\n",
       "      <th>2</th>\n",
       "      <td>buffer_800</td>\n",
       "      <td>800.00</td>\n",
       "      <td>8,008.53</td>\n",
       "      <td>39,338,014.47</td>\n",
       "    </tr>\n",
       "    <tr>\n",
       "      <th>3</th>\n",
       "      <td>buffer_1000</td>\n",
       "      <td>1,000.00</td>\n",
       "      <td>15,660.90</td>\n",
       "      <td>39,330,362.10</td>\n",
       "    </tr>\n",
       "    <tr>\n",
       "      <th>4</th>\n",
       "      <td>buffer_1600</td>\n",
       "      <td>1,600.00</td>\n",
       "      <td>65,654.03</td>\n",
       "      <td>39,280,368.97</td>\n",
       "    </tr>\n",
       "    <tr>\n",
       "      <th>5</th>\n",
       "      <td>buffer_2000</td>\n",
       "      <td>2,000.00</td>\n",
       "      <td>127,549.70</td>\n",
       "      <td>39,218,473.30</td>\n",
       "    </tr>\n",
       "  </tbody>\n",
       "</table>\n",
       "</div>"
      ],
      "text/plain": [
       "            ID               Buffer            in_buffer           out_buffer\n",
       "0   buffer_100               100.00                81.15        39,345,941.85\n",
       "1   buffer_400               400.00             1,671.84        39,344,351.16\n",
       "2   buffer_800               800.00             8,008.53        39,338,014.47\n",
       "3  buffer_1000             1,000.00            15,660.90        39,330,362.10\n",
       "4  buffer_1600             1,600.00            65,654.03        39,280,368.97\n",
       "5  buffer_2000             2,000.00           127,549.70        39,218,473.30"
      ]
     },
     "execution_count": 20,
     "metadata": {},
     "output_type": "execute_result"
    }
   ],
   "source": [
    "count_table"
   ]
  },
  {
   "cell_type": "code",
   "execution_count": 21,
   "id": "af3d5e1b",
   "metadata": {},
   "outputs": [
    {
     "data": {
      "image/png": "[encoded data removed]",
      "text/plain": [
       "<Figure size 800x600 with 1 Axes>"
      ]
     },
     "metadata": {},
     "output_type": "display_data"
    }
   ],
   "source": [
    "# scatterplot of buffer counts\n",
    "# visualizing just in-buffer counts for readability. \n",
    "\n",
    "fig, ax = plt.subplots(figsize=(8, 6))\n",
    "ax.scatter(count_table['Buffer'], count_table['in_buffer'], label='Inside buffer')\n",
    "#ax.scatter(count_table['Buffer'], count_table['out_buffer'], label='Outside buffer')\n",
    "\n",
    "# Define the formatter function\n",
    "def thousand_fmt(x, pos):\n",
    "    return f\"{x:,.0f}\"\n",
    "# Set the formatter function for the y-axis\n",
    "ax.yaxis.set_major_formatter(mtick.FuncFormatter(thousand_fmt))\n",
    "\n",
    "# Set xticks to the buffer sizes\n",
    "xticks = [100, 400, 800, 1000, 1600, 2000]\n",
    "ax.set_xticks(xticks)\n",
    "\n",
    "# Set xticklabels to the buffer sizes\n",
    "xticklabels = [f\"{b:,}\" for b in xticks]\n",
    "ax.set_xticklabels(xticklabels)\n",
    "ax.set_xlabel('Buffer size (m)')\n",
    "ax.set_ylabel('Counts of MINORPOP')\n",
    "ax.legend()\n",
    "plt.show()"
   ]
  },
  {
   "cell_type": "markdown",
   "id": "3c1edc96",
   "metadata": {},
   "source": [
    "## Visualization with Folium"
   ]
  },
  {
   "cell_type": "code",
   "execution_count": 22,
   "id": "cda809e5",
   "metadata": {},
   "outputs": [
    {
     "data": {
      "text/plain": [
       "<folium.map.FeatureGroup at 0x7faf30fd2550>"
      ]
     },
     "execution_count": 22,
     "metadata": {},
     "output_type": "execute_result"
    }
   ],
   "source": [
    "# Convert the GeoDataFrame to the same CRS as the folium map (if necessary)\n",
    "\n",
    "# Create a folium map with a center location\n",
    "m = folium.Map(location=[38.377158,-121.645792], zoom_start=6, tiles=None,overlay=False)  #start w lat/long roughly in center of CA\n",
    "base_map = folium.FeatureGroup(name='Base map', overlay=True, control=False)\n",
    "folium.TileLayer(tiles='OpenStreetMap').add_to(base_map)\n",
    "base_map.add_to(m)"
   ]
  },
  {
   "cell_type": "code",
   "execution_count": 23,
   "id": "a6648433",
   "metadata": {},
   "outputs": [],
   "source": [
    "# # Choropleth of Block Groups\n",
    "\n",
    "# folium.Choropleth(ca_bg_joined,\n",
    "#                   data=ca_bg_joined,\n",
    "#                   columns = ['ID', 'D_PM25_2'], \n",
    "#                   key_on='feature.properties.ID',\n",
    "#                   fill_color=\"Reds\",\n",
    "#                   fill_opacity=0.7,\n",
    "#                   line_opacity=0.2,\n",
    "#                   legend_name=\"PM2.5 Index\",\n",
    "#                  name=\"Block Groups\").add_to(m)\n"
   ]
  },
  {
   "cell_type": "code",
   "execution_count": 24,
   "id": "5318968d",
   "metadata": {},
   "outputs": [
    {
     "data": {
      "text/plain": [
       "<folium.map.FeatureGroup at 0x7faf3c524710>"
      ]
     },
     "execution_count": 24,
     "metadata": {},
     "output_type": "execute_result"
    }
   ],
   "source": [
    "# # Feature Group: All Block Groups\n",
    "\n",
    "# def style_function3(feature):\n",
    "#     return {\n",
    "#         'fillColor': 'grey',\n",
    "#         'color': 'grey',\n",
    "#         'fillOpacity': 0.05\n",
    "#     }\n",
    "\n",
    "# all_bg = folium.FeatureGroup(name='All BG', overlay=True)\n",
    "# folium.GeoJson(\n",
    "#     data=ca_bg[\"geometry\"],\n",
    "#     style_function=style_function3\n",
    "# ).add_to(all_bg)\n",
    "# all_bg.add_to(m)"
   ]
  },
  {
   "cell_type": "code",
   "execution_count": 25,
   "id": "660a2fc7",
   "metadata": {},
   "outputs": [
    {
     "data": {
      "text/plain": [
       "<folium.map.FeatureGroup at 0x7faf31550e10>"
      ]
     },
     "execution_count": 25,
     "metadata": {},
     "output_type": "execute_result"
    }
   ],
   "source": [
    "# # Feature Group: Buffers\n",
    "\n",
    "# def style_function1(feature):\n",
    "#     return {\n",
    "#         'fillColor': 'red',\n",
    "#         'color': 'red',\n",
    "#         'fillOpacity': 0.2\n",
    "#     }\n",
    "\n",
    "# all_flares_buffers = folium.FeatureGroup(name='Flare Buffers', overlay=True)\n",
    "# folium.GeoJson(\n",
    "#     data=ca_flares[\"buffer_2000m\"],\n",
    "#     style_function=style_function1\n",
    "# ).add_to(all_flares_buffers)\n",
    "# all_flares_buffers.add_to(m)"
   ]
  },
  {
   "cell_type": "code",
   "execution_count": 26,
   "id": "3370356e",
   "metadata": {},
   "outputs": [
    {
     "ename": "NameError",
     "evalue": "name 'test' is not defined",
     "output_type": "error",
     "traceback": [
      "\u001b[0;31m---------------------------------------------------------------------------\u001b[0m",
      "\u001b[0;31mNameError\u001b[0m                                 Traceback (most recent call last)",
      "\u001b[0;32m/var/folders/l2/3yz76s950t9fmbgrpxx6nxnc0000gn/T/ipykernel_42782/3957024629.py\u001b[0m in \u001b[0;36m<module>\u001b[0;34m\u001b[0m\n\u001b[1;32m     10\u001b[0m \u001b[0mintersect\u001b[0m \u001b[0;34m=\u001b[0m \u001b[0mfolium\u001b[0m\u001b[0;34m.\u001b[0m\u001b[0mFeatureGroup\u001b[0m\u001b[0;34m(\u001b[0m\u001b[0mname\u001b[0m\u001b[0;34m=\u001b[0m\u001b[0;34m'BG-Flare Intersections'\u001b[0m\u001b[0;34m,\u001b[0m \u001b[0moverlay\u001b[0m\u001b[0;34m=\u001b[0m\u001b[0;32mTrue\u001b[0m\u001b[0;34m)\u001b[0m\u001b[0;34m\u001b[0m\u001b[0;34m\u001b[0m\u001b[0m\n\u001b[1;32m     11\u001b[0m folium.GeoJson(\n\u001b[0;32m---> 12\u001b[0;31m     \u001b[0mdata\u001b[0m\u001b[0;34m=\u001b[0m\u001b[0mtest\u001b[0m\u001b[0;34m[\u001b[0m\u001b[0;34m'intersect_geom'\u001b[0m\u001b[0;34m]\u001b[0m\u001b[0;34m,\u001b[0m\u001b[0;34m\u001b[0m\u001b[0;34m\u001b[0m\u001b[0m\n\u001b[0m\u001b[1;32m     13\u001b[0m     \u001b[0mstyle_function\u001b[0m\u001b[0;34m=\u001b[0m\u001b[0mstyle_function2\u001b[0m\u001b[0;34m\u001b[0m\u001b[0;34m\u001b[0m\u001b[0m\n\u001b[1;32m     14\u001b[0m ).add_to(intersect)\n",
      "\u001b[0;31mNameError\u001b[0m: name 'test' is not defined"
     ]
    }
   ],
   "source": [
    "# # Feature Group: BG-Buffer Intersections\n",
    "\n",
    "# def style_function2(feature):\n",
    "#     return {\n",
    "#         'fillColor': 'blue',\n",
    "#         'color': 'blue',\n",
    "#         'fillOpacity': 0.1\n",
    "#     }\n",
    "\n",
    "# intersect = folium.FeatureGroup(name='BG-Flare Intersections', overlay=True)\n",
    "# folium.GeoJson(\n",
    "#     data=test['intersect_geom'],\n",
    "#     style_function=style_function2\n",
    "# ).add_to(intersect)\n",
    "# intersect.add_to(m)"
   ]
  },
  {
   "cell_type": "code",
   "execution_count": null,
   "id": "2c205e94",
   "metadata": {},
   "outputs": [],
   "source": [
    "# # Add hover functionality\n",
    "# test = test.to_crs(\"EPSG:3857\")\n",
    "# test = test.set_geometry('bg_geom')\n",
    "# test_json = test.__geo_interface__"
   ]
  },
  {
   "cell_type": "code",
   "execution_count": null,
   "id": "ae96cf94",
   "metadata": {},
   "outputs": [],
   "source": [
    "\n",
    "# style_function = lambda x: {'fillColor': '#ffffff', \n",
    "#                             'color':'#000000', \n",
    "#                             'fillOpacity': 0.1, \n",
    "#                             'weight': 0.1}\n",
    "# highlight_function = lambda x: {'fillColor': '#999999', \n",
    "#                                 'color':'#999999', \n",
    "#                                 'fillOpacity': 0.50, \n",
    "#                                 'weight': 0.1}\n",
    "# NIL = folium.features.GeoJson(\n",
    "#     data = map_test,\n",
    "#     style_function=style_function, \n",
    "#     control=False,\n",
    "#     highlight_function=highlight_function, \n",
    "#     tooltip=folium.features.GeoJsonTooltip(\n",
    "#         fields=['ID','CNTY_NAME'],# 'D_PM25_2', 'ACSTOTPOP', 'MINORPOP','shape_area_new', 'intersect_prop', 'intersect_area', 'MINORPOP_bg_totprop'],\n",
    "#         style=(\"background-color: white; color: #333333; font-family: arial; font-size: 12px; padding: 10px;\") \n",
    "#     )\n",
    "# )"
   ]
  },
  {
   "cell_type": "code",
   "execution_count": null,
   "id": "a298b42d",
   "metadata": {},
   "outputs": [],
   "source": [
    "# # add hover functionality as child to map, add layering, display map\n",
    "# m.add_child(NIL)\n",
    "# m.keep_in_front(NIL)\n",
    "# folium.LayerControl().add_to(m)\n",
    "# m"
   ]
  },
  {
   "cell_type": "code",
   "execution_count": null,
   "id": "ab17b442",
   "metadata": {},
   "outputs": [],
   "source": [
    "# # Flares\n",
    "# all_flares_points = folium.FeatureGroup(name='flare points', overlay=True)\n",
    "# folium.GeoJson(data=ca_flares[\"geometry\"]).add_to(all_flares_points)\n",
    "# all_flares_points.add_to(m)"
   ]
  },
  {
   "cell_type": "code",
   "execution_count": null,
   "id": "ab7ee399",
   "metadata": {},
   "outputs": [],
   "source": []
  }
 ],
 "metadata": {
  "kernelspec": {
   "display_name": "capstonermi37",
   "language": "python",
   "name": "capstonermi37"
  },
  "language_info": {
   "codemirror_mode": {
    "name": "ipython",
    "version": 3
   },
   "file_extension": ".py",
   "mimetype": "text/x-python",
   "name": "python",
   "nbconvert_exporter": "python",
   "pygments_lexer": "ipython3",
   "version": "3.7.13"
  }
 },
 "nbformat": 4,
 "nbformat_minor": 5
}
