{
 "cells": [
  {
   "cell_type": "code",
   "execution_count": 1,
   "id": "30bd301c",
   "metadata": {},
   "outputs": [],
   "source": [
    "import geopandas as gp\n",
    "from shapely import wkt\n",
    "from shapely.geometry import Point, Polygon\n",
    "from shapely.ops import unary_union\n",
    "import pandas as pd\n",
    "import numpy as np\n",
    "from pprint import pprint\n",
    "import os\n",
    "import glob\n",
    "import openpyxl\n",
    "import matplotlib.pyplot as plt\n",
    "import plotly.express as px #if using plotly\n",
    "import folium"
   ]
  },
  {
   "cell_type": "markdown",
   "id": "c149f833",
   "metadata": {},
   "source": [
    "## Research Questions"
   ]
  },
  {
   "cell_type": "markdown",
   "id": "72463369",
   "metadata": {},
   "source": [
    "### 1) Which specific flares are the most impactful? "
   ]
  },
  {
   "cell_type": "markdown",
   "id": "6eddae6c",
   "metadata": {},
   "source": [
    "### 2) Is there a significant difference in the proportion of minorities within a given flaring buffer zone versus outside the buffer? "
   ]
  },
  {
   "cell_type": "markdown",
   "id": "3975a71b",
   "metadata": {},
   "source": [
    "## Setup / load data"
   ]
  },
  {
   "cell_type": "code",
   "execution_count": 2,
   "id": "ea659b2b",
   "metadata": {},
   "outputs": [],
   "source": [
    "pd.set_option('display.max_columns', None)  # display all columns\n",
    "pd.options.display.float_format = '{:20,.2f}'.format  # suppress scientific notation"
   ]
  },
  {
   "cell_type": "code",
   "execution_count": 3,
   "id": "212b25d2",
   "metadata": {},
   "outputs": [],
   "source": [
    "ca_state = gp.read_file(\"data/CA_State_TIGER2016.shp\")  # CA state\n",
    "ca_counties = gp.read_file(\"data/CA_Counties_TIGER2016.shp\")  # CA counties\n",
    "ca_bg = gp.read_file(\"data/tl_2022_06_bg.shp\")  # CA block groups"
   ]
  },
  {
   "cell_type": "code",
   "execution_count": 4,
   "id": "c1be8974",
   "metadata": {},
   "outputs": [],
   "source": [
    "# Load census block group level data from EJscreen\n",
    "# Source: https://www.epa.gov/ejscreen/download-ejscreen-data\n",
    "# This is the 2017-2021 5-year ACS average data\n",
    "ejscreen = pd.read_excel(\"data/CA_EJSCREEN_2022_Full_with_AS_CNMI_GU_VI.xlsx\", index_col=None, header=0)"
   ]
  },
  {
   "cell_type": "code",
   "execution_count": 5,
   "id": "c82f425e",
   "metadata": {},
   "outputs": [],
   "source": [
    "# read in cleaned and combined flares data\n",
    "all_flares = gp.read_file(\"data/all_flares.shp\")"
   ]
  },
  {
   "cell_type": "code",
   "execution_count": 6,
   "id": "feacd1ee",
   "metadata": {},
   "outputs": [],
   "source": [
    "# set common crs for project\n",
    "projcrs = 4326\n",
    "ca_state = ca_state.to_crs(projcrs)\n",
    "ca_counties = ca_counties.to_crs(projcrs)\n",
    "ca_bg = ca_bg.to_crs(projcrs)\n",
    "\n",
    "ca_bg.rename(columns={'GEOID':'ID'}, inplace=True)  # match column names for merging\n",
    "ca_bg['ID'] = ca_bg['ID'].astype(np.int64)"
   ]
  },
  {
   "cell_type": "code",
   "execution_count": 7,
   "id": "cfc40e09",
   "metadata": {},
   "outputs": [
    {
     "data": {
      "text/plain": [
       "<Geographic 2D CRS: EPSG:4326>\n",
       "Name: WGS 84\n",
       "Axis Info [ellipsoidal]:\n",
       "- Lat[north]: Geodetic latitude (degree)\n",
       "- Lon[east]: Geodetic longitude (degree)\n",
       "Area of Use:\n",
       "- name: World\n",
       "- bounds: (-180.0, -90.0, 180.0, 90.0)\n",
       "Datum: World Geodetic System 1984\n",
       "- Ellipsoid: WGS 84\n",
       "- Prime Meridian: Greenwich"
      ]
     },
     "execution_count": 7,
     "metadata": {},
     "output_type": "execute_result"
    }
   ],
   "source": [
    "ca_state.crs"
   ]
  },
  {
   "cell_type": "code",
   "execution_count": 8,
   "id": "5c7be374",
   "metadata": {},
   "outputs": [
    {
     "name": "stdout",
     "output_type": "stream",
     "text": [
      "25607 block groups in the EJScreen data \n",
      "\n",
      "25607 block groups in the CA block group shapefile\n",
      "\n",
      "0 block groups are missing after merge\n"
     ]
    }
   ],
   "source": [
    "print(f\"{len(ejscreen['ID'])} block groups in the EJScreen data \\n\")\n",
    "print(f\"{len(ca_bg['ID'])} block groups in the CA block group shapefile\\n\")\n",
    "ca_bg_joined = pd.merge(ca_bg, ejscreen, on='ID')\n",
    "print(f\"{len(ca_bg['ID'].unique())-len(ca_bg_joined)} block groups are missing after merge\")\n"
   ]
  },
  {
   "cell_type": "code",
   "execution_count": 9,
   "id": "cfa34cb7",
   "metadata": {},
   "outputs": [
    {
     "name": "stdout",
     "output_type": "stream",
     "text": [
      "Flares found: 117\n"
     ]
    }
   ],
   "source": [
    "# subset flares to only those in Cali\n",
    "ca_flares = gp.sjoin(all_flares, ca_counties, how = \"inner\", predicate = 'within')\n",
    "print(f'Flares found: {len(ca_flares)}')\n",
    "ca_flares.drop('index_right', axis=1, inplace=True)\n",
    "\n",
    "# set col list for BCM_avg calculation\n",
    "col_list = ['BCM_2012','BCM_2013','BCM_2014','BCM_2015','BCM_2016','BCM_2017',\n",
    "            'BCM_2018','BCM_2019','BCM_2020','BCM_2021']\n",
    "\n",
    "# add new column for average BCM across all years\n",
    "ca_flares['BCM_avg'] = ca_flares[col_list].mean(axis=1)  "
   ]
  },
  {
   "cell_type": "code",
   "execution_count": 10,
   "id": "ff99d0c6",
   "metadata": {},
   "outputs": [],
   "source": [
    "# epsg3310: https://epsg.io/3310-1739\n",
    "# units: meters\n",
    "\n",
    "# ca_polys_subset = ca_polys_subset.to_crs(meters_crs)\n",
    "# ca_bg_joined = ca_bg_joined.to_crs(meters_crs)"
   ]
  },
  {
   "cell_type": "code",
   "execution_count": 11,
   "id": "a023a648",
   "metadata": {},
   "outputs": [],
   "source": [
    "# # Create \"flares present\" binary dependent variable\n",
    "# ca_polys_subset = gp.sjoin(ca_bg_joined, ca_flares, how='inner', predicate='contains')\n",
    "# ca_bg_joined = ca_bg_joined.assign(flares_present=ca_bg_joined['geometry'].isin(ca_polys_subset['geometry']).astype(int))\n",
    "\n",
    "# print(f\"Block groups containing flares (0=no, 1=yes):\\n\")\n",
    "# print(ca_bg_joined['flares_present'].value_counts())"
   ]
  },
  {
   "cell_type": "markdown",
   "id": "a1cac397",
   "metadata": {},
   "source": [
    "### test ej index calcs"
   ]
  },
  {
   "cell_type": "code",
   "execution_count": 12,
   "id": "6b384d4f",
   "metadata": {},
   "outputs": [],
   "source": [
    "test = ca_bg_joined[['ID', 'CNTY_NAME', 'Shape_Area', 'ACSTOTPOP', 'MINORPOP', 'LOWINCOME', 'D_PM25_2', 'MINORPCT', 'LOWINCPCT', 'P_PM25_D2', 'VULEOPCT', 'D_PM25_2', 'P_PM25']]"
   ]
  },
  {
   "cell_type": "code",
   "execution_count": 13,
   "id": "59eae734",
   "metadata": {},
   "outputs": [],
   "source": [
    "test_bg = test[test['ID']==61090022013]"
   ]
  },
  {
   "cell_type": "code",
   "execution_count": 14,
   "id": "a1dcf0df",
   "metadata": {},
   "outputs": [
    {
     "data": {
      "text/plain": [
       "0.19"
      ]
     },
     "execution_count": 14,
     "metadata": {},
     "output_type": "execute_result"
    }
   ],
   "source": [
    "# this matches\n",
    "\n",
    "# Demographic index = (% ppl of color + % low income) / 2\n",
    "(.16+.22)/2"
   ]
  },
  {
   "cell_type": "code",
   "execution_count": 15,
   "id": "b216bb3a",
   "metadata": {},
   "outputs": [
    {
     "data": {
      "text/plain": [
       "17.67"
      ]
     },
     "execution_count": 15,
     "metadata": {},
     "output_type": "execute_result"
    }
   ],
   "source": [
    "# matches\n",
    "\n",
    "# EJ Index = National percentile for env hazard * Demographic index\n",
    "93*.19"
   ]
  },
  {
   "cell_type": "markdown",
   "id": "8859e131",
   "metadata": {},
   "source": [
    "## 2km Buffer Analysis"
   ]
  },
  {
   "cell_type": "markdown",
   "id": "cea12fd5",
   "metadata": {},
   "source": [
    "1) set buffers around flares  \n",
    "2) Subset census data to only to race and age columns  \n",
    "3) count # of people and create proportion of those columns that are anywhere within the combined buffer  \n",
    "4) same for outside the buffer  \n",
    "5) Create table that summarizes the proportions for in-buffer and out-buffer"
   ]
  },
  {
   "cell_type": "code",
   "execution_count": 24,
   "id": "932cceb8",
   "metadata": {},
   "outputs": [
    {
     "name": "stderr",
     "output_type": "stream",
     "text": [
      "/Users/natebender/.local/lib/python3.7/site-packages/ipykernel_launcher.py:4: UserWarning: Geometry is in a geographic CRS. Results from 'buffer' are likely incorrect. Use 'GeoSeries.to_crs()' to re-project geometries to a projected CRS before this operation.\n",
      "\n",
      "  after removing the cwd from sys.path.\n"
     ]
    }
   ],
   "source": [
    "# 1) set 2km buffers around flares and unary_union() into single multipolygon\n",
    "meters_crs = 3310\n",
    "ca_flares = ca_flares.to_crs(meters_crs)\n",
    "ca_flares[\"buffer_2000m\"] = ca_flares['geometry'].buffer(distance = 2000)\n",
    "\n",
    "# sjoin() doesn't seem to allow picking a specific geometry col.\n",
    "# Have to manually set it to the buffers rather than the flare points\n",
    "ca_flares = ca_flares.set_geometry('buffer_2000m')  # set to the buffers rather than the points"
   ]
  },
  {
   "cell_type": "code",
   "execution_count": 25,
   "id": "e141cdda",
   "metadata": {},
   "outputs": [],
   "source": [
    "# ID, ACSTOTPOP, UNDER5, OVER64, MINORPOP, LOWINCOME, D_PM25_2\n",
    "# total population, under 5yr, over 64yr, people of color, low income, EJ index for PM2.5\n",
    "\n",
    "bg_formodel = ca_bg_joined[['ID', 'CNTY_NAME', 'Shape_Area', 'ACSTOTPOP', 'UNDER5', 'OVER64', 'MINORPOP', 'LOWINCOME', 'D_PM25_2', 'geometry']]"
   ]
  },
  {
   "cell_type": "code",
   "execution_count": 26,
   "id": "bdcea2e3",
   "metadata": {},
   "outputs": [],
   "source": [
    "# create unary_union of flares, then change back to geodf for processing\n",
    "# crs must be geographic not projected to do a unary union\n",
    "temp = ca_flares.unary_union\n",
    "all_buffers = gp.GeoDataFrame({'geometry': [temp]}, crs=ca_flares.crs)  # convert back to geodf for processing"
   ]
  },
  {
   "cell_type": "code",
   "execution_count": 27,
   "id": "62c27ed1",
   "metadata": {},
   "outputs": [
    {
     "data": {
      "image/svg+xml": [
       "<svg xmlns=\"http://www.w3.org/2000/svg\" xmlns:xlink=\"http://www.w3.org/1999/xlink\" width=\"300\" height=\"300\" viewBox=\"-2282.972514 -2126.61198 4326.076053 4325.137321\" preserveAspectRatio=\"xMinYMin meet\"><g transform=\"matrix(1,0,0,-1,0,71.9133609999999)\"><path fill-rule=\"evenodd\" fill=\"#66cc99\" stroke=\"#555555\" stroke-width=\"28.840507019999997\" opacity=\"0.6\" d=\"M 825.0494373125413,-1730.182374456984 L 824.9708636519972,-1730.229469696709 L 647.5442547301816,-1814.1460060225725 L 462.74674450892707,-1880.267612464417 L 272.3580340322593,-1927.9575018064604 L 78.21167065912417,-1956.7563943443934 L -117.82260999999677,-1966.386941 L -313.85689065911777,-1956.756394344394 L -508.0032540322529,-1927.9575018064616 L -698.3919645089211,-1880.267612464419 L -883.1894747301756,-1814.146006022575 L -883.3609929228702,-1814.0648839590058 L -883.5863217301757,-1813.984260022575 L -884.0959154431307,-1813.7432401463316 L -884.4957277301756,-1813.600185022575 L -1061.9223366519914,-1729.6836486967122 L -1062.338096533056,-1729.434451814052 L -1063.1928496519913,-1729.0301836967121 L -1231.539842039201,-1628.1268796050929 L -1389.1859443272879,-1511.2085617254763 L -1534.6129383730924,-1379.4012173730978 L -1666.4202827254717,-1233.9742233272937 L -1783.3386006050887,-1076.3281210392072 L -1784.3444018307991,-1074.650043073257 L -1785.6866996050885,-1072.8401640392071 L -1886.5900036967084,-904.4931716519981 L -1970.5065400225722,-727.0665627301822 L -2036.628146464417,-542.2690525089272 L -2084.3180358064606,-351.88034203225897 L -2113.1169283443937,-157.7339786591234 L -2122.747475,38.300301999997984 L -2113.1169283443937,234.3345826591194 L -2084.3180358064615,428.48094603225496 L -2036.628146464418,618.8696565089234 L -1970.5065400225737,803.6671667301785 L -1886.5900036967105,981.0937756519945 L -1785.6866996050908,1149.440768039204 L -1668.768381725474,1307.0868703272906 L -1536.9610373730952,1452.513864373095 L -1391.5340433272918,1584.3212087254735 L -1233.8879410392058,1701.2395266050894 L -1065.5409486519973,1802.142830696709 L -888.1143397301823,1886.0593670225724 L -703.3168295089282,1952.1809734644169 L -512.9281190322608,1999.87086280646 L -318.7817556591262,2028.6697553443933 L -122.74747500000569,2038.300302 L 73.28680565911488,2028.6697553443944 L 267.4331690322496,1999.8708628064624 L 457.8218795089173,1952.18097346442 L 642.6193897301717,1886.059367022577 L 642.6661040683065,1886.0372727861102 L 643.4327317301718,1885.7629690225767 L 643.4327416011337,1885.7629643539594 L 643.4328487301717,1885.7629260225767 L 820.8594576519872,1801.8463896967141 L 989.2064500391963,1700.943085605096 L 989.3544069907564,1700.8333532511467 L 991.3920440391963,1699.6120406050961 L 1149.038146327283,1582.6937227254805 L 1294.4651403730873,1450.8863783731028 L 1296.1775775532271,1448.996995100694 L 1297.0920623730872,1448.1681543731029 L 1428.8994067254664,1302.7411603273001 L 1545.8177246050836,1145.0950580392148 L 1646.721028696704,976.7480656520069 L 1730.6375650225682,799.3214567301923 L 1796.7591714644136,614.5239465089386 L 1844.449060806458,424.13523603227134 L 1873.2479533443923,229.98887265913694 L 1882.8785,33.954592000016476 L 1882.8785,33.954592 L 1873.2479533443939,-162.07968865912102 L 1844.449060806461,-356.2260520322562 L 1796.759171464418,-546.6147625089242 L 1730.6375650225739,-731.4122727301788 L 1646.7210286967106,-908.8388816519944 L 1545.8177246050911,-1077.1858740392033 L 1428.8994067254748,-1234.8319763272898 L 1297.0920623730963,-1380.258970373094 L 1151.6650683272926,-1512.0663147254727 L 994.0189660392064,-1628.9846326050892 L 825.6719736519972,-1729.887936696709 L 825.0494373125413,-1730.182374456984 z\" /></g></svg>"
      ],
      "text/plain": [
       "<shapely.geometry.polygon.Polygon at 0x7f967b729f10>"
      ]
     },
     "execution_count": 27,
     "metadata": {},
     "output_type": "execute_result"
    }
   ],
   "source": [
    "temp"
   ]
  },
  {
   "cell_type": "code",
   "execution_count": 20,
   "id": "a9ae1450",
   "metadata": {},
   "outputs": [
    {
     "data": {
      "text/plain": [
       "shapely.geometry.polygon.Polygon"
      ]
     },
     "execution_count": 20,
     "metadata": {},
     "output_type": "execute_result"
    }
   ],
   "source": [
    "type(temp)"
   ]
  },
  {
   "cell_type": "code",
   "execution_count": 21,
   "id": "11c6d36f",
   "metadata": {
    "scrolled": false
   },
   "outputs": [],
   "source": [
    "# match crs\n",
    "# all_buffers = all_buffers.to_crs(meters_crs)\n",
    "# bg_formodel = bg_formodel.to_crs(meters_crs)\n",
    "\n",
    "# Spatial overlay operation to find only the areas that are in both geometries. \n",
    "# i.e. only the block group areas that are within any buffer zone\n",
    "bg_inbuffer = gp.overlay(bg_formodel, all_buffers, how='intersection')"
   ]
  },
  {
   "cell_type": "code",
   "execution_count": 22,
   "id": "eb2d4cc4",
   "metadata": {},
   "outputs": [
    {
     "ename": "NameError",
     "evalue": "name 'meters_crs' is not defined",
     "output_type": "error",
     "traceback": [
      "\u001b[0;31m---------------------------------------------------------------------------\u001b[0m",
      "\u001b[0;31mNameError\u001b[0m                                 Traceback (most recent call last)",
      "\u001b[0;32m/var/folders/l2/3yz76s950t9fmbgrpxx6nxnc0000gn/T/ipykernel_18026/1554336207.py\u001b[0m in \u001b[0;36m<module>\u001b[0;34m\u001b[0m\n\u001b[1;32m      1\u001b[0m \u001b[0;31m# Create new 'area' column for the areas of the intersections\u001b[0m\u001b[0;34m\u001b[0m\u001b[0;34m\u001b[0m\u001b[0;34m\u001b[0m\u001b[0m\n\u001b[0;32m----> 2\u001b[0;31m \u001b[0mbg_inbuffer\u001b[0m \u001b[0;34m=\u001b[0m \u001b[0mbg_inbuffer\u001b[0m\u001b[0;34m.\u001b[0m\u001b[0mto_crs\u001b[0m\u001b[0;34m(\u001b[0m\u001b[0mmeters_crs\u001b[0m\u001b[0;34m)\u001b[0m\u001b[0;34m\u001b[0m\u001b[0;34m\u001b[0m\u001b[0m\n\u001b[0m\u001b[1;32m      3\u001b[0m \u001b[0mbg_inbuffer\u001b[0m\u001b[0;34m[\u001b[0m\u001b[0;34m'intersect_area'\u001b[0m\u001b[0;34m]\u001b[0m \u001b[0;34m=\u001b[0m \u001b[0mbg_inbuffer\u001b[0m\u001b[0;34m.\u001b[0m\u001b[0marea\u001b[0m\u001b[0;34m\u001b[0m\u001b[0;34m\u001b[0m\u001b[0m\n",
      "\u001b[0;31mNameError\u001b[0m: name 'meters_crs' is not defined"
     ]
    }
   ],
   "source": [
    "# Create new 'area' column for the areas of the intersections\n",
    "bg_inbuffer = bg_inbuffer.to_crs(meters_crs)\n",
    "bg_inbuffer['intersect_area'] = bg_inbuffer.area"
   ]
  },
  {
   "cell_type": "code",
   "execution_count": null,
   "id": "5711baca",
   "metadata": {
    "scrolled": false
   },
   "outputs": [],
   "source": [
    "bg_inbuffer.sample(1)"
   ]
  },
  {
   "cell_type": "code",
   "execution_count": null,
   "id": "24b641f8",
   "metadata": {},
   "outputs": [],
   "source": [
    "# Calculate the proportion of each block group within the buffer zone\n",
    "#bg_inbuffer['intersect_prop'] = bg_inbuffer['intersect_area'] / bg_inbuffer.geometry.area\n",
    "\n",
    "#bg_formodel = bg_formodel.set_index(bg_formodel.index.astype(int))\n",
    "#bg_formodel = bg_formodel.reset_index().set_index('ID')\n",
    "\n",
    "#bg_inbuffer = bg_inbuffer.set_index('ID')\n",
    "#bg_formodel = bg_formodel.to_crs(meters_crs)\n",
    "#bg_inbuffer['intersect_prop'] = bg_inbuffer['intersect_area'] / bg_formodel.loc[bg_inbuffer.index, 'geometry'].area\n"
   ]
  },
  {
   "cell_type": "code",
   "execution_count": null,
   "id": "c83b79b9",
   "metadata": {},
   "outputs": [],
   "source": [
    "bg_inbuffer['intersect_prop'] = bg_inbuffer['intersect_area'] / bg_inbuffer['Shape_Area']"
   ]
  },
  {
   "cell_type": "code",
   "execution_count": null,
   "id": "716097b9",
   "metadata": {},
   "outputs": [],
   "source": [
    "bg_inbuffer[['intersect_area', 'Shape_Area', 'intersect_prop']].sample(20)"
   ]
  },
  {
   "cell_type": "code",
   "execution_count": null,
   "id": "3d040b3c",
   "metadata": {},
   "outputs": [],
   "source": [
    "# # Apply the proportion to each demographic variable to find counts by variable\n",
    "# demo_vars = ['ACSTOTPOP', 'UNDER5', 'OVER64', 'MINORPOP', 'LOWINCOME']\n",
    "# for var in demo_vars:\n",
    "#     bg_inbuffer[var + '_intersect_count'] = bg_inbuffer[var] * bg_inbuffer['intersect_prop']\n",
    "\n",
    "# # find overall proportions for each demo var by dividing their count by their total population    \n",
    "# for var in demo_vars:\n",
    "#     bg_inbuffer[var + '_bg_totprop'] = bg_inbuffer[var] / bg_inbuffer['ACSTOTPOP']"
   ]
  },
  {
   "cell_type": "code",
   "execution_count": null,
   "id": "37b09d35",
   "metadata": {},
   "outputs": [],
   "source": [
    "# It's not calculating correctly when a block group is completely contained within a buffer.\n",
    "# so set the ceiling of possible proportions to 1. Band-aid fix. \n",
    "# Does this mean the area calculation is not right either?\n",
    "#bg_flares['bg_5kbuf_prop'] = bg_flares['bg_5kbuf_prop'].clip(0, 1)\n",
    "\n",
    "# calculate the outside-buffer proportion\n",
    "#bg_flares['bg_5kbuf_out_prop'] = 1 - bg_flares['bg_5kbuf_prop']\n",
    "\n",
    "\n",
    "    "
   ]
  },
  {
   "cell_type": "markdown",
   "id": "b13c17ad",
   "metadata": {},
   "source": [
    "### In/out buffer proportions"
   ]
  },
  {
   "cell_type": "code",
   "execution_count": null,
   "id": "a141c6f2",
   "metadata": {},
   "outputs": [],
   "source": [
    "# prop_vars = ['ACSTOTPOP_bg_totprop', 'UNDER5_bg_totprop', 'OVER64_bg_totprop', 'MINORPOP_bg_totprop', 'LOWINCOME_bg_totprop']\n",
    "# in_buffer_prop = bg_inbuffer[prop_vars].mean()\n",
    "# out_buffer_prop = 1-in_buffer_prop\n",
    "\n",
    "# # create a table from the in-buffer and outside-buffer proportions\n",
    "# proportions = pd.concat([in_buffer_prop, out_buffer_prop], axis=1)\n",
    "# proportions.columns = ['In_Buffer', 'Outside_Buffer']\n",
    "\n",
    "# # table that compares the in-buffer proportions to the outside-buffer proportions\n",
    "# print(proportions)"
   ]
  },
  {
   "cell_type": "markdown",
   "id": "a9577714",
   "metadata": {},
   "source": [
    "### In/out buffer counts"
   ]
  },
  {
   "cell_type": "code",
   "execution_count": null,
   "id": "edc02d4f",
   "metadata": {},
   "outputs": [],
   "source": [
    "# count_vars = ['ACSTOTPOP_intersect_prop', 'UNDER5_intersect_prop', 'OVER64_intersect_prop', 'MINORPOP_intersect_prop', 'LOWINCOME_intersect_prop']\n",
    "\n",
    "# in_buffer_tot = bg_inbuffer[count_vars].sum()\n",
    "# out_buffer_tot = bg_formodel['ACSTOTPOP'].sum() - in_buffer_tot\n",
    "\n",
    "# # create a table from the in-buffer and outside-buffer counts\n",
    "# counts = pd.concat([in_buffer_tot, out_buffer_tot], axis=1)\n",
    "# counts.columns = ['In_Buffer_Count', 'Outside_Buffer_Count']\n",
    "# # format w thousands separators\n",
    "# counts[['In_Buffer_Count', 'Outside_Buffer_Count']] = counts[['In_Buffer_Count', 'Outside_Buffer_Count']].applymap('{:,.0f}'.format)\n",
    "\n",
    "# # table that compares the in-buffer counts to the outside-buffer counts\n",
    "# print(counts)"
   ]
  },
  {
   "cell_type": "markdown",
   "id": "3c1edc96",
   "metadata": {},
   "source": [
    "## Visualization with Folium"
   ]
  },
  {
   "cell_type": "code",
   "execution_count": null,
   "id": "cda809e5",
   "metadata": {},
   "outputs": [],
   "source": [
    "# Convert the GeoDataFrame to the same CRS as the folium map (if necessary)\n",
    "bg_formodel = bg_formodel.to_crs(3857)\n",
    "\n",
    "# Create a folium map with a center location\n",
    "m = folium.Map(location=[38.377158,-121.645792], zoom_start=6, tiles=None,overlay=False)  #start w lat/long roughly in center of CA\n",
    "base_map = folium.FeatureGroup(name='Base map', overlay=True, control=False)\n",
    "folium.TileLayer(tiles='OpenStreetMap').add_to(base_map)\n",
    "base_map.add_to(m)"
   ]
  },
  {
   "cell_type": "code",
   "execution_count": null,
   "id": "a6648433",
   "metadata": {},
   "outputs": [],
   "source": [
    "# Choropleth of Block Groups\n",
    "folium.Choropleth(bg_formodel,\n",
    "                  data=bg_formodel,\n",
    "                  columns = ['ID', 'D_PM25_2'], \n",
    "                  key_on='feature.properties.ID',\n",
    "                  fill_color=\"Reds\",\n",
    "                  fill_opacity=0.7,\n",
    "                  line_opacity=0.2,\n",
    "                  legend_name=\"PM2.5 Index\",\n",
    "                 name=\"Block Groups\").add_to(m)"
   ]
  },
  {
   "cell_type": "code",
   "execution_count": null,
   "id": "660a2fc7",
   "metadata": {},
   "outputs": [],
   "source": [
    "# Feature Group: Buffers\n",
    "\n",
    "def style_function(feature):\n",
    "    return {\n",
    "        'fillColor': 'red',\n",
    "        'color': 'red',\n",
    "        'fillOpacity': 0.2\n",
    "    }\n",
    "\n",
    "all_flares_buffers = folium.FeatureGroup(name='Flare Buffers', overlay=True)\n",
    "folium.GeoJson(\n",
    "    data=ca_flares[\"buffer_2000m\"],\n",
    "    style_function=style_function\n",
    ").add_to(all_flares_buffers)\n",
    "all_flares_buffers.add_to(m)"
   ]
  },
  {
   "cell_type": "code",
   "execution_count": null,
   "id": "3370356e",
   "metadata": {},
   "outputs": [],
   "source": [
    "# Feature Group: BG-Buffer Intersections\n",
    "\n",
    "def style_function2(feature):\n",
    "    return {\n",
    "        'fillColor': 'blue',\n",
    "        'color': 'blue',\n",
    "        'fillOpacity': 0.2\n",
    "    }\n",
    "\n",
    "intersect = folium.FeatureGroup(name='BG-Flare Intersections', overlay=True)\n",
    "folium.GeoJson(\n",
    "    data=bg_inbuffer['geometry'],\n",
    "    style_function=style_function2\n",
    ").add_to(intersect)\n",
    "intersect.add_to(m)"
   ]
  },
  {
   "cell_type": "code",
   "execution_count": null,
   "id": "ae96cf94",
   "metadata": {},
   "outputs": [],
   "source": [
    "# Add hover functionality\n",
    "style_function = lambda x: {'fillColor': '#ffffff', \n",
    "                            'color':'#000000', \n",
    "                            'fillOpacity': 0.1, \n",
    "                            'weight': 0.1}\n",
    "highlight_function = lambda x: {'fillColor': '#999999', \n",
    "                                'color':'#999999', \n",
    "                                'fillOpacity': 0.50, \n",
    "                                'weight': 0.1}\n",
    "NIL = folium.features.GeoJson(\n",
    "    data = bg_inbuffer,\n",
    "    style_function=style_function, \n",
    "    control=False,\n",
    "    highlight_function=highlight_function, \n",
    "    tooltip=folium.features.GeoJsonTooltip(\n",
    "        fields=['ID','CNTY_NAME', 'intersect_prop', 'intersect_area', 'Shape_Area', 'D_PM25_2', 'MINORPOP',],\n",
    "        style=(\"background-color: white; color: #333333; font-family: arial; font-size: 12px; padding: 10px;\") \n",
    "    )\n",
    ")"
   ]
  },
  {
   "cell_type": "code",
   "execution_count": null,
   "id": "a298b42d",
   "metadata": {},
   "outputs": [],
   "source": [
    "# add hover functionality as child to map, add layering, display map\n",
    "m.add_child(NIL)\n",
    "m.keep_in_front(NIL)\n",
    "folium.LayerControl().add_to(m)\n",
    "m"
   ]
  },
  {
   "cell_type": "code",
   "execution_count": null,
   "id": "ab17b442",
   "metadata": {},
   "outputs": [],
   "source": [
    "# # Flares\n",
    "# all_flares_points = folium.FeatureGroup(name='flare points', overlay=True)\n",
    "# folium.GeoJson(data=ca_flares[\"geometry\"]).add_to(all_flares_points)\n",
    "# all_flares_points.add_to(m)"
   ]
  }
 ],
 "metadata": {
  "kernelspec": {
   "display_name": "capstonermi37",
   "language": "python",
   "name": "capstonermi37"
  },
  "language_info": {
   "codemirror_mode": {
    "name": "ipython",
    "version": 3
   },
   "file_extension": ".py",
   "mimetype": "text/x-python",
   "name": "python",
   "nbconvert_exporter": "python",
   "pygments_lexer": "ipython3",
   "version": "3.7.13"
  }
 },
 "nbformat": 4,
 "nbformat_minor": 5
}
