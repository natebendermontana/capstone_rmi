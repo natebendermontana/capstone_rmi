{
 "cells": [
  {
   "cell_type": "code",
   "execution_count": 1,
   "id": "30bd301c",
   "metadata": {},
   "outputs": [],
   "source": [
    "import geopandas as gp\n",
    "from shapely import wkt\n",
    "from shapely.geometry import Point, Polygon\n",
    "from shapely.ops import unary_union\n",
    "import pandas as pd\n",
    "import numpy as np\n",
    "from pprint import pprint\n",
    "import os\n",
    "import glob\n",
    "import openpyxl\n",
    "import matplotlib.pyplot as plt\n",
    "import plotly.express as px #if using plotly\n",
    "import folium\n",
    "import warnings\n"
   ]
  },
  {
   "cell_type": "markdown",
   "id": "c149f833",
   "metadata": {},
   "source": [
    "## Research Questions"
   ]
  },
  {
   "cell_type": "markdown",
   "id": "6eddae6c",
   "metadata": {},
   "source": [
    "### 1) Is there a significant difference in the proportion of minorities within a given flaring buffer zone versus outside the buffer? \n",
    "\n",
    "#### Ultimate goal is a comparison of six different buffers (of 100; 400; 800; 1,000; 1,600; and 2,000 m) following Czolowski et al, 2017\n",
    "\n",
    "Null: Proportion of BG in a buffer is independent of minority status.\n",
    "Alt:  Proportion of BG in a buffer is related to minority status.\n",
    "  \n",
    "Test stat: Difference in weighted minority proportions.\n",
    "\n",
    "Weighted minority proportion = sumproduct(minority_prop * intersect_prop) / sum(intersect_prop)\n",
    "minority_prop is the proportion of minorities in a block group\n",
    "intersect_prop is the proportion of BG area residing in the buffer zone\n",
    "\n",
    "Permutation testing: Permute the intersect_prop variable, holding the fraction of minorities in each BG constant.\n",
    " \n",
    "Process   \n",
    "a) Calculate the actual minority proportions of the aggregrate in-buffer and out-buffer areas\n",
    "Using 2km buffer for starters (Czolowski, 2017)\n",
    "b) Scramble the intersect_prop variable, holding the minority_prop variable constant. \n",
    "c) Calculate number of simulated proportions that match or exceed the actual proportion. Calculate p-value.\n"
   ]
  },
  {
   "cell_type": "markdown",
   "id": "3975a71b",
   "metadata": {},
   "source": [
    "## Setup / load data"
   ]
  },
  {
   "cell_type": "code",
   "execution_count": 2,
   "id": "ea659b2b",
   "metadata": {},
   "outputs": [],
   "source": [
    "pd.set_option('display.max_columns', None)  # display all columns\n",
    "pd.options.display.float_format = '{:20,.2f}'.format  # suppress scientific notation"
   ]
  },
  {
   "cell_type": "code",
   "execution_count": 3,
   "id": "212b25d2",
   "metadata": {},
   "outputs": [],
   "source": [
    "ca_state = gp.read_file(\"data/CA_State_TIGER2016.shp\")  # CA state\n",
    "ca_counties = gp.read_file(\"data/CA_Counties_TIGER2016.shp\")  # CA counties\n",
    "ca_bg = gp.read_file(\"data/tl_2022_06_bg.shp\")  # CA block groups"
   ]
  },
  {
   "cell_type": "code",
   "execution_count": 4,
   "id": "c1be8974",
   "metadata": {},
   "outputs": [],
   "source": [
    "# Load census block group level data from EJscreen\n",
    "# Source: https://www.epa.gov/ejscreen/download-ejscreen-data\n",
    "# This is the 2017-2021 5-year ACS average data\n",
    "ejscreen = pd.read_excel(\"data/CA_EJSCREEN_2022_Full_with_AS_CNMI_GU_VI.xlsx\", index_col=None, header=0)"
   ]
  },
  {
   "cell_type": "code",
   "execution_count": 5,
   "id": "c82f425e",
   "metadata": {},
   "outputs": [],
   "source": [
    "# read in cleaned and combined flares data\n",
    "all_flares = gp.read_file(\"data/all_flares.shp\")"
   ]
  },
  {
   "cell_type": "code",
   "execution_count": 6,
   "id": "feacd1ee",
   "metadata": {},
   "outputs": [],
   "source": [
    "# set common crs for project\n",
    "#projcrs = 4326\n",
    "\n",
    "# epsg3310: https://epsg.io/3310-1739\n",
    "# units: meters\n",
    "meters_crs = 3310  # Projected crs. this should be good for this overlay() calculation and all of project. \n",
    "ca_state = ca_state.to_crs(meters_crs)\n",
    "ca_counties = ca_counties.to_crs(meters_crs)\n",
    "ca_bg = ca_bg.to_crs(meters_crs)\n",
    "all_flares = all_flares.to_crs(meters_crs)\n",
    "\n",
    "\n",
    "ca_bg.rename(columns={'GEOID':'ID'}, inplace=True)  # match column names for merging\n",
    "ca_bg['ID'] = ca_bg['ID'].astype(np.int64)"
   ]
  },
  {
   "cell_type": "code",
   "execution_count": 7,
   "id": "5c7be374",
   "metadata": {
    "scrolled": true
   },
   "outputs": [
    {
     "name": "stdout",
     "output_type": "stream",
     "text": [
      "25607 block groups in the EJScreen data \n",
      "\n",
      "25607 block groups in the CA block group shapefile\n",
      "\n",
      "0 block groups are missing after merge\n"
     ]
    }
   ],
   "source": [
    "print(f\"{len(ejscreen['ID'])} block groups in the EJScreen data \\n\")\n",
    "print(f\"{len(ca_bg['ID'])} block groups in the CA block group shapefile\\n\")\n",
    "ca_bg_joined = pd.merge(ca_bg, ejscreen, on='ID')\n",
    "print(f\"{len(ca_bg['ID'].unique())-len(ca_bg_joined)} block groups are missing after merge\")\n"
   ]
  },
  {
   "cell_type": "code",
   "execution_count": 8,
   "id": "cfa34cb7",
   "metadata": {},
   "outputs": [
    {
     "name": "stdout",
     "output_type": "stream",
     "text": [
      "Flares found: 117\n"
     ]
    }
   ],
   "source": [
    "# subset flares to only those in Cali\n",
    "ca_flares = gp.sjoin(all_flares, ca_counties, how = \"inner\", predicate = 'within')\n",
    "print(f'Flares found: {len(ca_flares)}')\n",
    "ca_flares.drop('index_right', axis=1, inplace=True)\n",
    "\n",
    "# set col list for BCM_avg calculation\n",
    "col_list = ['BCM_2012','BCM_2013','BCM_2014','BCM_2015','BCM_2016','BCM_2017',\n",
    "            'BCM_2018','BCM_2019','BCM_2020','BCM_2021']\n",
    "\n",
    "# add new column for average BCM across all years\n",
    "ca_flares['BCM_avg'] = ca_flares[col_list].mean(axis=1)  "
   ]
  },
  {
   "cell_type": "code",
   "execution_count": 9,
   "id": "ecb6b7d0",
   "metadata": {},
   "outputs": [],
   "source": [
    "warnings.filterwarnings('ignore')\n",
    "ca_bg_joined.loc[:, 'shape_area_new'] = ca_bg_joined.geometry.area"
   ]
  },
  {
   "cell_type": "markdown",
   "id": "5e61d175",
   "metadata": {},
   "source": [
    "### Discuss w RMI: dropping the three aquatic buffers"
   ]
  },
  {
   "cell_type": "code",
   "execution_count": 10,
   "id": "fa4de4eb",
   "metadata": {},
   "outputs": [],
   "source": [
    "# There are three BGs that seem to just be aquatic buffers around the actual county land.\n",
    "# Dropping them for now \n",
    "# IDs: 60839900000, 61119901000, 60379902000\n",
    "# Explore if needed: ca_bg_joined.explore()\n",
    "\n",
    "ids_to_drop = [60839900000, 61119901000, 60379902000]\n",
    "\n",
    "# Drop the rows with those IDs\n",
    "ca_bg_joined = ca_bg_joined[~ca_bg_joined['ID'].isin(ids_to_drop)]"
   ]
  },
  {
   "cell_type": "markdown",
   "id": "a15b4e49",
   "metadata": {},
   "source": [
    "## Set up functions for automating"
   ]
  },
  {
   "cell_type": "code",
   "execution_count": 19,
   "id": "23fd79fb",
   "metadata": {},
   "outputs": [],
   "source": [
    "def create_buffer_intersection(flares_df, social_df, buffer_size):\n",
    "    social_df = social_df[['ID', 'CNTY_NAME', 'Shape_Area', 'ACSTOTPOP', 'MINORPOP', 'D_PM25_2', 'geometry']]\n",
    "\n",
    "    warnings.filterwarnings('ignore')\n",
    "    social_df.loc[:, 'shape_area_new'] = social_df.geometry.area\n",
    "    \n",
    "    #flares_df = set_geometry_buffer(flares_df, buffer_size)\n",
    "    buffer_col = f\"buffer_{buffer_size}m\"\n",
    "    flares_df[buffer_col] = flares_df['geometry'].buffer(distance=buffer_size)\n",
    "\n",
    "    flares_df = flares_df.set_geometry(buffer_col)\n",
    "    \n",
    "    temp = flares_df.unary_union\n",
    "    all_buffers = gp.GeoDataFrame({'geometry': [temp]}, crs=flares_df.crs)  # convert back to geodf for processing\n",
    "    \n",
    "    bg_inbuffer = gp.overlay(social_df, all_buffers, how='intersection')  # could look at keep_geom=False\n",
    "    \n",
    "    return bg_inbuffer"
   ]
  },
  {
   "cell_type": "code",
   "execution_count": 42,
   "id": "c0a1db58",
   "metadata": {},
   "outputs": [],
   "source": [
    "def calc_intersect_stats(bg_inbuffer, social_df, ca_blockgroups, buffer_size):\n",
    "    \n",
    "    # Create new 'area' column for the areas of the intersections\n",
    "    bg_inbuffer['intersect_area'] = bg_inbuffer.area\n",
    "    \n",
    "    # Calculate the proportion of each block group within the buffer zone\n",
    "    bg_inbuffer['intersect_prop'] = bg_inbuffer['intersect_area'] / bg_inbuffer['shape_area_new']\n",
    "    \n",
    "    # Rename geometry col to intersect_geom so it's clear these geoms are just the intersections\n",
    "    bg_inbuffer.rename(columns={'geometry':'intersect_geom'}, inplace=True)  # old:new. Match col names for merging\n",
    "\n",
    "    # merge with ca_bg block groups to get full BG polygon geoms back in the df\n",
    "    bg_inbuffer = pd.merge(bg_inbuffer, ca_blockgroups, on='ID')\n",
    "\n",
    "    # Rename geometry column for clarity\n",
    "    bg_inbuffer.rename(columns={'geometry':'bg_geom'}, inplace=True)  # old:new. Match col names for merging\n",
    "    \n",
    "    bg_inbuffer = bg_inbuffer.set_geometry('bg_geom')  # set to the buffers rather than the points\n",
    "\n",
    "    # merge the intersected data back into the full df of all block groups\n",
    "    df_final = gp.sjoin(social_df, bg_inbuffer, how = \"left\", predicate = 'contains')\n",
    "    \n",
    "    # Filter cols to just what's needed\n",
    "    df_final = df_final[['ID_left', 'CNTY_NAME_left', 'ACSTOTPOP_left', 'MINORPOP_left', 'D_PM25_2_left', 'shape_area_new_left', 'intersect_area', 'intersect_prop', 'geometry', 'intersect_geom']]\n",
    "\n",
    "    # clean things up after the sjoin\n",
    "    new_cols = [col.replace('_left', '') if col.endswith('_left') else col for col in df_final.columns]\n",
    "    df_final.columns = new_cols\n",
    "    \n",
    "    # Rename geometry column for clarity\n",
    "    df_final.rename(columns={'geometry':'bg_geom'}, inplace=True)  # old:new. Match col names for merging\n",
    "\n",
    "    # Replace NAs in both the intersect_prop and intersect_area with 0 for BG that have no intersection\n",
    "    no_intersect = df_final['intersect_prop'].isna() | df_final['intersect_area'].isna()\n",
    "\n",
    "    # Update the values in the 'intersect_prop' and 'intersect_area' columns of those rows to 0 using the loc method\n",
    "    df_final.loc[no_intersect, ['intersect_prop', 'intersect_area']] = 0\n",
    "    \n",
    "    # Apply the proportion to each demographic variable to find counts by variable\n",
    "    demo_vars = ['ACSTOTPOP', 'MINORPOP']\n",
    "    for var in demo_vars:\n",
    "        df_final[var + '_intersect_count'] = df_final[var] * df_final['intersect_prop']\n",
    "\n",
    "    # find overall proportions for each demo var by dividing var count by respective total population    \n",
    "    for var in demo_vars:\n",
    "        df_final[var + '_bg_totprop'] = df_final[var] / df_final['ACSTOTPOP']\n",
    "    \n",
    "    # Finally, save a subsetted version of the df for permutation testing\n",
    "    df_forpermutation = df_final[['MINORPOP_bg_totprop', 'intersect_prop']]\n",
    "    df_forpermutation.to_csv(F\"data/df_{buffer_size}m_forpermutation.csv\", index=False)\n",
    "    \n",
    "    return df_final"
   ]
  },
  {
   "cell_type": "code",
   "execution_count": 35,
   "id": "7cb683dd",
   "metadata": {},
   "outputs": [],
   "source": [
    "def calc_proportions(df):\n",
    "    \n",
    "    in_buffer = np.sum(df['MINORPOP_bg_totprop'] * df['intersect_prop']) / np.sum(df['intersect_prop'])\n",
    "    out_buffer = np.sum(df['MINORPOP_bg_totprop'] * (1 - df['intersect_prop'])) / np.sum(1 - df['intersect_prop'])\n",
    "\n",
    "    # table that compares the in-buffer proportions to the outside-buffer proportions\n",
    "    temp = pd.DataFrame({'In_Buffer': [in_buffer], 'Outside_Buffer': [out_buffer]})\n",
    "    \n",
    "    print(f\"Proportion of MINORPOP in/out of {buffer_size}m buffer zone\")\n",
    "    print()\n",
    "    \n",
    "    return print(temp)\n",
    "    "
   ]
  },
  {
   "cell_type": "code",
   "execution_count": 36,
   "id": "8ce7d1c0",
   "metadata": {},
   "outputs": [],
   "source": [
    "def calc_counts(df):\n",
    "\n",
    "    in_buffer_tot = df['MINORPOP_intersect_count'].sum()\n",
    "    out_buffer_tot = df['ACSTOTPOP'].sum() - in_buffer_tot\n",
    "\n",
    "    # create a table from the in-buffer and outside-buffer counts\n",
    "    temp = pd.DataFrame({'In_Buffer': [in_buffer_tot], 'Outside_Buffer': [out_buffer_tot]})\n",
    "\n",
    "    # table that compares the in-buffer counts to the outside-buffer counts\n",
    "\n",
    "    print(f\"Counts of MINORPOP in/out of {buffer_size}m buffer zone\")\n",
    "    print()\n",
    "    \n",
    "    return print(temp)"
   ]
  },
  {
   "cell_type": "code",
   "execution_count": 40,
   "id": "e5a7a796",
   "metadata": {},
   "outputs": [],
   "source": [
    "def all_calculations(flares_df, social_df, ca_blockgroups, buffer_size):\n",
    "    \n",
    "    intersect = create_buffer_intersection(flares_df, social_df, buffer_size)\n",
    "    df = calc_intersect_stats(intersect, social_df, ca_blockgroups, buffer_size)\n",
    "    \n",
    "    calc_proportions(df)\n",
    "    calc_counts(df)\n",
    "    \n",
    "    return "
   ]
  },
  {
   "cell_type": "markdown",
   "id": "cfb40a2c",
   "metadata": {},
   "source": [
    "### Figure out why \"buffer_size\" is being treated literally. Adjust to figurative\n",
    "### Append each result into an overall table"
   ]
  },
  {
   "cell_type": "code",
   "execution_count": 38,
   "id": "210f7b1f",
   "metadata": {},
   "outputs": [],
   "source": [
    "buffer_size = 1000\n",
    "b_2000 = 2000"
   ]
  },
  {
   "cell_type": "code",
   "execution_count": 43,
   "id": "fd063142",
   "metadata": {},
   "outputs": [
    {
     "name": "stdout",
     "output_type": "stream",
     "text": [
      "Proportion of MINORPOP in/out of 1000m buffer zone\n",
      "\n",
      "             In_Buffer       Outside_Buffer\n",
      "0                 0.59                 0.60\n",
      "Counts of MINORPOP in/out of 1000m buffer zone\n",
      "\n",
      "             In_Buffer       Outside_Buffer\n",
      "0            15,660.90        39,330,362.10\n"
     ]
    }
   ],
   "source": [
    "all_calculations(ca_flares, ca_bg_joined, ca_bg, buffer_size)"
   ]
  },
  {
   "cell_type": "code",
   "execution_count": null,
   "id": "6cd5a701",
   "metadata": {},
   "outputs": [],
   "source": []
  },
  {
   "cell_type": "code",
   "execution_count": null,
   "id": "bd40bf9b",
   "metadata": {},
   "outputs": [],
   "source": []
  },
  {
   "cell_type": "code",
   "execution_count": null,
   "id": "78fe1442",
   "metadata": {},
   "outputs": [],
   "source": [
    "for item in buffer_size:\n",
    "    all_calculations(ca_flares, ca_bg_joined, ca_bg, item)"
   ]
  },
  {
   "cell_type": "code",
   "execution_count": null,
   "id": "5d6f890b",
   "metadata": {},
   "outputs": [],
   "source": []
  },
  {
   "cell_type": "code",
   "execution_count": null,
   "id": "85a6e8c9",
   "metadata": {},
   "outputs": [],
   "source": []
  },
  {
   "cell_type": "code",
   "execution_count": null,
   "id": "d77bb256",
   "metadata": {},
   "outputs": [],
   "source": []
  },
  {
   "cell_type": "markdown",
   "id": "8859e131",
   "metadata": {},
   "source": [
    "## 2km Buffer Analysis"
   ]
  },
  {
   "cell_type": "markdown",
   "id": "cea12fd5",
   "metadata": {},
   "source": [
    "1) set buffers around flares  \n",
    "2) Subset census data to only to race and age columns  \n",
    "3) count # of people and create proportion of those columns that are anywhere within the combined buffer  \n",
    "4) same for outside the buffer  \n",
    "5) Create table that summarizes the proportions for in-buffer and out-buffer"
   ]
  },
  {
   "cell_type": "code",
   "execution_count": null,
   "id": "932cceb8",
   "metadata": {},
   "outputs": [],
   "source": [
    "# 1) set 2km buffers around flares and unary_union() into single multipolygon\n",
    "ca_flares[\"buffer_2000m\"] = ca_flares['geometry'].buffer(distance = 2000)"
   ]
  },
  {
   "cell_type": "code",
   "execution_count": null,
   "id": "e141cdda",
   "metadata": {},
   "outputs": [],
   "source": [
    "# ID, ACSTOTPOP, UNDER5, OVER64, MINORPOP, LOWINCOME, D_PM25_2\n",
    "# total population, under 5yr, over 64yr, people of color, low income, EJ index for PM2.5\n",
    "\n",
    "bg_formodel = ca_bg_joined[['ID', 'CNTY_NAME', 'Shape_Area', 'ACSTOTPOP', 'UNDER5', 'OVER64', 'MINORPOP', 'LOWINCOME', 'D_PM25_2', 'geometry']]"
   ]
  },
  {
   "cell_type": "code",
   "execution_count": null,
   "id": "6e0441f1",
   "metadata": {},
   "outputs": [],
   "source": [
    "warnings.filterwarnings('ignore')\n",
    "bg_formodel.loc[:, 'shape_area_new'] = bg_formodel.geometry.area"
   ]
  },
  {
   "cell_type": "code",
   "execution_count": null,
   "id": "bdcea2e3",
   "metadata": {},
   "outputs": [],
   "source": [
    "# sjoin() doesn't seem to allow picking a specific geometry col.\n",
    "# Have to manually set it to the buffers rather than the flare points\n",
    "ca_flares = ca_flares.set_geometry('buffer_2000m')  # set to the buffers rather than the points\n",
    "\n",
    "# create unary_union of flares, then change back to geodf for processing\n",
    "# crs must be geographic not projected to do a unary union\n",
    "temp = ca_flares.unary_union\n",
    "all_buffers = gp.GeoDataFrame({'geometry': [temp]}, crs=ca_flares.crs)  # convert back to geodf for processing"
   ]
  },
  {
   "cell_type": "code",
   "execution_count": null,
   "id": "11c6d36f",
   "metadata": {
    "scrolled": false
   },
   "outputs": [],
   "source": [
    "# Spatial overlay operation to find only the areas that are in both geometries. \n",
    "# i.e. only the block group areas that are within any buffer zone\n",
    "\n",
    "# this can help with \"bad\" geometries. looks at both inputs and repairs any bad geometries. \n",
    "# make_valid=True\n",
    "bg_inbuffer = gp.overlay(bg_formodel, all_buffers, how='intersection')  # could look at keep_geom=False\n",
    "\n",
    "# Create new 'area' column for the areas of the intersections\n",
    "#bg_inbuffer = bg_inbuffer.to_crs(meters_crs)\n",
    "bg_inbuffer['intersect_area'] = bg_inbuffer.area\n",
    "# Calculate the proportion of each block group within the buffer zone\n",
    "bg_inbuffer['intersect_prop'] = bg_inbuffer['intersect_area'] / bg_inbuffer['shape_area_new']"
   ]
  },
  {
   "cell_type": "code",
   "execution_count": null,
   "id": "34bf624a",
   "metadata": {},
   "outputs": [],
   "source": [
    "# Rename geometry col to intersect_geom so it's clear these geoms are just the intersections\n",
    "bg_inbuffer.rename(columns={'geometry':'intersect_geom'}, inplace=True)  # old:new. Match col names for merging\n",
    "\n",
    "# merge with ca_bg block groups to get full BG polygon geoms back in the df\n",
    "bg_inbuffer = pd.merge(bg_inbuffer, ca_bg, on='ID')\n",
    "\n",
    "# Rename geometry column for clarity\n",
    "bg_inbuffer.rename(columns={'geometry':'bg_geom'}, inplace=True)  # old:new. Match col names for merging\n"
   ]
  },
  {
   "cell_type": "code",
   "execution_count": null,
   "id": "c5bfdfde",
   "metadata": {},
   "outputs": [],
   "source": [
    "# ensure geometry column is set to the full BG polygons, not intersections\n",
    "bg_inbuffer = bg_inbuffer.set_geometry('bg_geom')  # set to the buffers rather than the points\n",
    "\n",
    "# merge the intersected data back into the full df of all block groups\n",
    "test = gp.sjoin(bg_formodel, bg_inbuffer, how = \"left\", predicate = 'contains')"
   ]
  },
  {
   "cell_type": "code",
   "execution_count": null,
   "id": "6f29fea8",
   "metadata": {},
   "outputs": [],
   "source": [
    "# total BG in California\n",
    "print(len(bg_formodel))\n",
    "\n",
    "# total BGs that intersect with any buffer\n",
    "print(len(bg_inbuffer))"
   ]
  },
  {
   "cell_type": "code",
   "execution_count": null,
   "id": "358c328a",
   "metadata": {},
   "outputs": [],
   "source": [
    "# Length of non-NA intersection proportions should match\n",
    "# the length of intersections found in the bg_inbuffer overlay output\n",
    "\n",
    "assert test['intersect_prop'].count() == len(bg_inbuffer), \"The count of non-null values in the 'intersect_prop' column does not match the length of the original overlay\""
   ]
  },
  {
   "cell_type": "code",
   "execution_count": null,
   "id": "2058f9f3",
   "metadata": {},
   "outputs": [],
   "source": [
    "# Filter cols to just what's needed\n",
    "test = test[['ID_left', 'CNTY_NAME_left', 'ACSTOTPOP_left', 'MINORPOP_left', 'D_PM25_2_left', 'shape_area_new_left', 'intersect_area', 'intersect_prop', 'geometry', 'intersect_geom']]\n"
   ]
  },
  {
   "cell_type": "code",
   "execution_count": null,
   "id": "eb2d4cc4",
   "metadata": {},
   "outputs": [],
   "source": [
    "\n",
    "# clean things up after the sjoin\n",
    "new_cols = [col.replace('_left', '') if col.endswith('_left') else col for col in test.columns]\n",
    "test.columns = new_cols"
   ]
  },
  {
   "cell_type": "code",
   "execution_count": null,
   "id": "aec9e9a4",
   "metadata": {},
   "outputs": [],
   "source": [
    "# # double check the merge result\n",
    "# test[test['intersect_geom'].notnull()].sample(50).explore()"
   ]
  },
  {
   "cell_type": "code",
   "execution_count": null,
   "id": "49761c25",
   "metadata": {},
   "outputs": [],
   "source": [
    "# Rename geometry column for clarity\n",
    "test.rename(columns={'geometry':'bg_geom'}, inplace=True)  # old:new. Match col names for merging\n",
    "\n",
    "# Replace NAs in both the intersect_prop and intersect_area with 0 for BG that have no intersection\n",
    "no_intersect = test['intersect_prop'].isna() | test['intersect_area'].isna()\n",
    "\n",
    "# Update the values in the 'intersect_prop' and 'intersect_area' columns of those rows to 0 using the loc method\n",
    "test.loc[no_intersect, ['intersect_prop', 'intersect_area']] = 0\n"
   ]
  },
  {
   "cell_type": "code",
   "execution_count": null,
   "id": "3d040b3c",
   "metadata": {},
   "outputs": [],
   "source": [
    "# Apply the proportion to each demographic variable to find counts by variable\n",
    "demo_vars = ['ACSTOTPOP', 'MINORPOP']\n",
    "for var in demo_vars:\n",
    "    test[var + '_intersect_count'] = test[var] * test['intersect_prop']\n",
    "\n",
    "# find overall proportions for each demo var by dividing var count by respective total population    \n",
    "for var in demo_vars:\n",
    "    test[var + '_bg_totprop'] = test[var] / test['ACSTOTPOP']"
   ]
  },
  {
   "cell_type": "markdown",
   "id": "b13c17ad",
   "metadata": {},
   "source": [
    "### In/out buffer proportions"
   ]
  },
  {
   "cell_type": "code",
   "execution_count": null,
   "id": "a141c6f2",
   "metadata": {},
   "outputs": [],
   "source": [
    "#prop_vars = ['ACSTOTPOP_bg_totprop', 'UNDER5_bg_totprop', 'OVER64_bg_totprop', 'MINORPOP_bg_totprop', 'LOWINCOME_bg_totprop']\n",
    "\n",
    "in_buffer = np.sum(test['MINORPOP_bg_totprop'] * test['intersect_prop']) / np.sum(test['intersect_prop'])\n",
    "out_buffer = np.sum(test['MINORPOP_bg_totprop'] * (1 - test['intersect_prop'])) / np.sum(1 - test['intersect_prop'])\n",
    "\n",
    "\n",
    "# table that compares the in-buffer proportions to the outside-buffer proportions\n",
    "temp = pd.DataFrame({'In_Buffer': [in_buffer], 'Outside_Buffer': [out_buffer]})\n",
    "print(temp)"
   ]
  },
  {
   "cell_type": "markdown",
   "id": "a9577714",
   "metadata": {},
   "source": [
    "### In/out buffer counts"
   ]
  },
  {
   "cell_type": "code",
   "execution_count": null,
   "id": "edc02d4f",
   "metadata": {},
   "outputs": [],
   "source": [
    "# count_vars = ['ACSTOTPOP_intersect_count', 'UNDER5_intersect_count', 'OVER64_intersect_count', 'MINORPOP_intersect_count', 'LOWINCOME_intersect_count']\n",
    "\n",
    "in_buffer_tot = test['MINORPOP_intersect_count'].sum()\n",
    "out_buffer_tot = test['ACSTOTPOP'].sum() - in_buffer_tot\n",
    "\n",
    "# create a table from the in-buffer and outside-buffer counts\n",
    "#counts = pd.concat([in_buffer_tot, out_buffer_tot], axis=1)\n",
    "temp = pd.DataFrame({'In_Buffer': [in_buffer_tot], 'Outside_Buffer': [out_buffer_tot]})\n",
    "# format w thousands separators\n",
    "#counts[['In_Buffer_Count', 'Outside_Buffer_Count']] = counts[['In_Buffer_Count', 'Outside_Buffer_Count']].applymap('{:,.0f}'.format)\n",
    "\n",
    "# table that compares the in-buffer counts to the outside-buffer counts\n",
    "print(temp)"
   ]
  },
  {
   "cell_type": "code",
   "execution_count": null,
   "id": "1ddff2fc",
   "metadata": {},
   "outputs": [],
   "source": [
    "# save to a csv for further processing in other notebooks\n",
    "test.to_csv(\"data/bgformodel_permutation.csv\")"
   ]
  },
  {
   "cell_type": "markdown",
   "id": "3c1edc96",
   "metadata": {},
   "source": [
    "## Visualization with Folium"
   ]
  },
  {
   "cell_type": "code",
   "execution_count": null,
   "id": "cda809e5",
   "metadata": {},
   "outputs": [],
   "source": [
    "# Convert the GeoDataFrame to the same CRS as the folium map (if necessary)\n",
    "\n",
    "# Create a folium map with a center location\n",
    "m = folium.Map(location=[38.377158,-121.645792], zoom_start=6, tiles=None,overlay=False)  #start w lat/long roughly in center of CA\n",
    "base_map = folium.FeatureGroup(name='Base map', overlay=True, control=False)\n",
    "folium.TileLayer(tiles='OpenStreetMap').add_to(base_map)\n",
    "base_map.add_to(m)"
   ]
  },
  {
   "cell_type": "code",
   "execution_count": null,
   "id": "a6648433",
   "metadata": {},
   "outputs": [],
   "source": [
    "# # Choropleth of Block Groups\n",
    "\n",
    "# folium.Choropleth(ca_bg_joined,\n",
    "#                   data=ca_bg_joined,\n",
    "#                   columns = ['ID', 'D_PM25_2'], \n",
    "#                   key_on='feature.properties.ID',\n",
    "#                   fill_color=\"Reds\",\n",
    "#                   fill_opacity=0.7,\n",
    "#                   line_opacity=0.2,\n",
    "#                   legend_name=\"PM2.5 Index\",\n",
    "#                  name=\"Block Groups\").add_to(m)\n"
   ]
  },
  {
   "cell_type": "code",
   "execution_count": null,
   "id": "5318968d",
   "metadata": {},
   "outputs": [],
   "source": [
    "# Feature Group: All Block Groups\n",
    "\n",
    "def style_function3(feature):\n",
    "    return {\n",
    "        'fillColor': 'grey',\n",
    "        'color': 'grey',\n",
    "        'fillOpacity': 0.05\n",
    "    }\n",
    "\n",
    "all_bg = folium.FeatureGroup(name='All BG', overlay=True)\n",
    "folium.GeoJson(\n",
    "    data=ca_bg[\"geometry\"],\n",
    "    style_function=style_function3\n",
    ").add_to(all_bg)\n",
    "all_bg.add_to(m)"
   ]
  },
  {
   "cell_type": "code",
   "execution_count": null,
   "id": "660a2fc7",
   "metadata": {},
   "outputs": [],
   "source": [
    "# Feature Group: Buffers\n",
    "\n",
    "def style_function1(feature):\n",
    "    return {\n",
    "        'fillColor': 'red',\n",
    "        'color': 'red',\n",
    "        'fillOpacity': 0.2\n",
    "    }\n",
    "\n",
    "all_flares_buffers = folium.FeatureGroup(name='Flare Buffers', overlay=True)\n",
    "folium.GeoJson(\n",
    "    data=ca_flares[\"buffer_2000m\"],\n",
    "    style_function=style_function1\n",
    ").add_to(all_flares_buffers)\n",
    "all_flares_buffers.add_to(m)"
   ]
  },
  {
   "cell_type": "code",
   "execution_count": null,
   "id": "3370356e",
   "metadata": {},
   "outputs": [],
   "source": [
    "# Feature Group: BG-Buffer Intersections\n",
    "\n",
    "def style_function2(feature):\n",
    "    return {\n",
    "        'fillColor': 'blue',\n",
    "        'color': 'blue',\n",
    "        'fillOpacity': 0.1\n",
    "    }\n",
    "\n",
    "intersect = folium.FeatureGroup(name='BG-Flare Intersections', overlay=True)\n",
    "folium.GeoJson(\n",
    "    data=test['intersect_geom'],\n",
    "    style_function=style_function2\n",
    ").add_to(intersect)\n",
    "intersect.add_to(m)"
   ]
  },
  {
   "cell_type": "code",
   "execution_count": null,
   "id": "2c205e94",
   "metadata": {},
   "outputs": [],
   "source": [
    "# # Add hover functionality\n",
    "# test = test.to_crs(\"EPSG:3857\")\n",
    "# test = test.set_geometry('bg_geom')\n",
    "# test_json = test.__geo_interface__"
   ]
  },
  {
   "cell_type": "code",
   "execution_count": null,
   "id": "1ad4ab74",
   "metadata": {},
   "outputs": [],
   "source": [
    "map_test = ca_bg_joined.sample(500)"
   ]
  },
  {
   "cell_type": "code",
   "execution_count": null,
   "id": "ae96cf94",
   "metadata": {},
   "outputs": [],
   "source": [
    "\n",
    "style_function = lambda x: {'fillColor': '#ffffff', \n",
    "                            'color':'#000000', \n",
    "                            'fillOpacity': 0.1, \n",
    "                            'weight': 0.1}\n",
    "highlight_function = lambda x: {'fillColor': '#999999', \n",
    "                                'color':'#999999', \n",
    "                                'fillOpacity': 0.50, \n",
    "                                'weight': 0.1}\n",
    "NIL = folium.features.GeoJson(\n",
    "    data = map_test,\n",
    "    style_function=style_function, \n",
    "    control=False,\n",
    "    highlight_function=highlight_function, \n",
    "    tooltip=folium.features.GeoJsonTooltip(\n",
    "        fields=['ID','CNTY_NAME'],# 'D_PM25_2', 'ACSTOTPOP', 'MINORPOP','shape_area_new', 'intersect_prop', 'intersect_area', 'MINORPOP_bg_totprop'],\n",
    "        style=(\"background-color: white; color: #333333; font-family: arial; font-size: 12px; padding: 10px;\") \n",
    "    )\n",
    ")"
   ]
  },
  {
   "cell_type": "code",
   "execution_count": null,
   "id": "a298b42d",
   "metadata": {},
   "outputs": [],
   "source": [
    "# add hover functionality as child to map, add layering, display map\n",
    "m.add_child(NIL)\n",
    "m.keep_in_front(NIL)\n",
    "folium.LayerControl().add_to(m)\n",
    "m"
   ]
  },
  {
   "cell_type": "code",
   "execution_count": null,
   "id": "ab17b442",
   "metadata": {},
   "outputs": [],
   "source": [
    "# # Flares\n",
    "# all_flares_points = folium.FeatureGroup(name='flare points', overlay=True)\n",
    "# folium.GeoJson(data=ca_flares[\"geometry\"]).add_to(all_flares_points)\n",
    "# all_flares_points.add_to(m)"
   ]
  },
  {
   "cell_type": "code",
   "execution_count": null,
   "id": "ab7ee399",
   "metadata": {},
   "outputs": [],
   "source": []
  }
 ],
 "metadata": {
  "kernelspec": {
   "display_name": "capstonermi37",
   "language": "python",
   "name": "capstonermi37"
  },
  "language_info": {
   "codemirror_mode": {
    "name": "ipython",
    "version": 3
   },
   "file_extension": ".py",
   "mimetype": "text/x-python",
   "name": "python",
   "nbconvert_exporter": "python",
   "pygments_lexer": "ipython3",
   "version": "3.7.13"
  }
 },
 "nbformat": 4,
 "nbformat_minor": 5
}
