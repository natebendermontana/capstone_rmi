{
 "cells": [
  {
   "cell_type": "code",
   "execution_count": 1,
   "id": "30bd301c",
   "metadata": {},
   "outputs": [],
   "source": [
    "import geopandas as gp\n",
    "from shapely import wkt\n",
    "from shapely.geometry import Point, Polygon\n",
    "from shapely.ops import unary_union\n",
    "import pandas as pd\n",
    "import numpy as np\n",
    "from pprint import pprint\n",
    "import os\n",
    "import glob\n",
    "import openpyxl\n",
    "import matplotlib.pyplot as plt\n",
    "import matplotlib.ticker as mtick\n",
    "import plotly.express as px #if using plotly\n",
    "import folium\n",
    "import warnings\n",
    "import random"
   ]
  },
  {
   "cell_type": "code",
   "execution_count": 2,
   "id": "ea659b2b",
   "metadata": {},
   "outputs": [],
   "source": [
    "pd.set_option('display.max_columns', None)  # display all columns\n",
    "pd.options.display.float_format = '{:20,.2f}'.format  # suppress scientific notation"
   ]
  },
  {
   "cell_type": "markdown",
   "id": "c149f833",
   "metadata": {},
   "source": [
    "## Research Questions"
   ]
  },
  {
   "cell_type": "markdown",
   "id": "6eddae6c",
   "metadata": {},
   "source": [
    "### 1) Is there a significant difference in the proportion of minorities within a given flaring buffer zone versus outside the buffer? \n",
    "\n",
    "#### Ultimate goal is a comparison of six different buffers (of 100; 400; 800; 1,000; 1,600; and 2,000 m) following Czolowski et al, 2017\n",
    "\n",
    "Null: Proportion of BG in a buffer is independent of minority status.  \n",
    "Alt:  Proportion of BG in a buffer is related to minority status.\n",
    "  \n",
    "Test stat: Difference in weighted minority proportions.\n",
    "\n",
    "Weighted minority proportion = sumproduct(minority_prop * intersect_prop) / sum(intersect_prop)\n",
    "minority_prop is the proportion of minorities in a block group\n",
    "intersect_prop is the proportion of BG area residing in the buffer zone\n",
    "\n",
    "Permutation testing: Permute the intersect_prop variable, holding the fraction of minorities in each BG constant.\n",
    " \n",
    "Process   \n",
    "a) Calculate the actual minority proportions of the aggregrate in-buffer and out-buffer areas\n",
    "Using 2km buffer for starters (Czolowski, 2017)  \n",
    "b) Scramble the intersect_prop variable, holding the minority_prop variable constant.   \n",
    "c) Calculate number of simulated proportions that match or exceed the actual proportion. Calculate p-value.  \n"
   ]
  },
  {
   "cell_type": "markdown",
   "id": "3975a71b",
   "metadata": {},
   "source": [
    "## Load data, set project CRS"
   ]
  },
  {
   "cell_type": "code",
   "execution_count": 3,
   "id": "212b25d2",
   "metadata": {},
   "outputs": [],
   "source": [
    "ca_state = gp.read_file(\"data/CA_State_TIGER2016.shp\")  # CA state\n",
    "ca_counties = gp.read_file(\"data/CA_Counties_TIGER2016.shp\")  # CA counties\n",
    "ca_bg = gp.read_file(\"data/ca_bg_clean.shp\")  # CA block groups, cleaned"
   ]
  },
  {
   "cell_type": "code",
   "execution_count": 4,
   "id": "c82f425e",
   "metadata": {},
   "outputs": [
    {
     "name": "stdout",
     "output_type": "stream",
     "text": [
      "Flares found: 117\n",
      "BGs found: 25607\n"
     ]
    }
   ],
   "source": [
    "# just CA flares\n",
    "ca_flares = gp.read_file(\"data/ca_flares_clean.shp\")\n",
    "print(f'Flares found: {len(ca_flares)}')\n",
    "\n",
    "# CA block groups merged with EJscreen data\n",
    "ca_bg_joined = gp.read_file(\"data/ca_bg_joined_clean.shp\", dtype={'bg_id': 'int', 'index':'int'})\n",
    "\n",
    "# update col name for correct area b/c it gets saved as a truncated version when saved as a shapefile out of the \n",
    "# main data cleaning notebook\n",
    "ca_bg_joined.rename(columns={'shape_ar_1':'shape_area_new'}, inplace=True)  # old:new.\n",
    "print(f'BGs found: {len(ca_bg_joined)}')"
   ]
  },
  {
   "cell_type": "code",
   "execution_count": 5,
   "id": "feacd1ee",
   "metadata": {},
   "outputs": [],
   "source": [
    "# set common crs for project\n",
    "# epsg3310: https://epsg.io/3310-1739\n",
    "# units: meters\n",
    "meters_crs = 3310  # Projected crs. this should be good for this overlay() calculation and all of project. \n",
    "\n",
    "ca_state = ca_state.to_crs(meters_crs)\n",
    "ca_counties = ca_counties.to_crs(meters_crs)\n",
    "ca_bg = ca_bg.to_crs(meters_crs)"
   ]
  },
  {
   "cell_type": "markdown",
   "id": "5e61d175",
   "metadata": {},
   "source": [
    "#### Discuss w RMI: dropping the three aquatic buffers"
   ]
  },
  {
   "cell_type": "code",
   "execution_count": 6,
   "id": "fa4de4eb",
   "metadata": {},
   "outputs": [],
   "source": [
    "# There are three BGs that seem to just be aquatic buffers around the actual county land.\n",
    "# Dropping them for now \n",
    "# IDs: 60839900000, 61119901000, 60379902000\n",
    "# Explore if needed: ca_bg_joined.explore()\n",
    "\n",
    "ids_to_drop = [60839900000, 61119901000, 60379902000]\n",
    "\n",
    "# Drop the rows with those IDs\n",
    "ca_bg_joined = ca_bg_joined[~ca_bg_joined['bg_id'].isin(ids_to_drop)]"
   ]
  },
  {
   "cell_type": "markdown",
   "id": "50162b7d",
   "metadata": {},
   "source": [
    "### Break things back out of functions, troubleshoot step by step to find issue with the out_buffer calculation coming out to ~0.60 for all buffer sizes. "
   ]
  },
  {
   "cell_type": "code",
   "execution_count": 7,
   "id": "3a631bbc",
   "metadata": {},
   "outputs": [],
   "source": [
    "ca_counties.rename(columns={'NAMELSAD':'CNTY_NAME'}, inplace=True)  # old:new. Match col names for merging\n",
    "\n",
    "ca_bg_joined_sub = ca_bg_joined[['bg_id', 'CNTY_NAME', 'ACSTOTPOP', 'MINORPOP',\n",
    "                           'D_PM25_2', 'shape_area_new', 'geometry']].copy()\n",
    "\n",
    "ca_bg_joined_sub.rename(columns={'geometry':'bg_geom'}, inplace=True)  # old:new. Match col names for merging\n",
    "\n",
    "counties_sub = ca_counties[['CNTY_NAME', 'geometry']].copy()\n",
    "\n",
    "counties_sub.rename(columns={'geometry':'cnty_geom'}, inplace=True)  # old:new. Match col names for merging\n"
   ]
  },
  {
   "cell_type": "code",
   "execution_count": 8,
   "id": "ae2824fb",
   "metadata": {
    "scrolled": true
   },
   "outputs": [],
   "source": [
    "na_counts = ca_bg_joined_sub.isna().sum()\n"
   ]
  },
  {
   "cell_type": "code",
   "execution_count": 9,
   "id": "1ea0c526",
   "metadata": {},
   "outputs": [
    {
     "data": {
      "text/plain": [
       "bg_id              0\n",
       "CNTY_NAME          0\n",
       "ACSTOTPOP          0\n",
       "MINORPOP           0\n",
       "D_PM25_2          14\n",
       "shape_area_new     0\n",
       "bg_geom            0\n",
       "dtype: int64"
      ]
     },
     "execution_count": 9,
     "metadata": {},
     "output_type": "execute_result"
    }
   ],
   "source": [
    "na_counts"
   ]
  },
  {
   "cell_type": "code",
   "execution_count": 10,
   "id": "0a3ec178",
   "metadata": {},
   "outputs": [],
   "source": [
    "# add county names to social dataframe\n",
    "\n",
    "ca_bg_joined_sub = pd.merge(ca_bg_joined_sub, counties_sub, \n",
    "                             on='CNTY_NAME', how='left')"
   ]
  },
  {
   "cell_type": "code",
   "execution_count": 11,
   "id": "b8af71df",
   "metadata": {},
   "outputs": [
    {
     "data": {
      "text/html": [
       "<div>\n",
       "<style scoped>\n",
       "    .dataframe tbody tr th:only-of-type {\n",
       "        vertical-align: middle;\n",
       "    }\n",
       "\n",
       "    .dataframe tbody tr th {\n",
       "        vertical-align: top;\n",
       "    }\n",
       "\n",
       "    .dataframe thead th {\n",
       "        text-align: right;\n",
       "    }\n",
       "</style>\n",
       "<table border=\"1\" class=\"dataframe\">\n",
       "  <thead>\n",
       "    <tr style=\"text-align: right;\">\n",
       "      <th></th>\n",
       "      <th>bg_id</th>\n",
       "      <th>CNTY_NAME</th>\n",
       "      <th>ACSTOTPOP</th>\n",
       "      <th>MINORPOP</th>\n",
       "      <th>D_PM25_2</th>\n",
       "      <th>shape_area_new</th>\n",
       "      <th>bg_geom</th>\n",
       "      <th>cnty_geom</th>\n",
       "    </tr>\n",
       "  </thead>\n",
       "  <tbody>\n",
       "    <tr>\n",
       "      <th>20321</th>\n",
       "      <td>60971532012</td>\n",
       "      <td>Sonoma County</td>\n",
       "      <td>1559</td>\n",
       "      <td>1291</td>\n",
       "      <td>50.38</td>\n",
       "      <td>1,601,142.13</td>\n",
       "      <td>POLYGON ((-238046.017 46281.522, -238045.053 4...</td>\n",
       "      <td>POLYGON ((-256278.644 37049.105, -256281.607 3...</td>\n",
       "    </tr>\n",
       "    <tr>\n",
       "      <th>21148</th>\n",
       "      <td>60375020051</td>\n",
       "      <td>Los Angeles County</td>\n",
       "      <td>1667</td>\n",
       "      <td>1492</td>\n",
       "      <td>52.85</td>\n",
       "      <td>276,230.14</td>\n",
       "      <td>POLYGON ((181627.607 -450009.499, 181638.265 -...</td>\n",
       "      <td>MULTIPOLYGON (((123902.356 -503236.489, 123833...</td>\n",
       "    </tr>\n",
       "  </tbody>\n",
       "</table>\n",
       "</div>"
      ],
      "text/plain": [
       "             bg_id           CNTY_NAME  ACSTOTPOP  MINORPOP  \\\n",
       "20321  60971532012       Sonoma County       1559      1291   \n",
       "21148  60375020051  Los Angeles County       1667      1492   \n",
       "\n",
       "                  D_PM25_2       shape_area_new  \\\n",
       "20321                50.38         1,601,142.13   \n",
       "21148                52.85           276,230.14   \n",
       "\n",
       "                                                 bg_geom  \\\n",
       "20321  POLYGON ((-238046.017 46281.522, -238045.053 4...   \n",
       "21148  POLYGON ((181627.607 -450009.499, 181638.265 -...   \n",
       "\n",
       "                                               cnty_geom  \n",
       "20321  POLYGON ((-256278.644 37049.105, -256281.607 3...  \n",
       "21148  MULTIPOLYGON (((123902.356 -503236.489, 123833...  "
      ]
     },
     "execution_count": 11,
     "metadata": {},
     "output_type": "execute_result"
    }
   ],
   "source": [
    "ca_bg_joined_sub.sample(2)"
   ]
  },
  {
   "cell_type": "code",
   "execution_count": 12,
   "id": "23fd79fb",
   "metadata": {},
   "outputs": [],
   "source": [
    "def create_buffer_intersection(flares_df, social_df, buffer_size):\n",
    "    #social_df = social_df[['bg_id', 'CNTY_NAME', 'ACSTOTPOP', 'MINORPOP',\n",
    "    #                       'D_PM25_2', 'shape_area_new', 'bg_geom', 'cnty_geom']]\n",
    "    \n",
    "    social_df = social_df.set_geometry('bg_geom')\n",
    "    \n",
    "    #flares_df = set_geometry_buffer(flares_df, buffer_size)\n",
    "    buffer_col = f\"buffer_{buffer_size}m\"\n",
    "    flares_df[buffer_col] = flares_df['geometry'].buffer(distance=buffer_size)\n",
    "\n",
    "    flares_df = flares_df.set_geometry(buffer_col)\n",
    "    \n",
    "    temp = flares_df.unary_union\n",
    "    all_buffers = gp.GeoDataFrame({'geometry': [temp]}, crs=flares_df.crs)  # convert back to geodf for processing\n",
    "    \n",
    "    intersect_temp = gp.overlay(social_df, all_buffers, how='intersection')  # could look at keep_geom=False\n",
    "    \n",
    "    intersect_temp.rename(columns={'geometry':'intersect_geom'}, inplace=True)  # old:new. Match col names for merging\n",
    "    \n",
    "    return intersect_temp"
   ]
  },
  {
   "cell_type": "code",
   "execution_count": 13,
   "id": "1fa6984a",
   "metadata": {},
   "outputs": [],
   "source": [
    "buffer_sizes = [1000]#, 400, 800, 1000, 1600, 2000]#, 50000, 100000]\n",
    "\n",
    "for buffer_size in buffer_sizes:\n",
    "    intersect_df = create_buffer_intersection(ca_flares, ca_bg_joined_sub, buffer_size)"
   ]
  },
  {
   "cell_type": "code",
   "execution_count": 14,
   "id": "95bfc7f9",
   "metadata": {},
   "outputs": [],
   "source": [
    "# ensure that the intersections, not the counties, are set as the geometry for calculations.\n",
    "intersect_df = intersect_df.set_geometry('intersect_geom')  # set to the buffers rather than the points\n",
    "\n",
    "# Create new 'area' column for the areas of the intersections\n",
    "intersect_df['intersect_area'] = intersect_df.area\n",
    "\n",
    "# Calculate the proportion of each block group within the buffer zone\n",
    "intersect_df['intersect_prop'] = intersect_df['intersect_area'] / intersect_df['shape_area_new']\n",
    "\n",
    "# subset full social df down to just the rows that are in the intersected counties\n",
    "county_names = intersect_df['CNTY_NAME'].unique()\n",
    "social_counties = ca_bg_joined_sub[ca_bg_joined_sub['CNTY_NAME'].isin(county_names)]\n",
    "\n",
    "# merge the intersections data back into the (subsetted) social df. This creates a df of all BGs — those\n",
    "# that contain intersections and those that do not — in the counties that have an intersection. \n",
    "\n",
    "# I'm creating a subset of California, in effect, to combat against the extremely skewed dataset when I \n",
    "# compare the in/out buffer proportions across all of Cali. \n",
    "bgs_intersections = pd.merge(social_counties, \n",
    "                             intersect_df[['bg_id','intersect_geom','intersect_area', 'intersect_prop']], \n",
    "                             on=['bg_id'], \n",
    "                             how='left').fillna({'intersect_area': 0, 'intersect_prop': 0})\n",
    "\n",
    "\n",
    "# Apply the proportion to each demographic variable to find counts by variable\n",
    "demo_vars = ['ACSTOTPOP', 'MINORPOP']\n",
    "for var in demo_vars:\n",
    "    bgs_intersections[var + '_intersect_count'] = bgs_intersections[var] * bgs_intersections['intersect_prop']\n",
    "\n",
    "# find overall proportions for each demo var by dividing var count by respective total population    \n",
    "for var in demo_vars:\n",
    "    bgs_intersections[var + '_bg_totprop'] = np.where(bgs_intersections['ACSTOTPOP'] != 0, \n",
    "                                                      bgs_intersections[var] / bgs_intersections['ACSTOTPOP'], 0)\n",
    "\n",
    "bgs_intersections['outintersect_prop'] = 1-bgs_intersections['intersect_prop']"
   ]
  },
  {
   "cell_type": "code",
   "execution_count": 15,
   "id": "af025d73",
   "metadata": {},
   "outputs": [
    {
     "name": "stderr",
     "output_type": "stream",
     "text": [
      "/Users/natebender/.local/lib/python3.7/site-packages/ipykernel_launcher.py:17: RuntimeWarning: invalid value encountered in double_scalars\n",
      "  app.launch_new_instance()\n"
     ]
    }
   ],
   "source": [
    "# take repeated samples of BGs in intersected counties and average the in/out props found\n",
    "random.seed(42)\n",
    "num_samples = 20\n",
    "num_bgs = len(intersect_df)  # do a 4:1 ratio of intersected BGs to all others\n",
    "\n",
    "# Initialize lists to store the statistics for each sample\n",
    "in_buffer_list = []\n",
    "out_buffer_list = []\n",
    "\n",
    "# Loop through the samples\n",
    "for i in range(num_samples):\n",
    "    # Sample rows from the bgs_intersections dataframe\n",
    "    sample_df = bgs_intersections.sample(n=num_bgs)\n",
    "\n",
    "    # Calculate the in_buffer and out_buffer proportions for the sample\n",
    "    sampl_in_buffer = (np.sum(sample_df['MINORPOP_bg_totprop'] * sample_df['intersect_prop']) /\n",
    "                       np.sum(sample_df['intersect_prop'])) #if np.sum(sample_df['intersect_prop']) != 0 else 0)\n",
    "    sampl_out_buffer = (np.sum(sample_df['MINORPOP_bg_totprop'] * sample_df['outintersect_prop']) /\n",
    "                        np.sum(sample_df['outintersect_prop'])) #if np.sum(sample_df['outintersect_prop']) != 0 else 0)\n",
    "\n",
    "    \n",
    "    # Calculate the in_buffer and out_buffer proportions for the sample\n",
    "    #sampl_in_buffer = np.sum(sample_df['MINORPOP_bg_totprop'] * sample_df['intersect_prop']) / np.sum(sample_df['intersect_prop'])\n",
    "   #sampl_out_buffer = np.sum(sample_df['MINORPOP_bg_totprop'] * sample_df['outintersect_prop']) / np.sum(sample_df['outintersect_prop'])\n",
    "\n",
    "    # Append the statistics to the lists\n",
    "    in_buffer_list.append(sampl_in_buffer)\n",
    "    out_buffer_list.append(sampl_out_buffer)\n",
    "\n",
    "# Calculate the average statistics for all the samples\n",
    "mean_in_buffer = np.mean(in_buffer_list)\n",
    "mean_out_buffer = np.mean(out_buffer_list)\n",
    "\n",
    "    # Calculate the in_buffer and out_buffer proportions for the sample\n",
    "in_buffer = np.sum(bgs_intersections['MINORPOP_bg_totprop'] * bgs_intersections['intersect_prop']) / np.sum(bgs_intersections['intersect_prop'])\n",
    "out_buffer = np.sum(bgs_intersections['MINORPOP_bg_totprop'] * bgs_intersections['outintersect_prop']) / np.sum(bgs_intersections['outintersect_prop'])\n"
   ]
  },
  {
   "cell_type": "code",
   "execution_count": 16,
   "id": "fb301382",
   "metadata": {},
   "outputs": [
    {
     "name": "stdout",
     "output_type": "stream",
     "text": [
      " buffer: *1000m*\n",
      " BGs in buffer: 90 out of total: 14533\n",
      " People in buffer: 22,852 out of total: 22,780,258\n",
      "\n",
      " OLD in_buffer prop: 0.5936777332601038\n",
      " OLD out_buffer prop: 0.6481100516655275\n",
      "\n",
      " sampled in_buffer prop: nan\n",
      " sampled out_buffer prop: 0.6512251279115872\n",
      "\n",
      "in buffer sample props\n",
      "[nan, nan, nan, nan, 0.42888343503654613, nan, nan, 0.3671274961597542, nan, nan, 0.15535714285714286, 0.7423547196967887, nan, 0.5954500494559841, nan, 0.6872659176029963, 0.792819429778247, nan, nan, 0.87527352297593]\n",
      "\n",
      "out buffer sample props\n",
      "[0.6348541892516862, 0.6739296944267719, 0.6820689556154079, 0.6553255346070042, 0.6612058393564925, 0.6601407093776741, 0.6970187229411421, 0.6247557784958692, 0.6306046437179533, 0.6534236417134291, 0.6636816699438356, 0.6512168936049768, 0.6806810361810651, 0.5978329739564857, 0.6708613837967451, 0.6228526112752304, 0.6690226414496789, 0.657149909675341, 0.5727942423788163, 0.6650814864661382]\n"
     ]
    }
   ],
   "source": [
    "print(f\" buffer: *{buffer_size}m*\")\n",
    "#print(f\" mean intersection proportion*1000: {mean_intersect_prop:.10f}\")\n",
    "#print(f\" mean out-intersection proportion: {mean_outintersect_prop:.10f}\")\n",
    "#print(f\" mean intersection MINORPOP count: {mean_intersect_MINORcount:.10f}\")\n",
    "print(f\" BGs in buffer: {len(intersect_df)} out of total: {len(social_counties)}\")\n",
    "print(f\" People in buffer: {round(sum(bgs_intersections['ACSTOTPOP_intersect_count'])):,} out of total: {sum(social_counties['ACSTOTPOP']):,}\")\n",
    "print()\n",
    "print(f\" OLD in_buffer prop: {in_buffer}\")\n",
    "print(f\" OLD out_buffer prop: {out_buffer}\")\n",
    "print()\n",
    "print(f\" sampled in_buffer prop: {mean_in_buffer}\")\n",
    "print(f\" sampled out_buffer prop: {mean_out_buffer}\")\n",
    "print()\n",
    "print(\"in buffer sample props\")\n",
    "print(in_buffer_list)\n",
    "print()\n",
    "print(\"out buffer sample props\")\n",
    "print(out_buffer_list)\n"
   ]
  },
  {
   "cell_type": "code",
   "execution_count": null,
   "id": "ed8b856e",
   "metadata": {},
   "outputs": [],
   "source": []
  },
  {
   "cell_type": "code",
   "execution_count": null,
   "id": "9623eea5",
   "metadata": {},
   "outputs": [],
   "source": []
  },
  {
   "cell_type": "code",
   "execution_count": null,
   "id": "ffbb3485",
   "metadata": {},
   "outputs": [],
   "source": []
  },
  {
   "cell_type": "code",
   "execution_count": null,
   "id": "e4760572",
   "metadata": {},
   "outputs": [],
   "source": []
  },
  {
   "cell_type": "code",
   "execution_count": 102,
   "id": "62627441",
   "metadata": {},
   "outputs": [],
   "source": [
    "def calculate_stats(intersect_df, social_df, buffer_size):\n",
    "\n",
    "    # ensure that the intersections, not the counties, are set as the geometry for calculations.\n",
    "    intersect_df = intersect_df.set_geometry('intersect_geom')  # set to the buffers rather than the points\n",
    "\n",
    "    # Create new 'area' column for the areas of the intersections\n",
    "    intersect_df['intersect_area'] = intersect_df.area\n",
    "\n",
    "    # Calculate the proportion of each block group within the buffer zone\n",
    "    intersect_df['intersect_prop'] = intersect_df['intersect_area'] / intersect_df['shape_area_new']\n",
    "\n",
    "    # subset full social df down to just the rows that are in the intersected counties\n",
    "    county_names = intersect_df['CNTY_NAME'].unique()\n",
    "    social_counties = social_df[social_df['CNTY_NAME'].isin(county_names)]\n",
    "    \n",
    "    # merge the intersections data back into the (subsetted) social df. This creates a df of all BGs — those\n",
    "    # that contain intersections and those that do not — in the counties that have an intersection. \n",
    "\n",
    "    # I'm creating a subset of California, in effect, to combat against the extremely skewed dataset when I \n",
    "    # compare the in/out buffer proportions across all of Cali. \n",
    "\n",
    "    bgs_intersections = pd.merge(social_counties, \n",
    "                                 intersect_df[['bg_id','intersect_geom','intersect_area', 'intersect_prop']], \n",
    "                                 on=['bg_id'], \n",
    "                                 how='left').fillna({'intersect_area': 0, 'intersect_prop': 0})\n",
    "\n",
    "\n",
    "    # Apply the proportion to each demographic variable to find counts by variable\n",
    "    demo_vars = ['ACSTOTPOP', 'MINORPOP']\n",
    "    for var in demo_vars:\n",
    "        bgs_intersections[var + '_intersect_count'] = bgs_intersections[var] * bgs_intersections['intersect_prop']\n",
    "\n",
    "    # find overall proportions for each demo var by dividing var count by respective total population    \n",
    "    for var in demo_vars:\n",
    "        bgs_intersections[var + '_bg_totprop'] = np.where(bgs_intersections['ACSTOTPOP'] != 0, \n",
    "                                                          bgs_intersections[var] / bgs_intersections['ACSTOTPOP'], 0)\n",
    "\n",
    "    bgs_intersections['outintersect_prop'] = 1-bgs_intersections['intersect_prop']\n",
    "    \n",
    "    # take repeated samples of BGs in intersected counties and average the in/out props found\n",
    "    random.seed(42)\n",
    "    num_samples = 10\n",
    "    num_bgs = len(intersect_df)*4  # do a 4:1 ratio of intersected BGs to all others\n",
    "\n",
    "    # Initialize lists to store the statistics for each sample\n",
    "    in_buffer_list = []\n",
    "    out_buffer_list = []\n",
    "\n",
    "    # Loop through the samples\n",
    "    for i in range(num_samples):\n",
    "        # Sample rows from the bgs_intersections dataframe\n",
    "        sample_df = bgs_intersections.sample(n=num_bgs)\n",
    "\n",
    "        # Calculate the in_buffer and out_buffer proportions for the sample\n",
    "        sampl_in_buffer = np.sum(sample_df['MINORPOP_bg_totprop'] * sample_df['intersect_prop']) / np.sum(sample_df['intersect_prop'])\n",
    "        sampl_out_buffer = np.sum(sample_df['MINORPOP_bg_totprop'] * sample_df['outintersect_prop']) / np.sum(sample_df['outintersect_prop'])\n",
    "\n",
    "        # Append the statistics to the lists\n",
    "        in_buffer_list.append(sampl_in_buffer)\n",
    "        out_buffer_list.append(sampl_out_buffer)\n",
    "\n",
    "    # Calculate the average statistics for all the samples\n",
    "    mean_in_buffer = np.mean(in_buffer_list)\n",
    "    mean_out_buffer = np.mean(out_buffer_list)\n",
    "\n",
    "        # Calculate the in_buffer and out_buffer proportions for the sample\n",
    "    in_buffer = np.sum(bgs_intersections['MINORPOP_bg_totprop'] * bgs_intersections['intersect_prop']) / np.sum(bgs_intersections['intersect_prop'])\n",
    "    out_buffer = np.sum(bgs_intersections['MINORPOP_bg_totprop'] * bgs_intersections['outintersect_prop']) / np.sum(bgs_intersections['outintersect_prop'])\n",
    "\n",
    "    \n",
    "    #mean_intersect_prop = round(np.mean(bgs_intersections['intersect_prop'])*100,3) # artificially inflate otherwise they're too small\n",
    "    #mean_outintersect_prop = round(np.mean(bgs_intersections['outintersect_prop']),3) # artificially inflate otherwise they're too small\n",
    "    #mean_intersect_MINORcount = round(np.mean(bgs_intersections['MINORPOP_intersect_count']),3)\n",
    "    \n",
    "    # table that compares the in-buffer proportions to the outside-buffer proportions\n",
    "    #temp = pd.DataFrame({'In_Buffer': [in_buffer], 'Outside_Buffer': [out_buffer]})\n",
    "    print(f\" buffer: *{buffer_size}m*\")\n",
    "    #print(f\" mean intersection proportion*1000: {mean_intersect_prop:.10f}\")\n",
    "    #print(f\" mean out-intersection proportion: {mean_outintersect_prop:.10f}\")\n",
    "    #print(f\" mean intersection MINORPOP count: {mean_intersect_MINORcount:.10f}\")\n",
    "    print(f\" BGs in buffer: {len(intersect_df)} out of total: {len(social_counties)}\")\n",
    "    print(f\" People in buffer: {round(sum(bgs_intersections['ACSTOTPOP_intersect_count'])):,} out of total: {sum(social_counties['ACSTOTPOP']):,}\")\n",
    "    print()\n",
    "    print(f\" OLD in_buffer prop: {in_buffer}\")\n",
    "    print(f\" OLD out_buffer prop: {out_buffer}\")\n",
    "    print()\n",
    "    print(f\" sampled in_buffer prop: {mean_in_buffer}\")\n",
    "    print(f\" sampled out_buffer prop: {mean_out_buffer}\")\n",
    "    print()\n",
    "    \n",
    "    \n",
    "    # drop the geometries before writing to files; they're not needed for permutation\n",
    "    #bgs_intersections_drop = bgs_intersections.drop([\"bg_geom\", \"intersect_geom\", \"cnty_geom\"], axis=1)    \n",
    "    #filename = f\"data/df_{buffer_size}m_forpermutation.tsv\"\n",
    "    #bgs_intersections_drop.to_csv(filename, sep=\"\\t\", index=False)\n",
    "    \n",
    "    return\n"
   ]
  },
  {
   "cell_type": "code",
   "execution_count": 103,
   "id": "8d28b50d",
   "metadata": {
    "scrolled": true
   },
   "outputs": [
    {
     "name": "stdout",
     "output_type": "stream",
     "text": [
      " buffer: *100m*\n",
      " BGs in buffer: 38 out of total: 14533\n",
      " People in buffer: 117 out of total: 22,780,258\n",
      "\n",
      " OLD in_buffer prop: 0.38544330337833693\n",
      " OLD out_buffer prop: 0.6480548606808851\n",
      "\n",
      " sampled in_buffer prop: nan\n",
      " sampled out_buffer prop: 0.6482683627683614\n",
      "\n"
     ]
    },
    {
     "name": "stderr",
     "output_type": "stream",
     "text": [
      "/Users/natebender/.local/lib/python3.7/site-packages/ipykernel_launcher.py:55: RuntimeWarning: invalid value encountered in double_scalars\n"
     ]
    }
   ],
   "source": [
    "buffer_sizes = [100]#, 400, 800, 1000, 1600, 2000]#, 50000, 100000]\n",
    "\n",
    "for buffer_size in buffer_sizes:\n",
    "    intersect = create_buffer_intersection(ca_flares, ca_bg_joined_sub, buffer_size)\n",
    "    calculate_stats(intersect, ca_bg_joined_sub, buffer_size)\n",
    "\n"
   ]
  },
  {
   "cell_type": "code",
   "execution_count": null,
   "id": "f69030ef",
   "metadata": {},
   "outputs": [],
   "source": [
    "# bgs_intersections = bgs_intersections.set_geometry('intersect_geom')  # set to the buffers rather than the points\n",
    "\n",
    "# # Filter out invalid geometries\n",
    "# valid_geometries = bgs_intersections[bgs_intersections.geometry.is_valid]\n",
    "\n",
    "# # Visualize the valid geometries\n",
    "# #valid_geometries.explore()\n",
    "\n",
    "# len(valid_geometries)"
   ]
  },
  {
   "cell_type": "code",
   "execution_count": null,
   "id": "965f7498",
   "metadata": {},
   "outputs": [],
   "source": [
    "# bgs_intersections = bgs_intersections.set_geometry('bg_geom')  # set to the buffers rather than the points\n",
    "\n",
    "# # Filter out invalid geometries\n",
    "# valid_geometries = bgs_intersections[bgs_intersections.geometry.is_valid]\n",
    "\n",
    "# # Visualize the valid geometries\n",
    "# #valid_geometries.explore()\n",
    "\n",
    "# len(valid_geometries)"
   ]
  },
  {
   "cell_type": "code",
   "execution_count": null,
   "id": "cb17c405",
   "metadata": {},
   "outputs": [],
   "source": []
  },
  {
   "cell_type": "code",
   "execution_count": null,
   "id": "87e225ef",
   "metadata": {},
   "outputs": [],
   "source": [
    "# ca_bg_joined_sub.to_csv(\"data/ca_bg_sub_testing_calc.csv\")\n",
    "# intersect.to_csv(\"data/intersect_testing_calc.csv\")"
   ]
  },
  {
   "cell_type": "code",
   "execution_count": null,
   "id": "cb026a24",
   "metadata": {},
   "outputs": [],
   "source": [
    "\n"
   ]
  },
  {
   "cell_type": "code",
   "execution_count": null,
   "id": "efe85ec8",
   "metadata": {},
   "outputs": [],
   "source": []
  },
  {
   "cell_type": "code",
   "execution_count": null,
   "id": "42967f07",
   "metadata": {
    "scrolled": false
   },
   "outputs": [],
   "source": [
    "# bgs_intersections.sort_values(by='intersect_prop', ascending=False)"
   ]
  },
  {
   "cell_type": "code",
   "execution_count": null,
   "id": "1311161c",
   "metadata": {},
   "outputs": [],
   "source": [
    "\n",
    "# in_buffer = np.sum(bgs_intersections['MINORPOP_bg_totprop'] * bgs_intersections['intersect_prop']) / np.sum(bgs_intersections['intersect_prop'])\n",
    "# out_buffer = np.sum(bgs_intersections['MINORPOP_bg_totprop'] * bgs_intersections['outintersect_prop']) / np.sum(bgs_intersections['outintersect_prop'])\n",
    "\n",
    "# # create a table from the in-buffer and outside-buffer proportions\n",
    "# # proportions = pd.concat([in_buffer, out_buffer], axis=1)\n",
    "# # proportions.columns = ['In_Buffer', 'Outside_Buffer']\n",
    "\n",
    "# # table that compares the in-buffer proportions to the outside-buffer proportions\n",
    "# temp2000 = pd.DataFrame({'In_Buffer': [in_buffer], 'Outside_Buffer': [out_buffer]})\n",
    "print(temp2000)"
   ]
  },
  {
   "cell_type": "markdown",
   "id": "a15b4e49",
   "metadata": {},
   "source": [
    "## Analysis\n",
    "### Functions"
   ]
  },
  {
   "cell_type": "code",
   "execution_count": null,
   "id": "c0a1db58",
   "metadata": {},
   "outputs": [],
   "source": [
    "def calc_intersect_stats(bg_inbuffer, social_df, ca_blockgroups, buffer_size):\n",
    "    \n",
    "    # Create new 'area' column for the areas of the intersections\n",
    "    bg_inbuffer['intersect_area'] = bg_inbuffer.area\n",
    "    \n",
    "    # Calculate the proportion of each block group within the buffer zone\n",
    "    bg_inbuffer['intersect_prop'] = bg_inbuffer['intersect_area'] / bg_inbuffer['shape_area_new']\n",
    "    \n",
    "    # Rename geometry col to intersect_geom so it's clear these geoms are just the intersections\n",
    "    bg_inbuffer.rename(columns={'geometry':'intersect_geom'}, inplace=True)  # old:new. Match col names for merging\n",
    "\n",
    "    # merge with ca_bg block groups to get full BG polygon geoms back in the df\n",
    "    bg_inbuffer = pd.merge(bg_inbuffer, ca_blockgroups, on='ID')\n",
    "\n",
    "    # Rename geometry column for clarity\n",
    "    bg_inbuffer.rename(columns={'geometry':'bg_geom'}, inplace=True)  # old:new. Match col names for merging\n",
    "    \n",
    "    bg_inbuffer = bg_inbuffer.set_geometry('bg_geom')  # set to the buffers rather than the points\n",
    "\n",
    "    # merge the intersected data back into the full df of all block groups\n",
    "    df_final = gp.sjoin(social_df, bg_inbuffer, how = \"left\", predicate = 'contains')\n",
    "    \n",
    "    # Filter cols to just what's needed\n",
    "    df_final = df_final[['ID_left', 'CNTY_NAME_left', 'ACSTOTPOP_left', 'MINORPOP_left', 'D_PM25_2_left', 'shape_area_new_left', 'intersect_area', 'intersect_prop', 'geometry', 'intersect_geom']]\n",
    "\n",
    "    # clean things up after the sjoin\n",
    "    new_cols = [col.replace('_left', '') if col.endswith('_left') else col for col in df_final.columns]\n",
    "    df_final.columns = new_cols\n",
    "    \n",
    "    # Rename geometry column for clarity\n",
    "    df_final.rename(columns={'geometry':'bg_geom'}, inplace=True)  # old:new. Match col names for merging\n",
    "\n",
    "    # Replace NAs in both the intersect_prop and intersect_area with 0 for BG that have no intersection\n",
    "    no_intersect = df_final['intersect_prop'].isna() | df_final['intersect_area'].isna()\n",
    "\n",
    "    # Update the values in the 'intersect_prop' and 'intersect_area' columns of those rows to 0 using the loc method\n",
    "    df_final.loc[no_intersect, ['intersect_prop', 'intersect_area']] = 0\n",
    "    \n",
    "    # Apply the proportion to each demographic variable to find counts by variable\n",
    "    demo_vars = ['ACSTOTPOP', 'MINORPOP']\n",
    "    for var in demo_vars:\n",
    "        df_final[var + '_intersect_count'] = df_final[var] * df_final['intersect_prop']\n",
    "\n",
    "    # find overall proportions for each demo var by dividing var count by respective total population    \n",
    "    for var in demo_vars:\n",
    "        df_final[var + '_bg_totprop'] = df_final[var] / df_final['ACSTOTPOP']\n",
    "    \n",
    "    # Finally, save a subsetted version of the df for permutation testing\n",
    "    df_forpermutation = df_final[['MINORPOP_bg_totprop', 'intersect_prop']]\n",
    "    df_forpermutation.to_csv(F\"data/df_{buffer_size}m_forpermutation.csv\", index=False)\n",
    "    \n",
    "    return df_final"
   ]
  },
  {
   "cell_type": "code",
   "execution_count": null,
   "id": "7cb683dd",
   "metadata": {},
   "outputs": [],
   "source": [
    "def calc_proportions(df, buffer_size, gen_table):\n",
    "    \n",
    "    df.to_csv(\"data/testing_calc.csv\")\n",
    "    \n",
    "    in_buffer = np.sum(df['MINORPOP_bg_totprop'] * df['intersect_prop']) / np.sum(df['intersect_prop'])\n",
    "    out_buffer = (np.sum(df['MINORPOP_bg_totprop'] * (1 - df['intersect_prop'])) /\n",
    "                  np.sum(1 - df['intersect_prop']))\n",
    "    \n",
    "    # table that compares the in-buffer proportions to the outside-buffer proportions\n",
    "    temp = pd.DataFrame({'ID': [f\"buffer_{buffer_size}\"], 'Buffer': [buffer_size], \n",
    "                         'in_buffer': [in_buffer], 'out_buffer': [out_buffer]})\n",
    "    \n",
    "    \n",
    "    gen_table = pd.concat([gen_table, temp], ignore_index=True)\n",
    "    \n",
    "    return gen_table\n",
    "    "
   ]
  },
  {
   "cell_type": "code",
   "execution_count": null,
   "id": "8ce7d1c0",
   "metadata": {},
   "outputs": [],
   "source": [
    "def calc_counts(df, buffer_size, gen_table):\n",
    "\n",
    "    in_buffer = df['MINORPOP_intersect_count'].sum()\n",
    "    out_buffer = df['ACSTOTPOP'].sum() - in_buffer\n",
    "\n",
    "    # table that compares the in-buffer proportions to the outside-buffer proportions\n",
    "    temp = pd.DataFrame({'ID': [f\"buffer_{buffer_size}\"], 'Buffer': [buffer_size], 'in_buffer': [in_buffer], 'out_buffer': [out_buffer]})\n",
    "    \n",
    "    gen_table = pd.concat([gen_table, temp], ignore_index=True)\n",
    "    \n",
    "    return gen_table"
   ]
  },
  {
   "cell_type": "code",
   "execution_count": null,
   "id": "e5a7a796",
   "metadata": {},
   "outputs": [],
   "source": [
    "def combined_calcs(flares_df, social_df, ca_blockgroups, buffer_size, gen_table):\n",
    "    \n",
    "    intersect = create_buffer_intersection(flares_df, social_df, buffer_size)\n",
    "    df = calc_intersect_stats(intersect, social_df, ca_blockgroups, buffer_size)\n",
    "    \n",
    "    gen_table = calc_proportions(df, buffer_size, gen_table)\n",
    "\n",
    "    return gen_table"
   ]
  },
  {
   "cell_type": "code",
   "execution_count": null,
   "id": "d8b9ee40",
   "metadata": {},
   "outputs": [],
   "source": [
    "def all_buffer_calcs(gen_table, buffer_sizes = [100, 400, 800, 1000, 1600, 2000]):\n",
    "\n",
    "    for buffer_size in buffer_sizes:\n",
    "        gen_table = combined_calcs(ca_flares, ca_bg_joined, ca_bg, buffer_size, gen_table.copy())  \n",
    "        \n",
    "    return gen_table"
   ]
  },
  {
   "cell_type": "code",
   "execution_count": null,
   "id": "e7876a10",
   "metadata": {},
   "outputs": [],
   "source": []
  },
  {
   "cell_type": "code",
   "execution_count": null,
   "id": "224a2140",
   "metadata": {},
   "outputs": [],
   "source": []
  },
  {
   "cell_type": "code",
   "execution_count": null,
   "id": "6c840105",
   "metadata": {},
   "outputs": [],
   "source": []
  },
  {
   "cell_type": "markdown",
   "id": "f23e53e9",
   "metadata": {},
   "source": [
    "### Proportions table"
   ]
  },
  {
   "cell_type": "code",
   "execution_count": null,
   "id": "3008384f",
   "metadata": {},
   "outputs": [],
   "source": [
    "# initialize empty df\n",
    "prop_table = pd.DataFrame(columns=['ID', \"Buffer\", 'in_buffer', 'out_buffer'])\n",
    "name = prop_table.name = 'Proportions Table'"
   ]
  },
  {
   "cell_type": "code",
   "execution_count": null,
   "id": "ed81c699",
   "metadata": {},
   "outputs": [],
   "source": [
    "prop_table = all_buffer_calcs(prop_table, buffer_sizes=[100, 400])\n",
    "prop_table['Buffer'] = prop_table['Buffer'].astype(float)"
   ]
  },
  {
   "cell_type": "code",
   "execution_count": null,
   "id": "b468ac6d",
   "metadata": {},
   "outputs": [],
   "source": [
    "prop_table"
   ]
  },
  {
   "cell_type": "markdown",
   "id": "337082d8",
   "metadata": {},
   "source": [
    "#### *The out-buffer proportions are not being calculated correctly. Code seems right, though. Troubleshoot with JC*"
   ]
  },
  {
   "cell_type": "code",
   "execution_count": null,
   "id": "85a6e8c9",
   "metadata": {},
   "outputs": [],
   "source": [
    "# scatterplot of buffer props\n",
    "\n",
    "fig, ax = plt.subplots(figsize=(8, 6))\n",
    "ax.scatter(prop_table['Buffer'], prop_table['in_buffer'], label='Inside buffer')\n",
    "ax.scatter(prop_table['Buffer'], prop_table['out_buffer'], label='Outside buffer')\n",
    "\n",
    "# Set xticks to the buffer sizes\n",
    "xticks = [100, 400, 800, 1000, 1600, 2000]\n",
    "ax.set_xticks(xticks)\n",
    "\n",
    "# Set xticklabels to the buffer sizes\n",
    "xticklabels = [f\"{b:,}\" for b in xticks]\n",
    "ax.set_xticklabels(xticklabels)\n",
    "ax.set_xlabel('Buffer size (m)')\n",
    "ax.set_ylabel('Proportion of MINORPOP')\n",
    "ax.legend()\n",
    "plt.show()\n"
   ]
  },
  {
   "cell_type": "markdown",
   "id": "4245ba3e",
   "metadata": {},
   "source": [
    "### Counts table"
   ]
  },
  {
   "cell_type": "code",
   "execution_count": null,
   "id": "0059ca8d",
   "metadata": {},
   "outputs": [],
   "source": [
    "# initialize empty df\n",
    "count_table = pd.DataFrame(columns=['ID', \"Buffer\", 'in_buffer', 'out_buffer'])\n",
    "name = count_table.name = 'Counts Table'"
   ]
  },
  {
   "cell_type": "code",
   "execution_count": null,
   "id": "4de9aeb7",
   "metadata": {},
   "outputs": [],
   "source": [
    "# def combined_calcs(flares_df, social_df, ca_blockgroups, buffer_size, gen_table):\n",
    "    \n",
    "#     intersect = create_buffer_intersection(flares_df, social_df, buffer_size)\n",
    "#     df = calc_intersect_stats(intersect, social_df, ca_blockgroups, buffer_size)\n",
    "    \n",
    "#     #gen_table = calc_proportions(df, buffer_size, gen_table)\n",
    "#     gen_table = calc_counts(df, buffer_size, gen_table)\n",
    "\n",
    "#     return gen_table"
   ]
  },
  {
   "cell_type": "code",
   "execution_count": null,
   "id": "b9983892",
   "metadata": {},
   "outputs": [],
   "source": [
    "count_table = all_buf_calcs(count_table)\n",
    "count_table['Buffer'] = count_table['Buffer'].astype(float)"
   ]
  },
  {
   "cell_type": "code",
   "execution_count": null,
   "id": "c02c30d5",
   "metadata": {},
   "outputs": [],
   "source": [
    "count_table"
   ]
  },
  {
   "cell_type": "code",
   "execution_count": null,
   "id": "af3d5e1b",
   "metadata": {},
   "outputs": [],
   "source": [
    "# scatterplot of buffer counts\n",
    "# visualizing just in-buffer counts for readability. \n",
    "\n",
    "fig, ax = plt.subplots(figsize=(8, 6))\n",
    "ax.scatter(count_table['Buffer'], count_table['in_buffer'], label='Inside buffer')\n",
    "#ax.scatter(count_table['Buffer'], count_table['out_buffer'], label='Outside buffer')\n",
    "\n",
    "# Define the formatter function\n",
    "def thousand_fmt(x, pos):\n",
    "    return f\"{x:,.0f}\"\n",
    "# Set the formatter function for the y-axis\n",
    "ax.yaxis.set_major_formatter(mtick.FuncFormatter(thousand_fmt))\n",
    "\n",
    "# Set xticks to the buffer sizes\n",
    "xticks = [100, 400, 800, 1000, 1600, 2000]\n",
    "ax.set_xticks(xticks)\n",
    "\n",
    "# Set xticklabels to the buffer sizes\n",
    "xticklabels = [f\"{b:,}\" for b in xticks]\n",
    "ax.set_xticklabels(xticklabels)\n",
    "ax.set_xlabel('Buffer size (m)')\n",
    "ax.set_ylabel('Counts of MINORPOP')\n",
    "ax.legend()\n",
    "plt.show()"
   ]
  },
  {
   "cell_type": "markdown",
   "id": "3c1edc96",
   "metadata": {},
   "source": [
    "## Visualization with Folium"
   ]
  },
  {
   "cell_type": "code",
   "execution_count": null,
   "id": "cda809e5",
   "metadata": {},
   "outputs": [],
   "source": [
    "# Convert the GeoDataFrame to the same CRS as the folium map (if necessary)\n",
    "\n",
    "# Create a folium map with a center location\n",
    "m = folium.Map(location=[38.377158,-121.645792], zoom_start=6, tiles=None,overlay=False)  #start w lat/long roughly in center of CA\n",
    "base_map = folium.FeatureGroup(name='Base map', overlay=True, control=False)\n",
    "folium.TileLayer(tiles='OpenStreetMap').add_to(base_map)\n",
    "base_map.add_to(m)"
   ]
  },
  {
   "cell_type": "code",
   "execution_count": null,
   "id": "a6648433",
   "metadata": {},
   "outputs": [],
   "source": [
    "# # Choropleth of Block Groups\n",
    "\n",
    "# folium.Choropleth(intersect_df,\n",
    "#                   data=intersect_df,\n",
    "#                   columns = ['bg_id', 'D_PM25_2'], \n",
    "#                   key_on='feature.properties.bg_id',\n",
    "#                   fill_color=\"Reds\",\n",
    "#                   fill_opacity=0.7,\n",
    "#                   line_opacity=0.2,\n",
    "#                   legend_name=\"PM2.5 Index\",\n",
    "#                  name=\"Block Groups\").add_to(m)\n"
   ]
  },
  {
   "cell_type": "code",
   "execution_count": null,
   "id": "5318968d",
   "metadata": {},
   "outputs": [],
   "source": [
    "# # Feature Group: All Block Groups\n",
    "\n",
    "# def style_function3(feature):\n",
    "#     return {\n",
    "#         'fillColor': 'grey',\n",
    "#         'color': 'grey',\n",
    "#         'fillOpacity': 0.05\n",
    "#     }\n",
    "\n",
    "# all_bg = folium.FeatureGroup(name='All BG', overlay=True)\n",
    "# folium.GeoJson(\n",
    "#     data=ca_bg[\"geometry\"],\n",
    "#     style_function=style_function3\n",
    "# ).add_to(all_bg)\n",
    "# all_bg.add_to(m)"
   ]
  },
  {
   "cell_type": "code",
   "execution_count": null,
   "id": "660a2fc7",
   "metadata": {},
   "outputs": [],
   "source": [
    "# Feature Group: Buffers\n",
    "\n",
    "# def style_function1(feature):\n",
    "#     return {\n",
    "#         'fillColor': 'red',\n",
    "#         'color': 'red',\n",
    "#         'fillOpacity': 0.2\n",
    "#     }\n",
    "\n",
    "# all_flares_buffers = folium.FeatureGroup(name='Flare Buffers', overlay=True)\n",
    "# folium.GeoJson(\n",
    "#     data=ca_flares[\"buffer_2000m\"],\n",
    "#     style_function=style_function1\n",
    "# ).add_to(all_flares_buffers)\n",
    "# all_flares_buffers.add_to(m)\n",
    "\n",
    "\n",
    "# Feature Group: Buffers\n",
    "\n",
    "def style_function1(feature):\n",
    "    return {\n",
    "        'fillColor': 'red',\n",
    "        'color': 'red',\n",
    "        'fillOpacity': 0.2\n",
    "    }\n",
    "\n",
    "all_flares_buffers = folium.FeatureGroup(name='Flare Buffers', overlay=True)\n",
    "folium.GeoJson(\n",
    "    data=intersect_df[\"cnty_geom\"],\n",
    "    style_function=style_function1\n",
    ").add_to(all_flares_buffers)\n",
    "all_flares_buffers.add_to(m)"
   ]
  },
  {
   "cell_type": "code",
   "execution_count": null,
   "id": "3370356e",
   "metadata": {},
   "outputs": [],
   "source": [
    "# Feature Group: BG-Buffer Intersections\n",
    "\n",
    "def style_function2(feature):\n",
    "    return {\n",
    "        'fillColor': 'blue',\n",
    "        'color': 'blue',\n",
    "        'fillOpacity': 0.1\n",
    "    }\n",
    "\n",
    "intersect = folium.FeatureGroup(name='BG-Flare Intersections', overlay=True)\n",
    "folium.GeoJson(\n",
    "    data=intersect_df['intersect_geom'],\n",
    "    style_function=style_function2\n",
    ").add_to(intersect)\n",
    "intersect.add_to(m)"
   ]
  },
  {
   "cell_type": "code",
   "execution_count": null,
   "id": "2c205e94",
   "metadata": {},
   "outputs": [],
   "source": [
    "# # Add hover functionality\n",
    "# test = test.to_crs(\"EPSG:3857\")\n",
    "# test = test.set_geometry('bg_geom')\n",
    "# test_json = test.__geo_interface__"
   ]
  },
  {
   "cell_type": "code",
   "execution_count": null,
   "id": "ae96cf94",
   "metadata": {},
   "outputs": [],
   "source": [
    "\n",
    "# style_function = lambda x: {'fillColor': '#ffffff', \n",
    "#                             'color':'#000000', \n",
    "#                             'fillOpacity': 0.1, \n",
    "#                             'weight': 0.1}\n",
    "# highlight_function = lambda x: {'fillColor': '#999999', \n",
    "#                                 'color':'#999999', \n",
    "#                                 'fillOpacity': 0.50, \n",
    "#                                 'weight': 0.1}\n",
    "# NIL = folium.features.GeoJson(\n",
    "#     data = map_test,\n",
    "#     style_function=style_function, \n",
    "#     control=False,\n",
    "#     highlight_function=highlight_function, \n",
    "#     tooltip=folium.features.GeoJsonTooltip(\n",
    "#         fields=['ID','CNTY_NAME'],# 'D_PM25_2', 'ACSTOTPOP', 'MINORPOP','shape_area_new', 'intersect_prop', 'intersect_area', 'MINORPOP_bg_totprop'],\n",
    "#         style=(\"background-color: white; color: #333333; font-family: arial; font-size: 12px; padding: 10px;\") \n",
    "#     )\n",
    "# )"
   ]
  },
  {
   "cell_type": "code",
   "execution_count": null,
   "id": "a298b42d",
   "metadata": {},
   "outputs": [],
   "source": [
    "# # add hover functionality as child to map, add layering, display map\n",
    "# m.add_child(NIL)\n",
    "# m.keep_in_front(NIL)\n",
    "# folium.LayerControl().add_to(m)\n",
    "# m"
   ]
  },
  {
   "cell_type": "code",
   "execution_count": null,
   "id": "ab17b442",
   "metadata": {},
   "outputs": [],
   "source": [
    "# Flares\n",
    "all_flares_points = folium.FeatureGroup(name='flare points', overlay=True)\n",
    "folium.GeoJson(data=ca_flares[\"geometry\"]).add_to(all_flares_points)\n",
    "all_flares_points.add_to(m)"
   ]
  },
  {
   "cell_type": "code",
   "execution_count": null,
   "id": "ab7ee399",
   "metadata": {},
   "outputs": [],
   "source": [
    "m"
   ]
  },
  {
   "cell_type": "code",
   "execution_count": null,
   "id": "09c4daa2",
   "metadata": {},
   "outputs": [],
   "source": []
  }
 ],
 "metadata": {
  "kernelspec": {
   "display_name": "capstonermi37",
   "language": "python",
   "name": "capstonermi37"
  },
  "language_info": {
   "codemirror_mode": {
    "name": "ipython",
    "version": 3
   },
   "file_extension": ".py",
   "mimetype": "text/x-python",
   "name": "python",
   "nbconvert_exporter": "python",
   "pygments_lexer": "ipython3",
   "version": "3.7.13"
  }
 },
 "nbformat": 4,
 "nbformat_minor": 5
}
