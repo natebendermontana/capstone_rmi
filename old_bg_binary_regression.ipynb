{
 "cells": [
  {
   "cell_type": "code",
   "execution_count": 39,
   "id": "ceb9f253",
   "metadata": {},
   "outputs": [],
   "source": [
    "import geopandas as gp\n",
    "from shapely import wkt\n",
    "import pandas as pd\n",
    "import numpy as np\n",
    "import pprint\n",
    "import os\n",
    "import glob\n",
    "import openpyxl\n",
    "import matplotlib.pyplot as plt\n",
    "import plotly.express as px #if using plotly\n",
    "\n",
    "# regression\n",
    "from sklearn.linear_model import LogisticRegression, LinearRegression\n",
    "from sklearn.metrics import mean_squared_error\n",
    "from sklearn import metrics\n",
    "from sklearn.model_selection import train_test_split\n",
    "from sklearn.metrics import classification_report, accuracy_score\n",
    "import statsmodels.api as sm\n",
    "from sklearn.metrics import confusion_matrix\n",
    "import seaborn as sns"
   ]
  },
  {
   "cell_type": "code",
   "execution_count": 2,
   "id": "f31d4d0d",
   "metadata": {},
   "outputs": [],
   "source": [
    "pd.set_option('display.max_columns', None)  # display all columns\n",
    "pd.options.display.float_format = '{:20,.2f}'.format  # suppress scientific notation"
   ]
  },
  {
   "cell_type": "markdown",
   "id": "b145cade",
   "metadata": {},
   "source": [
    "## Read in files"
   ]
  },
  {
   "cell_type": "code",
   "execution_count": 3,
   "id": "58e36111",
   "metadata": {},
   "outputs": [],
   "source": [
    "ca_state = gp.read_file(\"data/CA_State_TIGER2016.shp\")  # CA state\n",
    "ca_counties = gp.read_file(\"data/CA_Counties_TIGER2016.shp\")  # CA counties\n",
    "ca_bg = gp.read_file(\"data/tl_2022_06_bg.shp\")  # CA block groups"
   ]
  },
  {
   "cell_type": "code",
   "execution_count": 4,
   "id": "d6b9f5f8",
   "metadata": {},
   "outputs": [],
   "source": [
    "# Load census block group level data from EJscreen\n",
    "# Source: https://www.epa.gov/ejscreen/download-ejscreen-data\n",
    "# This is the 2017-2021 5-year ACS average data\n",
    "ejscreen = pd.read_excel(\"data/CA_EJSCREEN_2022_Full_with_AS_CNMI_GU_VI.xlsx\", index_col=None, header=0)"
   ]
  },
  {
   "cell_type": "code",
   "execution_count": 5,
   "id": "03322021",
   "metadata": {},
   "outputs": [],
   "source": [
    "# CA social vulnerability data at level of census tract\n",
    "# source: https://oehha.ca.gov/calenviroscreen/report/calenviroscreen-40\n",
    "# calenv4_df = gp.read_file(\"data/CES4 Final Shapefile.shp\")\n",
    "# calenv4_df['Tract'] = calenv4_df['Tract'].astype(np.int64)  # change from float to int"
   ]
  },
  {
   "cell_type": "code",
   "execution_count": 6,
   "id": "46db7988",
   "metadata": {},
   "outputs": [],
   "source": [
    "# read in cleaned and combined flares data\n",
    "all_flares = gp.read_file(\"data/all_flares.shp\")"
   ]
  },
  {
   "cell_type": "code",
   "execution_count": 7,
   "id": "560be0f3",
   "metadata": {},
   "outputs": [],
   "source": [
    "# set common crs for project\n",
    "projcrs = 4326\n",
    "ca_state = ca_state.to_crs(projcrs)\n",
    "ca_counties = ca_counties.to_crs(projcrs)\n",
    "ca_bg = ca_bg.to_crs(projcrs)\n",
    "\n",
    "ca_bg.rename(columns={'GEOID':'ID'}, inplace=True)  # match column names for merging\n",
    "ca_bg['ID'] = ca_bg['ID'].astype(np.int64)"
   ]
  },
  {
   "cell_type": "code",
   "execution_count": 9,
   "id": "e55348ce",
   "metadata": {
    "scrolled": true
   },
   "outputs": [
    {
     "name": "stdout",
     "output_type": "stream",
     "text": [
      "25607 block groups in the EJScreen data \n",
      "\n",
      "25607 block groups in the CA block group shapefile\n",
      "\n",
      "0 block groups are missing after merge\n"
     ]
    }
   ],
   "source": [
    "print(f\"{len(ejscreen['ID'])} block groups in the EJScreen data \\n\")\n",
    "print(f\"{len(ca_bg['ID'])} block groups in the CA block group shapefile\\n\")\n",
    "ca_bg_joined = pd.merge(ca_bg, ejscreen, on='ID')\n",
    "print(f\"{len(ca_bg['ID'].unique())-len(ca_bg_joined)} block groups are missing after merge\")"
   ]
  },
  {
   "cell_type": "markdown",
   "id": "ea1c2987",
   "metadata": {},
   "source": [
    "#### Subset flares df to just CA"
   ]
  },
  {
   "cell_type": "code",
   "execution_count": 10,
   "id": "b5fe81f5",
   "metadata": {
    "scrolled": true
   },
   "outputs": [
    {
     "name": "stdout",
     "output_type": "stream",
     "text": [
      "Flares found: 117\n"
     ]
    }
   ],
   "source": [
    "ca_flares = gp.sjoin(all_flares, ca_counties, how = \"inner\", predicate = 'within')\n",
    "print(f'Flares found: {len(ca_flares)}')\n",
    "ca_flares.drop('index_right', axis=1, inplace=True)\n",
    "\n",
    "col_list = ['BCM_2012','BCM_2013','BCM_2014','BCM_2015','BCM_2016','BCM_2017',\n",
    "            'BCM_2018','BCM_2019','BCM_2020','BCM_2021']\n",
    "\n",
    "# add new column for average BCM across all years\n",
    "ca_flares['BCM_avg'] = ca_flares[col_list].mean(axis=1)  "
   ]
  },
  {
   "cell_type": "markdown",
   "id": "d14c4745",
   "metadata": {},
   "source": [
    "#### Subset BG polygons to only those containing flares"
   ]
  },
  {
   "cell_type": "code",
   "execution_count": 11,
   "id": "6d6f2ac4",
   "metadata": {},
   "outputs": [],
   "source": [
    "ca_polys_subset = gp.sjoin(ca_bg_joined, ca_flares, how='inner', predicate='contains')"
   ]
  },
  {
   "cell_type": "markdown",
   "id": "3ce03f30",
   "metadata": {},
   "source": [
    "## Regression #1: Are distance (from BG centroid to nearest flare) and social vulnerability predictive of the presence of a flare in a BG?"
   ]
  },
  {
   "cell_type": "markdown",
   "id": "4926039e",
   "metadata": {},
   "source": [
    "#### Change to CRS in meters"
   ]
  },
  {
   "cell_type": "code",
   "execution_count": 12,
   "id": "84d9eb86",
   "metadata": {},
   "outputs": [],
   "source": [
    "# epsg3310: https://epsg.io/3310-1739\n",
    "# units: meters\n",
    "ca_polys_subset = ca_polys_subset.to_crs(epsg=3310)\n",
    "ca_flares = ca_flares.to_crs(epsg=3310)\n",
    "ca_bg_joined = ca_bg_joined.to_crs(epsg=3310)"
   ]
  },
  {
   "cell_type": "markdown",
   "id": "827dedae",
   "metadata": {},
   "source": [
    "#### Create new col: distance between BG centroid and nearest flare"
   ]
  },
  {
   "cell_type": "code",
   "execution_count": 13,
   "id": "278bc655",
   "metadata": {},
   "outputs": [
    {
     "data": {
      "text/plain": [
       "8571          0\n",
       "2250          0\n",
       "16375         0\n",
       "3704          0\n",
       "12213         0\n",
       "          ...  \n",
       "8084     412445\n",
       "17813    420176\n",
       "17923    420972\n",
       "18423    431127\n",
       "18538    444329\n",
       "Name: dist_flare, Length: 25607, dtype: int64"
      ]
     },
     "execution_count": 13,
     "metadata": {},
     "output_type": "execute_result"
    }
   ],
   "source": [
    "ca_bg_joined[\"dist_flare\"] = 0\n",
    "for i, polygon in enumerate(ca_bg_joined[\"geometry\"]):\n",
    "    \n",
    "    has_flare = False\n",
    "    for point in ca_flares.geometry:\n",
    "        if polygon.contains(point):\n",
    "            has_flare = True\n",
    "    \n",
    "    if has_flare:\n",
    "        ca_bg_joined.at[i, \"dist_flare\"] = 0\n",
    "    else: \n",
    "        centroid = polygon.centroid\n",
    "        min_dist = ca_flares.geometry.apply(lambda x: centroid.distance(x)).min()\n",
    "        ca_bg_joined.at[i, \"dist_flare\"] = min_dist\n",
    "        \n",
    "ca_bg_joined[\"dist_flare\"].sort_values()  # print a few values to spot check accuracy"
   ]
  },
  {
   "cell_type": "code",
   "execution_count": 18,
   "id": "7e9f6c7c",
   "metadata": {},
   "outputs": [
    {
     "name": "stdout",
     "output_type": "stream",
     "text": [
      "Block groups containing flares (0=no, 1=yes):\n",
      "\n",
      "0    25570\n",
      "1       37\n",
      "Name: flares_present, dtype: int64\n"
     ]
    }
   ],
   "source": [
    "# Create \"flares present\" binary dependent variable\n",
    "ca_bg_joined = ca_bg_joined.assign(flares_present=ca_bg_joined['geometry'].isin(ca_polys_subset['geometry']).astype(int))\n",
    "\n",
    "print(f\"Block groups containing flares (0=no, 1=yes):\\n\")\n",
    "print(ca_bg_joined['flares_present'].value_counts())"
   ]
  },
  {
   "cell_type": "markdown",
   "id": "f90318ae",
   "metadata": {},
   "source": [
    "#### Subset columns to only what's needed for model"
   ]
  },
  {
   "cell_type": "code",
   "execution_count": 19,
   "id": "532675fd",
   "metadata": {},
   "outputs": [
    {
     "name": "stdout",
     "output_type": "stream",
     "text": [
      "there are 17 NA values in D_PM25_2\n"
     ]
    }
   ],
   "source": [
    "allcols=['D_PM25_2', 'dist_flare', 'flares_present']\n",
    "print(f'there are {ca_bg_joined[\"D_PM25_2\"].isna().sum()} NA values in D_PM25_2')  \n",
    "for_model = ca_bg_joined[allcols].dropna()  # drop na for now"
   ]
  },
  {
   "cell_type": "code",
   "execution_count": 20,
   "id": "58de11da",
   "metadata": {},
   "outputs": [],
   "source": [
    "cols=['D_PM25_2', 'dist_flare']\n",
    "x=for_model[cols]\n",
    "y=for_model['flares_present']"
   ]
  },
  {
   "cell_type": "markdown",
   "id": "a28c93a7",
   "metadata": {},
   "source": [
    "#### Implement model"
   ]
  },
  {
   "cell_type": "code",
   "execution_count": 21,
   "id": "d6f5f5ed",
   "metadata": {},
   "outputs": [
    {
     "name": "stdout",
     "output_type": "stream",
     "text": [
      "Warning: Maximum number of iterations has been exceeded.\n",
      "         Current function value: 0.000108\n",
      "         Iterations: 35\n",
      "                          Results: Logit\n",
      "==================================================================\n",
      "Model:              Logit            Pseudo R-squared: 0.990      \n",
      "Dependent Variable: flares_present   AIC:              9.5452     \n",
      "Date:               2023-02-04 12:56 BIC:              25.8451    \n",
      "No. Observations:   25590            Log-Likelihood:   -2.7726    \n",
      "Df Model:           1                LL-Null:          -278.92    \n",
      "Df Residuals:       25588            LLR p-value:      3.9975e-122\n",
      "Converged:          0.0000           Scale:            1.0000     \n",
      "No. Iterations:     35.0000                                       \n",
      "-------------------------------------------------------------------\n",
      "             Coef.   Std.Err.     z     P>|z|     [0.025    0.975] \n",
      "-------------------------------------------------------------------\n",
      "D_PM25_2     4.6478  462.2095   0.0101  0.9920  -901.2661  910.5617\n",
      "dist_flare  -0.4552   43.6854  -0.0104  0.9917   -86.0771   85.1667\n",
      "==================================================================\n",
      "\n"
     ]
    },
    {
     "name": "stderr",
     "output_type": "stream",
     "text": [
      "/Users/natebender/opt/anaconda3/envs/capstonermi37/lib/python3.7/site-packages/statsmodels/discrete/discrete_model.py:1819: RuntimeWarning: overflow encountered in exp\n",
      "  return 1/(1+np.exp(-X))\n",
      "/Users/natebender/opt/anaconda3/envs/capstonermi37/lib/python3.7/site-packages/statsmodels/base/model.py:606: ConvergenceWarning: Maximum Likelihood optimization failed to converge. Check mle_retvals\n",
      "  ConvergenceWarning)\n"
     ]
    }
   ],
   "source": [
    "logit_model=sm.Logit(y,x)\n",
    "result=logit_model.fit()\n",
    "print(result.summary2())"
   ]
  },
  {
   "cell_type": "markdown",
   "id": "217f6fc9",
   "metadata": {},
   "source": [
    "#### Fit model"
   ]
  },
  {
   "cell_type": "code",
   "execution_count": 22,
   "id": "74ef9674",
   "metadata": {},
   "outputs": [
    {
     "data": {
      "text/plain": [
       "LogisticRegression()"
      ]
     },
     "execution_count": 22,
     "metadata": {},
     "output_type": "execute_result"
    }
   ],
   "source": [
    "x_train, x_test, y_train, y_test = train_test_split(x, y, test_size=0.25, random_state=42, stratify=y)\n",
    "\n",
    "logreg = LogisticRegression()\n",
    "logreg.fit(x_train, y_train)"
   ]
  },
  {
   "cell_type": "code",
   "execution_count": null,
   "id": "de3707ab",
   "metadata": {},
   "outputs": [],
   "source": [
    "y_pred = logreg.predict(x_test)\n",
    "print('Accuracy of logistic regression classifier on test set: {:.2f}'.format(logreg.score(x_test, y_test)))"
   ]
  },
  {
   "cell_type": "code",
   "execution_count": 33,
   "id": "a0eed736",
   "metadata": {},
   "outputs": [
    {
     "name": "stdout",
     "output_type": "stream",
     "text": [
      "Train Accuracy: 1.0\n",
      "Test Accuracy: 1.0\n"
     ]
    }
   ],
   "source": [
    "y_train_pred = logreg.predict(x_train)\n",
    "y_test_pred = logreg.predict(x_test)\n",
    "\n",
    "train_accuracy = accuracy_score(y_train, y_train_pred)\n",
    "test_accuracy = accuracy_score(y_test, y_test_pred)\n",
    "\n",
    "print(\"Train Accuracy:\", train_accuracy)\n",
    "print(\"Test Accuracy:\", test_accuracy)\n"
   ]
  },
  {
   "cell_type": "code",
   "execution_count": 46,
   "id": "00e8db22",
   "metadata": {},
   "outputs": [
    {
     "name": "stdout",
     "output_type": "stream",
     "text": [
      "Confusion Matrix:\n",
      " [[6389    0]\n",
      " [   0    9]]\n",
      "\n",
      "Classification Report:\n",
      "               precision    recall  f1-score   support\n",
      "\n",
      "           0       1.00      1.00      1.00      6389\n",
      "           1       1.00      1.00      1.00         9\n",
      "\n",
      "    accuracy                           1.00      6398\n",
      "   macro avg       1.00      1.00      1.00      6398\n",
      "weighted avg       1.00      1.00      1.00      6398\n",
      "\n"
     ]
    }
   ],
   "source": [
    "conf_matrix = confusion_matrix(y_test, y_test_pred)\n",
    "print(\"Confusion Matrix:\\n\", conf_matrix)\n",
    "print()\n",
    "print(\"Classification Report:\\n\", classification_report(y_test, y_test_pred))"
   ]
  },
  {
   "cell_type": "code",
   "execution_count": 47,
   "id": "ef7d8696",
   "metadata": {},
   "outputs": [
    {
     "data": {
      "text/plain": [
       "Text(0.5, 427.9555555555555, 'Predicted label')"
      ]
     },
     "execution_count": 47,
     "metadata": {},
     "output_type": "execute_result"
    },
    {
     "data": {
      "image/png": "[encoded data removed]",
      "text/plain": [
       "<Figure size 640x480 with 2 Axes>"
      ]
     },
     "metadata": {},
     "output_type": "display_data"
    }
   ],
   "source": [
    "# Visualize confusion matrix\n",
    "class_names=[0,1] # name  of classes\n",
    "fig, ax = plt.subplots()\n",
    "tick_marks = np.arange(len(class_names))\n",
    "plt.xticks(tick_marks, class_names)\n",
    "plt.yticks(tick_marks, class_names)\n",
    "# create heatmap\n",
    "sns.heatmap(pd.DataFrame(conf_matrix), annot=True, cmap=\"YlGnBu\" ,fmt='g')\n",
    "ax.xaxis.set_label_position(\"top\")\n",
    "plt.tight_layout()\n",
    "plt.title('Confusion matrix', y=1.1)\n",
    "plt.ylabel('Actual label')\n",
    "plt.xlabel('Predicted label')\n"
   ]
  },
  {
   "cell_type": "markdown",
   "id": "e9a13629",
   "metadata": {},
   "source": [
    "### Regression #2: Are distance and social vulnerability predictive of average flaring volume?"
   ]
  },
  {
   "cell_type": "code",
   "execution_count": 48,
   "id": "088468bc",
   "metadata": {},
   "outputs": [
    {
     "name": "stdout",
     "output_type": "stream",
     "text": [
      "there are 17 NA values in D_PM25_2\n"
     ]
    }
   ],
   "source": [
    "allcols=['D_PM25_2', 'dist_flare']\n",
    "print(f'there are {ca_bg_joined[\"D_PM25_2\"].isna().sum()} NA values in D_PM25_2')  \n",
    "for_model = ca_bg_joined[allcols].dropna()  # drop na for now"
   ]
  },
  {
   "cell_type": "code",
   "execution_count": 49,
   "id": "2ac80456",
   "metadata": {},
   "outputs": [],
   "source": [
    "cols=['D_PM25_2', 'dist_flare']\n",
    "x=for_model[cols]\n",
    "y=ca_flares['BCM_avg']"
   ]
  },
  {
   "cell_type": "code",
   "execution_count": 50,
   "id": "73efb868",
   "metadata": {},
   "outputs": [
    {
     "ename": "ValueError",
     "evalue": "Found input variables with inconsistent numbers of samples: [25590, 117]",
     "output_type": "error",
     "traceback": [
      "\u001b[0;31m---------------------------------------------------------------------------\u001b[0m",
      "\u001b[0;31mValueError\u001b[0m                                Traceback (most recent call last)",
      "\u001b[0;32m/var/folders/l2/3yz76s950t9fmbgrpxx6nxnc0000gn/T/ipykernel_38365/257217393.py\u001b[0m in \u001b[0;36m<module>\u001b[0;34m\u001b[0m\n\u001b[0;32m----> 1\u001b[0;31m \u001b[0mx_train\u001b[0m\u001b[0;34m,\u001b[0m \u001b[0mx_test\u001b[0m\u001b[0;34m,\u001b[0m \u001b[0my_train\u001b[0m\u001b[0;34m,\u001b[0m \u001b[0my_test\u001b[0m \u001b[0;34m=\u001b[0m \u001b[0mtrain_test_split\u001b[0m\u001b[0;34m(\u001b[0m\u001b[0mx\u001b[0m\u001b[0;34m,\u001b[0m \u001b[0my\u001b[0m\u001b[0;34m,\u001b[0m \u001b[0mtest_size\u001b[0m\u001b[0;34m=\u001b[0m\u001b[0;36m0.2\u001b[0m\u001b[0;34m,\u001b[0m \u001b[0mrandom_state\u001b[0m\u001b[0;34m=\u001b[0m\u001b[0;36m42\u001b[0m\u001b[0;34m,\u001b[0m \u001b[0mstratify\u001b[0m\u001b[0;34m=\u001b[0m\u001b[0my\u001b[0m\u001b[0;34m)\u001b[0m\u001b[0;34m\u001b[0m\u001b[0;34m\u001b[0m\u001b[0m\n\u001b[0m\u001b[1;32m      2\u001b[0m \u001b[0;34m\u001b[0m\u001b[0m\n\u001b[1;32m      3\u001b[0m \u001b[0mmodel\u001b[0m \u001b[0;34m=\u001b[0m \u001b[0mLinearRegression\u001b[0m\u001b[0;34m(\u001b[0m\u001b[0;34m)\u001b[0m\u001b[0;34m\u001b[0m\u001b[0;34m\u001b[0m\u001b[0m\n\u001b[1;32m      4\u001b[0m \u001b[0mmodel\u001b[0m\u001b[0;34m.\u001b[0m\u001b[0mfit\u001b[0m\u001b[0;34m(\u001b[0m\u001b[0mx_train\u001b[0m\u001b[0;34m,\u001b[0m \u001b[0my_train\u001b[0m\u001b[0;34m)\u001b[0m\u001b[0;34m\u001b[0m\u001b[0;34m\u001b[0m\u001b[0m\n\u001b[1;32m      5\u001b[0m \u001b[0;34m\u001b[0m\u001b[0m\n",
      "\u001b[0;32m~/opt/anaconda3/envs/capstonermi37/lib/python3.7/site-packages/sklearn/model_selection/_split.py\u001b[0m in \u001b[0;36mtrain_test_split\u001b[0;34m(test_size, train_size, random_state, shuffle, stratify, *arrays)\u001b[0m\n\u001b[1;32m   2415\u001b[0m         \u001b[0;32mraise\u001b[0m \u001b[0mValueError\u001b[0m\u001b[0;34m(\u001b[0m\u001b[0;34m\"At least one array required as input\"\u001b[0m\u001b[0;34m)\u001b[0m\u001b[0;34m\u001b[0m\u001b[0;34m\u001b[0m\u001b[0m\n\u001b[1;32m   2416\u001b[0m \u001b[0;34m\u001b[0m\u001b[0m\n\u001b[0;32m-> 2417\u001b[0;31m     \u001b[0marrays\u001b[0m \u001b[0;34m=\u001b[0m \u001b[0mindexable\u001b[0m\u001b[0;34m(\u001b[0m\u001b[0;34m*\u001b[0m\u001b[0marrays\u001b[0m\u001b[0;34m)\u001b[0m\u001b[0;34m\u001b[0m\u001b[0;34m\u001b[0m\u001b[0m\n\u001b[0m\u001b[1;32m   2418\u001b[0m \u001b[0;34m\u001b[0m\u001b[0m\n\u001b[1;32m   2419\u001b[0m     \u001b[0mn_samples\u001b[0m \u001b[0;34m=\u001b[0m \u001b[0m_num_samples\u001b[0m\u001b[0;34m(\u001b[0m\u001b[0marrays\u001b[0m\u001b[0;34m[\u001b[0m\u001b[0;36m0\u001b[0m\u001b[0;34m]\u001b[0m\u001b[0;34m)\u001b[0m\u001b[0;34m\u001b[0m\u001b[0;34m\u001b[0m\u001b[0m\n",
      "\u001b[0;32m~/opt/anaconda3/envs/capstonermi37/lib/python3.7/site-packages/sklearn/utils/validation.py\u001b[0m in \u001b[0;36mindexable\u001b[0;34m(*iterables)\u001b[0m\n\u001b[1;32m    376\u001b[0m \u001b[0;34m\u001b[0m\u001b[0m\n\u001b[1;32m    377\u001b[0m     \u001b[0mresult\u001b[0m \u001b[0;34m=\u001b[0m \u001b[0;34m[\u001b[0m\u001b[0m_make_indexable\u001b[0m\u001b[0;34m(\u001b[0m\u001b[0mX\u001b[0m\u001b[0;34m)\u001b[0m \u001b[0;32mfor\u001b[0m \u001b[0mX\u001b[0m \u001b[0;32min\u001b[0m \u001b[0miterables\u001b[0m\u001b[0;34m]\u001b[0m\u001b[0;34m\u001b[0m\u001b[0;34m\u001b[0m\u001b[0m\n\u001b[0;32m--> 378\u001b[0;31m     \u001b[0mcheck_consistent_length\u001b[0m\u001b[0;34m(\u001b[0m\u001b[0;34m*\u001b[0m\u001b[0mresult\u001b[0m\u001b[0;34m)\u001b[0m\u001b[0;34m\u001b[0m\u001b[0;34m\u001b[0m\u001b[0m\n\u001b[0m\u001b[1;32m    379\u001b[0m     \u001b[0;32mreturn\u001b[0m \u001b[0mresult\u001b[0m\u001b[0;34m\u001b[0m\u001b[0;34m\u001b[0m\u001b[0m\n\u001b[1;32m    380\u001b[0m \u001b[0;34m\u001b[0m\u001b[0m\n",
      "\u001b[0;32m~/opt/anaconda3/envs/capstonermi37/lib/python3.7/site-packages/sklearn/utils/validation.py\u001b[0m in \u001b[0;36mcheck_consistent_length\u001b[0;34m(*arrays)\u001b[0m\n\u001b[1;32m    332\u001b[0m         raise ValueError(\n\u001b[1;32m    333\u001b[0m             \u001b[0;34m\"Found input variables with inconsistent numbers of samples: %r\"\u001b[0m\u001b[0;34m\u001b[0m\u001b[0;34m\u001b[0m\u001b[0m\n\u001b[0;32m--> 334\u001b[0;31m             \u001b[0;34m%\u001b[0m \u001b[0;34m[\u001b[0m\u001b[0mint\u001b[0m\u001b[0;34m(\u001b[0m\u001b[0ml\u001b[0m\u001b[0;34m)\u001b[0m \u001b[0;32mfor\u001b[0m \u001b[0ml\u001b[0m \u001b[0;32min\u001b[0m \u001b[0mlengths\u001b[0m\u001b[0;34m]\u001b[0m\u001b[0;34m\u001b[0m\u001b[0;34m\u001b[0m\u001b[0m\n\u001b[0m\u001b[1;32m    335\u001b[0m         )\n\u001b[1;32m    336\u001b[0m \u001b[0;34m\u001b[0m\u001b[0m\n",
      "\u001b[0;31mValueError\u001b[0m: Found input variables with inconsistent numbers of samples: [25590, 117]"
     ]
    }
   ],
   "source": [
    "x_train, x_test, y_train, y_test = train_test_split(x, y, test_size=0.2, random_state=42, stratify=y)\n",
    "\n",
    "model = LinearRegression()\n",
    "model.fit(x_train, y_train)\n",
    "\n",
    "y_train_pred = model.predict(x_train)\n",
    "y_test_pred = model.predict(x_test)\n",
    "\n",
    "train_mse = mean_squared_error(y_train, y_train_pred)\n",
    "test_mse = mean_squared_error(y_test, y_test_pred)\n",
    "\n",
    "print(\"Train MSE:\", train_mse)\n",
    "print(\"Test MSE:\", test_mse)\n"
   ]
  },
  {
   "cell_type": "markdown",
   "id": "9879429d",
   "metadata": {},
   "source": [
    "### How do I reconcile pulling two expl vars from the ca_bg_joined dataset of BG polygons and the response variable 'bcm_avg' from the ca_flares dataset of flare points? Need to align the # of rows somehow"
   ]
  },
  {
   "cell_type": "code",
   "execution_count": null,
   "id": "a2980227",
   "metadata": {},
   "outputs": [],
   "source": []
  },
  {
   "cell_type": "code",
   "execution_count": null,
   "id": "8b2a9ab0",
   "metadata": {},
   "outputs": [],
   "source": []
  }
 ],
 "metadata": {
  "kernelspec": {
   "display_name": "capstonermi37",
   "language": "python",
   "name": "capstonermi37"
  },
  "language_info": {
   "codemirror_mode": {
    "name": "ipython",
    "version": 3
   },
   "file_extension": ".py",
   "mimetype": "text/x-python",
   "name": "python",
   "nbconvert_exporter": "python",
   "pygments_lexer": "ipython3",
   "version": "3.7.13"
  }
 },
 "nbformat": 4,
 "nbformat_minor": 5
}
